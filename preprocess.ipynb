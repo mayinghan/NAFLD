{
 "cells": [
  {
   "cell_type": "code",
   "execution_count": 43,
   "metadata": {
    "ExecuteTime": {
     "end_time": "2019-01-29T15:32:25.898252Z",
     "start_time": "2019-01-29T15:32:25.851631Z"
    }
   },
   "outputs": [],
   "source": [
    "%load_ext autoreload\n",
    "%autoreload 2"
   ]
  },
  {
   "cell_type": "code",
   "execution_count": 41,
   "metadata": {
    "ExecuteTime": {
     "end_time": "2019-01-28T19:53:16.940456Z",
     "start_time": "2019-01-28T19:53:16.925450Z"
    }
   },
   "outputs": [
    {
     "data": {
      "text/html": [
       "<style>.container { width:90% !important; }</style>"
      ],
      "text/plain": [
       "<IPython.core.display.HTML object>"
      ]
     },
     "metadata": {},
     "output_type": "display_data"
    }
   ],
   "source": [
    "from IPython.core.display import display, HTML\n",
    "display(HTML(\"<style>.container { width:90% !important; }</style>\"))"
   ]
  },
  {
   "cell_type": "code",
   "execution_count": 1,
   "metadata": {
    "ExecuteTime": {
     "end_time": "2019-02-05T15:36:25.573396Z",
     "start_time": "2019-02-05T15:36:25.265770Z"
    }
   },
   "outputs": [],
   "source": [
    "import pandas as pd\n",
    "import numpy as np\n",
    "import pickle"
   ]
  },
  {
   "cell_type": "code",
   "execution_count": 2,
   "metadata": {
    "ExecuteTime": {
     "end_time": "2019-02-05T15:36:25.755571Z",
     "start_time": "2019-02-05T15:36:25.752199Z"
    }
   },
   "outputs": [],
   "source": [
    "def pkl_process(data=None, file=None, mode=\"dump\"):\n",
    "    f_mode = \"wb\" if mode == \"dump\" else \"rb\"\n",
    "    load_data = None\n",
    "    \n",
    "    with open(file, f_mode) as f:\n",
    "        if mode == \"dump\":\n",
    "            pickle.dump(data, f)\n",
    "        else:\n",
    "            load_data = pickle.load(f)\n",
    "    \n",
    "    return load_data"
   ]
  },
  {
   "cell_type": "markdown",
   "metadata": {},
   "source": [
    "# load data"
   ]
  },
  {
   "cell_type": "code",
   "execution_count": 14,
   "metadata": {
    "ExecuteTime": {
     "end_time": "2019-02-05T16:21:16.413890Z",
     "start_time": "2019-02-05T16:21:16.380099Z"
    }
   },
   "outputs": [
    {
     "name": "stdout",
     "output_type": "stream",
     "text": [
      "495\n"
     ]
    },
    {
     "data": {
      "text/html": [
       "<div>\n",
       "<style scoped>\n",
       "    .dataframe tbody tr th:only-of-type {\n",
       "        vertical-align: middle;\n",
       "    }\n",
       "\n",
       "    .dataframe tbody tr th {\n",
       "        vertical-align: top;\n",
       "    }\n",
       "\n",
       "    .dataframe thead th {\n",
       "        text-align: right;\n",
       "    }\n",
       "</style>\n",
       "<table border=\"1\" class=\"dataframe\">\n",
       "  <thead>\n",
       "    <tr style=\"text-align: right;\">\n",
       "      <th></th>\n",
       "      <th>STUDY_CO</th>\n",
       "      <th>NGT_IFG_</th>\n",
       "      <th>NGT__PRE</th>\n",
       "      <th>DM_STATU</th>\n",
       "      <th>MS</th>\n",
       "      <th>AGE</th>\n",
       "      <th>GNDR</th>\n",
       "      <th>ETHNICIT</th>\n",
       "      <th>WT__KG_</th>\n",
       "      <th>HEIGHT__</th>\n",
       "      <th>...</th>\n",
       "      <th>BILIRRUB</th>\n",
       "      <th>PLATELET</th>\n",
       "      <th>ALBUMIN</th>\n",
       "      <th>TSH</th>\n",
       "      <th>MEAN_FPG</th>\n",
       "      <th>NASH_OUT</th>\n",
       "      <th>NASH_OU2</th>\n",
       "      <th>FIBROSIS</th>\n",
       "      <th>FIBROSI2</th>\n",
       "      <th>NAFLD_OU</th>\n",
       "    </tr>\n",
       "  </thead>\n",
       "  <tbody>\n",
       "    <tr>\n",
       "      <th>0</th>\n",
       "      <td>4062</td>\n",
       "      <td>DIAB</td>\n",
       "      <td>DIAB</td>\n",
       "      <td>1</td>\n",
       "      <td>NaN</td>\n",
       "      <td>43</td>\n",
       "      <td>0</td>\n",
       "      <td>AA</td>\n",
       "      <td>74.7</td>\n",
       "      <td>160.7</td>\n",
       "      <td>...</td>\n",
       "      <td>NaN</td>\n",
       "      <td>313</td>\n",
       "      <td>4.9</td>\n",
       "      <td>0.8</td>\n",
       "      <td>NaN</td>\n",
       "      <td>NaN</td>\n",
       "      <td>0</td>\n",
       "      <td>NaN</td>\n",
       "      <td>0</td>\n",
       "      <td>0</td>\n",
       "    </tr>\n",
       "    <tr>\n",
       "      <th>1</th>\n",
       "      <td>1108cx</td>\n",
       "      <td>IFG</td>\n",
       "      <td>PreDM</td>\n",
       "      <td>0</td>\n",
       "      <td>1</td>\n",
       "      <td>64</td>\n",
       "      <td>1</td>\n",
       "      <td>Caucasian</td>\n",
       "      <td>124.7</td>\n",
       "      <td>187</td>\n",
       "      <td>...</td>\n",
       "      <td>0.6</td>\n",
       "      <td>257</td>\n",
       "      <td>3.8</td>\n",
       "      <td>2.76</td>\n",
       "      <td>123.5</td>\n",
       "      <td>NaN</td>\n",
       "      <td>0</td>\n",
       "      <td>NaN</td>\n",
       "      <td>0</td>\n",
       "      <td>0</td>\n",
       "    </tr>\n",
       "    <tr>\n",
       "      <th>2</th>\n",
       "      <td>3029</td>\n",
       "      <td>DIAB</td>\n",
       "      <td>DIAB</td>\n",
       "      <td>1</td>\n",
       "      <td>1</td>\n",
       "      <td>61</td>\n",
       "      <td>1</td>\n",
       "      <td>Caucasian</td>\n",
       "      <td>96.7</td>\n",
       "      <td>185.4</td>\n",
       "      <td>...</td>\n",
       "      <td>0.9</td>\n",
       "      <td>289</td>\n",
       "      <td>4.4</td>\n",
       "      <td>1.12</td>\n",
       "      <td>NaN</td>\n",
       "      <td>NaN</td>\n",
       "      <td>0</td>\n",
       "      <td>NaN</td>\n",
       "      <td>0</td>\n",
       "      <td>0</td>\n",
       "    </tr>\n",
       "    <tr>\n",
       "      <th>3</th>\n",
       "      <td>4162</td>\n",
       "      <td>DIAB</td>\n",
       "      <td>DIAB</td>\n",
       "      <td>1</td>\n",
       "      <td>NaN</td>\n",
       "      <td>53</td>\n",
       "      <td>0</td>\n",
       "      <td>AA</td>\n",
       "      <td>81.6</td>\n",
       "      <td>163.8</td>\n",
       "      <td>...</td>\n",
       "      <td>0.2</td>\n",
       "      <td>316</td>\n",
       "      <td>4.4</td>\n",
       "      <td>0.5</td>\n",
       "      <td>133</td>\n",
       "      <td>NaN</td>\n",
       "      <td>0</td>\n",
       "      <td>NaN</td>\n",
       "      <td>0</td>\n",
       "      <td>0</td>\n",
       "    </tr>\n",
       "    <tr>\n",
       "      <th>4</th>\n",
       "      <td>4119</td>\n",
       "      <td>DIAB</td>\n",
       "      <td>DIAB</td>\n",
       "      <td>1</td>\n",
       "      <td>NaN</td>\n",
       "      <td>71</td>\n",
       "      <td>1</td>\n",
       "      <td>AA</td>\n",
       "      <td>92.99</td>\n",
       "      <td>180.3</td>\n",
       "      <td>...</td>\n",
       "      <td>0.5</td>\n",
       "      <td>174</td>\n",
       "      <td>4.4</td>\n",
       "      <td>2.53</td>\n",
       "      <td>133</td>\n",
       "      <td>NaN</td>\n",
       "      <td>0</td>\n",
       "      <td>NaN</td>\n",
       "      <td>0</td>\n",
       "      <td>0</td>\n",
       "    </tr>\n",
       "  </tbody>\n",
       "</table>\n",
       "<p>5 rows × 38 columns</p>\n",
       "</div>"
      ],
      "text/plain": [
       "  STUDY_CO NGT_IFG_ NGT__PRE DM_STATU   MS AGE GNDR   ETHNICIT WT__KG_  \\\n",
       "0     4062     DIAB     DIAB        1  NaN  43    0         AA    74.7   \n",
       "1   1108cx      IFG    PreDM        0    1  64    1  Caucasian   124.7   \n",
       "2     3029     DIAB     DIAB        1    1  61    1  Caucasian    96.7   \n",
       "3     4162     DIAB     DIAB        1  NaN  53    0         AA    81.6   \n",
       "4     4119     DIAB     DIAB        1  NaN  71    1         AA   92.99   \n",
       "\n",
       "  HEIGHT__   ...    BILIRRUB PLATELET ALBUMIN   TSH MEAN_FPG NASH_OUT  \\\n",
       "0    160.7   ...         NaN      313     4.9   0.8      NaN      NaN   \n",
       "1      187   ...         0.6      257     3.8  2.76    123.5      NaN   \n",
       "2    185.4   ...         0.9      289     4.4  1.12      NaN      NaN   \n",
       "3    163.8   ...         0.2      316     4.4   0.5      133      NaN   \n",
       "4    180.3   ...         0.5      174     4.4  2.53      133      NaN   \n",
       "\n",
       "  NASH_OU2 FIBROSIS FIBROSI2 NAFLD_OU  \n",
       "0        0      NaN        0        0  \n",
       "1        0      NaN        0        0  \n",
       "2        0      NaN        0        0  \n",
       "3        0      NaN        0        0  \n",
       "4        0      NaN        0        0  \n",
       "\n",
       "[5 rows x 38 columns]"
      ]
     },
     "execution_count": 14,
     "metadata": {},
     "output_type": "execute_result"
    }
   ],
   "source": [
    "nafld_file = \"NAFLD.csv\"\n",
    "df = pd.read_csv(nafld_file, dtype=str)\n",
    "print(len(df))\n",
    "df.head(5)"
   ]
  },
  {
   "cell_type": "code",
   "execution_count": 19,
   "metadata": {
    "ExecuteTime": {
     "end_time": "2019-02-05T17:12:23.098167Z",
     "start_time": "2019-02-05T17:12:23.045443Z"
    }
   },
   "outputs": [],
   "source": [
    "df.isnull().sum().to_csv(\"missing_value_count.csv\")"
   ]
  },
  {
   "cell_type": "code",
   "execution_count": 5,
   "metadata": {
    "ExecuteTime": {
     "end_time": "2019-02-01T16:46:58.712874Z",
     "start_time": "2019-02-01T16:46:58.705007Z"
    }
   },
   "outputs": [
    {
     "data": {
      "text/plain": [
       "(342, 149, 491, 4)"
      ]
     },
     "execution_count": 5,
     "metadata": {},
     "output_type": "execute_result"
    }
   ],
   "source": [
    "len(df[df['NAFLD_OU'] == '1']), len(df[df['NAFLD_OU'] == '0']), len(df[df['NAFLD_OU'].notna()]), len(df[df['NAFLD_OU'].isna()])"
   ]
  },
  {
   "cell_type": "code",
   "execution_count": 4,
   "metadata": {
    "ExecuteTime": {
     "end_time": "2019-02-05T15:43:40.195201Z",
     "start_time": "2019-02-05T15:43:40.191169Z"
    }
   },
   "outputs": [],
   "source": [
    "'''\n",
    "outcome must be defined\n",
    "we drop the data with undefined outcomes (n=4)\n",
    "'''\n",
    "\n",
    "df = df[df['NAFLD_OU'].notna()]"
   ]
  },
  {
   "cell_type": "code",
   "execution_count": 5,
   "metadata": {
    "ExecuteTime": {
     "end_time": "2019-02-05T15:43:40.873438Z",
     "start_time": "2019-02-05T15:43:40.869838Z"
    }
   },
   "outputs": [
    {
     "name": "stdout",
     "output_type": "stream",
     "text": [
      "\n",
      "first check how many nan for each patient, if some of the key nan is missing, then we can discard the data point\n",
      "\n",
      "remove columns: 'NASH_OUT', 'FIBROSIS', 'WT__KG_', 'HEIGHT__', 'STUDY_CO', 'BODY_SUR'\n",
      "\n",
      "criteria:\n",
      "if more than 15 fields are nan, remove this patient\n",
      "\n"
     ]
    }
   ],
   "source": [
    "miss_threshold = 15\n",
    "print(f'''\n",
    "first check how many nan for each patient, if some of the key nan is missing, then we can discard the data point\n",
    "\n",
    "remove columns: 'NASH_OUT', 'FIBROSIS', 'WT__KG_', 'HEIGHT__', 'STUDY_CO', 'BODY_SUR'\n",
    "\n",
    "criteria:\n",
    "if more than {miss_threshold} fields are nan, remove this patient\n",
    "''')"
   ]
  },
  {
   "cell_type": "code",
   "execution_count": 6,
   "metadata": {
    "ExecuteTime": {
     "end_time": "2019-02-05T15:43:42.284423Z",
     "start_time": "2019-02-05T15:43:42.277969Z"
    }
   },
   "outputs": [],
   "source": [
    "#remove columns\n",
    "remove_cols = {'NASH_OUT', 'FIBROSIS', 'WT__KG_', 'HEIGHT__', 'STUDY_CO', 'BODY_SUR'}\n",
    "for each in remove_cols:\n",
    "    del df[each]"
   ]
  },
  {
   "cell_type": "code",
   "execution_count": 7,
   "metadata": {
    "ExecuteTime": {
     "end_time": "2019-02-05T15:43:43.903953Z",
     "start_time": "2019-02-05T15:43:43.879281Z"
    }
   },
   "outputs": [
    {
     "data": {
      "text/html": [
       "<div>\n",
       "<style scoped>\n",
       "    .dataframe tbody tr th:only-of-type {\n",
       "        vertical-align: middle;\n",
       "    }\n",
       "\n",
       "    .dataframe tbody tr th {\n",
       "        vertical-align: top;\n",
       "    }\n",
       "\n",
       "    .dataframe thead th {\n",
       "        text-align: right;\n",
       "    }\n",
       "</style>\n",
       "<table border=\"1\" class=\"dataframe\">\n",
       "  <thead>\n",
       "    <tr style=\"text-align: right;\">\n",
       "      <th></th>\n",
       "      <th>NGT_IFG_</th>\n",
       "      <th>NGT__PRE</th>\n",
       "      <th>DM_STATU</th>\n",
       "      <th>MS</th>\n",
       "      <th>AGE</th>\n",
       "      <th>GNDR</th>\n",
       "      <th>ETHNICIT</th>\n",
       "      <th>BMI</th>\n",
       "      <th>HOMA</th>\n",
       "      <th>SBP</th>\n",
       "      <th>...</th>\n",
       "      <th>AST_M0</th>\n",
       "      <th>ALT_M0</th>\n",
       "      <th>BILIRRUB</th>\n",
       "      <th>PLATELET</th>\n",
       "      <th>ALBUMIN</th>\n",
       "      <th>TSH</th>\n",
       "      <th>MEAN_FPG</th>\n",
       "      <th>NASH_OU2</th>\n",
       "      <th>FIBROSI2</th>\n",
       "      <th>NAFLD_OU</th>\n",
       "    </tr>\n",
       "  </thead>\n",
       "  <tbody>\n",
       "    <tr>\n",
       "      <th>0</th>\n",
       "      <td>DIAB</td>\n",
       "      <td>DIAB</td>\n",
       "      <td>1</td>\n",
       "      <td>NaN</td>\n",
       "      <td>43</td>\n",
       "      <td>0</td>\n",
       "      <td>AA</td>\n",
       "      <td>28.92603107</td>\n",
       "      <td>NaN</td>\n",
       "      <td>139</td>\n",
       "      <td>...</td>\n",
       "      <td>14</td>\n",
       "      <td>11</td>\n",
       "      <td>NaN</td>\n",
       "      <td>313</td>\n",
       "      <td>4.9</td>\n",
       "      <td>0.8</td>\n",
       "      <td>NaN</td>\n",
       "      <td>0</td>\n",
       "      <td>0</td>\n",
       "      <td>0</td>\n",
       "    </tr>\n",
       "    <tr>\n",
       "      <th>1</th>\n",
       "      <td>IFG</td>\n",
       "      <td>PreDM</td>\n",
       "      <td>0</td>\n",
       "      <td>1</td>\n",
       "      <td>64</td>\n",
       "      <td>1</td>\n",
       "      <td>Caucasian</td>\n",
       "      <td>35.66015614</td>\n",
       "      <td>1.993350988</td>\n",
       "      <td>126</td>\n",
       "      <td>...</td>\n",
       "      <td>36</td>\n",
       "      <td>28</td>\n",
       "      <td>0.6</td>\n",
       "      <td>257</td>\n",
       "      <td>3.8</td>\n",
       "      <td>2.76</td>\n",
       "      <td>123.5</td>\n",
       "      <td>0</td>\n",
       "      <td>0</td>\n",
       "      <td>0</td>\n",
       "    </tr>\n",
       "    <tr>\n",
       "      <th>2</th>\n",
       "      <td>DIAB</td>\n",
       "      <td>DIAB</td>\n",
       "      <td>1</td>\n",
       "      <td>1</td>\n",
       "      <td>61</td>\n",
       "      <td>1</td>\n",
       "      <td>Caucasian</td>\n",
       "      <td>28.13241494</td>\n",
       "      <td>NaN</td>\n",
       "      <td>104</td>\n",
       "      <td>...</td>\n",
       "      <td>14</td>\n",
       "      <td>15</td>\n",
       "      <td>0.9</td>\n",
       "      <td>289</td>\n",
       "      <td>4.4</td>\n",
       "      <td>1.12</td>\n",
       "      <td>NaN</td>\n",
       "      <td>0</td>\n",
       "      <td>0</td>\n",
       "      <td>0</td>\n",
       "    </tr>\n",
       "    <tr>\n",
       "      <th>3</th>\n",
       "      <td>DIAB</td>\n",
       "      <td>DIAB</td>\n",
       "      <td>1</td>\n",
       "      <td>NaN</td>\n",
       "      <td>53</td>\n",
       "      <td>0</td>\n",
       "      <td>AA</td>\n",
       "      <td>30.41321723</td>\n",
       "      <td>3.283950617</td>\n",
       "      <td>157</td>\n",
       "      <td>...</td>\n",
       "      <td>20</td>\n",
       "      <td>23</td>\n",
       "      <td>0.2</td>\n",
       "      <td>316</td>\n",
       "      <td>4.4</td>\n",
       "      <td>0.5</td>\n",
       "      <td>133</td>\n",
       "      <td>0</td>\n",
       "      <td>0</td>\n",
       "      <td>0</td>\n",
       "    </tr>\n",
       "    <tr>\n",
       "      <th>4</th>\n",
       "      <td>DIAB</td>\n",
       "      <td>DIAB</td>\n",
       "      <td>1</td>\n",
       "      <td>NaN</td>\n",
       "      <td>71</td>\n",
       "      <td>1</td>\n",
       "      <td>AA</td>\n",
       "      <td>28.6051872</td>\n",
       "      <td>2.955555556</td>\n",
       "      <td>143</td>\n",
       "      <td>...</td>\n",
       "      <td>20</td>\n",
       "      <td>21</td>\n",
       "      <td>0.5</td>\n",
       "      <td>174</td>\n",
       "      <td>4.4</td>\n",
       "      <td>2.53</td>\n",
       "      <td>133</td>\n",
       "      <td>0</td>\n",
       "      <td>0</td>\n",
       "      <td>0</td>\n",
       "    </tr>\n",
       "  </tbody>\n",
       "</table>\n",
       "<p>5 rows × 32 columns</p>\n",
       "</div>"
      ],
      "text/plain": [
       "  NGT_IFG_ NGT__PRE DM_STATU   MS AGE GNDR   ETHNICIT          BMI  \\\n",
       "0     DIAB     DIAB        1  NaN  43    0         AA  28.92603107   \n",
       "1      IFG    PreDM        0    1  64    1  Caucasian  35.66015614   \n",
       "2     DIAB     DIAB        1    1  61    1  Caucasian  28.13241494   \n",
       "3     DIAB     DIAB        1  NaN  53    0         AA  30.41321723   \n",
       "4     DIAB     DIAB        1  NaN  71    1         AA   28.6051872   \n",
       "\n",
       "          HOMA  SBP   ...    AST_M0 ALT_M0 BILIRRUB PLATELET ALBUMIN   TSH  \\\n",
       "0          NaN  139   ...        14     11      NaN      313     4.9   0.8   \n",
       "1  1.993350988  126   ...        36     28      0.6      257     3.8  2.76   \n",
       "2          NaN  104   ...        14     15      0.9      289     4.4  1.12   \n",
       "3  3.283950617  157   ...        20     23      0.2      316     4.4   0.5   \n",
       "4  2.955555556  143   ...        20     21      0.5      174     4.4  2.53   \n",
       "\n",
       "  MEAN_FPG NASH_OU2 FIBROSI2 NAFLD_OU  \n",
       "0      NaN        0        0        0  \n",
       "1    123.5        0        0        0  \n",
       "2      NaN        0        0        0  \n",
       "3      133        0        0        0  \n",
       "4      133        0        0        0  \n",
       "\n",
       "[5 rows x 32 columns]"
      ]
     },
     "execution_count": 7,
     "metadata": {},
     "output_type": "execute_result"
    }
   ],
   "source": [
    "df.head()"
   ]
  },
  {
   "cell_type": "code",
   "execution_count": 8,
   "metadata": {
    "ExecuteTime": {
     "end_time": "2019-02-05T15:43:45.851173Z",
     "start_time": "2019-02-05T15:43:45.758134Z"
    }
   },
   "outputs": [
    {
     "name": "stdout",
     "output_type": "stream",
     "text": [
      "using missing threshold:  15 filtered # of data:  3 total # of data:  491\n"
     ]
    },
    {
     "data": {
      "text/plain": [
       "488"
      ]
     },
     "execution_count": 8,
     "metadata": {},
     "output_type": "execute_result"
    }
   ],
   "source": [
    "def count_nan(row):\n",
    "    c = 0\n",
    "    for each in row:\n",
    "        if each is np.nan:\n",
    "            c += 1\n",
    "    if c >= miss_threshold:\n",
    "        return 1\n",
    "    return 0\n",
    "\n",
    "df['mc'] = df.apply(count_nan, axis=1)\n",
    "print(\"using missing threshold: \", miss_threshold, \"filtered # of data: \", len(df[df['mc'] == 1]), \"total # of data: \", len(df))\n",
    "df = df[df['mc'] == 0]\n",
    "df = df.drop(columns='mc')\n",
    "len(df)"
   ]
  },
  {
   "cell_type": "code",
   "execution_count": 11,
   "metadata": {
    "ExecuteTime": {
     "end_time": "2019-02-01T16:47:02.654449Z",
     "start_time": "2019-02-01T16:47:02.648888Z"
    }
   },
   "outputs": [
    {
     "data": {
      "text/plain": [
       "(342, 146)"
      ]
     },
     "execution_count": 11,
     "metadata": {},
     "output_type": "execute_result"
    }
   ],
   "source": [
    "len(df[df['NAFLD_OU'] == '1']), len(df[df['NAFLD_OU'] == '0'])"
   ]
  },
  {
   "cell_type": "code",
   "execution_count": 9,
   "metadata": {
    "ExecuteTime": {
     "end_time": "2019-02-05T15:44:19.676539Z",
     "start_time": "2019-02-05T15:44:19.670542Z"
    }
   },
   "outputs": [
    {
     "data": {
      "text/plain": [
       "(198, 290)"
      ]
     },
     "execution_count": 9,
     "metadata": {},
     "output_type": "execute_result"
    }
   ],
   "source": [
    "len(df[df['NASH_OU2'] == '1']), len(df[df['NASH_OU2'] == '0'])"
   ]
  },
  {
   "cell_type": "code",
   "execution_count": 10,
   "metadata": {
    "ExecuteTime": {
     "end_time": "2019-02-05T15:44:20.210632Z",
     "start_time": "2019-02-05T15:44:20.204813Z"
    }
   },
   "outputs": [
    {
     "data": {
      "text/plain": [
       "(60, 428)"
      ]
     },
     "execution_count": 10,
     "metadata": {},
     "output_type": "execute_result"
    }
   ],
   "source": [
    "len(df[df['FIBROSI2'] == '1']), len(df[df['FIBROSI2'] == '0'])"
   ]
  },
  {
   "cell_type": "code",
   "execution_count": null,
   "metadata": {},
   "outputs": [],
   "source": [
    "def all_pos(row):\n",
    "    if row['NAFLD_OU']\n",
    "    \n",
    "df['mc'] = df.apply(count_nan, axis=1)\n",
    "df[df['mc'] == 0]\n",
    "df.drop(columns='mc')"
   ]
  },
  {
   "cell_type": "markdown",
   "metadata": {},
   "source": [
    "# replace nan value"
   ]
  },
  {
   "cell_type": "code",
   "execution_count": 14,
   "metadata": {
    "ExecuteTime": {
     "end_time": "2019-02-01T16:47:07.925012Z",
     "start_time": "2019-02-01T16:47:07.922065Z"
    }
   },
   "outputs": [],
   "source": [
    "from collections import defaultdict"
   ]
  },
  {
   "cell_type": "code",
   "execution_count": 15,
   "metadata": {
    "ExecuteTime": {
     "end_time": "2019-02-01T16:47:08.357776Z",
     "start_time": "2019-02-01T16:47:08.354640Z"
    }
   },
   "outputs": [],
   "source": [
    "#collect unique values for each column not based on outcomes\n",
    "unique_values_dict = defaultdict(set)\n",
    "\n",
    "def f1(row):\n",
    "    for k, v in row.items():\n",
    "        if v is not np.nan:\n",
    "            unique_values_dict[k].add(v)"
   ]
  },
  {
   "cell_type": "code",
   "execution_count": 16,
   "metadata": {
    "ExecuteTime": {
     "end_time": "2019-02-01T16:47:08.796474Z",
     "start_time": "2019-02-01T16:47:08.793217Z"
    }
   },
   "outputs": [],
   "source": [
    "#collect unique values for each column based on outcomes\n",
    "unique_values_dict = {'1':defaultdict(set), '0':defaultdict(set)}\n",
    "\n",
    "def f1(row):\n",
    "    label = row['NAFLD_OU']\n",
    "    for k, v in row.items():\n",
    "        if v is not np.nan:\n",
    "            unique_values_dict[label][k].add(v)"
   ]
  },
  {
   "cell_type": "code",
   "execution_count": 17,
   "metadata": {
    "ExecuteTime": {
     "end_time": "2019-02-01T16:47:09.272910Z",
     "start_time": "2019-02-01T16:47:09.241110Z"
    }
   },
   "outputs": [],
   "source": [
    "x=df.apply(f1, axis=1)"
   ]
  },
  {
   "cell_type": "code",
   "execution_count": 18,
   "metadata": {
    "ExecuteTime": {
     "end_time": "2019-02-01T16:47:09.715318Z",
     "start_time": "2019-02-01T16:47:09.713009Z"
    }
   },
   "outputs": [],
   "source": [
    "import random"
   ]
  },
  {
   "cell_type": "code",
   "execution_count": 21,
   "metadata": {
    "ExecuteTime": {
     "end_time": "2019-02-01T16:47:11.116333Z",
     "start_time": "2019-02-01T16:47:11.113552Z"
    }
   },
   "outputs": [],
   "source": [
    "df1 = pd.DataFrame()"
   ]
  },
  {
   "cell_type": "code",
   "execution_count": 22,
   "metadata": {
    "ExecuteTime": {
     "end_time": "2019-02-01T16:47:12.525115Z",
     "start_time": "2019-02-01T16:47:12.521802Z"
    }
   },
   "outputs": [],
   "source": [
    "'''\n",
    "fill nan\n",
    "methods:\n",
    "1. random picked from same column (from or not from the same outcome) (first to test)\n",
    "2. median of the column\n",
    "3. average of the column\n",
    "4. cloest case based on all physical factors (heuristic measure)\n",
    "'''\n",
    "\n",
    "# not based on outcome\n",
    "def f2(row):\n",
    "    for k, v in row.items():\n",
    "        if v is np.nan:\n",
    "            row[k] = random.choice(list(unique_values_dict[k]))\n",
    "    return row"
   ]
  },
  {
   "cell_type": "code",
   "execution_count": 23,
   "metadata": {
    "ExecuteTime": {
     "end_time": "2019-02-01T16:47:14.020472Z",
     "start_time": "2019-02-01T16:47:14.017325Z"
    }
   },
   "outputs": [],
   "source": [
    "# based on outcome\n",
    "def f2(row):\n",
    "    label = row['NAFLD_OU']\n",
    "    for k, v in row.items():\n",
    "        if v is np.nan:\n",
    "            row[k] = random.choice(list(unique_values_dict[label][k]))\n",
    "    return row"
   ]
  },
  {
   "cell_type": "code",
   "execution_count": 24,
   "metadata": {
    "ExecuteTime": {
     "end_time": "2019-02-01T16:47:14.756209Z",
     "start_time": "2019-02-01T16:47:14.679792Z"
    }
   },
   "outputs": [],
   "source": [
    "df1 = df1.append(df.apply(f2, axis=1))"
   ]
  },
  {
   "cell_type": "code",
   "execution_count": 25,
   "metadata": {
    "ExecuteTime": {
     "end_time": "2019-02-01T16:47:15.153222Z",
     "start_time": "2019-02-01T16:47:15.130374Z"
    }
   },
   "outputs": [
    {
     "data": {
      "text/html": [
       "<div>\n",
       "<style scoped>\n",
       "    .dataframe tbody tr th:only-of-type {\n",
       "        vertical-align: middle;\n",
       "    }\n",
       "\n",
       "    .dataframe tbody tr th {\n",
       "        vertical-align: top;\n",
       "    }\n",
       "\n",
       "    .dataframe thead th {\n",
       "        text-align: right;\n",
       "    }\n",
       "</style>\n",
       "<table border=\"1\" class=\"dataframe\">\n",
       "  <thead>\n",
       "    <tr style=\"text-align: right;\">\n",
       "      <th></th>\n",
       "      <th>NGT_IFG_</th>\n",
       "      <th>NGT__PRE</th>\n",
       "      <th>DM_STATU</th>\n",
       "      <th>MS</th>\n",
       "      <th>AGE</th>\n",
       "      <th>GNDR</th>\n",
       "      <th>ETHNICIT</th>\n",
       "      <th>BMI</th>\n",
       "      <th>HOMA</th>\n",
       "      <th>SBP</th>\n",
       "      <th>...</th>\n",
       "      <th>AST_M0</th>\n",
       "      <th>ALT_M0</th>\n",
       "      <th>BILIRRUB</th>\n",
       "      <th>PLATELET</th>\n",
       "      <th>ALBUMIN</th>\n",
       "      <th>TSH</th>\n",
       "      <th>MEAN_FPG</th>\n",
       "      <th>NASH_OU2</th>\n",
       "      <th>FIBROSI2</th>\n",
       "      <th>NAFLD_OU</th>\n",
       "    </tr>\n",
       "  </thead>\n",
       "  <tbody>\n",
       "    <tr>\n",
       "      <th>0</th>\n",
       "      <td>DIAB</td>\n",
       "      <td>DIAB</td>\n",
       "      <td>1</td>\n",
       "      <td>1</td>\n",
       "      <td>43</td>\n",
       "      <td>0</td>\n",
       "      <td>AA</td>\n",
       "      <td>28.92603107</td>\n",
       "      <td>0.908641975</td>\n",
       "      <td>139</td>\n",
       "      <td>...</td>\n",
       "      <td>14</td>\n",
       "      <td>11</td>\n",
       "      <td>1.9</td>\n",
       "      <td>313</td>\n",
       "      <td>4.9</td>\n",
       "      <td>0.8</td>\n",
       "      <td>148.5</td>\n",
       "      <td>0</td>\n",
       "      <td>0</td>\n",
       "      <td>0</td>\n",
       "    </tr>\n",
       "    <tr>\n",
       "      <th>1</th>\n",
       "      <td>IFG</td>\n",
       "      <td>PreDM</td>\n",
       "      <td>0</td>\n",
       "      <td>1</td>\n",
       "      <td>64</td>\n",
       "      <td>1</td>\n",
       "      <td>Caucasian</td>\n",
       "      <td>35.66015614</td>\n",
       "      <td>1.993350988</td>\n",
       "      <td>126</td>\n",
       "      <td>...</td>\n",
       "      <td>36</td>\n",
       "      <td>28</td>\n",
       "      <td>0.6</td>\n",
       "      <td>257</td>\n",
       "      <td>3.8</td>\n",
       "      <td>2.76</td>\n",
       "      <td>123.5</td>\n",
       "      <td>0</td>\n",
       "      <td>0</td>\n",
       "      <td>0</td>\n",
       "    </tr>\n",
       "    <tr>\n",
       "      <th>2</th>\n",
       "      <td>DIAB</td>\n",
       "      <td>DIAB</td>\n",
       "      <td>1</td>\n",
       "      <td>1</td>\n",
       "      <td>61</td>\n",
       "      <td>1</td>\n",
       "      <td>Caucasian</td>\n",
       "      <td>28.13241494</td>\n",
       "      <td>0.804526749</td>\n",
       "      <td>104</td>\n",
       "      <td>...</td>\n",
       "      <td>14</td>\n",
       "      <td>15</td>\n",
       "      <td>0.9</td>\n",
       "      <td>289</td>\n",
       "      <td>4.4</td>\n",
       "      <td>1.12</td>\n",
       "      <td>96</td>\n",
       "      <td>0</td>\n",
       "      <td>0</td>\n",
       "      <td>0</td>\n",
       "    </tr>\n",
       "    <tr>\n",
       "      <th>3</th>\n",
       "      <td>DIAB</td>\n",
       "      <td>DIAB</td>\n",
       "      <td>1</td>\n",
       "      <td>0</td>\n",
       "      <td>53</td>\n",
       "      <td>0</td>\n",
       "      <td>AA</td>\n",
       "      <td>30.41321723</td>\n",
       "      <td>3.283950617</td>\n",
       "      <td>157</td>\n",
       "      <td>...</td>\n",
       "      <td>20</td>\n",
       "      <td>23</td>\n",
       "      <td>0.2</td>\n",
       "      <td>316</td>\n",
       "      <td>4.4</td>\n",
       "      <td>0.5</td>\n",
       "      <td>133</td>\n",
       "      <td>0</td>\n",
       "      <td>0</td>\n",
       "      <td>0</td>\n",
       "    </tr>\n",
       "    <tr>\n",
       "      <th>4</th>\n",
       "      <td>DIAB</td>\n",
       "      <td>DIAB</td>\n",
       "      <td>1</td>\n",
       "      <td>1</td>\n",
       "      <td>71</td>\n",
       "      <td>1</td>\n",
       "      <td>AA</td>\n",
       "      <td>28.6051872</td>\n",
       "      <td>2.955555556</td>\n",
       "      <td>143</td>\n",
       "      <td>...</td>\n",
       "      <td>20</td>\n",
       "      <td>21</td>\n",
       "      <td>0.5</td>\n",
       "      <td>174</td>\n",
       "      <td>4.4</td>\n",
       "      <td>2.53</td>\n",
       "      <td>133</td>\n",
       "      <td>0</td>\n",
       "      <td>0</td>\n",
       "      <td>0</td>\n",
       "    </tr>\n",
       "  </tbody>\n",
       "</table>\n",
       "<p>5 rows × 32 columns</p>\n",
       "</div>"
      ],
      "text/plain": [
       "  NGT_IFG_ NGT__PRE DM_STATU MS AGE GNDR   ETHNICIT          BMI         HOMA  \\\n",
       "0     DIAB     DIAB        1  1  43    0         AA  28.92603107  0.908641975   \n",
       "1      IFG    PreDM        0  1  64    1  Caucasian  35.66015614  1.993350988   \n",
       "2     DIAB     DIAB        1  1  61    1  Caucasian  28.13241494  0.804526749   \n",
       "3     DIAB     DIAB        1  0  53    0         AA  30.41321723  3.283950617   \n",
       "4     DIAB     DIAB        1  1  71    1         AA   28.6051872  2.955555556   \n",
       "\n",
       "   SBP   ...    AST_M0 ALT_M0 BILIRRUB PLATELET ALBUMIN   TSH MEAN_FPG  \\\n",
       "0  139   ...        14     11      1.9      313     4.9   0.8    148.5   \n",
       "1  126   ...        36     28      0.6      257     3.8  2.76    123.5   \n",
       "2  104   ...        14     15      0.9      289     4.4  1.12       96   \n",
       "3  157   ...        20     23      0.2      316     4.4   0.5      133   \n",
       "4  143   ...        20     21      0.5      174     4.4  2.53      133   \n",
       "\n",
       "  NASH_OU2 FIBROSI2 NAFLD_OU  \n",
       "0        0        0        0  \n",
       "1        0        0        0  \n",
       "2        0        0        0  \n",
       "3        0        0        0  \n",
       "4        0        0        0  \n",
       "\n",
       "[5 rows x 32 columns]"
      ]
     },
     "execution_count": 25,
     "metadata": {},
     "output_type": "execute_result"
    }
   ],
   "source": [
    "df1.head()"
   ]
  },
  {
   "cell_type": "code",
   "execution_count": 26,
   "metadata": {
    "ExecuteTime": {
     "end_time": "2019-02-01T16:47:15.892128Z",
     "start_time": "2019-02-01T16:47:15.881410Z"
    }
   },
   "outputs": [],
   "source": [
    "df1.to_csv(\"imputed_nafld.csv\", index=False)"
   ]
  },
  {
   "cell_type": "markdown",
   "metadata": {},
   "source": [
    "# convert continous data to categorical data"
   ]
  },
  {
   "cell_type": "code",
   "execution_count": 27,
   "metadata": {
    "ExecuteTime": {
     "end_time": "2019-02-01T16:47:17.469732Z",
     "start_time": "2019-02-01T16:47:17.448985Z"
    }
   },
   "outputs": [],
   "source": [
    "#defined range split\n",
    "'''\n",
    "criteria:\n",
    "ngt_ifg_: NGT=normal glucose tolerance; IFG: impaired fasting glucose; IGT: impaired glucose tolerance; DIAB: T2DM\n",
    "ngt__pre: NGT=normal glucose tolerance; PreDM: prediabetes; DIAB: T2DM\n",
    "dm_statu: diabetes status 1=yes 0=no\n",
    "ms: metabolic syndrome 1=yes 0=no\n",
    "dyslipid: dyslipidemia 1=yes 0=no\n",
    "on_stati: use of statins 1=yes 0=no\n",
    "combinat: use of fibrates, niacin or omega-3 1=yes 0=no\n",
    "on_metfo: use of metformin 1=yes 0=no\n",
    "on_su: use of sulfonylureas 1=yes 0=no\n",
    "gndr: 1=male 0=female\n",
    "\n",
    "ageI would try >50, >60, >70\n",
    "ethnicit Not continuous\n",
    "bmi\n",
    "body_sur: body surface (I would remove this variable as it will not be available in epic to then extrapolate the model)\n",
    "homa (I would remove this variable as it will not be available in epic to then extrapolate the model)\n",
    "sbp: systolic blood pressure >130 or >140 (try 130 first)\n",
    "dbp: diastolic: >80 or >90 (try 80 first)\n",
    "on_bp_me: use of BP meds (1= yes 0=no) Not continuous\n",
    "chol: total cholesterol: >200\n",
    "tg: triglycerides: >150\n",
    "ldl: >100, >130, >160\n",
    "hdl: <40 for males and <50 for females\n",
    "a1c: We can try >=5.7%, >=6.0%, >=6.5%, or >=7.0  (using <5.7, 5.7-6.5, >6.5)\n",
    "\n",
    "ast_m0: AST. Use >=40\n",
    "alt_m0: ALT. Use >=40, You can also try with >=30 for male and >=19 for female\n",
    "bilirrub: maybe >=1 (all patients may have lower results than this).\n",
    "platelet: We can try >=100 or >=150\n",
    "albumin: >=4\n",
    "tsh:>=4\n",
    "mean_fpg: fasting plasma glucose. We can try >=100, >=126, or >=150\n",
    "'''\n",
    "#create config json cat -> categorical; ex -> exclude variable; [1,2] define 3 ranges as (, 1] & (1, 2] & (2, ) \n",
    "# same variable is gender depended using dictionary -> {1:[] #male, 0:[]#female}\n",
    "# 'outcome' identify this is the predictor\n",
    "conf = {\n",
    " 'NGT_IFG_': 'cat',\n",
    " 'NGT__PRE': 'cat',\n",
    " 'DM_STATU': 'cat',\n",
    " 'MS': 'cat',\n",
    " 'AGE': [50.0, 60.0, 70.0],\n",
    " 'GNDR': 'cat',\n",
    " 'ETHNICIT': 'cat',\n",
    " 'BMI': [18.5, 24.9, 29.9],\n",
    " 'HOMA': [2.6, 3.8],\n",
    " 'SBP': [130.0],\n",
    " 'DBP': [80.0],\n",
    " 'ON_BP_ME': 'cat',\n",
    " 'CHOL': [200.0],\n",
    " 'TG': [150.0],\n",
    " 'LDL': [100.0, 130.0, 160.0],\n",
    " 'HDL': {'1':[40.0], '0':[50.0]},\n",
    " 'DYSLIPID': 'cat',\n",
    " 'ON_STATI': 'cat',\n",
    " 'COMBINAT': 'cat',\n",
    " 'A1C': [5.7, 6.5],\n",
    " 'ON_METFO': 'cat',\n",
    " 'ON_SU': 'cat',\n",
    " 'AST_M0': [40.0],\n",
    " 'ALT_M0': [40.0],\n",
    " 'BILIRRUB': [1.0],\n",
    " 'PLATELET': [150.0],\n",
    " 'ALBUMIN': [4.0],\n",
    " 'TSH': [4.0],\n",
    " 'MEAN_FPG': [100.0, 125.0],\n",
    " 'NAFLD_OU': 'outcome',\n",
    " 'NASH_OU2':'outcome',\n",
    " 'FIBROSI2': 'outcome'}\n",
    "\n",
    "pkl_process(data=conf, file=\"conf.pkl\", mode=\"dump\")"
   ]
  },
  {
   "cell_type": "code",
   "execution_count": 28,
   "metadata": {
    "ExecuteTime": {
     "end_time": "2019-02-01T16:47:18.052522Z",
     "start_time": "2019-02-01T16:47:18.048455Z"
    }
   },
   "outputs": [],
   "source": [
    "def cat2idx(data:float, bound:list, g:str) -> int:\n",
    "    idx = 0\n",
    "    if isinstance(bound, list):\n",
    "        bound = bound\n",
    "    elif isinstance(bound, dict):\n",
    "        bound = bound[g]\n",
    "    while idx < len(bound) and data >= bound[idx]:\n",
    "        idx += 1\n",
    "    return idx\n",
    "\n",
    "def float2cat(col, col_name, genders):\n",
    "    n_col = []\n",
    "    for i, each in enumerate(col):\n",
    "        g = genders[i]\n",
    "        n_col.append(cat2idx(float(each), conf[col_name], g))\n",
    "    return np.array(n_col)"
   ]
  },
  {
   "cell_type": "code",
   "execution_count": 29,
   "metadata": {
    "ExecuteTime": {
     "end_time": "2019-02-01T16:47:19.811932Z",
     "start_time": "2019-02-01T16:47:19.809104Z"
    }
   },
   "outputs": [],
   "source": [
    "import copy\n",
    "generders = list(copy.deepcopy(df1['GNDR']))"
   ]
  },
  {
   "cell_type": "code",
   "execution_count": 30,
   "metadata": {
    "ExecuteTime": {
     "end_time": "2019-02-01T16:47:20.979477Z",
     "start_time": "2019-02-01T16:47:20.472976Z"
    }
   },
   "outputs": [],
   "source": [
    "from sklearn.preprocessing import LabelEncoder\n",
    "def cat2cat(col, col_name, cat_dict):\n",
    "    le = LabelEncoder()\n",
    "    encoded = le.fit_transform(col)\n",
    "    cat_dict[k] = le.classes_\n",
    "    return encoded"
   ]
  },
  {
   "cell_type": "code",
   "execution_count": 31,
   "metadata": {
    "ExecuteTime": {
     "end_time": "2019-02-01T16:47:21.292261Z",
     "start_time": "2019-02-01T16:47:21.290039Z"
    }
   },
   "outputs": [],
   "source": [
    "categorical_data_dict = dict()"
   ]
  },
  {
   "cell_type": "code",
   "execution_count": 32,
   "metadata": {
    "ExecuteTime": {
     "end_time": "2019-02-01T16:47:21.878283Z",
     "start_time": "2019-02-01T16:47:21.856048Z"
    }
   },
   "outputs": [],
   "source": [
    "for k, v in conf.items():\n",
    "    if not(isinstance(v, list) or isinstance(v, dict)):\n",
    "        df1[k] = cat2cat(df1[k], k, categorical_data_dict)\n",
    "    else:\n",
    "        df1[k] = float2cat(df1[k], k, generders)"
   ]
  },
  {
   "cell_type": "code",
   "execution_count": 33,
   "metadata": {
    "ExecuteTime": {
     "end_time": "2019-02-01T16:47:22.399194Z",
     "start_time": "2019-02-01T16:47:22.392784Z"
    }
   },
   "outputs": [
    {
     "data": {
      "text/plain": [
       "{'NGT_IFG_': array(['DIAB', 'IFG', 'IGT', 'NGT'], dtype=object),\n",
       " 'NGT__PRE': array(['DIAB', 'NGT', 'PreDM'], dtype=object),\n",
       " 'DM_STATU': array(['0', '1'], dtype=object),\n",
       " 'MS': array(['0', '1'], dtype=object),\n",
       " 'GNDR': array(['0', '1'], dtype=object),\n",
       " 'ETHNICIT': array(['AA', 'Asian', 'Caucasian', 'Hispanic', 'Indian', 'PI'],\n",
       "       dtype=object),\n",
       " 'ON_BP_ME': array(['0', '1'], dtype=object),\n",
       " 'DYSLIPID': array(['0', '1'], dtype=object),\n",
       " 'ON_STATI': array(['0', '1'], dtype=object),\n",
       " 'COMBINAT': array(['0', '1'], dtype=object),\n",
       " 'ON_METFO': array(['0', '1'], dtype=object),\n",
       " 'ON_SU': array(['0', '1'], dtype=object),\n",
       " 'NAFLD_OU': array(['0', '1'], dtype=object),\n",
       " 'NASH_OU2': array(['0', '1'], dtype=object),\n",
       " 'FIBROSI2': array(['0', '1'], dtype=object)}"
      ]
     },
     "execution_count": 33,
     "metadata": {},
     "output_type": "execute_result"
    }
   ],
   "source": [
    "pkl_process(data=categorical_data_dict, file=\"cat_dict.pkl\", mode=\"dump\")\n",
    "categorical_data_dict"
   ]
  },
  {
   "cell_type": "code",
   "execution_count": 34,
   "metadata": {
    "ExecuteTime": {
     "end_time": "2019-02-01T16:47:23.237554Z",
     "start_time": "2019-02-01T16:47:23.217782Z"
    }
   },
   "outputs": [
    {
     "data": {
      "text/html": [
       "<div>\n",
       "<style scoped>\n",
       "    .dataframe tbody tr th:only-of-type {\n",
       "        vertical-align: middle;\n",
       "    }\n",
       "\n",
       "    .dataframe tbody tr th {\n",
       "        vertical-align: top;\n",
       "    }\n",
       "\n",
       "    .dataframe thead th {\n",
       "        text-align: right;\n",
       "    }\n",
       "</style>\n",
       "<table border=\"1\" class=\"dataframe\">\n",
       "  <thead>\n",
       "    <tr style=\"text-align: right;\">\n",
       "      <th></th>\n",
       "      <th>NGT_IFG_</th>\n",
       "      <th>NGT__PRE</th>\n",
       "      <th>DM_STATU</th>\n",
       "      <th>MS</th>\n",
       "      <th>AGE</th>\n",
       "      <th>GNDR</th>\n",
       "      <th>ETHNICIT</th>\n",
       "      <th>BMI</th>\n",
       "      <th>HOMA</th>\n",
       "      <th>SBP</th>\n",
       "      <th>...</th>\n",
       "      <th>AST_M0</th>\n",
       "      <th>ALT_M0</th>\n",
       "      <th>BILIRRUB</th>\n",
       "      <th>PLATELET</th>\n",
       "      <th>ALBUMIN</th>\n",
       "      <th>TSH</th>\n",
       "      <th>MEAN_FPG</th>\n",
       "      <th>NASH_OU2</th>\n",
       "      <th>FIBROSI2</th>\n",
       "      <th>NAFLD_OU</th>\n",
       "    </tr>\n",
       "  </thead>\n",
       "  <tbody>\n",
       "    <tr>\n",
       "      <th>0</th>\n",
       "      <td>0</td>\n",
       "      <td>0</td>\n",
       "      <td>1</td>\n",
       "      <td>1</td>\n",
       "      <td>0</td>\n",
       "      <td>0</td>\n",
       "      <td>0</td>\n",
       "      <td>2</td>\n",
       "      <td>0</td>\n",
       "      <td>1</td>\n",
       "      <td>...</td>\n",
       "      <td>0</td>\n",
       "      <td>0</td>\n",
       "      <td>1</td>\n",
       "      <td>1</td>\n",
       "      <td>1</td>\n",
       "      <td>0</td>\n",
       "      <td>2</td>\n",
       "      <td>0</td>\n",
       "      <td>0</td>\n",
       "      <td>0</td>\n",
       "    </tr>\n",
       "    <tr>\n",
       "      <th>1</th>\n",
       "      <td>1</td>\n",
       "      <td>2</td>\n",
       "      <td>0</td>\n",
       "      <td>1</td>\n",
       "      <td>2</td>\n",
       "      <td>1</td>\n",
       "      <td>2</td>\n",
       "      <td>3</td>\n",
       "      <td>0</td>\n",
       "      <td>0</td>\n",
       "      <td>...</td>\n",
       "      <td>0</td>\n",
       "      <td>0</td>\n",
       "      <td>0</td>\n",
       "      <td>1</td>\n",
       "      <td>0</td>\n",
       "      <td>0</td>\n",
       "      <td>1</td>\n",
       "      <td>0</td>\n",
       "      <td>0</td>\n",
       "      <td>0</td>\n",
       "    </tr>\n",
       "    <tr>\n",
       "      <th>2</th>\n",
       "      <td>0</td>\n",
       "      <td>0</td>\n",
       "      <td>1</td>\n",
       "      <td>1</td>\n",
       "      <td>2</td>\n",
       "      <td>1</td>\n",
       "      <td>2</td>\n",
       "      <td>2</td>\n",
       "      <td>0</td>\n",
       "      <td>0</td>\n",
       "      <td>...</td>\n",
       "      <td>0</td>\n",
       "      <td>0</td>\n",
       "      <td>0</td>\n",
       "      <td>1</td>\n",
       "      <td>1</td>\n",
       "      <td>0</td>\n",
       "      <td>0</td>\n",
       "      <td>0</td>\n",
       "      <td>0</td>\n",
       "      <td>0</td>\n",
       "    </tr>\n",
       "    <tr>\n",
       "      <th>3</th>\n",
       "      <td>0</td>\n",
       "      <td>0</td>\n",
       "      <td>1</td>\n",
       "      <td>0</td>\n",
       "      <td>1</td>\n",
       "      <td>0</td>\n",
       "      <td>0</td>\n",
       "      <td>3</td>\n",
       "      <td>1</td>\n",
       "      <td>1</td>\n",
       "      <td>...</td>\n",
       "      <td>0</td>\n",
       "      <td>0</td>\n",
       "      <td>0</td>\n",
       "      <td>1</td>\n",
       "      <td>1</td>\n",
       "      <td>0</td>\n",
       "      <td>2</td>\n",
       "      <td>0</td>\n",
       "      <td>0</td>\n",
       "      <td>0</td>\n",
       "    </tr>\n",
       "    <tr>\n",
       "      <th>4</th>\n",
       "      <td>0</td>\n",
       "      <td>0</td>\n",
       "      <td>1</td>\n",
       "      <td>1</td>\n",
       "      <td>3</td>\n",
       "      <td>1</td>\n",
       "      <td>0</td>\n",
       "      <td>2</td>\n",
       "      <td>1</td>\n",
       "      <td>1</td>\n",
       "      <td>...</td>\n",
       "      <td>0</td>\n",
       "      <td>0</td>\n",
       "      <td>0</td>\n",
       "      <td>1</td>\n",
       "      <td>1</td>\n",
       "      <td>0</td>\n",
       "      <td>2</td>\n",
       "      <td>0</td>\n",
       "      <td>0</td>\n",
       "      <td>0</td>\n",
       "    </tr>\n",
       "  </tbody>\n",
       "</table>\n",
       "<p>5 rows × 32 columns</p>\n",
       "</div>"
      ],
      "text/plain": [
       "   NGT_IFG_  NGT__PRE  DM_STATU  MS  AGE  GNDR  ETHNICIT  BMI  HOMA  SBP  \\\n",
       "0         0         0         1   1    0     0         0    2     0    1   \n",
       "1         1         2         0   1    2     1         2    3     0    0   \n",
       "2         0         0         1   1    2     1         2    2     0    0   \n",
       "3         0         0         1   0    1     0         0    3     1    1   \n",
       "4         0         0         1   1    3     1         0    2     1    1   \n",
       "\n",
       "     ...     AST_M0  ALT_M0  BILIRRUB  PLATELET  ALBUMIN  TSH  MEAN_FPG  \\\n",
       "0    ...          0       0         1         1        1    0         2   \n",
       "1    ...          0       0         0         1        0    0         1   \n",
       "2    ...          0       0         0         1        1    0         0   \n",
       "3    ...          0       0         0         1        1    0         2   \n",
       "4    ...          0       0         0         1        1    0         2   \n",
       "\n",
       "   NASH_OU2  FIBROSI2  NAFLD_OU  \n",
       "0         0         0         0  \n",
       "1         0         0         0  \n",
       "2         0         0         0  \n",
       "3         0         0         0  \n",
       "4         0         0         0  \n",
       "\n",
       "[5 rows x 32 columns]"
      ]
     },
     "execution_count": 34,
     "metadata": {},
     "output_type": "execute_result"
    }
   ],
   "source": [
    "df1.head()"
   ]
  },
  {
   "cell_type": "markdown",
   "metadata": {},
   "source": [
    "# t-SNE clustering"
   ]
  },
  {
   "cell_type": "code",
   "execution_count": 35,
   "metadata": {
    "ExecuteTime": {
     "end_time": "2019-02-01T16:47:28.129458Z",
     "start_time": "2019-02-01T16:47:25.908158Z"
    }
   },
   "outputs": [],
   "source": [
    "from sklearn.manifold import TSNE\n",
    "import matplotlib.pyplot as plt\n",
    "from sklearn.preprocessing import OneHotEncoder\n",
    "ohe = OneHotEncoder(sparse=False, dtype=int)"
   ]
  },
  {
   "cell_type": "code",
   "execution_count": 36,
   "metadata": {
    "ExecuteTime": {
     "end_time": "2019-02-01T16:47:28.133797Z",
     "start_time": "2019-02-01T16:47:28.131065Z"
    }
   },
   "outputs": [],
   "source": [
    "def train_TSNE(data, dim=2, p=30, ee=12.0, lr=100.0, itr=1000):\n",
    "    return TSNE(n_components=dim, perplexity=p, early_exaggeration=ee, learning_rate=lr, n_iter=itr).fit_transform(np.array(data))"
   ]
  },
  {
   "cell_type": "code",
   "execution_count": 37,
   "metadata": {
    "ExecuteTime": {
     "end_time": "2019-02-01T16:47:28.690397Z",
     "start_time": "2019-02-01T16:47:28.136347Z"
    }
   },
   "outputs": [],
   "source": [
    "import seaborn as sns\n",
    "sns.set_style('darkgrid')\n",
    "sns.set_palette('muted')\n",
    "sns.set_context(\"notebook\", font_scale=1.5, rc={\"lines.linewidth\": 2.5})\n",
    "\n",
    "pred_labels = []\n",
    "for i in range(488):\n",
    "    if i < 342:\n",
    "        pred_labels.append(0)\n",
    "    else:\n",
    "        pred_labels.append(1)\n",
    "\n",
    "palette = np.array(sns.color_palette(\"hls\", 2))"
   ]
  },
  {
   "cell_type": "code",
   "execution_count": 38,
   "metadata": {
    "ExecuteTime": {
     "end_time": "2019-02-01T16:47:31.277560Z",
     "start_time": "2019-02-01T16:47:28.692297Z"
    }
   },
   "outputs": [
    {
     "name": "stderr",
     "output_type": "stream",
     "text": [
      "/Users/alexgre/.pyenv/versions/miniconda3-latest/lib/python3.6/site-packages/sklearn/preprocessing/_encoders.py:368: FutureWarning: The handling of integer data will change in version 0.22. Currently, the categories are determined based on the range [0, max(values)], while in the future they will be determined based on the unique values.\n",
      "If you want the future behaviour and silence this warning, you can specify \"categories='auto'\".\n",
      "In case you used a LabelEncoder before this OneHotEncoder to convert the categories to integers, then you can now use the OneHotEncoder directly.\n",
      "  warnings.warn(msg, FutureWarning)\n"
     ]
    },
    {
     "data": {
      "image/png": "[encoded data removed]",
      "text/plain": [
       "<Figure size 432x288 with 1 Axes>"
      ]
     },
     "metadata": {},
     "output_type": "display_data"
    }
   ],
   "source": [
    "df2 = df1.drop(columns=['NAFLD_OU', 'NASH_OU2', 'FIBROSI2'])\n",
    "df2 = ohe.fit_transform(df2)\n",
    "tp = train_TSNE(df2, 2, 30, 15)\n",
    "# df2.head()\n",
    "x = tp[:, 0]\n",
    "y = tp[:, 1]\n",
    "\n",
    "plt.scatter(x, y, c=palette[pred_labels])\n",
    "plt.show()"
   ]
  },
  {
   "cell_type": "code",
   "execution_count": 39,
   "metadata": {
    "ExecuteTime": {
     "end_time": "2019-02-01T16:47:33.751823Z",
     "start_time": "2019-02-01T16:47:31.279181Z"
    }
   },
   "outputs": [
    {
     "name": "stderr",
     "output_type": "stream",
     "text": [
      "/Users/alexgre/.pyenv/versions/miniconda3-latest/lib/python3.6/site-packages/sklearn/preprocessing/_encoders.py:368: FutureWarning: The handling of integer data will change in version 0.22. Currently, the categories are determined based on the range [0, max(values)], while in the future they will be determined based on the unique values.\n",
      "If you want the future behaviour and silence this warning, you can specify \"categories='auto'\".\n",
      "In case you used a LabelEncoder before this OneHotEncoder to convert the categories to integers, then you can now use the OneHotEncoder directly.\n",
      "  warnings.warn(msg, FutureWarning)\n"
     ]
    },
    {
     "data": {
      "image/png": "[encoded data removed]",
      "text/plain": [
       "<Figure size 432x288 with 1 Axes>"
      ]
     },
     "metadata": {},
     "output_type": "display_data"
    }
   ],
   "source": [
    "df2 = df1.drop(columns=['HOMA', 'NAFLD_OU','NASH_OU2', 'FIBROSI2'])\n",
    "df2 = ohe.fit_transform(df2)\n",
    "tp = train_TSNE(df2, 2, 30, 15)\n",
    "# df2.head()\n",
    "x = tp[:, 0]\n",
    "y = tp[:, 1]\n",
    "\n",
    "plt.scatter(x, y, c=palette[pred_labels])\n",
    "plt.show()"
   ]
  },
  {
   "cell_type": "markdown",
   "metadata": {},
   "source": [
    "# save the processed csv table "
   ]
  },
  {
   "cell_type": "code",
   "execution_count": 40,
   "metadata": {
    "ExecuteTime": {
     "end_time": "2019-02-01T16:47:33.776841Z",
     "start_time": "2019-02-01T16:47:33.753425Z"
    }
   },
   "outputs": [],
   "source": [
    "#save categorized data -> only label encoding\n",
    "df1.to_csv(\"categorized_NAFLD.csv\")"
   ]
  }
 ],
 "metadata": {
  "kernelspec": {
   "display_name": "Python 3",
   "language": "python",
   "name": "python3"
  },
  "language_info": {
   "codemirror_mode": {
    "name": "ipython",
    "version": 3
   },
   "file_extension": ".py",
   "mimetype": "text/x-python",
   "name": "python",
   "nbconvert_exporter": "python",
   "pygments_lexer": "ipython3",
   "version": "3.6.5"
  },
  "toc": {
   "base_numbering": 1,
   "nav_menu": {},
   "number_sections": true,
   "sideBar": true,
   "skip_h1_title": false,
   "title_cell": "Table of Contents",
   "title_sidebar": "Contents",
   "toc_cell": false,
   "toc_position": {},
   "toc_section_display": true,
   "toc_window_display": false
  }
 },
 "nbformat": 4,
 "nbformat_minor": 2
}
