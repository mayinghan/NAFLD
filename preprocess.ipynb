{
 "cells": [
  {
   "cell_type": "code",
   "execution_count": 201,
   "metadata": {
    "ExecuteTime": {
     "end_time": "2019-01-23T13:57:56.854487Z",
     "start_time": "2019-01-23T13:57:56.617704Z"
    }
   },
   "outputs": [],
   "source": [
    "%load_ext autoreload\n",
    "%autoreload 2"
   ]
  },
  {
   "cell_type": "code",
   "execution_count": 1,
   "metadata": {
    "ExecuteTime": {
     "end_time": "2019-01-22T16:38:31.150629Z",
     "start_time": "2019-01-22T16:38:30.928521Z"
    }
   },
   "outputs": [],
   "source": [
    "import pandas as pd\n",
    "import numpy as np\n",
    "import pickle"
   ]
  },
  {
   "cell_type": "code",
   "execution_count": 2,
   "metadata": {
    "ExecuteTime": {
     "end_time": "2019-01-22T16:38:31.593373Z",
     "start_time": "2019-01-22T16:38:31.590035Z"
    }
   },
   "outputs": [],
   "source": [
    "def pkl_process(data=None, file=None, mode=\"dump\"):\n",
    "    f_mode = \"wb\" if mode == \"dump\" else \"rb\"\n",
    "    load_data = None\n",
    "    \n",
    "    with open(file, f_mode) as f:\n",
    "        if mode == \"dump\":\n",
    "            pickle.dump(data, f)\n",
    "        else:\n",
    "            load_data = pickle.load(f)\n",
    "    \n",
    "    return load_data"
   ]
  },
  {
   "cell_type": "markdown",
   "metadata": {},
   "source": [
    "# load data"
   ]
  },
  {
   "cell_type": "code",
   "execution_count": 223,
   "metadata": {
    "ExecuteTime": {
     "end_time": "2019-01-23T14:20:19.097163Z",
     "start_time": "2019-01-23T14:20:19.041103Z"
    }
   },
   "outputs": [
    {
     "data": {
      "text/html": [
       "<div>\n",
       "<style scoped>\n",
       "    .dataframe tbody tr th:only-of-type {\n",
       "        vertical-align: middle;\n",
       "    }\n",
       "\n",
       "    .dataframe tbody tr th {\n",
       "        vertical-align: top;\n",
       "    }\n",
       "\n",
       "    .dataframe thead th {\n",
       "        text-align: right;\n",
       "    }\n",
       "</style>\n",
       "<table border=\"1\" class=\"dataframe\">\n",
       "  <thead>\n",
       "    <tr style=\"text-align: right;\">\n",
       "      <th></th>\n",
       "      <th>STUDY_CO</th>\n",
       "      <th>NGT_IFG_</th>\n",
       "      <th>NGT__PRE</th>\n",
       "      <th>DM_STATU</th>\n",
       "      <th>MS</th>\n",
       "      <th>AGE</th>\n",
       "      <th>GNDR</th>\n",
       "      <th>ETHNICIT</th>\n",
       "      <th>WT__KG_</th>\n",
       "      <th>HEIGHT__</th>\n",
       "      <th>...</th>\n",
       "      <th>BILIRRUB</th>\n",
       "      <th>PLATELET</th>\n",
       "      <th>ALBUMIN</th>\n",
       "      <th>TSH</th>\n",
       "      <th>MEAN_FPG</th>\n",
       "      <th>NASH_OUT</th>\n",
       "      <th>NASH_OU2</th>\n",
       "      <th>FIBROSIS</th>\n",
       "      <th>FIBROSI2</th>\n",
       "      <th>NAFLD_OU</th>\n",
       "    </tr>\n",
       "  </thead>\n",
       "  <tbody>\n",
       "    <tr>\n",
       "      <th>0</th>\n",
       "      <td>4062</td>\n",
       "      <td>DIAB</td>\n",
       "      <td>DIAB</td>\n",
       "      <td>1</td>\n",
       "      <td>NaN</td>\n",
       "      <td>43</td>\n",
       "      <td>0</td>\n",
       "      <td>AA</td>\n",
       "      <td>74.7</td>\n",
       "      <td>160.7</td>\n",
       "      <td>...</td>\n",
       "      <td>NaN</td>\n",
       "      <td>313</td>\n",
       "      <td>4.9</td>\n",
       "      <td>0.8</td>\n",
       "      <td>NaN</td>\n",
       "      <td>NaN</td>\n",
       "      <td>0</td>\n",
       "      <td>NaN</td>\n",
       "      <td>0</td>\n",
       "      <td>0</td>\n",
       "    </tr>\n",
       "    <tr>\n",
       "      <th>1</th>\n",
       "      <td>1108cx</td>\n",
       "      <td>IFG</td>\n",
       "      <td>PreDM</td>\n",
       "      <td>0</td>\n",
       "      <td>1</td>\n",
       "      <td>64</td>\n",
       "      <td>1</td>\n",
       "      <td>Caucasian</td>\n",
       "      <td>124.7</td>\n",
       "      <td>187</td>\n",
       "      <td>...</td>\n",
       "      <td>0.6</td>\n",
       "      <td>257</td>\n",
       "      <td>3.8</td>\n",
       "      <td>2.76</td>\n",
       "      <td>123.5</td>\n",
       "      <td>NaN</td>\n",
       "      <td>0</td>\n",
       "      <td>NaN</td>\n",
       "      <td>0</td>\n",
       "      <td>0</td>\n",
       "    </tr>\n",
       "    <tr>\n",
       "      <th>2</th>\n",
       "      <td>3029</td>\n",
       "      <td>DIAB</td>\n",
       "      <td>DIAB</td>\n",
       "      <td>1</td>\n",
       "      <td>1</td>\n",
       "      <td>61</td>\n",
       "      <td>1</td>\n",
       "      <td>Caucasian</td>\n",
       "      <td>96.7</td>\n",
       "      <td>185.4</td>\n",
       "      <td>...</td>\n",
       "      <td>0.9</td>\n",
       "      <td>289</td>\n",
       "      <td>4.4</td>\n",
       "      <td>1.12</td>\n",
       "      <td>NaN</td>\n",
       "      <td>NaN</td>\n",
       "      <td>0</td>\n",
       "      <td>NaN</td>\n",
       "      <td>0</td>\n",
       "      <td>0</td>\n",
       "    </tr>\n",
       "    <tr>\n",
       "      <th>3</th>\n",
       "      <td>4162</td>\n",
       "      <td>DIAB</td>\n",
       "      <td>DIAB</td>\n",
       "      <td>1</td>\n",
       "      <td>NaN</td>\n",
       "      <td>53</td>\n",
       "      <td>0</td>\n",
       "      <td>AA</td>\n",
       "      <td>81.6</td>\n",
       "      <td>163.8</td>\n",
       "      <td>...</td>\n",
       "      <td>0.2</td>\n",
       "      <td>316</td>\n",
       "      <td>4.4</td>\n",
       "      <td>0.5</td>\n",
       "      <td>133</td>\n",
       "      <td>NaN</td>\n",
       "      <td>0</td>\n",
       "      <td>NaN</td>\n",
       "      <td>0</td>\n",
       "      <td>0</td>\n",
       "    </tr>\n",
       "    <tr>\n",
       "      <th>4</th>\n",
       "      <td>4119</td>\n",
       "      <td>DIAB</td>\n",
       "      <td>DIAB</td>\n",
       "      <td>1</td>\n",
       "      <td>NaN</td>\n",
       "      <td>71</td>\n",
       "      <td>1</td>\n",
       "      <td>AA</td>\n",
       "      <td>92.99</td>\n",
       "      <td>180.3</td>\n",
       "      <td>...</td>\n",
       "      <td>0.5</td>\n",
       "      <td>174</td>\n",
       "      <td>4.4</td>\n",
       "      <td>2.53</td>\n",
       "      <td>133</td>\n",
       "      <td>NaN</td>\n",
       "      <td>0</td>\n",
       "      <td>NaN</td>\n",
       "      <td>0</td>\n",
       "      <td>0</td>\n",
       "    </tr>\n",
       "  </tbody>\n",
       "</table>\n",
       "<p>5 rows × 38 columns</p>\n",
       "</div>"
      ],
      "text/plain": [
       "  STUDY_CO NGT_IFG_ NGT__PRE DM_STATU   MS AGE GNDR   ETHNICIT WT__KG_  \\\n",
       "0     4062     DIAB     DIAB        1  NaN  43    0         AA    74.7   \n",
       "1   1108cx      IFG    PreDM        0    1  64    1  Caucasian   124.7   \n",
       "2     3029     DIAB     DIAB        1    1  61    1  Caucasian    96.7   \n",
       "3     4162     DIAB     DIAB        1  NaN  53    0         AA    81.6   \n",
       "4     4119     DIAB     DIAB        1  NaN  71    1         AA   92.99   \n",
       "\n",
       "  HEIGHT__   ...    BILIRRUB PLATELET ALBUMIN   TSH MEAN_FPG NASH_OUT  \\\n",
       "0    160.7   ...         NaN      313     4.9   0.8      NaN      NaN   \n",
       "1      187   ...         0.6      257     3.8  2.76    123.5      NaN   \n",
       "2    185.4   ...         0.9      289     4.4  1.12      NaN      NaN   \n",
       "3    163.8   ...         0.2      316     4.4   0.5      133      NaN   \n",
       "4    180.3   ...         0.5      174     4.4  2.53      133      NaN   \n",
       "\n",
       "  NASH_OU2 FIBROSIS FIBROSI2 NAFLD_OU  \n",
       "0        0      NaN        0        0  \n",
       "1        0      NaN        0        0  \n",
       "2        0      NaN        0        0  \n",
       "3        0      NaN        0        0  \n",
       "4        0      NaN        0        0  \n",
       "\n",
       "[5 rows x 38 columns]"
      ]
     },
     "execution_count": 223,
     "metadata": {},
     "output_type": "execute_result"
    }
   ],
   "source": [
    "nafld_file = \"NAFLD.csv\"\n",
    "df = pd.read_csv(nafld_file, dtype=str)\n",
    "df.head(5)"
   ]
  },
  {
   "cell_type": "code",
   "execution_count": 6,
   "metadata": {
    "ExecuteTime": {
     "end_time": "2019-01-22T16:40:28.196253Z",
     "start_time": "2019-01-22T16:40:28.190334Z"
    },
    "scrolled": true
   },
   "outputs": [
    {
     "data": {
      "text/plain": [
       "STUDY_CO      0\n",
       "NGT_IFG_      5\n",
       "NGT__PRE      2\n",
       "DM_STATU      1\n",
       "MS          167\n",
       "AGE           1\n",
       "GNDR          1\n",
       "ETHNICIT      2\n",
       "WT__KG_       1\n",
       "HEIGHT__      1\n",
       "BMI           1\n",
       "BODY_SUR      1\n",
       "HOMA         51\n",
       "SBP          27\n",
       "DBP          27\n",
       "ON_BP_ME     83\n",
       "CHOL          3\n",
       "TG            3\n",
       "LDL          19\n",
       "HDL           3\n",
       "DYSLIPID     64\n",
       "ON_STATI     66\n",
       "COMBINAT     69\n",
       "A1C           5\n",
       "ON_METFO     79\n",
       "ON_SU        83\n",
       "AST_M0        3\n",
       "ALT_M0        3\n",
       "BILIRRUB     94\n",
       "PLATELET     57\n",
       "ALBUMIN      76\n",
       "TSH          99\n",
       "MEAN_FPG     30\n",
       "NASH_OUT    137\n",
       "NASH_OU2      0\n",
       "FIBROSIS    137\n",
       "FIBROSI2      0\n",
       "NAFLD_OU      4\n",
       "dtype: int64"
      ]
     },
     "execution_count": 6,
     "metadata": {},
     "output_type": "execute_result"
    }
   ],
   "source": [
    "df.isnull().sum()"
   ]
  },
  {
   "cell_type": "code",
   "execution_count": 84,
   "metadata": {
    "ExecuteTime": {
     "end_time": "2019-01-22T22:13:53.269402Z",
     "start_time": "2019-01-22T22:13:53.261672Z"
    }
   },
   "outputs": [
    {
     "data": {
      "text/plain": [
       "(342, 149, 491, 4)"
      ]
     },
     "execution_count": 84,
     "metadata": {},
     "output_type": "execute_result"
    }
   ],
   "source": [
    "len(df[df['NAFLD_OU'] == '1']), len(df[df['NAFLD_OU'] == '0']), len(df[df['NAFLD_OU'].notna()]), len(df[df['NAFLD_OU'].isna()])"
   ]
  },
  {
   "cell_type": "code",
   "execution_count": 87,
   "metadata": {
    "ExecuteTime": {
     "end_time": "2019-01-22T22:15:21.829454Z",
     "start_time": "2019-01-22T22:15:21.825289Z"
    }
   },
   "outputs": [],
   "source": [
    "'''\n",
    "outcome must be defined\n",
    "we drop the data with undefined outcomes (n=4)\n",
    "'''\n",
    "\n",
    "df = df[df['NAFLD_OU'].notna()]"
   ]
  },
  {
   "cell_type": "code",
   "execution_count": 224,
   "metadata": {
    "ExecuteTime": {
     "end_time": "2019-01-23T14:20:46.421292Z",
     "start_time": "2019-01-23T14:20:46.391581Z"
    }
   },
   "outputs": [
    {
     "name": "stdout",
     "output_type": "stream",
     "text": [
      "\n",
      "first check how many nan for each patient, if some of the key nan is missing, then we can discard the data point\n",
      "\n",
      "remove columns: 'NASH_OUT', 'FIBROSIS', 'WT__KG_', 'HEIGHT__', 'STUDY_CO', 'BODY_SUR'\n",
      "\n",
      "criteria:\n",
      "if more than 10 fields are nan\n",
      "\n"
     ]
    }
   ],
   "source": [
    "miss_threshold = 10\n",
    "print(f'''\n",
    "first check how many nan for each patient, if some of the key nan is missing, then we can discard the data point\n",
    "\n",
    "remove columns: 'NASH_OUT', 'FIBROSIS', 'WT__KG_', 'HEIGHT__', 'STUDY_CO', 'BODY_SUR'\n",
    "\n",
    "criteria:\n",
    "if more than {miss_threshold} fields are nan\n",
    "''')"
   ]
  },
  {
   "cell_type": "code",
   "execution_count": null,
   "metadata": {},
   "outputs": [],
   "source": [
    "#remove columns\n",
    "remove_cols = {'NASH_OUT', 'FIBROSIS', 'WT__KG_', 'HEIGHT__', 'STUDY_CO', 'BODY_SUR'}\n",
    "for each in remove_cols:\n",
    "    del df[each]"
   ]
  },
  {
   "cell_type": "code",
   "execution_count": 11,
   "metadata": {
    "ExecuteTime": {
     "end_time": "2019-01-22T16:46:22.681279Z",
     "start_time": "2019-01-22T16:46:22.656353Z"
    }
   },
   "outputs": [
    {
     "data": {
      "text/html": [
       "<div>\n",
       "<style scoped>\n",
       "    .dataframe tbody tr th:only-of-type {\n",
       "        vertical-align: middle;\n",
       "    }\n",
       "\n",
       "    .dataframe tbody tr th {\n",
       "        vertical-align: top;\n",
       "    }\n",
       "\n",
       "    .dataframe thead th {\n",
       "        text-align: right;\n",
       "    }\n",
       "</style>\n",
       "<table border=\"1\" class=\"dataframe\">\n",
       "  <thead>\n",
       "    <tr style=\"text-align: right;\">\n",
       "      <th></th>\n",
       "      <th>NGT_IFG_</th>\n",
       "      <th>NGT__PRE</th>\n",
       "      <th>DM_STATU</th>\n",
       "      <th>MS</th>\n",
       "      <th>AGE</th>\n",
       "      <th>GNDR</th>\n",
       "      <th>ETHNICIT</th>\n",
       "      <th>BMI</th>\n",
       "      <th>HOMA</th>\n",
       "      <th>SBP</th>\n",
       "      <th>...</th>\n",
       "      <th>AST_M0</th>\n",
       "      <th>ALT_M0</th>\n",
       "      <th>BILIRRUB</th>\n",
       "      <th>PLATELET</th>\n",
       "      <th>ALBUMIN</th>\n",
       "      <th>TSH</th>\n",
       "      <th>MEAN_FPG</th>\n",
       "      <th>NASH_OU2</th>\n",
       "      <th>FIBROSI2</th>\n",
       "      <th>NAFLD_OU</th>\n",
       "    </tr>\n",
       "  </thead>\n",
       "  <tbody>\n",
       "    <tr>\n",
       "      <th>0</th>\n",
       "      <td>DIAB</td>\n",
       "      <td>DIAB</td>\n",
       "      <td>1</td>\n",
       "      <td>NaN</td>\n",
       "      <td>43</td>\n",
       "      <td>0</td>\n",
       "      <td>AA</td>\n",
       "      <td>28.92603107</td>\n",
       "      <td>NaN</td>\n",
       "      <td>139</td>\n",
       "      <td>...</td>\n",
       "      <td>14</td>\n",
       "      <td>11</td>\n",
       "      <td>NaN</td>\n",
       "      <td>313</td>\n",
       "      <td>4.9</td>\n",
       "      <td>0.8</td>\n",
       "      <td>NaN</td>\n",
       "      <td>0</td>\n",
       "      <td>0</td>\n",
       "      <td>0</td>\n",
       "    </tr>\n",
       "    <tr>\n",
       "      <th>1</th>\n",
       "      <td>IFG</td>\n",
       "      <td>PreDM</td>\n",
       "      <td>0</td>\n",
       "      <td>1</td>\n",
       "      <td>64</td>\n",
       "      <td>1</td>\n",
       "      <td>Caucasian</td>\n",
       "      <td>35.66015614</td>\n",
       "      <td>1.993350988</td>\n",
       "      <td>126</td>\n",
       "      <td>...</td>\n",
       "      <td>36</td>\n",
       "      <td>28</td>\n",
       "      <td>0.6</td>\n",
       "      <td>257</td>\n",
       "      <td>3.8</td>\n",
       "      <td>2.76</td>\n",
       "      <td>123.5</td>\n",
       "      <td>0</td>\n",
       "      <td>0</td>\n",
       "      <td>0</td>\n",
       "    </tr>\n",
       "    <tr>\n",
       "      <th>2</th>\n",
       "      <td>DIAB</td>\n",
       "      <td>DIAB</td>\n",
       "      <td>1</td>\n",
       "      <td>1</td>\n",
       "      <td>61</td>\n",
       "      <td>1</td>\n",
       "      <td>Caucasian</td>\n",
       "      <td>28.13241494</td>\n",
       "      <td>NaN</td>\n",
       "      <td>104</td>\n",
       "      <td>...</td>\n",
       "      <td>14</td>\n",
       "      <td>15</td>\n",
       "      <td>0.9</td>\n",
       "      <td>289</td>\n",
       "      <td>4.4</td>\n",
       "      <td>1.12</td>\n",
       "      <td>NaN</td>\n",
       "      <td>0</td>\n",
       "      <td>0</td>\n",
       "      <td>0</td>\n",
       "    </tr>\n",
       "    <tr>\n",
       "      <th>3</th>\n",
       "      <td>DIAB</td>\n",
       "      <td>DIAB</td>\n",
       "      <td>1</td>\n",
       "      <td>NaN</td>\n",
       "      <td>53</td>\n",
       "      <td>0</td>\n",
       "      <td>AA</td>\n",
       "      <td>30.41321723</td>\n",
       "      <td>3.283950617</td>\n",
       "      <td>157</td>\n",
       "      <td>...</td>\n",
       "      <td>20</td>\n",
       "      <td>23</td>\n",
       "      <td>0.2</td>\n",
       "      <td>316</td>\n",
       "      <td>4.4</td>\n",
       "      <td>0.5</td>\n",
       "      <td>133</td>\n",
       "      <td>0</td>\n",
       "      <td>0</td>\n",
       "      <td>0</td>\n",
       "    </tr>\n",
       "    <tr>\n",
       "      <th>4</th>\n",
       "      <td>DIAB</td>\n",
       "      <td>DIAB</td>\n",
       "      <td>1</td>\n",
       "      <td>NaN</td>\n",
       "      <td>71</td>\n",
       "      <td>1</td>\n",
       "      <td>AA</td>\n",
       "      <td>28.6051872</td>\n",
       "      <td>2.955555556</td>\n",
       "      <td>143</td>\n",
       "      <td>...</td>\n",
       "      <td>20</td>\n",
       "      <td>21</td>\n",
       "      <td>0.5</td>\n",
       "      <td>174</td>\n",
       "      <td>4.4</td>\n",
       "      <td>2.53</td>\n",
       "      <td>133</td>\n",
       "      <td>0</td>\n",
       "      <td>0</td>\n",
       "      <td>0</td>\n",
       "    </tr>\n",
       "  </tbody>\n",
       "</table>\n",
       "<p>5 rows × 32 columns</p>\n",
       "</div>"
      ],
      "text/plain": [
       "  NGT_IFG_ NGT__PRE DM_STATU   MS AGE GNDR   ETHNICIT          BMI  \\\n",
       "0     DIAB     DIAB        1  NaN  43    0         AA  28.92603107   \n",
       "1      IFG    PreDM        0    1  64    1  Caucasian  35.66015614   \n",
       "2     DIAB     DIAB        1    1  61    1  Caucasian  28.13241494   \n",
       "3     DIAB     DIAB        1  NaN  53    0         AA  30.41321723   \n",
       "4     DIAB     DIAB        1  NaN  71    1         AA   28.6051872   \n",
       "\n",
       "          HOMA  SBP   ...    AST_M0 ALT_M0 BILIRRUB PLATELET ALBUMIN   TSH  \\\n",
       "0          NaN  139   ...        14     11      NaN      313     4.9   0.8   \n",
       "1  1.993350988  126   ...        36     28      0.6      257     3.8  2.76   \n",
       "2          NaN  104   ...        14     15      0.9      289     4.4  1.12   \n",
       "3  3.283950617  157   ...        20     23      0.2      316     4.4   0.5   \n",
       "4  2.955555556  143   ...        20     21      0.5      174     4.4  2.53   \n",
       "\n",
       "  MEAN_FPG NASH_OU2 FIBROSI2 NAFLD_OU  \n",
       "0      NaN        0        0        0  \n",
       "1    123.5        0        0        0  \n",
       "2      NaN        0        0        0  \n",
       "3      133        0        0        0  \n",
       "4      133        0        0        0  \n",
       "\n",
       "[5 rows x 32 columns]"
      ]
     },
     "execution_count": 11,
     "metadata": {},
     "output_type": "execute_result"
    }
   ],
   "source": [
    "df.head()"
   ]
  },
  {
   "cell_type": "code",
   "execution_count": 111,
   "metadata": {
    "ExecuteTime": {
     "end_time": "2019-01-22T22:38:57.610637Z",
     "start_time": "2019-01-22T22:38:57.590035Z"
    }
   },
   "outputs": [
    {
     "name": "stdout",
     "output_type": "stream",
     "text": [
      "using missing threshold:  10 filtered # of data:  0 total # of data:  433\n"
     ]
    },
    {
     "data": {
      "text/plain": [
       "433"
      ]
     },
     "execution_count": 111,
     "metadata": {},
     "output_type": "execute_result"
    }
   ],
   "source": [
    "def count_nan(row):\n",
    "    c = 0\n",
    "    for each in row:\n",
    "        if each is np.nan:\n",
    "            c += 1\n",
    "    if c >= miss_threshold:\n",
    "        return 1\n",
    "    return 0\n",
    "\n",
    "df['mc'] = df.apply(count_nan, axis=1)\n",
    "print(\"using missing threshold: \", miss_threshold, \"filtered # of data: \", len(df[df['mc'] == 1]), \"total # of data: \", len(df))\n",
    "df = df[df['mc'] == 0]\n",
    "df = df.drop(columns='mc')\n",
    "len(df)"
   ]
  },
  {
   "cell_type": "code",
   "execution_count": 112,
   "metadata": {
    "ExecuteTime": {
     "end_time": "2019-01-22T22:38:59.692994Z",
     "start_time": "2019-01-22T22:38:59.687053Z"
    }
   },
   "outputs": [
    {
     "data": {
      "text/plain": [
       "(288, 145)"
      ]
     },
     "execution_count": 112,
     "metadata": {},
     "output_type": "execute_result"
    }
   ],
   "source": [
    "len(df[df['NAFLD_OU'] == '1']), len(df[df['NAFLD_OU'] == '0'])"
   ]
  },
  {
   "cell_type": "markdown",
   "metadata": {},
   "source": [
    "# replace nan value"
   ]
  },
  {
   "cell_type": "code",
   "execution_count": 114,
   "metadata": {
    "ExecuteTime": {
     "end_time": "2019-01-22T22:39:18.255688Z",
     "start_time": "2019-01-22T22:39:18.252953Z"
    }
   },
   "outputs": [],
   "source": [
    "from collections import defaultdict"
   ]
  },
  {
   "cell_type": "code",
   "execution_count": 115,
   "metadata": {
    "ExecuteTime": {
     "end_time": "2019-01-22T22:39:18.860004Z",
     "start_time": "2019-01-22T22:39:18.829194Z"
    }
   },
   "outputs": [],
   "source": [
    "#collect unique values for each column\n",
    "unique_values_dict = {'1':defaultdict(set), '0':defaultdict(set)}\n",
    "\n",
    "def f1(row):\n",
    "    label = row['NAFLD_OU']\n",
    "    for k, v in row.items():\n",
    "        if v is not np.nan:\n",
    "            unique_values_dict[label][k].add(v)\n",
    "\n",
    "x=df.apply(f1, axis=1)"
   ]
  },
  {
   "cell_type": "code",
   "execution_count": 116,
   "metadata": {
    "ExecuteTime": {
     "end_time": "2019-01-22T22:39:19.330029Z",
     "start_time": "2019-01-22T22:39:19.316299Z"
    }
   },
   "outputs": [],
   "source": [
    "pkl_process(unique_values_dict, \"unique_value_dict.pkl\")"
   ]
  },
  {
   "cell_type": "code",
   "execution_count": 117,
   "metadata": {
    "ExecuteTime": {
     "end_time": "2019-01-22T22:39:19.792714Z",
     "start_time": "2019-01-22T22:39:19.788792Z"
    }
   },
   "outputs": [],
   "source": [
    "unique_values_dict = pkl_process(None, \"unique_value_dict.pkl\", 'load')"
   ]
  },
  {
   "cell_type": "code",
   "execution_count": 118,
   "metadata": {
    "ExecuteTime": {
     "end_time": "2019-01-22T22:39:20.270996Z",
     "start_time": "2019-01-22T22:39:20.268675Z"
    }
   },
   "outputs": [],
   "source": [
    "import random"
   ]
  },
  {
   "cell_type": "code",
   "execution_count": 172,
   "metadata": {
    "ExecuteTime": {
     "end_time": "2019-01-23T13:40:31.942628Z",
     "start_time": "2019-01-23T13:40:31.939464Z"
    }
   },
   "outputs": [],
   "source": [
    "df1 = pd.DataFrame()"
   ]
  },
  {
   "cell_type": "code",
   "execution_count": 173,
   "metadata": {
    "ExecuteTime": {
     "end_time": "2019-01-23T13:40:32.586410Z",
     "start_time": "2019-01-23T13:40:32.521211Z"
    }
   },
   "outputs": [],
   "source": [
    "'''\n",
    "fill nan\n",
    "methods:\n",
    "1. random picked from same column (must from same outcome) (first tested)\n",
    "2. median of the column\n",
    "3. average of the column\n",
    "4. cloest case based on all physical factors\n",
    "'''\n",
    "\n",
    "def f2(row):\n",
    "    label = row['NAFLD_OU']\n",
    "    for k, v in row.items():\n",
    "        if v is np.nan:\n",
    "            row[k] = random.choice(list(unique_values_dict[label][k]))\n",
    "    return row\n",
    "\n",
    "df1 = df1.append(df.apply(f2, axis=1))"
   ]
  },
  {
   "cell_type": "code",
   "execution_count": 222,
   "metadata": {
    "ExecuteTime": {
     "end_time": "2019-01-23T14:20:10.952261Z",
     "start_time": "2019-01-23T14:20:10.911217Z"
    }
   },
   "outputs": [
    {
     "data": {
      "text/html": [
       "<div>\n",
       "<style scoped>\n",
       "    .dataframe tbody tr th:only-of-type {\n",
       "        vertical-align: middle;\n",
       "    }\n",
       "\n",
       "    .dataframe tbody tr th {\n",
       "        vertical-align: top;\n",
       "    }\n",
       "\n",
       "    .dataframe thead th {\n",
       "        text-align: right;\n",
       "    }\n",
       "</style>\n",
       "<table border=\"1\" class=\"dataframe\">\n",
       "  <thead>\n",
       "    <tr style=\"text-align: right;\">\n",
       "      <th></th>\n",
       "      <th>NGT_IFG_</th>\n",
       "      <th>NGT__PRE</th>\n",
       "      <th>DM_STATU</th>\n",
       "      <th>MS</th>\n",
       "      <th>AGE</th>\n",
       "      <th>GNDR</th>\n",
       "      <th>ETHNICIT</th>\n",
       "      <th>BMI</th>\n",
       "      <th>HOMA</th>\n",
       "      <th>SBP</th>\n",
       "      <th>...</th>\n",
       "      <th>AST_M0</th>\n",
       "      <th>ALT_M0</th>\n",
       "      <th>BILIRRUB</th>\n",
       "      <th>PLATELET</th>\n",
       "      <th>ALBUMIN</th>\n",
       "      <th>TSH</th>\n",
       "      <th>MEAN_FPG</th>\n",
       "      <th>NASH_OU2</th>\n",
       "      <th>FIBROSI2</th>\n",
       "      <th>NAFLD_OU</th>\n",
       "    </tr>\n",
       "  </thead>\n",
       "  <tbody>\n",
       "    <tr>\n",
       "      <th>0</th>\n",
       "      <td>0</td>\n",
       "      <td>0</td>\n",
       "      <td>1</td>\n",
       "      <td>0</td>\n",
       "      <td>0</td>\n",
       "      <td>0</td>\n",
       "      <td>0</td>\n",
       "      <td>2</td>\n",
       "      <td>265</td>\n",
       "      <td>1</td>\n",
       "      <td>...</td>\n",
       "      <td>0</td>\n",
       "      <td>0</td>\n",
       "      <td>0</td>\n",
       "      <td>1</td>\n",
       "      <td>1</td>\n",
       "      <td>0</td>\n",
       "      <td>2</td>\n",
       "      <td>0</td>\n",
       "      <td>0</td>\n",
       "      <td>0</td>\n",
       "    </tr>\n",
       "    <tr>\n",
       "      <th>1</th>\n",
       "      <td>1</td>\n",
       "      <td>2</td>\n",
       "      <td>0</td>\n",
       "      <td>1</td>\n",
       "      <td>2</td>\n",
       "      <td>1</td>\n",
       "      <td>2</td>\n",
       "      <td>3</td>\n",
       "      <td>124</td>\n",
       "      <td>0</td>\n",
       "      <td>...</td>\n",
       "      <td>0</td>\n",
       "      <td>0</td>\n",
       "      <td>0</td>\n",
       "      <td>1</td>\n",
       "      <td>0</td>\n",
       "      <td>0</td>\n",
       "      <td>1</td>\n",
       "      <td>0</td>\n",
       "      <td>0</td>\n",
       "      <td>0</td>\n",
       "    </tr>\n",
       "    <tr>\n",
       "      <th>2</th>\n",
       "      <td>0</td>\n",
       "      <td>0</td>\n",
       "      <td>1</td>\n",
       "      <td>1</td>\n",
       "      <td>2</td>\n",
       "      <td>1</td>\n",
       "      <td>2</td>\n",
       "      <td>2</td>\n",
       "      <td>236</td>\n",
       "      <td>0</td>\n",
       "      <td>...</td>\n",
       "      <td>0</td>\n",
       "      <td>0</td>\n",
       "      <td>0</td>\n",
       "      <td>1</td>\n",
       "      <td>1</td>\n",
       "      <td>0</td>\n",
       "      <td>2</td>\n",
       "      <td>0</td>\n",
       "      <td>0</td>\n",
       "      <td>0</td>\n",
       "    </tr>\n",
       "    <tr>\n",
       "      <th>3</th>\n",
       "      <td>0</td>\n",
       "      <td>0</td>\n",
       "      <td>1</td>\n",
       "      <td>1</td>\n",
       "      <td>1</td>\n",
       "      <td>0</td>\n",
       "      <td>0</td>\n",
       "      <td>3</td>\n",
       "      <td>243</td>\n",
       "      <td>1</td>\n",
       "      <td>...</td>\n",
       "      <td>0</td>\n",
       "      <td>0</td>\n",
       "      <td>0</td>\n",
       "      <td>1</td>\n",
       "      <td>1</td>\n",
       "      <td>0</td>\n",
       "      <td>2</td>\n",
       "      <td>0</td>\n",
       "      <td>0</td>\n",
       "      <td>0</td>\n",
       "    </tr>\n",
       "    <tr>\n",
       "      <th>4</th>\n",
       "      <td>0</td>\n",
       "      <td>0</td>\n",
       "      <td>1</td>\n",
       "      <td>1</td>\n",
       "      <td>3</td>\n",
       "      <td>1</td>\n",
       "      <td>0</td>\n",
       "      <td>2</td>\n",
       "      <td>216</td>\n",
       "      <td>1</td>\n",
       "      <td>...</td>\n",
       "      <td>0</td>\n",
       "      <td>0</td>\n",
       "      <td>0</td>\n",
       "      <td>1</td>\n",
       "      <td>1</td>\n",
       "      <td>0</td>\n",
       "      <td>2</td>\n",
       "      <td>0</td>\n",
       "      <td>0</td>\n",
       "      <td>0</td>\n",
       "    </tr>\n",
       "  </tbody>\n",
       "</table>\n",
       "<p>5 rows × 32 columns</p>\n",
       "</div>"
      ],
      "text/plain": [
       "   NGT_IFG_  NGT__PRE  DM_STATU  MS  AGE  GNDR  ETHNICIT  BMI  HOMA  SBP  \\\n",
       "0         0         0         1   0    0     0         0    2   265    1   \n",
       "1         1         2         0   1    2     1         2    3   124    0   \n",
       "2         0         0         1   1    2     1         2    2   236    0   \n",
       "3         0         0         1   1    1     0         0    3   243    1   \n",
       "4         0         0         1   1    3     1         0    2   216    1   \n",
       "\n",
       "     ...     AST_M0  ALT_M0  BILIRRUB  PLATELET  ALBUMIN  TSH  MEAN_FPG  \\\n",
       "0    ...          0       0         0         1        1    0         2   \n",
       "1    ...          0       0         0         1        0    0         1   \n",
       "2    ...          0       0         0         1        1    0         2   \n",
       "3    ...          0       0         0         1        1    0         2   \n",
       "4    ...          0       0         0         1        1    0         2   \n",
       "\n",
       "   NASH_OU2  FIBROSI2  NAFLD_OU  \n",
       "0         0         0         0  \n",
       "1         0         0         0  \n",
       "2         0         0         0  \n",
       "3         0         0         0  \n",
       "4         0         0         0  \n",
       "\n",
       "[5 rows x 32 columns]"
      ]
     },
     "execution_count": 222,
     "metadata": {},
     "output_type": "execute_result"
    }
   ],
   "source": [
    "df1.head()"
   ]
  },
  {
   "cell_type": "markdown",
   "metadata": {},
   "source": [
    "# convert continous data to categorical data"
   ]
  },
  {
   "cell_type": "code",
   "execution_count": 185,
   "metadata": {
    "ExecuteTime": {
     "end_time": "2019-01-23T13:51:09.758599Z",
     "start_time": "2019-01-23T13:51:09.739325Z"
    }
   },
   "outputs": [],
   "source": [
    "#defined range split\n",
    "'''\n",
    "criteria:\n",
    "ngt_ifg_: NGT=normal glucose tolerance; IFG: impaired fasting glucose; IGT: impaired glucose tolerance; DIAB: T2DM\n",
    "ngt__pre: NGT=normal glucose tolerance; PreDM: prediabetes; DIAB: T2DM\n",
    "dm_statu: diabetes status 1=yes 0=no\n",
    "ms: metabolic syndrome 1=yes 0=no\n",
    "dyslipid: dyslipidemia 1=yes 0=no\n",
    "on_stati: use of statins 1=yes 0=no\n",
    "combinat: use of fibrates, niacin or omega-3 1=yes 0=no\n",
    "on_metfo: use of metformin 1=yes 0=no\n",
    "on_su: use of sulfonylureas 1=yes 0=no\n",
    "gndr: 1=male 0=female\n",
    "\n",
    "ageI would try >50, >60, >70\n",
    "ethnicit Not continuous\n",
    "bmi\n",
    "body_sur: body surface (I would remove this variable as it will not be available in epic to then extrapolate the model)\n",
    "homa (I would remove this variable as it will not be available in epic to then extrapolate the model)\n",
    "sbp: systolic blood pressure >130 or >140 (try 130 first)\n",
    "dbp: diastolic: >80 or >90 (try 80 first)\n",
    "on_bp_me: use of BP meds (1= yes 0=no) Not continuous\n",
    "chol: total cholesterol: >200\n",
    "tg: triglycerides: >150\n",
    "ldl: >100, >130, >160\n",
    "hdl: <40 for males and <50 for females\n",
    "a1c: We can try >=5.7%, >=6.0%, >=6.5%, or >=7.0  (using <5.7, 5.7-6.5, >6.5)\n",
    "\n",
    "ast_m0: AST. Use >=40\n",
    "alt_m0: ALT. Use >=40, You can also try with >=30 for male and >=19 for female\n",
    "bilirrub: maybe >=1 (all patients may have lower results than this).\n",
    "platelet: We can try >=100 or >=150\n",
    "albumin: >=4\n",
    "tsh:>=4\n",
    "mean_fpg: fasting plasma glucose. We can try >=100, >=126, or >=150\n",
    "'''\n",
    "#create config json cat -> categorical; ex -> exclude variable; [1,2] define 3 ranges as (, 1] & (1, 2] & (2, ) \n",
    "# same variable is gender depended using dictionary -> {1:[] #male, 0:[]#female}\n",
    "# 'outcome' identify this is the predictor\n",
    "conf = {\n",
    " 'NGT_IFG_': 'cat',\n",
    " 'NGT__PRE': 'cat',\n",
    " 'DM_STATU': 'cat',\n",
    " 'MS': 'cat',\n",
    " 'AGE': [50.0, 60.0, 70.0],\n",
    " 'GNDR': 'cat',\n",
    " 'ETHNICIT': 'cat',\n",
    " 'BMI': [18.5, 24.9, 29.9],\n",
    " 'HOMA': [],\n",
    " 'SBP': [130.0],\n",
    " 'DBP': [80.0],\n",
    " 'ON_BP_ME': 'cat',\n",
    " 'CHOL': [200.0],\n",
    " 'TG': [150.0],\n",
    " 'LDL': [100.0, 130.0, 160.0],\n",
    " 'HDL': {'1':[40.0], '0':[50.0]},\n",
    " 'DYSLIPID': 'cat',\n",
    " 'ON_STATI': 'cat',\n",
    " 'COMBINAT': 'cat',\n",
    " 'A1C': [5.7, 6.5],\n",
    " 'ON_METFO': 'cat',\n",
    " 'ON_SU': 'cat',\n",
    " 'AST_M0': [40.0],\n",
    " 'ALT_M0': [40.0],\n",
    " 'BILIRRUB': [1.0],\n",
    " 'PLATELET': [150.0],\n",
    " 'ALBUMIN': [4.0],\n",
    " 'TSH': [4.0],\n",
    " 'MEAN_FPG': [100.0, 125.0],\n",
    " 'NAFLD_OU': 'outcome',\n",
    " 'NASH_OU2':'outcome',\n",
    " 'FIBROSI2': 'outcome'}"
   ]
  },
  {
   "cell_type": "code",
   "execution_count": 186,
   "metadata": {
    "ExecuteTime": {
     "end_time": "2019-01-23T13:51:14.143864Z",
     "start_time": "2019-01-23T13:51:14.139289Z"
    }
   },
   "outputs": [],
   "source": [
    "def cat2idx(data:float, bound:list, g:str) -> int:\n",
    "    idx = 0\n",
    "    if isinstance(bound, list):\n",
    "        bound = bound\n",
    "    elif isinstance(bound, dict):\n",
    "        bound = bound[g]\n",
    "    while idx < len(bound) and data > bound[idx]:\n",
    "        idx += 1\n",
    "    return idx\n",
    "\n",
    "def float2cat(col, col_name, genders):\n",
    "    n_col = []\n",
    "    for i, each in enumerate(col):\n",
    "        g = genders[i]\n",
    "        n_col.append(cat2idx(float(each), conf[col_name], g))\n",
    "    return np.array(n_col)"
   ]
  },
  {
   "cell_type": "code",
   "execution_count": 187,
   "metadata": {
    "ExecuteTime": {
     "end_time": "2019-01-23T13:51:17.197443Z",
     "start_time": "2019-01-23T13:51:17.194390Z"
    }
   },
   "outputs": [],
   "source": [
    "import copy\n",
    "generders = list(copy.deepcopy(df1['GNDR']))"
   ]
  },
  {
   "cell_type": "code",
   "execution_count": 188,
   "metadata": {
    "ExecuteTime": {
     "end_time": "2019-01-23T13:51:17.795713Z",
     "start_time": "2019-01-23T13:51:17.793124Z"
    }
   },
   "outputs": [],
   "source": [
    "from sklearn.preprocessing import LabelEncoder\n",
    "def cat2cat(col):\n",
    "    le = LabelEncoder()\n",
    "    return le.fit_transform(col)"
   ]
  },
  {
   "cell_type": "code",
   "execution_count": 189,
   "metadata": {
    "ExecuteTime": {
     "end_time": "2019-01-23T13:51:18.315606Z",
     "start_time": "2019-01-23T13:51:18.289202Z"
    }
   },
   "outputs": [],
   "source": [
    "for k, v in conf.items():\n",
    "    if not(isinstance(v, list) or isinstance(v, dict)):\n",
    "        df1[k] = cat2cat(df1[k])\n",
    "    else:\n",
    "        df1[k] = float2cat(df1[k], k, generders)"
   ]
  },
  {
   "cell_type": "code",
   "execution_count": 190,
   "metadata": {
    "ExecuteTime": {
     "end_time": "2019-01-23T13:51:18.836360Z",
     "start_time": "2019-01-23T13:51:18.818684Z"
    }
   },
   "outputs": [
    {
     "data": {
      "text/html": [
       "<div>\n",
       "<style scoped>\n",
       "    .dataframe tbody tr th:only-of-type {\n",
       "        vertical-align: middle;\n",
       "    }\n",
       "\n",
       "    .dataframe tbody tr th {\n",
       "        vertical-align: top;\n",
       "    }\n",
       "\n",
       "    .dataframe thead th {\n",
       "        text-align: right;\n",
       "    }\n",
       "</style>\n",
       "<table border=\"1\" class=\"dataframe\">\n",
       "  <thead>\n",
       "    <tr style=\"text-align: right;\">\n",
       "      <th></th>\n",
       "      <th>NGT_IFG_</th>\n",
       "      <th>NGT__PRE</th>\n",
       "      <th>DM_STATU</th>\n",
       "      <th>MS</th>\n",
       "      <th>AGE</th>\n",
       "      <th>GNDR</th>\n",
       "      <th>ETHNICIT</th>\n",
       "      <th>BMI</th>\n",
       "      <th>HOMA</th>\n",
       "      <th>SBP</th>\n",
       "      <th>...</th>\n",
       "      <th>AST_M0</th>\n",
       "      <th>ALT_M0</th>\n",
       "      <th>BILIRRUB</th>\n",
       "      <th>PLATELET</th>\n",
       "      <th>ALBUMIN</th>\n",
       "      <th>TSH</th>\n",
       "      <th>MEAN_FPG</th>\n",
       "      <th>NASH_OU2</th>\n",
       "      <th>FIBROSI2</th>\n",
       "      <th>NAFLD_OU</th>\n",
       "    </tr>\n",
       "  </thead>\n",
       "  <tbody>\n",
       "    <tr>\n",
       "      <th>0</th>\n",
       "      <td>0</td>\n",
       "      <td>0</td>\n",
       "      <td>1</td>\n",
       "      <td>0</td>\n",
       "      <td>0</td>\n",
       "      <td>0</td>\n",
       "      <td>0</td>\n",
       "      <td>2</td>\n",
       "      <td>265</td>\n",
       "      <td>1</td>\n",
       "      <td>...</td>\n",
       "      <td>0</td>\n",
       "      <td>0</td>\n",
       "      <td>0</td>\n",
       "      <td>1</td>\n",
       "      <td>1</td>\n",
       "      <td>0</td>\n",
       "      <td>2</td>\n",
       "      <td>0</td>\n",
       "      <td>0</td>\n",
       "      <td>0</td>\n",
       "    </tr>\n",
       "    <tr>\n",
       "      <th>1</th>\n",
       "      <td>1</td>\n",
       "      <td>2</td>\n",
       "      <td>0</td>\n",
       "      <td>1</td>\n",
       "      <td>2</td>\n",
       "      <td>1</td>\n",
       "      <td>2</td>\n",
       "      <td>3</td>\n",
       "      <td>124</td>\n",
       "      <td>0</td>\n",
       "      <td>...</td>\n",
       "      <td>0</td>\n",
       "      <td>0</td>\n",
       "      <td>0</td>\n",
       "      <td>1</td>\n",
       "      <td>0</td>\n",
       "      <td>0</td>\n",
       "      <td>1</td>\n",
       "      <td>0</td>\n",
       "      <td>0</td>\n",
       "      <td>0</td>\n",
       "    </tr>\n",
       "    <tr>\n",
       "      <th>2</th>\n",
       "      <td>0</td>\n",
       "      <td>0</td>\n",
       "      <td>1</td>\n",
       "      <td>1</td>\n",
       "      <td>2</td>\n",
       "      <td>1</td>\n",
       "      <td>2</td>\n",
       "      <td>2</td>\n",
       "      <td>236</td>\n",
       "      <td>0</td>\n",
       "      <td>...</td>\n",
       "      <td>0</td>\n",
       "      <td>0</td>\n",
       "      <td>0</td>\n",
       "      <td>1</td>\n",
       "      <td>1</td>\n",
       "      <td>0</td>\n",
       "      <td>2</td>\n",
       "      <td>0</td>\n",
       "      <td>0</td>\n",
       "      <td>0</td>\n",
       "    </tr>\n",
       "    <tr>\n",
       "      <th>3</th>\n",
       "      <td>0</td>\n",
       "      <td>0</td>\n",
       "      <td>1</td>\n",
       "      <td>1</td>\n",
       "      <td>1</td>\n",
       "      <td>0</td>\n",
       "      <td>0</td>\n",
       "      <td>3</td>\n",
       "      <td>243</td>\n",
       "      <td>1</td>\n",
       "      <td>...</td>\n",
       "      <td>0</td>\n",
       "      <td>0</td>\n",
       "      <td>0</td>\n",
       "      <td>1</td>\n",
       "      <td>1</td>\n",
       "      <td>0</td>\n",
       "      <td>2</td>\n",
       "      <td>0</td>\n",
       "      <td>0</td>\n",
       "      <td>0</td>\n",
       "    </tr>\n",
       "    <tr>\n",
       "      <th>4</th>\n",
       "      <td>0</td>\n",
       "      <td>0</td>\n",
       "      <td>1</td>\n",
       "      <td>1</td>\n",
       "      <td>3</td>\n",
       "      <td>1</td>\n",
       "      <td>0</td>\n",
       "      <td>2</td>\n",
       "      <td>216</td>\n",
       "      <td>1</td>\n",
       "      <td>...</td>\n",
       "      <td>0</td>\n",
       "      <td>0</td>\n",
       "      <td>0</td>\n",
       "      <td>1</td>\n",
       "      <td>1</td>\n",
       "      <td>0</td>\n",
       "      <td>2</td>\n",
       "      <td>0</td>\n",
       "      <td>0</td>\n",
       "      <td>0</td>\n",
       "    </tr>\n",
       "  </tbody>\n",
       "</table>\n",
       "<p>5 rows × 32 columns</p>\n",
       "</div>"
      ],
      "text/plain": [
       "   NGT_IFG_  NGT__PRE  DM_STATU  MS  AGE  GNDR  ETHNICIT  BMI  HOMA  SBP  \\\n",
       "0         0         0         1   0    0     0         0    2   265    1   \n",
       "1         1         2         0   1    2     1         2    3   124    0   \n",
       "2         0         0         1   1    2     1         2    2   236    0   \n",
       "3         0         0         1   1    1     0         0    3   243    1   \n",
       "4         0         0         1   1    3     1         0    2   216    1   \n",
       "\n",
       "     ...     AST_M0  ALT_M0  BILIRRUB  PLATELET  ALBUMIN  TSH  MEAN_FPG  \\\n",
       "0    ...          0       0         0         1        1    0         2   \n",
       "1    ...          0       0         0         1        0    0         1   \n",
       "2    ...          0       0         0         1        1    0         2   \n",
       "3    ...          0       0         0         1        1    0         2   \n",
       "4    ...          0       0         0         1        1    0         2   \n",
       "\n",
       "   NASH_OU2  FIBROSI2  NAFLD_OU  \n",
       "0         0         0         0  \n",
       "1         0         0         0  \n",
       "2         0         0         0  \n",
       "3         0         0         0  \n",
       "4         0         0         0  \n",
       "\n",
       "[5 rows x 32 columns]"
      ]
     },
     "execution_count": 190,
     "metadata": {},
     "output_type": "execute_result"
    }
   ],
   "source": [
    "df1.head()"
   ]
  },
  {
   "cell_type": "markdown",
   "metadata": {},
   "source": [
    "# t-SNE clustering"
   ]
  },
  {
   "cell_type": "code",
   "execution_count": 202,
   "metadata": {
    "ExecuteTime": {
     "end_time": "2019-01-23T13:59:29.804100Z",
     "start_time": "2019-01-23T13:59:28.257253Z"
    }
   },
   "outputs": [],
   "source": [
    "from sklearn.manifold import TSNE\n",
    "import matplotlib.pyplot as plt"
   ]
  },
  {
   "cell_type": "code",
   "execution_count": 204,
   "metadata": {
    "ExecuteTime": {
     "end_time": "2019-01-23T13:59:46.598857Z",
     "start_time": "2019-01-23T13:59:46.569184Z"
    }
   },
   "outputs": [],
   "source": [
    "def train_TSNE(data, dim=2, p=30, ee=12.0, lr=100.0, itr=1000):\n",
    "    return TSNE(n_components=dim, perplexity=p, early_exaggeration=ee, learning_rate=lr, n_iter=itr).fit_transform(np.array(data))"
   ]
  },
  {
   "cell_type": "code",
   "execution_count": 219,
   "metadata": {
    "ExecuteTime": {
     "end_time": "2019-01-23T14:02:54.135592Z",
     "start_time": "2019-01-23T14:02:48.671686Z"
    }
   },
   "outputs": [
    {
     "data": {
      "image/png": "[encoded data removed]",
      "text/plain": [
       "<Figure size 432x288 with 1 Axes>"
      ]
     },
     "metadata": {},
     "output_type": "display_data"
    }
   ],
   "source": [
    "df2 = df1.drop(columns=['NAFLD_OU'])\n",
    "tp = train_TSNE(df2, 2, 30, 15)\n",
    "# df2.head()\n",
    "x = tp[:, 0]\n",
    "y = tp[:, 1]\n",
    "\n",
    "plt.scatter(x, y)\n",
    "plt.show()"
   ]
  },
  {
   "cell_type": "code",
   "execution_count": 220,
   "metadata": {
    "ExecuteTime": {
     "end_time": "2019-01-23T14:03:01.208356Z",
     "start_time": "2019-01-23T14:02:54.137343Z"
    }
   },
   "outputs": [
    {
     "data": {
      "image/png": "[encoded data removed]",
      "text/plain": [
       "<Figure size 432x288 with 1 Axes>"
      ]
     },
     "metadata": {},
     "output_type": "display_data"
    }
   ],
   "source": [
    "df2 = df1.drop(columns=['HOMA', 'NAFLD_OU'])\n",
    "tp = train_TSNE(df2, 2, 30, 15)\n",
    "# df2.head()\n",
    "x = tp[:, 0]\n",
    "y = tp[:, 1]\n",
    "\n",
    "plt.scatter(x, y)\n",
    "plt.show()"
   ]
  },
  {
   "cell_type": "markdown",
   "metadata": {},
   "source": [
    "# encode categorical data"
   ]
  },
  {
   "cell_type": "code",
   "execution_count": 191,
   "metadata": {
    "ExecuteTime": {
     "end_time": "2019-01-23T13:51:24.031935Z",
     "start_time": "2019-01-23T13:51:24.010247Z"
    }
   },
   "outputs": [],
   "source": [
    "#save categorized data -> only label encoding\n",
    "df1.to_csv(\"preprocessed_NAFLD.csv\")"
   ]
  },
  {
   "cell_type": "code",
   "execution_count": 234,
   "metadata": {
    "ExecuteTime": {
     "end_time": "2019-01-23T15:31:03.024473Z",
     "start_time": "2019-01-23T15:31:02.994499Z"
    }
   },
   "outputs": [],
   "source": [
    "#one hot encoding (each level is a new column; all data are 0, 1)\n",
    "from sklearn.preprocessing import OneHotEncoder\n",
    "ohe = OneHotEncoder()"
   ]
  },
  {
   "cell_type": "code",
   "execution_count": 235,
   "metadata": {
    "ExecuteTime": {
     "end_time": "2019-01-23T15:31:31.118428Z",
     "start_time": "2019-01-23T15:31:31.089043Z"
    }
   },
   "outputs": [],
   "source": [
    "pkl_process(np.array(df1['NAFLD_OU']), 'y.pkl')"
   ]
  },
  {
   "cell_type": "code",
   "execution_count": 237,
   "metadata": {
    "ExecuteTime": {
     "end_time": "2019-01-23T15:32:00.830915Z",
     "start_time": "2019-01-23T15:32:00.799147Z"
    }
   },
   "outputs": [],
   "source": [
    "one_no_homa_data1 = ohe.fit_transform(df2).toarray()\n",
    "pkl_process(one_no_homa_data1, 'no_noma_with_nash_fab_OHE_X.pkl')"
   ]
  },
  {
   "cell_type": "code",
   "execution_count": 238,
   "metadata": {
    "ExecuteTime": {
     "end_time": "2019-01-23T15:33:08.824557Z",
     "start_time": "2019-01-23T15:33:08.799851Z"
    }
   },
   "outputs": [],
   "source": [
    "df3 = df2.drop(columns=['NASH_OU2', 'FIBROSI2'])\n",
    "one_no_homa_data2 = ohe.fit_transform(df3).toarray()\n",
    "pkl_process(one_no_homa_data2, 'no_noma_OHE_X.pkl')"
   ]
  },
  {
   "cell_type": "code",
   "execution_count": null,
   "metadata": {},
   "outputs": [],
   "source": [
    "df4 = df1.drop(columns=['NASH_OU2', 'FIBROSI2', 'NAFLD_OU'])\n",
    "one_no_homa_data3 = ohe.fit_transform(df4).toarray()\n",
    "pkl_process(one_no_homa_data3, 'with_noma_OHE_X.pkl')"
   ]
  },
  {
   "cell_type": "code",
   "execution_count": 233,
   "metadata": {
    "ExecuteTime": {
     "end_time": "2019-01-23T15:26:42.325278Z",
     "start_time": "2019-01-23T15:26:42.297023Z"
    }
   },
   "outputs": [],
   "source": [
    "#feature hashing\n",
    "from sklearn.feature_extraction import FeatureHasher\n",
    "#convert data to uni-feature space then feature hashing (libsvm format first -> convert to dict)"
   ]
  }
 ],
 "metadata": {
  "kernelspec": {
   "display_name": "Python 3",
   "language": "python",
   "name": "python3"
  },
  "language_info": {
   "codemirror_mode": {
    "name": "ipython",
    "version": 3
   },
   "file_extension": ".py",
   "mimetype": "text/x-python",
   "name": "python",
   "nbconvert_exporter": "python",
   "pygments_lexer": "ipython3",
   "version": "3.6.5"
  },
  "toc": {
   "base_numbering": 1,
   "nav_menu": {},
   "number_sections": true,
   "sideBar": true,
   "skip_h1_title": false,
   "title_cell": "Table of Contents",
   "title_sidebar": "Contents",
   "toc_cell": false,
   "toc_position": {},
   "toc_section_display": true,
   "toc_window_display": false
  }
 },
 "nbformat": 4,
 "nbformat_minor": 2
}
