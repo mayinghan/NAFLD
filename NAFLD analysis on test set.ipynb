{
 "cells": [
  {
   "cell_type": "code",
   "execution_count": 52,
   "metadata": {},
   "outputs": [
    {
     "data": {
      "text/plain": [
       "'0.20.1'"
      ]
     },
     "execution_count": 52,
     "metadata": {},
     "output_type": "execute_result"
    }
   ],
   "source": [
    "import pandas as pd\n",
    "import numpy as np\n",
    "import pickle\n",
    "import subprocess\n",
    "import shlex\n",
    "from collections import defaultdict\n",
    "from copy import deepcopy\n",
    "import sklearn\n",
    "sklearn.__version__"
   ]
  },
  {
   "cell_type": "code",
   "execution_count": 108,
   "metadata": {},
   "outputs": [],
   "source": [
    "def pkl_process(data=None, file=None, mode='dump'):\n",
    "    f_mode = 'wb' if mode == 'dump' else 'rb'\n",
    "    load_data = None\n",
    "    \n",
    "    with open(file, f_mode) as f:\n",
    "        if mode == 'dump':\n",
    "            pickle.dump(data, f)\n",
    "        else:\n",
    "            load_data = pickle.load(f)\n",
    "    \n",
    "    return load_data"
   ]
  },
  {
   "cell_type": "code",
   "execution_count": 3,
   "metadata": {},
   "outputs": [],
   "source": [
    "seed = 13"
   ]
  },
  {
   "cell_type": "markdown",
   "metadata": {},
   "source": [
    "# load categorized data and split train & test sets"
   ]
  },
  {
   "cell_type": "markdown",
   "metadata": {},
   "source": [
    "## load data"
   ]
  },
  {
   "cell_type": "code",
   "execution_count": 7,
   "metadata": {},
   "outputs": [
    {
     "data": {
      "text/plain": [
       "(488, 31)"
      ]
     },
     "execution_count": 7,
     "metadata": {},
     "output_type": "execute_result"
    }
   ],
   "source": [
    "df = pd.read_csv('categorized_NAFLD.csv')\n",
    "df = df.drop(columns=['Unnamed: 0'])\n",
    "df.shape"
   ]
  },
  {
   "cell_type": "code",
   "execution_count": 8,
   "metadata": {},
   "outputs": [
    {
     "data": {
      "text/html": [
       "<div>\n",
       "<style scoped>\n",
       "    .dataframe tbody tr th:only-of-type {\n",
       "        vertical-align: middle;\n",
       "    }\n",
       "\n",
       "    .dataframe tbody tr th {\n",
       "        vertical-align: top;\n",
       "    }\n",
       "\n",
       "    .dataframe thead th {\n",
       "        text-align: right;\n",
       "    }\n",
       "</style>\n",
       "<table border=\"1\" class=\"dataframe\">\n",
       "  <thead>\n",
       "    <tr style=\"text-align: right;\">\n",
       "      <th></th>\n",
       "      <th>NGT_IFG_</th>\n",
       "      <th>NGT__PRE</th>\n",
       "      <th>DM_STATU</th>\n",
       "      <th>AGE</th>\n",
       "      <th>GNDR</th>\n",
       "      <th>ETHNICIT</th>\n",
       "      <th>BMI</th>\n",
       "      <th>HOMA</th>\n",
       "      <th>SBP</th>\n",
       "      <th>DBP</th>\n",
       "      <th>...</th>\n",
       "      <th>AST_M0</th>\n",
       "      <th>ALT_M0</th>\n",
       "      <th>BILIRRUB</th>\n",
       "      <th>PLATELET</th>\n",
       "      <th>ALBUMIN</th>\n",
       "      <th>TSH</th>\n",
       "      <th>MEAN_FPG</th>\n",
       "      <th>NASH_OU2</th>\n",
       "      <th>FIBROSI2</th>\n",
       "      <th>NAFLD_OU</th>\n",
       "    </tr>\n",
       "  </thead>\n",
       "  <tbody>\n",
       "    <tr>\n",
       "      <th>0</th>\n",
       "      <td>0</td>\n",
       "      <td>0</td>\n",
       "      <td>1</td>\n",
       "      <td>0</td>\n",
       "      <td>0</td>\n",
       "      <td>0</td>\n",
       "      <td>2</td>\n",
       "      <td>2</td>\n",
       "      <td>1</td>\n",
       "      <td>1</td>\n",
       "      <td>...</td>\n",
       "      <td>0</td>\n",
       "      <td>0</td>\n",
       "      <td>0</td>\n",
       "      <td>1</td>\n",
       "      <td>1</td>\n",
       "      <td>0</td>\n",
       "      <td>0</td>\n",
       "      <td>0</td>\n",
       "      <td>0</td>\n",
       "      <td>0</td>\n",
       "    </tr>\n",
       "    <tr>\n",
       "      <th>1</th>\n",
       "      <td>1</td>\n",
       "      <td>2</td>\n",
       "      <td>0</td>\n",
       "      <td>2</td>\n",
       "      <td>1</td>\n",
       "      <td>2</td>\n",
       "      <td>3</td>\n",
       "      <td>0</td>\n",
       "      <td>0</td>\n",
       "      <td>0</td>\n",
       "      <td>...</td>\n",
       "      <td>0</td>\n",
       "      <td>0</td>\n",
       "      <td>0</td>\n",
       "      <td>1</td>\n",
       "      <td>0</td>\n",
       "      <td>0</td>\n",
       "      <td>1</td>\n",
       "      <td>0</td>\n",
       "      <td>0</td>\n",
       "      <td>0</td>\n",
       "    </tr>\n",
       "    <tr>\n",
       "      <th>2</th>\n",
       "      <td>0</td>\n",
       "      <td>0</td>\n",
       "      <td>1</td>\n",
       "      <td>2</td>\n",
       "      <td>1</td>\n",
       "      <td>2</td>\n",
       "      <td>2</td>\n",
       "      <td>0</td>\n",
       "      <td>0</td>\n",
       "      <td>0</td>\n",
       "      <td>...</td>\n",
       "      <td>0</td>\n",
       "      <td>0</td>\n",
       "      <td>0</td>\n",
       "      <td>1</td>\n",
       "      <td>1</td>\n",
       "      <td>0</td>\n",
       "      <td>1</td>\n",
       "      <td>0</td>\n",
       "      <td>0</td>\n",
       "      <td>0</td>\n",
       "    </tr>\n",
       "    <tr>\n",
       "      <th>3</th>\n",
       "      <td>0</td>\n",
       "      <td>0</td>\n",
       "      <td>1</td>\n",
       "      <td>1</td>\n",
       "      <td>0</td>\n",
       "      <td>0</td>\n",
       "      <td>3</td>\n",
       "      <td>1</td>\n",
       "      <td>1</td>\n",
       "      <td>1</td>\n",
       "      <td>...</td>\n",
       "      <td>0</td>\n",
       "      <td>0</td>\n",
       "      <td>0</td>\n",
       "      <td>1</td>\n",
       "      <td>1</td>\n",
       "      <td>0</td>\n",
       "      <td>2</td>\n",
       "      <td>0</td>\n",
       "      <td>0</td>\n",
       "      <td>0</td>\n",
       "    </tr>\n",
       "    <tr>\n",
       "      <th>4</th>\n",
       "      <td>0</td>\n",
       "      <td>0</td>\n",
       "      <td>1</td>\n",
       "      <td>3</td>\n",
       "      <td>1</td>\n",
       "      <td>0</td>\n",
       "      <td>2</td>\n",
       "      <td>1</td>\n",
       "      <td>1</td>\n",
       "      <td>1</td>\n",
       "      <td>...</td>\n",
       "      <td>0</td>\n",
       "      <td>0</td>\n",
       "      <td>0</td>\n",
       "      <td>1</td>\n",
       "      <td>1</td>\n",
       "      <td>0</td>\n",
       "      <td>2</td>\n",
       "      <td>0</td>\n",
       "      <td>0</td>\n",
       "      <td>0</td>\n",
       "    </tr>\n",
       "  </tbody>\n",
       "</table>\n",
       "<p>5 rows × 31 columns</p>\n",
       "</div>"
      ],
      "text/plain": [
       "   NGT_IFG_  NGT__PRE  DM_STATU  AGE  GNDR  ETHNICIT  BMI  HOMA  SBP  DBP  \\\n",
       "0         0         0         1    0     0         0    2     2    1    1   \n",
       "1         1         2         0    2     1         2    3     0    0    0   \n",
       "2         0         0         1    2     1         2    2     0    0    0   \n",
       "3         0         0         1    1     0         0    3     1    1    1   \n",
       "4         0         0         1    3     1         0    2     1    1    1   \n",
       "\n",
       "     ...     AST_M0  ALT_M0  BILIRRUB  PLATELET  ALBUMIN  TSH  MEAN_FPG  \\\n",
       "0    ...          0       0         0         1        1    0         0   \n",
       "1    ...          0       0         0         1        0    0         1   \n",
       "2    ...          0       0         0         1        1    0         1   \n",
       "3    ...          0       0         0         1        1    0         2   \n",
       "4    ...          0       0         0         1        1    0         2   \n",
       "\n",
       "   NASH_OU2  FIBROSI2  NAFLD_OU  \n",
       "0         0         0         0  \n",
       "1         0         0         0  \n",
       "2         0         0         0  \n",
       "3         0         0         0  \n",
       "4         0         0         0  \n",
       "\n",
       "[5 rows x 31 columns]"
      ]
     },
     "execution_count": 8,
     "metadata": {},
     "output_type": "execute_result"
    }
   ],
   "source": [
    "df.head()"
   ]
  },
  {
   "cell_type": "markdown",
   "metadata": {},
   "source": [
    "## split data to train and test set"
   ]
  },
  {
   "cell_type": "code",
   "execution_count": 9,
   "metadata": {},
   "outputs": [
    {
     "name": "stdout",
     "output_type": "stream",
     "text": [
      "train, test shape:  (390, 31) (98, 31)\n"
     ]
    }
   ],
   "source": [
    "from sklearn.model_selection import train_test_split\n",
    "train_df, test_df = train_test_split(df, test_size=0.2, random_state=seed)\n",
    "print('train, test shape: ', train_df.shape, test_df.shape)"
   ]
  },
  {
   "cell_type": "code",
   "execution_count": 10,
   "metadata": {},
   "outputs": [],
   "source": [
    "#get training y label\n",
    "train_y_nash, train_y_fib, train_y_nafld = np.array(train_df['NASH_OU2']), np.array(train_df['FIBROSI2']), np.array(train_df['NAFLD_OU'])"
   ]
  },
  {
   "cell_type": "code",
   "execution_count": 12,
   "metadata": {},
   "outputs": [
    {
     "data": {
      "text/plain": [
       "((390, 28), 390)"
      ]
     },
     "execution_count": 12,
     "metadata": {},
     "output_type": "execute_result"
    }
   ],
   "source": [
    "#build train x data set\n",
    "train_x = train_df.drop(columns=['NASH_OU2', 'FIBROSI2', 'NAFLD_OU'])\n",
    "train_x.shape, train_y_nafld.size"
   ]
  },
  {
   "cell_type": "code",
   "execution_count": 13,
   "metadata": {},
   "outputs": [
    {
     "data": {
      "text/plain": [
       "((98, 28), 98)"
      ]
     },
     "execution_count": 13,
     "metadata": {},
     "output_type": "execute_result"
    }
   ],
   "source": [
    "#build test_x data set and test y labels\n",
    "test_y_nash, test_y_fib, test_y_nafld = np.array(test_df['NASH_OU2']), np.array(test_df['FIBROSI2']), np.array(test_df['NAFLD_OU'])\n",
    "test_x = test_df.drop(columns=['NASH_OU2', 'FIBROSI2', 'NAFLD_OU'])\n",
    "test_x.shape, test_y_nafld.size"
   ]
  },
  {
   "cell_type": "markdown",
   "metadata": {},
   "source": [
    "# Data Encoding"
   ]
  },
  {
   "cell_type": "markdown",
   "metadata": {},
   "source": [
    "## One-Hot Encoding"
   ]
  },
  {
   "cell_type": "code",
   "execution_count": 15,
   "metadata": {},
   "outputs": [
    {
     "data": {
      "text/plain": [
       "OneHotEncoder(categorical_features=None, categories='auto',\n",
       "       dtype=<class 'numpy.float64'>, handle_unknown='error',\n",
       "       n_values=None, sparse=False)"
      ]
     },
     "execution_count": 15,
     "metadata": {},
     "output_type": "execute_result"
    }
   ],
   "source": [
    "from sklearn.preprocessing import OneHotEncoder\n",
    "ohe = OneHotEncoder(sparse=False, categories='auto')\n",
    "ohe.fit(df.drop(columns=['NASH_OU2', 'FIBROSI2', 'NAFLD_OU']))"
   ]
  },
  {
   "cell_type": "code",
   "execution_count": 16,
   "metadata": {},
   "outputs": [],
   "source": [
    "#transform data sets based on the encoding result\n",
    "train_x_ohe = ohe.transform(train_x)\n",
    "test_x_ohe = ohe.transform(test_x)"
   ]
  },
  {
   "cell_type": "code",
   "execution_count": 17,
   "metadata": {},
   "outputs": [
    {
     "data": {
      "text/plain": [
       "((390, 71), (98, 71))"
      ]
     },
     "execution_count": 17,
     "metadata": {},
     "output_type": "execute_result"
    }
   ],
   "source": [
    "train_x_ohe.shape, test_x_ohe.shape"
   ]
  },
  {
   "cell_type": "markdown",
   "metadata": {},
   "source": [
    "## Create list of feature names for OHE"
   ]
  },
  {
   "cell_type": "code",
   "execution_count": 26,
   "metadata": {},
   "outputs": [
    {
     "name": "stdout",
     "output_type": "stream",
     "text": [
      "{'NGT_IFG_': 'cat', 'NGT__PRE': 'cat', 'DM_STATU': 'cat', 'AGE': [50.0, 60.0, 70.0], 'GNDR': 'cat', 'ETHNICIT': 'cat', 'BMI': [18.5, 24.9, 29.9], 'HOMA': [2.6, 3.8], 'SBP': [130.0], 'DBP': [80.0], 'ON_BP_ME': 'cat', 'CHOL': [200.0], 'TG': [150.0], 'LDL': [100.0, 130.0, 160.0], 'HDL': {'1': [40.0], '0': [50.0]}, 'DYSLIPID': 'cat', 'ON_STATI': 'cat', 'COMBINAT': 'cat', 'A1C': [5.7, 6.5], 'ON_METFO': 'cat', 'ON_SU': 'cat', 'AST_M0': [40.0], 'ALT_M0': [40.0], 'BILIRRUB': [1.0], 'PLATELET': [150.0], 'ALBUMIN': [4.0], 'TSH': [4.0], 'MEAN_FPG': [100.0, 125.0], 'NAFLD_OU': 'outcome', 'NASH_OU2': 'outcome', 'FIBROSI2': 'outcome'}\n"
     ]
    }
   ],
   "source": [
    "# conf_new contains data without MS, conf.pkl contains data with MS\n",
    "conf = pkl_process(file='conf_new.pkl', mode='load')\n",
    "print(conf)"
   ]
  },
  {
   "cell_type": "code",
   "execution_count": 27,
   "metadata": {},
   "outputs": [
    {
     "data": {
      "text/plain": [
       "{'NGT_IFG_': array(['DIAB', 'IFG', 'IGT', 'NGT'], dtype=object),\n",
       " 'NGT__PRE': array(['DIAB', 'NGT', 'PreDM'], dtype=object),\n",
       " 'DM_STATU': array(['0', '1'], dtype=object),\n",
       " 'GNDR': array(['0', '1'], dtype=object),\n",
       " 'ETHNICIT': array(['AA', 'Asian', 'Caucasian', 'Hispanic', 'Indian', 'PI'],\n",
       "       dtype=object),\n",
       " 'ON_BP_ME': array(['0', '1'], dtype=object),\n",
       " 'DYSLIPID': array(['0', '1'], dtype=object),\n",
       " 'ON_STATI': array(['0', '1'], dtype=object),\n",
       " 'COMBINAT': array(['0', '1'], dtype=object),\n",
       " 'ON_METFO': array(['0', '1'], dtype=object),\n",
       " 'ON_SU': array(['0', '1'], dtype=object),\n",
       " 'NAFLD_OU': array(['0', '1'], dtype=object),\n",
       " 'NASH_OU2': array(['0', '1'], dtype=object),\n",
       " 'FIBROSI2': array(['0', '1'], dtype=object)}"
      ]
     },
     "execution_count": 27,
     "metadata": {},
     "output_type": "execute_result"
    }
   ],
   "source": [
    "cat_data_dic = pkl_process(file='cat_dict.pkl', mode='load')\n",
    "cat_data_dic"
   ]
  },
  {
   "cell_type": "markdown",
   "metadata": {},
   "source": [
    "## Machine Learning"
   ]
  },
  {
   "cell_type": "code",
   "execution_count": 28,
   "metadata": {},
   "outputs": [],
   "source": [
    "from sklearn.linear_model import LogisticRegression\n",
    "from sklearn.svm import SVC\n",
    "from sklearn.ensemble import RandomForestClassifier\n",
    "from sklearn.model_selection import GridSearchCV, cross_val_score, cross_val_predict\n",
    "from sklearn.metrics import roc_auc_score, roc_curve, f1_score, precision_recall_fscore_support, confusion_matrix\n",
    "import matplotlib.pyplot as plt\n",
    "import seaborn as sns"
   ]
  },
  {
   "cell_type": "markdown",
   "metadata": {},
   "source": [
    "### Functions"
   ]
  },
  {
   "cell_type": "code",
   "execution_count": 29,
   "metadata": {},
   "outputs": [],
   "source": [
    "#produce precision & recall & f1 scores of binary cls\n",
    "def get_binary_cls_precision_recall_f1(true_lab, pred_probs, pos_idx, threshold=0.5):\n",
    "    pred_lab = []\n",
    "    for pred in pred_probs:\n",
    "        pos_prob = pred[pos_idx]\n",
    "        if pos_prob >= threshold:\n",
    "            pred_lab.append(1)\n",
    "        else:\n",
    "            pred_lab.append(0)\n",
    "    \n",
    "    return precision_recall_fscore_support(true_lab, pred_lab, average='binary'), pred_lab"
   ]
  },
  {
   "cell_type": "code",
   "execution_count": 50,
   "metadata": {},
   "outputs": [],
   "source": [
    "#calculate auc score on test set\n",
    "def get_auc_roc(classifier, tuned_parameters, train_x, train_y, test_x, test_y, fig=True):\n",
    "    #use gridsearch due to small data set(400+)\n",
    "    gs = gs = GridSearchCV(classifier, tuned_parameters, scoring='roc_auc', n_jobs=-1, cv=5, verbose=0, iid=True)\n",
    "    gs.fit(train_x, train_y)\n",
    "    print('Best Estimator: ', gs.best_estimator_)\n",
    "    print('Parameter eval score: ', gs.best_score_)\n",
    "    clf = gs.best_estimator_\n",
    "    pred_result_binary = clf.predict_proba(test_x)\n",
    "    #get all the output=1\n",
    "    #idx = list(filter(lambda x: x==1, clf.classes_))[0]\n",
    "    pred_result_1 = list(map(lambda x: x[1], pred_result_binary))\n",
    "    fpr, tpr, thresholds = roc_curve(test_y, pred_result_1)\n",
    "    if fig:\n",
    "        plt.plot(fpr, tpr, lw=1, alpha=0.5)\n",
    "        plt.plot([0, 1], [0, 1], linestyle='--', lw=2, color='r',label='Chance', alpha=.8)\n",
    "        plt.xlim([-0.05, 1.05])\n",
    "        plt.ylim([-0.05, 1.05])\n",
    "        plt.xlabel('False Positive Rate')\n",
    "        plt.ylabel('True Positive Rate')\n",
    "        plt.title('Receiver operating characteristic example')\n",
    "        plt.legend(loc=\"lower right\")\n",
    "        plt.show()\n",
    "    cut_off = get_cutoff(fpr, tpr, thresholds)\n",
    "    print('AUC_ROC Score: ', roc_auc_score(test_y, pred_result_1), ' cutoff: ', cut_off)\n",
    "    return clf, fpr, tpr, thresholds, pred_result_binary, cut_off"
   ]
  },
  {
   "cell_type": "code",
   "execution_count": 65,
   "metadata": {},
   "outputs": [],
   "source": [
    "#calculate Precision Recall and F1 score on test set\n",
    "'''\n",
    "def get_prf(classifier, tuned_parameters, trian_x, train_y, test_x, test_y):\n",
    "    #use gridsearch due to small data set(400+)\n",
    "    gs = GridSearchCV(classifier, tuned_parameters, scoring=\"f1\", n_jobs=-1, cv=5, verbose=0, iid=True)\n",
    "    gs.fit(train_x, train_y)\n",
    "    print('Best Estimator: ', gs.best_estimator_)\n",
    "    print('Parameter eval score: ', gs.best_score_)\n",
    "    clf = gs.best_estimator_\n",
    "    pred_result = clf.predict(test_x)\n",
    "    print('PRF Score: ', precision_recall_fscore_support(test_y, pred_result, average='binary'))\n",
    "    return clf\n",
    "    '''\n",
    "\n",
    "def get_prf(classifier, tuned_parameters, train_X, train_y, test_X, test_y):\n",
    "    gs = GridSearchCV(classifier, tuned_parameters, scoring=\"f1\", n_jobs=-1, cv=5, verbose=0, iid=True)\n",
    "    gs.fit(train_X, train_y)\n",
    "#    print(gs.best_score_)\n",
    "#     print(gs.best_params_)\n",
    "    print(gs.best_estimator_)\n",
    "    clf = gs.best_estimator_\n",
    "    pred_result = clf.predict(test_X)\n",
    "    print('PRF score: ', precision_recall_fscore_support(test_y, pred_result, average='binary'))\n",
    "    return clf"
   ]
  },
  {
   "cell_type": "code",
   "execution_count": 66,
   "metadata": {},
   "outputs": [],
   "source": [
    "#perform 5 fold cross validation\n",
    "def full_data_set_cv(model, train_x, train_y, test_x, test_y, mode='auc', cv=5, seed=13):\n",
    "    l1 = list(train_x) + list(test_x)\n",
    "    l2 = list(train_y) + list(test_y)\n",
    "    #combine two lists together based on same index\n",
    "    l = list(zip(l1, l2))\n",
    "    np.random.seed(seed)\n",
    "    np.random.shuffle(l)\n",
    "    X = np.array(list(map(lambda x: x[0], l)))\n",
    "    y = np.array(list(map(lambda x: x[1], l)))\n",
    "    \n",
    "    if mode == 'auc':\n",
    "        auc = cross_val_predict(model, X, y, cv=cv, method='predict_proba')\n",
    "        pred_auc = list(map(lambda x: x[1], auc))\n",
    "        return roc_auc_score(y, pred_auc)\n",
    "    elif mode == 'prf':\n",
    "        pred_prf = cross_val_predict(model, X, y, cv=cv, method='predict')\n",
    "        return precision_recall_fscore_support(y, pred_prf, average='binary')\n",
    "    else:\n",
    "        raise ValueError(f'{mode} is not valid!')"
   ]
  },
  {
   "cell_type": "code",
   "execution_count": 67,
   "metadata": {},
   "outputs": [],
   "source": [
    "def global_jobs(model, tuned_parameters, train_x, train_y, test_x, test_y, model_dict=None, model_name='ML_model', seed=13):\n",
    "    #auc on test\n",
    "    clf_auc, fpr, tpr, thresholds, pred_result, cut_off = get_auc_roc(model, tuned_parameters, train_x, train_y, test_x, test_y)\n",
    "    model_dict[f'{model_name}_auc'] = deepcopy(clf_auc)\n",
    "    print()\n",
    "    print('*'*50)\n",
    "    print()\n",
    "    \n",
    "    #PRF on test\n",
    "    clf_prf = get_prf(model, tuned_parameters, train_x, train_y, test_x, test_y)\n",
    "    model_dict[f'{model_name}_prf'] = deepcopy(clf_prf)\n",
    "    print()"
   ]
  },
  {
   "cell_type": "code",
   "execution_count": 44,
   "metadata": {},
   "outputs": [],
   "source": [
    "# ref: http://www.medicalbiostatistics.com/roccurve.pdf\n",
    "def get_cutoff(fpr, tpr, thresholds):\n",
    "    opt_idx = np.argmin(np.sqrt(np.square(1-tpr) + np.square(fpr)))\n",
    "    return thresholds[opt_idx]"
   ]
  },
  {
   "cell_type": "code",
   "execution_count": 45,
   "metadata": {},
   "outputs": [],
   "source": [
    "all_models = dict()"
   ]
  },
  {
   "cell_type": "markdown",
   "metadata": {},
   "source": [
    "## Logistic Regression"
   ]
  },
  {
   "cell_type": "code",
   "execution_count": 46,
   "metadata": {},
   "outputs": [],
   "source": [
    "tuned_parameters = {'max_iter':[100, 500, 1000], 'tol':[0.00001, 0.0001, 0.001, 0.01, 0.1],'random_state':[seed], 'C': [0.01, 0.1, 1.0, 10.0, 100.0, 1000.0], \n",
    "                    'solver':['lbfgs', 'liblinear', 'newton-cg'], 'class_weight': [None, 'balanced']}"
   ]
  },
  {
   "cell_type": "markdown",
   "metadata": {},
   "source": [
    "### OHE"
   ]
  },
  {
   "cell_type": "markdown",
   "metadata": {},
   "source": [
    "#### NAFLD"
   ]
  },
  {
   "cell_type": "code",
   "execution_count": 68,
   "metadata": {},
   "outputs": [
    {
     "name": "stdout",
     "output_type": "stream",
     "text": [
      "Best Estimator:  LogisticRegression(C=0.1, class_weight='balanced', dual=False,\n",
      "          fit_intercept=True, intercept_scaling=1, max_iter=100,\n",
      "          multi_class='warn', n_jobs=None, penalty='l2', random_state=13,\n",
      "          solver='liblinear', tol=0.001, verbose=0, warm_start=False)\n",
      "Parameter eval score:  0.861875009048922\n"
     ]
    },
    {
     "data": {
      "image/png": "[encoded data removed]",
      "text/plain": [
       "<Figure size 432x288 with 1 Axes>"
      ]
     },
     "metadata": {
      "needs_background": "light"
     },
     "output_type": "display_data"
    },
    {
     "name": "stdout",
     "output_type": "stream",
     "text": [
      "AUC_ROC Score:  0.8772977941176471  cutoff:  0.572892884418034\n",
      "\n",
      "**************************************************\n",
      "\n",
      "LogisticRegression(C=0.1, class_weight=None, dual=False, fit_intercept=True,\n",
      "          intercept_scaling=1, max_iter=100, multi_class='warn',\n",
      "          n_jobs=None, penalty='l2', random_state=13, solver='liblinear',\n",
      "          tol=1e-05, verbose=0, warm_start=False)\n",
      "PRF score:  (0.8142857142857143, 0.890625, 0.8507462686567163, None)\n",
      "\n"
     ]
    }
   ],
   "source": [
    "global_jobs(LogisticRegression(), tuned_parameters, train_x_ohe, train_y_nafld, test_x_ohe, test_y_nafld, model_dict=all_models, model_name='LR_NAFLD_OHE', seed=seed)"
   ]
  },
  {
   "cell_type": "markdown",
   "metadata": {},
   "source": [
    "#### Nash"
   ]
  },
  {
   "cell_type": "code",
   "execution_count": 69,
   "metadata": {},
   "outputs": [
    {
     "name": "stdout",
     "output_type": "stream",
     "text": [
      "Best Estimator:  LogisticRegression(C=0.01, class_weight=None, dual=False, fit_intercept=True,\n",
      "          intercept_scaling=1, max_iter=100, multi_class='warn',\n",
      "          n_jobs=None, penalty='l2', random_state=13, solver='liblinear',\n",
      "          tol=1e-05, verbose=0, warm_start=False)\n",
      "Parameter eval score:  0.8082510937130502\n"
     ]
    },
    {
     "data": {
      "image/png": "[encoded data removed]",
      "text/plain": [
       "<Figure size 432x288 with 1 Axes>"
      ]
     },
     "metadata": {
      "needs_background": "light"
     },
     "output_type": "display_data"
    },
    {
     "name": "stdout",
     "output_type": "stream",
     "text": [
      "AUC_ROC Score:  0.7281179138321996  cutoff:  0.41339435008437414\n",
      "\n",
      "**************************************************\n",
      "\n",
      "LogisticRegression(C=1.0, class_weight='balanced', dual=False,\n",
      "          fit_intercept=True, intercept_scaling=1, max_iter=100,\n",
      "          multi_class='warn', n_jobs=None, penalty='l2', random_state=13,\n",
      "          solver='liblinear', tol=0.1, verbose=0, warm_start=False)\n",
      "PRF score:  (0.5263157894736842, 0.5714285714285714, 0.547945205479452, None)\n",
      "\n"
     ]
    }
   ],
   "source": [
    "global_jobs(LogisticRegression(), tuned_parameters, train_x_ohe, train_y_nash, test_x_ohe, test_y_nash, model_dict=all_models, model_name='LR_NASH_OHE', seed=seed)"
   ]
  },
  {
   "cell_type": "markdown",
   "metadata": {},
   "source": [
    "#### Fibrosis"
   ]
  },
  {
   "cell_type": "code",
   "execution_count": 70,
   "metadata": {},
   "outputs": [
    {
     "name": "stdout",
     "output_type": "stream",
     "text": [
      "Best Estimator:  LogisticRegression(C=0.01, class_weight=None, dual=False, fit_intercept=True,\n",
      "          intercept_scaling=1, max_iter=100, multi_class='warn',\n",
      "          n_jobs=None, penalty='l2', random_state=13, solver='liblinear',\n",
      "          tol=0.1, verbose=0, warm_start=False)\n",
      "Parameter eval score:  0.7970878236095628\n"
     ]
    },
    {
     "data": {
      "image/png": "[encoded data removed]",
      "text/plain": [
       "<Figure size 432x288 with 1 Axes>"
      ]
     },
     "metadata": {
      "needs_background": "light"
     },
     "output_type": "display_data"
    },
    {
     "name": "stdout",
     "output_type": "stream",
     "text": [
      "AUC_ROC Score:  0.7492163009404389  cutoff:  0.15645309234040003\n",
      "\n",
      "**************************************************\n",
      "\n",
      "LogisticRegression(C=0.01, class_weight='balanced', dual=False,\n",
      "          fit_intercept=True, intercept_scaling=1, max_iter=100,\n",
      "          multi_class='warn', n_jobs=None, penalty='l2', random_state=13,\n",
      "          solver='lbfgs', tol=1e-05, verbose=0, warm_start=False)\n",
      "PRF score:  (0.4, 0.5454545454545454, 0.4615384615384615, None)\n",
      "\n"
     ]
    }
   ],
   "source": [
    "global_jobs(LogisticRegression(), tuned_parameters, train_x_ohe, train_y_fib, test_x_ohe, test_y_fib, model_dict=all_models, model_name='LR_FIB_OHE', seed=seed)"
   ]
  },
  {
   "cell_type": "markdown",
   "metadata": {},
   "source": [
    "## SVM"
   ]
  },
  {
   "cell_type": "code",
   "execution_count": 73,
   "metadata": {},
   "outputs": [],
   "source": [
    "tuned_parameters = {\"C\": [0.01, 0.1, 2, 64, 128, 512, 1024, 2048], 'probability':[True], 'tol': [0.1, 0.01, 0.001, 0.0001], \n",
    "                    'random_state':[seed], 'gamma': ['scale', 'auto']}"
   ]
  },
  {
   "cell_type": "markdown",
   "metadata": {},
   "source": [
    "### OHE"
   ]
  },
  {
   "cell_type": "markdown",
   "metadata": {},
   "source": [
    "#### NAFLD"
   ]
  },
  {
   "cell_type": "code",
   "execution_count": 74,
   "metadata": {},
   "outputs": [
    {
     "name": "stdout",
     "output_type": "stream",
     "text": [
      "Best Estimator:  SVC(C=2, cache_size=200, class_weight=None, coef0=0.0,\n",
      "  decision_function_shape='ovr', degree=3, gamma='auto', kernel='rbf',\n",
      "  max_iter=-1, probability=True, random_state=13, shrinking=True,\n",
      "  tol=0.001, verbose=False)\n",
      "Parameter eval score:  0.8617030433334781\n"
     ]
    },
    {
     "data": {
      "image/png": "[encoded data removed]",
      "text/plain": [
       "<Figure size 432x288 with 1 Axes>"
      ]
     },
     "metadata": {
      "needs_background": "light"
     },
     "output_type": "display_data"
    },
    {
     "name": "stdout",
     "output_type": "stream",
     "text": [
      "AUC_ROC Score:  0.8501838235294118  cutoff:  0.7937044409211904\n",
      "\n",
      "**************************************************\n",
      "\n",
      "SVC(C=2, cache_size=200, class_weight=None, coef0=0.0,\n",
      "  decision_function_shape='ovr', degree=3, gamma='auto', kernel='rbf',\n",
      "  max_iter=-1, probability=True, random_state=13, shrinking=True, tol=0.1,\n",
      "  verbose=False)\n",
      "PRF score:  (0.7631578947368421, 0.90625, 0.8285714285714286, None)\n",
      "\n"
     ]
    }
   ],
   "source": [
    "global_jobs(SVC(), tuned_parameters, train_x_ohe, train_y_nafld, test_x_ohe, test_y_nafld, model_dict=all_models, model_name='SVM_NAFLD_OHE')"
   ]
  },
  {
   "cell_type": "markdown",
   "metadata": {},
   "source": [
    "#### Nash"
   ]
  },
  {
   "cell_type": "code",
   "execution_count": 75,
   "metadata": {},
   "outputs": [
    {
     "name": "stdout",
     "output_type": "stream",
     "text": [
      "Best Estimator:  SVC(C=0.01, cache_size=200, class_weight=None, coef0=0.0,\n",
      "  decision_function_shape='ovr', degree=3, gamma='scale', kernel='rbf',\n",
      "  max_iter=-1, probability=True, random_state=13, shrinking=True, tol=0.01,\n",
      "  verbose=False)\n",
      "Parameter eval score:  0.8138829346981522\n"
     ]
    },
    {
     "data": {
      "image/png": "[encoded data removed]",
      "text/plain": [
       "<Figure size 432x288 with 1 Axes>"
      ]
     },
     "metadata": {
      "needs_background": "light"
     },
     "output_type": "display_data"
    },
    {
     "name": "stdout",
     "output_type": "stream",
     "text": [
      "AUC_ROC Score:  0.736281179138322  cutoff:  0.5\n",
      "\n",
      "**************************************************\n",
      "\n",
      "SVC(C=2, cache_size=200, class_weight=None, coef0=0.0,\n",
      "  decision_function_shape='ovr', degree=3, gamma='auto', kernel='rbf',\n",
      "  max_iter=-1, probability=True, random_state=13, shrinking=True, tol=0.1,\n",
      "  verbose=False)\n",
      "PRF score:  (0.5862068965517241, 0.4857142857142857, 0.53125, None)\n",
      "\n"
     ]
    }
   ],
   "source": [
    "global_jobs(SVC(), tuned_parameters, train_x_ohe, train_y_nash, test_x_ohe, test_y_nash, model_dict=all_models, model_name='SVM_NASH_OHE')"
   ]
  },
  {
   "cell_type": "markdown",
   "metadata": {},
   "source": [
    "#### Fibrosis"
   ]
  },
  {
   "cell_type": "code",
   "execution_count": 76,
   "metadata": {},
   "outputs": [
    {
     "name": "stdout",
     "output_type": "stream",
     "text": [
      "Best Estimator:  SVC(C=2, cache_size=200, class_weight=None, coef0=0.0,\n",
      "  decision_function_shape='ovr', degree=3, gamma='auto', kernel='rbf',\n",
      "  max_iter=-1, probability=True, random_state=13, shrinking=True, tol=0.1,\n",
      "  verbose=False)\n",
      "Parameter eval score:  0.7616592344853215\n"
     ]
    },
    {
     "data": {
      "image/png": "[encoded data removed]",
      "text/plain": [
       "<Figure size 432x288 with 1 Axes>"
      ]
     },
     "metadata": {
      "needs_background": "light"
     },
     "output_type": "display_data"
    },
    {
     "name": "stdout",
     "output_type": "stream",
     "text": [
      "AUC_ROC Score:  0.64576802507837  cutoff:  0.09461842784522848\n",
      "\n",
      "**************************************************\n",
      "\n",
      "SVC(C=64, cache_size=200, class_weight=None, coef0=0.0,\n",
      "  decision_function_shape='ovr', degree=3, gamma='auto', kernel='rbf',\n",
      "  max_iter=-1, probability=True, random_state=13, shrinking=True, tol=0.01,\n",
      "  verbose=False)\n",
      "PRF score:  (0.6, 0.2727272727272727, 0.37499999999999994, None)\n",
      "\n"
     ]
    }
   ],
   "source": [
    "global_jobs(SVC(), tuned_parameters, train_x_ohe, train_y_fib, test_x_ohe, test_y_fib, model_dict=all_models, model_name='SVM_FIB_OHE')"
   ]
  },
  {
   "cell_type": "markdown",
   "metadata": {},
   "source": [
    "## Decision Tree with global spliting for tree visualization"
   ]
  },
  {
   "cell_type": "code",
   "execution_count": 77,
   "metadata": {},
   "outputs": [],
   "source": [
    "%matplotlib inline\n",
    "from sklearn.tree import export_graphviz\n",
    "from subprocess import call\n",
    "from IPython.display import Image"
   ]
  },
  {
   "cell_type": "code",
   "execution_count": 78,
   "metadata": {},
   "outputs": [],
   "source": [
    "from sklearn.tree import DecisionTreeClassifier"
   ]
  },
  {
   "cell_type": "code",
   "execution_count": 79,
   "metadata": {},
   "outputs": [],
   "source": [
    "tuned_parameters = {'criterion':['gini', 'entropy'], 'random_state':[seed], 'max_depth': [5, 10, 25, 50, None],\n",
    "                    'max_features':['log2', 'auto', None], 'min_samples_split':[2, 4], 'splitter':['best', 'random'],\n",
    "                    'min_samples_leaf':[1, 2, 4], 'class_weight': [None, 'balanced'], 'min_impurity_decrease': [0., 0.00001, 0.0001, 0.001, 0.01]}#'min_impurity_decrease': [0., 0.0001, 0.001, 0.01]"
   ]
  },
  {
   "cell_type": "code",
   "execution_count": 80,
   "metadata": {},
   "outputs": [],
   "source": [
    "def draw_decision_tree(clf, class_names=None, feature_names=None, dot_file=None, png_file=None):\n",
    "    dot = export_graphviz(clf, out_file=dot_file, class_names=class_names, feature_names=feature_names, filled=True)\n",
    "    p = subprocess.Popen(shlex.split(f\"dot -Tpng {dot_file} -o {png_file} -Gdpi=600\"), stdout=subprocess.PIPE, stderr=subprocess.PIPE)\n",
    "    o = p.communicate()\n",
    "    print(o[0].decode('utf8'))\n",
    "    print(o[1].decode('utf8'))"
   ]
  },
  {
   "cell_type": "markdown",
   "metadata": {},
   "source": [
    "### OHE"
   ]
  },
  {
   "cell_type": "markdown",
   "metadata": {},
   "source": [
    "#### NAFLD"
   ]
  },
  {
   "cell_type": "code",
   "execution_count": 81,
   "metadata": {},
   "outputs": [
    {
     "name": "stdout",
     "output_type": "stream",
     "text": [
      "Best Estimator:  DecisionTreeClassifier(class_weight='balanced', criterion='entropy',\n",
      "            max_depth=5, max_features='auto', max_leaf_nodes=None,\n",
      "            min_impurity_decrease=0.0, min_impurity_split=None,\n",
      "            min_samples_leaf=1, min_samples_split=4,\n",
      "            min_weight_fraction_leaf=0.0, presort=False, random_state=13,\n",
      "            splitter='random')\n",
      "Parameter eval score:  0.8048781291172595\n"
     ]
    },
    {
     "data": {
      "image/png": "[encoded data removed]",
      "text/plain": [
       "<Figure size 432x288 with 1 Axes>"
      ]
     },
     "metadata": {
      "needs_background": "light"
     },
     "output_type": "display_data"
    },
    {
     "name": "stdout",
     "output_type": "stream",
     "text": [
      "AUC_ROC Score:  0.8193933823529411  cutoff:  0.5984979780473714\n",
      "\n",
      "**************************************************\n",
      "\n",
      "DecisionTreeClassifier(class_weight=None, criterion='entropy', max_depth=5,\n",
      "            max_features='log2', max_leaf_nodes=None,\n",
      "            min_impurity_decrease=0.0, min_impurity_split=None,\n",
      "            min_samples_leaf=4, min_samples_split=2,\n",
      "            min_weight_fraction_leaf=0.0, presort=False, random_state=13,\n",
      "            splitter='best')\n",
      "PRF score:  (0.8275862068965517, 0.75, 0.7868852459016394, None)\n",
      "\n"
     ]
    }
   ],
   "source": [
    "global_jobs(DecisionTreeClassifier(), tuned_parameters, train_x_ohe, train_y_nafld, test_x_ohe, test_y_nafld, model_dict=all_models, model_name='DT_NAFLD_OHE')"
   ]
  },
  {
   "cell_type": "markdown",
   "metadata": {},
   "source": [
    "#### Nash"
   ]
  },
  {
   "cell_type": "code",
   "execution_count": 82,
   "metadata": {},
   "outputs": [
    {
     "name": "stdout",
     "output_type": "stream",
     "text": [
      "Best Estimator:  DecisionTreeClassifier(class_weight='balanced', criterion='entropy',\n",
      "            max_depth=5, max_features='log2', max_leaf_nodes=None,\n",
      "            min_impurity_decrease=0.0, min_impurity_split=None,\n",
      "            min_samples_leaf=1, min_samples_split=4,\n",
      "            min_weight_fraction_leaf=0.0, presort=False, random_state=13,\n",
      "            splitter='best')\n",
      "Parameter eval score:  0.7767069348726957\n"
     ]
    },
    {
     "data": {
      "image/png": "[encoded data removed]",
      "text/plain": [
       "<Figure size 432x288 with 1 Axes>"
      ]
     },
     "metadata": {
      "needs_background": "light"
     },
     "output_type": "display_data"
    },
    {
     "name": "stdout",
     "output_type": "stream",
     "text": [
      "AUC_ROC Score:  0.7138321995464852  cutoff:  0.3577620173364854\n",
      "\n",
      "**************************************************\n",
      "\n",
      "DecisionTreeClassifier(class_weight='balanced', criterion='entropy',\n",
      "            max_depth=5, max_features='auto', max_leaf_nodes=None,\n",
      "            min_impurity_decrease=0.0, min_impurity_split=None,\n",
      "            min_samples_leaf=2, min_samples_split=2,\n",
      "            min_weight_fraction_leaf=0.0, presort=False, random_state=13,\n",
      "            splitter='random')\n",
      "PRF score:  (0.4722222222222222, 0.4857142857142857, 0.47887323943661975, None)\n",
      "\n"
     ]
    }
   ],
   "source": [
    "global_jobs(DecisionTreeClassifier(), tuned_parameters, train_x_ohe, train_y_nash, test_x_ohe, test_y_nash, model_dict=all_models, model_name='DT_NASH_OHE')"
   ]
  },
  {
   "cell_type": "markdown",
   "metadata": {},
   "source": [
    "#### Fibrosis"
   ]
  },
  {
   "cell_type": "code",
   "execution_count": 83,
   "metadata": {},
   "outputs": [
    {
     "name": "stdout",
     "output_type": "stream",
     "text": [
      "Best Estimator:  DecisionTreeClassifier(class_weight=None, criterion='gini', max_depth=5,\n",
      "            max_features='log2', max_leaf_nodes=None,\n",
      "            min_impurity_decrease=0.001, min_impurity_split=None,\n",
      "            min_samples_leaf=2, min_samples_split=2,\n",
      "            min_weight_fraction_leaf=0.0, presort=False, random_state=13,\n",
      "            splitter='random')\n",
      "Parameter eval score:  0.7988446419073016\n"
     ]
    },
    {
     "data": {
      "image/png": "[encoded data removed]",
      "text/plain": [
       "<Figure size 432x288 with 1 Axes>"
      ]
     },
     "metadata": {
      "needs_background": "light"
     },
     "output_type": "display_data"
    },
    {
     "name": "stdout",
     "output_type": "stream",
     "text": [
      "AUC_ROC Score:  0.709508881922675  cutoff:  0.44285714285714284\n",
      "\n",
      "**************************************************\n",
      "\n",
      "DecisionTreeClassifier(class_weight='balanced', criterion='gini',\n",
      "            max_depth=10, max_features='auto', max_leaf_nodes=None,\n",
      "            min_impurity_decrease=0.01, min_impurity_split=None,\n",
      "            min_samples_leaf=1, min_samples_split=2,\n",
      "            min_weight_fraction_leaf=0.0, presort=False, random_state=13,\n",
      "            splitter='random')\n",
      "PRF score:  (0.8333333333333334, 0.45454545454545453, 0.5882352941176471, None)\n",
      "\n"
     ]
    }
   ],
   "source": [
    "global_jobs(DecisionTreeClassifier(), tuned_parameters, train_x_ohe, train_y_fib, test_x_ohe, test_y_fib, model_dict=all_models, model_name='DT_FIB_OHE')"
   ]
  },
  {
   "cell_type": "markdown",
   "metadata": {},
   "source": [
    "### No data transform\n",
    "only transform string categorical data to OHE"
   ]
  },
  {
   "cell_type": "code",
   "execution_count": 84,
   "metadata": {},
   "outputs": [],
   "source": [
    "def fc(s):\n",
    "    return {each:i for i, each in enumerate(s)}\n",
    "\n",
    "def xys(l):\n",
    "    return list(zip(*l)) # * unpack a list"
   ]
  },
  {
   "cell_type": "code",
   "execution_count": 87,
   "metadata": {},
   "outputs": [
    {
     "data": {
      "text/plain": [
       "array([['DIAB', 'DIAB', 1, ..., 0, 0, 0],\n",
       "       ['IFG', 'PreDM', 0, ..., 0, 0, 0],\n",
       "       ['DIAB', 'DIAB', 1, ..., 0, 0, 0],\n",
       "       ...,\n",
       "       ['DIAB', 'DIAB', 1, ..., 1, 0, 1],\n",
       "       ['DIAB', 'DIAB', 1, ..., 1, 0, 1],\n",
       "       ['DIAB', 'DIAB', 1, ..., 1, 1, 1]], dtype=object)"
      ]
     },
     "execution_count": 87,
     "metadata": {},
     "output_type": "execute_result"
    }
   ],
   "source": [
    "df_svm = pd.read_csv('imputed_nafld.csv')\n",
    "df_svm.head()\n",
    "df_svm.values"
   ]
  },
  {
   "cell_type": "code",
   "execution_count": 88,
   "metadata": {},
   "outputs": [
    {
     "name": "stdout",
     "output_type": "stream",
     "text": [
      "{0: {'IFG': 0, 'DIAB': 1, 'IGT': 2, 'NGT': 3}, 1: {'DIAB': 0, 'NGT': 1, 'PreDM': 2}, 5: {'Asian': 0, 'Hispanic': 1, 'Indian': 2, 'AA': 3, 'PI': 4, 'Caucasian': 5}}\n",
      "{0: 4, 1: 3, 5: 6}\n"
     ]
    }
   ],
   "source": [
    "d = {0: fc(set(df_svm['NGT_IFG_'])), 1: fc(set(df_svm['NGT__PRE'])), 5: fc(set(df_svm['ETHNICIT']))}\n",
    "nd = {0: len(set(df_svm['NGT_IFG_'])), 1: len(set(df_svm['NGT__PRE'])), 5: len(set(df_svm['ETHNICIT']))}\n",
    "print(d)\n",
    "print(nd)"
   ]
  },
  {
   "cell_type": "code",
   "execution_count": 93,
   "metadata": {},
   "outputs": [],
   "source": [
    "#?\n",
    "n_data = []\n",
    "for each in df_svm.values:\n",
    "    n_point = []\n",
    "    for i, v in enumerate(each):\n",
    "        if i in d:\n",
    "            cat = list(np.zeros(shape=nd[i]))\n",
    "            cat[d[i][v]] = 1\n",
    "            n_point.extend(cat)\n",
    "            \n",
    "        else:\n",
    "            n_point.append(v)\n",
    "            \n",
    "    n_data.append(n_point)\n",
    "\n",
    "#?\n",
    "n_data_X = list(map(lambda x: x[:-3], n_data))"
   ]
  },
  {
   "cell_type": "code",
   "execution_count": 99,
   "metadata": {},
   "outputs": [],
   "source": [
    "n_data_y_nafld = list(map(lambda x: x[-1], n_data))\n",
    "n_data_y_fib = list(map(lambda x: x[-2], n_data))\n",
    "n_data_y_nash = list(map(lambda x: x[-3], n_data))"
   ]
  },
  {
   "cell_type": "code",
   "execution_count": 100,
   "metadata": {},
   "outputs": [
    {
     "data": {
      "text/plain": [
       "list"
      ]
     },
     "execution_count": 100,
     "metadata": {},
     "output_type": "execute_result"
    }
   ],
   "source": [
    "type(n_data_y_nafld)"
   ]
  },
  {
   "cell_type": "code",
   "execution_count": 112,
   "metadata": {},
   "outputs": [],
   "source": [
    "n_data_X = np.array(n_data_X)\n",
    "data_nafld = list(zip(n_data_X, n_data_y_nafld))\n",
    "data_nash = list(zip(n_data_X, n_data_y_nash))\n",
    "data_fib = list(zip(n_data_X, n_data_y_fib))"
   ]
  },
  {
   "cell_type": "code",
   "execution_count": 113,
   "metadata": {},
   "outputs": [],
   "source": [
    "trs_nafld, tss_nafld = train_test_split(data_nafld, test_size=0.2, random_state=seed)\n",
    "trs_nash, tss_nash = train_test_split(data_nash, test_size=0.2, random_state=seed)\n",
    "trs_fib, tss_fib = train_test_split(data_fib, test_size=0.2, random_state=seed)"
   ]
  },
  {
   "cell_type": "code",
   "execution_count": 114,
   "metadata": {},
   "outputs": [],
   "source": [
    "train_x, train_y = xys(trs_nafld)\n",
    "test_y, test_y = xys(tss_nafld)\n",
    "\n",
    "pkl_process(data=train_x, file=\"data/MIX_train_x_nalfd.pkl\", mode=\"dump\")\n",
    "pkl_process(data=train_y, file=\"data/MIX_train_y_nalfd.pkl\", mode=\"dump\")\n",
    "pkl_process(data=test_x, file=\"data/MIX_test_x_nalfd.pkl\", mode=\"dump\")\n",
    "pkl_process(data=test_y, file=\"data/MIX_test_y_nalfd.pkl\", mode=\"dump\")"
   ]
  },
  {
   "cell_type": "code",
   "execution_count": 121,
   "metadata": {
    "scrolled": false
   },
   "outputs": [],
   "source": [
    "train_X, train_y = xys(trs_nash)\n",
    "test_X, test_y = xys(tss_nash)\n",
    "\n",
    "pkl_process(data=train_X, file=\"data/MIX_train_x_nash.pkl\", mode=\"dump\")\n",
    "pkl_process(data=train_y, file=\"data/MIX_train_y_nash.pkl\", mode=\"dump\")\n",
    "pkl_process(data=test_X, file=\"data/MIX_test_x_nash.pkl\", mode=\"dump\")\n",
    "pkl_process(data=test_y, file=\"data/MIX_test_y_nash.pkl\", mode=\"dump\")"
   ]
  },
  {
   "cell_type": "code",
   "execution_count": 122,
   "metadata": {},
   "outputs": [],
   "source": [
    "train_X, train_y = xys(trs_fib)\n",
    "test_X, test_y = xys(tss_fib)\n",
    "\n",
    "pkl_process(data=train_X, file=\"data/MIX_train_x_fib.pkl\", mode=\"dump\")\n",
    "pkl_process(data=train_y, file=\"data/MIX_train_y_fib.pkl\", mode=\"dump\")\n",
    "pkl_process(data=test_X, file=\"data/MIX_test_x_fib.pkl\", mode=\"dump\")\n",
    "pkl_process(data=test_y, file=\"data/MIX_test_y_fib.pkl\", mode=\"dump\")"
   ]
  },
  {
   "cell_type": "markdown",
   "metadata": {},
   "source": [
    "#### NAFLD"
   ]
  },
  {
   "cell_type": "code",
   "execution_count": 129,
   "metadata": {},
   "outputs": [],
   "source": [
    "train_x, train_y = xys(trs_nafld)\n",
    "test_x, test_y = xys(tss_nafld)"
   ]
  },
  {
   "cell_type": "code",
   "execution_count": 131,
   "metadata": {},
   "outputs": [
    {
     "name": "stdout",
     "output_type": "stream",
     "text": [
      "Best Estimator:  DecisionTreeClassifier(class_weight='balanced', criterion='entropy',\n",
      "            max_depth=25, max_features='log2', max_leaf_nodes=None,\n",
      "            min_impurity_decrease=0.01, min_impurity_split=None,\n",
      "            min_samples_leaf=1, min_samples_split=2,\n",
      "            min_weight_fraction_leaf=0.0, presort=False, random_state=13,\n",
      "            splitter='best')\n",
      "Parameter eval score:  0.800824592074592\n"
     ]
    },
    {
     "data": {
      "image/png": "[encoded data removed]",
      "text/plain": [
       "<Figure size 432x288 with 1 Axes>"
      ]
     },
     "metadata": {
      "needs_background": "light"
     },
     "output_type": "display_data"
    },
    {
     "name": "stdout",
     "output_type": "stream",
     "text": [
      "AUC_ROC Score:  0.7217371323529412  cutoff:  0.4017216642754662\n",
      "\n",
      "**************************************************\n",
      "\n",
      "DecisionTreeClassifier(class_weight=None, criterion='entropy', max_depth=5,\n",
      "            max_features=None, max_leaf_nodes=None,\n",
      "            min_impurity_decrease=0.01, min_impurity_split=None,\n",
      "            min_samples_leaf=4, min_samples_split=2,\n",
      "            min_weight_fraction_leaf=0.0, presort=False, random_state=13,\n",
      "            splitter='best')\n",
      "PRF score:  (0.7837837837837838, 0.90625, 0.8405797101449275, None)\n",
      "\n"
     ]
    }
   ],
   "source": [
    "global_jobs(DecisionTreeClassifier(), tuned_parameters, train_x, train_y, test_x, test_y, model_dict=all_models, model_name='DT_NAFLD_MIX')"
   ]
  },
  {
   "cell_type": "markdown",
   "metadata": {},
   "source": [
    " #### NASH"
   ]
  },
  {
   "cell_type": "code",
   "execution_count": 132,
   "metadata": {},
   "outputs": [],
   "source": [
    "train_x, train_y = xys(trs_nash)\n",
    "test_x, test_y = xys(tss_nash)"
   ]
  },
  {
   "cell_type": "code",
   "execution_count": 133,
   "metadata": {},
   "outputs": [
    {
     "name": "stdout",
     "output_type": "stream",
     "text": [
      "Best Estimator:  DecisionTreeClassifier(class_weight=None, criterion='entropy', max_depth=10,\n",
      "            max_features=None, max_leaf_nodes=None,\n",
      "            min_impurity_decrease=0.01, min_impurity_split=None,\n",
      "            min_samples_leaf=4, min_samples_split=2,\n",
      "            min_weight_fraction_leaf=0.0, presort=False, random_state=13,\n",
      "            splitter='random')\n",
      "Parameter eval score:  0.7521342043624653\n"
     ]
    },
    {
     "data": {
      "image/png": "[encoded data removed]",
      "text/plain": [
       "<Figure size 432x288 with 1 Axes>"
      ]
     },
     "metadata": {
      "needs_background": "light"
     },
     "output_type": "display_data"
    },
    {
     "name": "stdout",
     "output_type": "stream",
     "text": [
      "AUC_ROC Score:  0.7267573696145124  cutoff:  0.367816091954023\n",
      "\n",
      "**************************************************\n",
      "\n",
      "DecisionTreeClassifier(class_weight='balanced', criterion='gini', max_depth=5,\n",
      "            max_features=None, max_leaf_nodes=None,\n",
      "            min_impurity_decrease=0.01, min_impurity_split=None,\n",
      "            min_samples_leaf=4, min_samples_split=2,\n",
      "            min_weight_fraction_leaf=0.0, presort=False, random_state=13,\n",
      "            splitter='best')\n",
      "PRF score:  (0.5428571428571428, 0.5428571428571428, 0.5428571428571428, None)\n",
      "\n"
     ]
    }
   ],
   "source": [
    "global_jobs(DecisionTreeClassifier(), tuned_parameters, train_x, train_y, test_x, test_y, model_dict=all_models, model_name='DT_NASH_MIX')"
   ]
  },
  {
   "cell_type": "markdown",
   "metadata": {},
   "source": [
    "#### Fibrosis"
   ]
  },
  {
   "cell_type": "code",
   "execution_count": 134,
   "metadata": {},
   "outputs": [],
   "source": [
    "train_x, train_y = xys(trs_fib)\n",
    "test_x, test_y = xys(tss_fib)"
   ]
  },
  {
   "cell_type": "code",
   "execution_count": 135,
   "metadata": {},
   "outputs": [
    {
     "name": "stdout",
     "output_type": "stream",
     "text": [
      "Best Estimator:  DecisionTreeClassifier(class_weight=None, criterion='gini', max_depth=5,\n",
      "            max_features='auto', max_leaf_nodes=None,\n",
      "            min_impurity_decrease=0.0, min_impurity_split=None,\n",
      "            min_samples_leaf=1, min_samples_split=4,\n",
      "            min_weight_fraction_leaf=0.0, presort=False, random_state=13,\n",
      "            splitter='best')\n",
      "Parameter eval score:  0.770109861484542\n"
     ]
    },
    {
     "data": {
      "image/png": "[encoded data removed]",
      "text/plain": [
       "<Figure size 432x288 with 1 Axes>"
      ]
     },
     "metadata": {
      "needs_background": "light"
     },
     "output_type": "display_data"
    },
    {
     "name": "stdout",
     "output_type": "stream",
     "text": [
      "AUC_ROC Score:  0.6379310344827586  cutoff:  0.072992700729927\n",
      "\n",
      "**************************************************\n",
      "\n",
      "DecisionTreeClassifier(class_weight='balanced', criterion='entropy',\n",
      "            max_depth=5, max_features=None, max_leaf_nodes=None,\n",
      "            min_impurity_decrease=0.0, min_impurity_split=None,\n",
      "            min_samples_leaf=1, min_samples_split=2,\n",
      "            min_weight_fraction_leaf=0.0, presort=False, random_state=13,\n",
      "            splitter='best')\n",
      "PRF score:  (0.4444444444444444, 0.36363636363636365, 0.39999999999999997, None)\n",
      "\n"
     ]
    }
   ],
   "source": [
    "global_jobs(DecisionTreeClassifier(), tuned_parameters, train_x, train_y, test_x, test_y, model_dict=all_models, model_name='DT_FIB_MIX')"
   ]
  },
  {
   "cell_type": "markdown",
   "metadata": {},
   "source": [
    "## Random Forest"
   ]
  },
  {
   "cell_type": "code",
   "execution_count": 136,
   "metadata": {},
   "outputs": [],
   "source": [
    "tuned_parameters = {'n_estimators':[10, 50, 100, 500, 1000], 'criterion':['gini', 'entropy'], 'random_state':[seed], \n",
    "                    'max_features':['log2', 'auto', None], 'min_samples_split':[2, 4], 'max_depth': [2, 5, 10, 25, 50, None], \n",
    "                    'min_samples_leaf':[1,2,4], 'class_weight': [None, 'balanced', 'balanced_subsample']}"
   ]
  },
  {
   "cell_type": "markdown",
   "metadata": {},
   "source": [
    "### OHE"
   ]
  },
  {
   "cell_type": "markdown",
   "metadata": {},
   "source": [
    "#### NAFLD"
   ]
  },
  {
   "cell_type": "code",
   "execution_count": 137,
   "metadata": {},
   "outputs": [
    {
     "name": "stdout",
     "output_type": "stream",
     "text": [
      "Best Estimator:  RandomForestClassifier(bootstrap=True, class_weight=None, criterion='gini',\n",
      "            max_depth=5, max_features='auto', max_leaf_nodes=None,\n",
      "            min_impurity_decrease=0.0, min_impurity_split=None,\n",
      "            min_samples_leaf=1, min_samples_split=4,\n",
      "            min_weight_fraction_leaf=0.0, n_estimators=50, n_jobs=None,\n",
      "            oob_score=False, random_state=13, verbose=0, warm_start=False)\n",
      "Parameter eval score:  0.8649331827592697\n"
     ]
    },
    {
     "data": {
      "image/png": "[encoded data removed]",
      "text/plain": [
       "<Figure size 432x288 with 1 Axes>"
      ]
     },
     "metadata": {
      "needs_background": "light"
     },
     "output_type": "display_data"
    },
    {
     "name": "stdout",
     "output_type": "stream",
     "text": [
      "AUC_ROC Score:  0.8814338235294117  cutoff:  0.6300896400680214\n",
      "\n",
      "**************************************************\n",
      "\n",
      "RandomForestClassifier(bootstrap=True, class_weight=None, criterion='gini',\n",
      "            max_depth=5, max_features='log2', max_leaf_nodes=None,\n",
      "            min_impurity_decrease=0.0, min_impurity_split=None,\n",
      "            min_samples_leaf=1, min_samples_split=2,\n",
      "            min_weight_fraction_leaf=0.0, n_estimators=100, n_jobs=None,\n",
      "            oob_score=False, random_state=13, verbose=0, warm_start=False)\n",
      "PRF score:  (0.7922077922077922, 0.953125, 0.8652482269503546, None)\n",
      "\n"
     ]
    }
   ],
   "source": [
    "global_jobs(RandomForestClassifier(), tuned_parameters, train_x_ohe, train_y_nafld, test_x_ohe, test_y_nafld, model_dict=all_models, model_name='RF_NAFLD_OHE')"
   ]
  },
  {
   "cell_type": "markdown",
   "metadata": {},
   "source": [
    "#### NASH"
   ]
  },
  {
   "cell_type": "code",
   "execution_count": 138,
   "metadata": {},
   "outputs": [
    {
     "name": "stdout",
     "output_type": "stream",
     "text": [
      "Best Estimator:  RandomForestClassifier(bootstrap=True, class_weight=None, criterion='entropy',\n",
      "            max_depth=5, max_features='log2', max_leaf_nodes=None,\n",
      "            min_impurity_decrease=0.0, min_impurity_split=None,\n",
      "            min_samples_leaf=1, min_samples_split=4,\n",
      "            min_weight_fraction_leaf=0.0, n_estimators=500, n_jobs=None,\n",
      "            oob_score=False, random_state=13, verbose=0, warm_start=False)\n",
      "Parameter eval score:  0.8123934228010316\n"
     ]
    },
    {
     "data": {
      "image/png": "[encoded data removed]",
      "text/plain": [
       "<Figure size 432x288 with 1 Axes>"
      ]
     },
     "metadata": {
      "needs_background": "light"
     },
     "output_type": "display_data"
    },
    {
     "name": "stdout",
     "output_type": "stream",
     "text": [
      "AUC_ROC Score:  0.7353741496598639  cutoff:  0.37557150058878785\n",
      "\n",
      "**************************************************\n",
      "\n",
      "RandomForestClassifier(bootstrap=True, class_weight='balanced_subsample',\n",
      "            criterion='gini', max_depth=5, max_features='log2',\n",
      "            max_leaf_nodes=None, min_impurity_decrease=0.0,\n",
      "            min_impurity_split=None, min_samples_leaf=1,\n",
      "            min_samples_split=2, min_weight_fraction_leaf=0.0,\n",
      "            n_estimators=100, n_jobs=None, oob_score=False,\n",
      "            random_state=13, verbose=0, warm_start=False)\n",
      "PRF score:  (0.5517241379310345, 0.45714285714285713, 0.5, None)\n",
      "\n"
     ]
    }
   ],
   "source": [
    "global_jobs(RandomForestClassifier(), tuned_parameters, train_x_ohe, train_y_nash, test_x_ohe, test_y_nash, model_dict=all_models, model_name='RF_NASH_OHE')"
   ]
  },
  {
   "cell_type": "markdown",
   "metadata": {},
   "source": [
    "#### Fibrosis"
   ]
  },
  {
   "cell_type": "code",
   "execution_count": 140,
   "metadata": {},
   "outputs": [
    {
     "name": "stdout",
     "output_type": "stream",
     "text": [
      "Best Estimator:  RandomForestClassifier(bootstrap=True, class_weight=None, criterion='entropy',\n",
      "            max_depth=2, max_features='auto', max_leaf_nodes=None,\n",
      "            min_impurity_decrease=0.0, min_impurity_split=None,\n",
      "            min_samples_leaf=1, min_samples_split=2,\n",
      "            min_weight_fraction_leaf=0.0, n_estimators=100, n_jobs=None,\n",
      "            oob_score=False, random_state=13, verbose=0, warm_start=False)\n",
      "Parameter eval score:  0.8228917743239992\n"
     ]
    },
    {
     "data": {
      "image/png": "[encoded data removed]",
      "text/plain": [
       "<Figure size 432x288 with 1 Axes>"
      ]
     },
     "metadata": {
      "needs_background": "light"
     },
     "output_type": "display_data"
    },
    {
     "name": "stdout",
     "output_type": "stream",
     "text": [
      "AUC_ROC Score:  0.7136886102403344  cutoff:  0.10552223082633963\n",
      "\n",
      "**************************************************\n",
      "\n",
      "RandomForestClassifier(bootstrap=True, class_weight='balanced',\n",
      "            criterion='entropy', max_depth=5, max_features='auto',\n",
      "            max_leaf_nodes=None, min_impurity_decrease=0.0,\n",
      "            min_impurity_split=None, min_samples_leaf=4,\n",
      "            min_samples_split=2, min_weight_fraction_leaf=0.0,\n",
      "            n_estimators=100, n_jobs=None, oob_score=False,\n",
      "            random_state=13, verbose=0, warm_start=False)\n",
      "PRF score:  (0.8333333333333334, 0.45454545454545453, 0.5882352941176471, None)\n",
      "\n"
     ]
    }
   ],
   "source": [
    "global_jobs(RandomForestClassifier(), tuned_parameters, train_x_ohe, train_y_fib, test_x_ohe, test_y_fib, model_dict=all_models, model_name='RF_FIB_OHE')"
   ]
  },
  {
   "cell_type": "markdown",
   "metadata": {},
   "source": [
    "### No data transformation"
   ]
  },
  {
   "cell_type": "markdown",
   "metadata": {},
   "source": [
    "#### NAFLD"
   ]
  },
  {
   "cell_type": "code",
   "execution_count": 141,
   "metadata": {},
   "outputs": [],
   "source": [
    "train_x, train_y = xys(trs_nafld)\n",
    "test_x, test_y = xys(tss_nafld)"
   ]
  },
  {
   "cell_type": "code",
   "execution_count": 142,
   "metadata": {},
   "outputs": [
    {
     "name": "stdout",
     "output_type": "stream",
     "text": [
      "Best Estimator:  RandomForestClassifier(bootstrap=True, class_weight='balanced',\n",
      "            criterion='gini', max_depth=10, max_features='log2',\n",
      "            max_leaf_nodes=None, min_impurity_decrease=0.0,\n",
      "            min_impurity_split=None, min_samples_leaf=1,\n",
      "            min_samples_split=2, min_weight_fraction_leaf=0.0,\n",
      "            n_estimators=500, n_jobs=None, oob_score=False,\n",
      "            random_state=13, verbose=0, warm_start=False)\n",
      "Parameter eval score:  0.9062652926783362\n"
     ]
    },
    {
     "data": {
      "image/png": "[encoded data removed]",
      "text/plain": [
       "<Figure size 432x288 with 1 Axes>"
      ]
     },
     "metadata": {
      "needs_background": "light"
     },
     "output_type": "display_data"
    },
    {
     "name": "stdout",
     "output_type": "stream",
     "text": [
      "AUC_ROC Score:  0.9278492647058824  cutoff:  0.6259120004406149\n",
      "\n",
      "**************************************************\n",
      "\n",
      "RandomForestClassifier(bootstrap=True, class_weight='balanced_subsample',\n",
      "            criterion='entropy', max_depth=10, max_features='log2',\n",
      "            max_leaf_nodes=None, min_impurity_decrease=0.0,\n",
      "            min_impurity_split=None, min_samples_leaf=4,\n",
      "            min_samples_split=2, min_weight_fraction_leaf=0.0,\n",
      "            n_estimators=500, n_jobs=None, oob_score=False,\n",
      "            random_state=13, verbose=0, warm_start=False)\n",
      "PRF score:  (0.9193548387096774, 0.890625, 0.9047619047619047, None)\n",
      "\n"
     ]
    }
   ],
   "source": [
    "global_jobs(RandomForestClassifier(), tuned_parameters, train_x, train_y, test_x, test_y, model_dict=all_models, model_name='RF_NAFLD_MIX')"
   ]
  },
  {
   "cell_type": "markdown",
   "metadata": {},
   "source": [
    "#### NASH"
   ]
  },
  {
   "cell_type": "code",
   "execution_count": 147,
   "metadata": {},
   "outputs": [],
   "source": [
    "train_x, train_y = xys(trs_nash)\n",
    "test_x, test_y = xys(tss_nash)"
   ]
  },
  {
   "cell_type": "code",
   "execution_count": 144,
   "metadata": {},
   "outputs": [
    {
     "name": "stdout",
     "output_type": "stream",
     "text": [
      "Best Estimator:  RandomForestClassifier(bootstrap=True, class_weight=None, criterion='entropy',\n",
      "            max_depth=25, max_features='log2', max_leaf_nodes=None,\n",
      "            min_impurity_decrease=0.0, min_impurity_split=None,\n",
      "            min_samples_leaf=4, min_samples_split=2,\n",
      "            min_weight_fraction_leaf=0.0, n_estimators=100, n_jobs=None,\n",
      "            oob_score=False, random_state=13, verbose=0, warm_start=False)\n",
      "Parameter eval score:  0.8270564198281589\n"
     ]
    },
    {
     "data": {
      "image/png": "[encoded data removed]",
      "text/plain": [
       "<Figure size 432x288 with 1 Axes>"
      ]
     },
     "metadata": {
      "needs_background": "light"
     },
     "output_type": "display_data"
    },
    {
     "name": "stdout",
     "output_type": "stream",
     "text": [
      "AUC_ROC Score:  0.7451247165532879  cutoff:  0.3226490453990454\n",
      "\n",
      "**************************************************\n",
      "\n",
      "RandomForestClassifier(bootstrap=True, class_weight='balanced_subsample',\n",
      "            criterion='entropy', max_depth=5, max_features='auto',\n",
      "            max_leaf_nodes=None, min_impurity_decrease=0.0,\n",
      "            min_impurity_split=None, min_samples_leaf=4,\n",
      "            min_samples_split=2, min_weight_fraction_leaf=0.0,\n",
      "            n_estimators=500, n_jobs=None, oob_score=False,\n",
      "            random_state=13, verbose=0, warm_start=False)\n",
      "PRF score:  (0.53125, 0.4857142857142857, 0.5074626865671641, None)\n",
      "\n"
     ]
    }
   ],
   "source": [
    "global_jobs(RandomForestClassifier(), tuned_parameters, train_x, train_y, test_x, test_y, model_dict=all_models, model_name='RF_NASH_MIX')"
   ]
  },
  {
   "cell_type": "markdown",
   "metadata": {},
   "source": [
    "#### FIB"
   ]
  },
  {
   "cell_type": "code",
   "execution_count": 145,
   "metadata": {},
   "outputs": [],
   "source": [
    "train_x, train_y = xys(trs_fib)\n",
    "test_x, test_y = xys(tss_fib)"
   ]
  },
  {
   "cell_type": "code",
   "execution_count": 146,
   "metadata": {},
   "outputs": [
    {
     "name": "stdout",
     "output_type": "stream",
     "text": [
      "Best Estimator:  RandomForestClassifier(bootstrap=True, class_weight=None, criterion='gini',\n",
      "            max_depth=5, max_features='auto', max_leaf_nodes=None,\n",
      "            min_impurity_decrease=0.0, min_impurity_split=None,\n",
      "            min_samples_leaf=1, min_samples_split=2,\n",
      "            min_weight_fraction_leaf=0.0, n_estimators=1000, n_jobs=None,\n",
      "            oob_score=False, random_state=13, verbose=0, warm_start=False)\n",
      "Parameter eval score:  0.8557035069694918\n"
     ]
    },
    {
     "data": {
      "image/png": "[encoded data removed]",
      "text/plain": [
       "<Figure size 432x288 with 1 Axes>"
      ]
     },
     "metadata": {
      "needs_background": "light"
     },
     "output_type": "display_data"
    },
    {
     "name": "stdout",
     "output_type": "stream",
     "text": [
      "AUC_ROC Score:  0.812957157784744  cutoff:  0.09521220828992838\n",
      "\n",
      "**************************************************\n",
      "\n",
      "RandomForestClassifier(bootstrap=True, class_weight='balanced',\n",
      "            criterion='entropy', max_depth=5, max_features=None,\n",
      "            max_leaf_nodes=None, min_impurity_decrease=0.0,\n",
      "            min_impurity_split=None, min_samples_leaf=4,\n",
      "            min_samples_split=2, min_weight_fraction_leaf=0.0,\n",
      "            n_estimators=100, n_jobs=None, oob_score=False,\n",
      "            random_state=13, verbose=0, warm_start=False)\n",
      "PRF score:  (0.6666666666666666, 0.36363636363636365, 0.4705882352941177, None)\n",
      "\n"
     ]
    }
   ],
   "source": [
    "global_jobs(RandomForestClassifier(), tuned_parameters, train_x, train_y, test_x, test_y, model_dict=all_models, model_name='RF_FIB_MIX')"
   ]
  },
  {
   "cell_type": "code",
   "execution_count": null,
   "metadata": {},
   "outputs": [],
   "source": []
  }
 ],
 "metadata": {
  "kernelspec": {
   "display_name": "Python 3",
   "language": "python",
   "name": "python3"
  },
  "language_info": {
   "codemirror_mode": {
    "name": "ipython",
    "version": 3
   },
   "file_extension": ".py",
   "mimetype": "text/x-python",
   "name": "python",
   "nbconvert_exporter": "python",
   "pygments_lexer": "ipython3",
   "version": "3.7.1"
  }
 },
 "nbformat": 4,
 "nbformat_minor": 2
}
