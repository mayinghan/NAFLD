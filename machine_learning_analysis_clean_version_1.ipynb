{
 "cells": [
  {
   "cell_type": "code",
   "execution_count": 1,
   "metadata": {
    "ExecuteTime": {
     "end_time": "2019-04-03T17:46:35.505981Z",
     "start_time": "2019-04-03T17:46:35.469151Z"
    }
   },
   "outputs": [],
   "source": [
    "%load_ext autoreload\n",
    "%autoreload 2"
   ]
  },
  {
   "cell_type": "code",
   "execution_count": 2,
   "metadata": {
    "ExecuteTime": {
     "end_time": "2019-04-03T17:46:36.265281Z",
     "start_time": "2019-04-03T17:46:36.247236Z"
    }
   },
   "outputs": [],
   "source": [
    "import sys\n",
    "import os\n",
    "sys.path.append('/Users/alexgre/workspace/py3/NAFLD/clean_project/scripts')"
   ]
  },
  {
   "cell_type": "code",
   "execution_count": 3,
   "metadata": {
    "ExecuteTime": {
     "end_time": "2019-04-03T17:46:38.963092Z",
     "start_time": "2019-04-03T17:46:37.167094Z"
    }
   },
   "outputs": [
    {
     "name": "stderr",
     "output_type": "stream",
     "text": [
      "2019-04-03 13:46:38 - INFO - sciki-learn package version: 0.20.0\n"
     ]
    }
   ],
   "source": [
    "from utils import pkl_load, save_models, results2json, load_json\n",
    "from nafld_config import SEED, DATASET, ROOT, RESULTS_DIR, MODEL_DIR\n",
    "from experiments import auc_expr, two_results_t_test"
   ]
  },
  {
   "cell_type": "code",
   "execution_count": 4,
   "metadata": {
    "ExecuteTime": {
     "end_time": "2019-04-03T17:46:39.061128Z",
     "start_time": "2019-04-03T17:46:38.965424Z"
    }
   },
   "outputs": [],
   "source": [
    "# load X data\n",
    "ohe_w_homa_dx = pkl_load(f\"{DATASET}/ohe_X.pkl\")\n",
    "ohe_wo_homa_dx = pkl_load(f\"{DATASET}/ohe_no_homa_X.pkl\")\n",
    "mix_w_homa_dx = pkl_load(f\"{DATASET}/mix_X.pkl\")\n",
    "mix_wo_homa_dx = pkl_load(f\"{DATASET}/mix_no_homa_X.pkl\")"
   ]
  },
  {
   "cell_type": "markdown",
   "metadata": {},
   "source": [
    "**file name convention:**\n",
    "\n",
    "```\n",
    "{model}_{data}_{liver_disease}_{with/no_homa}_(other).{suffix}\n",
    "```"
   ]
  },
  {
   "cell_type": "code",
   "execution_count": 5,
   "metadata": {
    "ExecuteTime": {
     "end_time": "2019-04-03T17:47:05.952014Z",
     "start_time": "2019-04-03T17:47:05.920387Z"
    }
   },
   "outputs": [],
   "source": [
    "def run_experiment(clf, tuned_parameters, dx, dy, model_name, dty, disease, homa=\"wo\", score_method='roc_auc'):\n",
    "    # performance experiment\n",
    "    optimized_model, best_score, d = auc_expr(clf, tuned_parameters, dx, dy, score_method)\n",
    "    print(f\"5-cv performance: {best_score:.4f}; sensitivity: {d['tpr']:.4f}; specificity: {1-d['fpr']:.4f}\")\n",
    "    print(f\"20x5-fold cv mean: {d['cv_mean']:.4f} std: {d['cv_std']:.4f} 95% CI: {d['95ci']}\")\n",
    "    # save model and results\n",
    "    save_models(optimized_model, f\"{model_name}_{dty}_{disease}_{homa}_HOMA_model\")\n",
    "    results2json(d, f\"{model_name}_{dty}_{disease}_{homa}_HOMA_results.json\")"
   ]
  },
  {
   "cell_type": "markdown",
   "metadata": {},
   "source": [
    "# Logistic Regression"
   ]
  },
  {
   "cell_type": "code",
   "execution_count": 6,
   "metadata": {
    "ExecuteTime": {
     "end_time": "2019-04-03T17:47:07.758208Z",
     "start_time": "2019-04-03T17:47:07.038919Z"
    }
   },
   "outputs": [],
   "source": [
    "from sklearn.linear_model import LogisticRegression"
   ]
  },
  {
   "cell_type": "code",
   "execution_count": 7,
   "metadata": {
    "ExecuteTime": {
     "end_time": "2019-04-03T17:47:08.173750Z",
     "start_time": "2019-04-03T17:47:08.150174Z"
    }
   },
   "outputs": [],
   "source": [
    "tuned_parameters = {'max_iter': [100, 500, 1000, 2000, 5000], 'tol': [0.0001, 0.001, 0.01, 0.1],\n",
    "                        'random_state': [SEED], 'C': [0.01, 0.1, 1.0, 10.0, 50.0, 100.0, 500.0, 1000.0],\n",
    "                        'solver': ['lbfgs', 'liblinear', 'newton-cg'], 'class_weight': [None, 'balanced']}"
   ]
  },
  {
   "cell_type": "code",
   "execution_count": 8,
   "metadata": {
    "ExecuteTime": {
     "end_time": "2019-04-03T17:47:08.822726Z",
     "start_time": "2019-04-03T17:47:08.799371Z"
    }
   },
   "outputs": [],
   "source": [
    "model_name = \"LR\""
   ]
  },
  {
   "cell_type": "markdown",
   "metadata": {},
   "source": [
    "## OHE"
   ]
  },
  {
   "cell_type": "code",
   "execution_count": 9,
   "metadata": {
    "ExecuteTime": {
     "end_time": "2019-04-03T17:47:09.871394Z",
     "start_time": "2019-04-03T17:47:09.847704Z"
    }
   },
   "outputs": [],
   "source": [
    "dty = \"OHE\""
   ]
  },
  {
   "cell_type": "markdown",
   "metadata": {},
   "source": [
    "### NAFLD"
   ]
  },
  {
   "cell_type": "code",
   "execution_count": 10,
   "metadata": {
    "ExecuteTime": {
     "end_time": "2019-04-03T17:47:12.162345Z",
     "start_time": "2019-04-03T17:47:12.095288Z"
    }
   },
   "outputs": [],
   "source": [
    "dy = pkl_load(f\"{DATASET}/y_nafld.pkl\")\n",
    "disease = \"NAFLD\""
   ]
  },
  {
   "cell_type": "code",
   "execution_count": 11,
   "metadata": {
    "ExecuteTime": {
     "end_time": "2019-04-03T17:47:28.764806Z",
     "start_time": "2019-04-03T17:47:13.551197Z"
    },
    "scrolled": true
   },
   "outputs": [
    {
     "name": "stderr",
     "output_type": "stream",
     "text": [
      "2019-04-03 13:47:13 - INFO - total number of parameter combinations searched: 240\n"
     ]
    },
    {
     "name": "stdout",
     "output_type": "stream",
     "text": [
      "Fitting 5 folds for each of 240 candidates, totalling 1200 fits\n"
     ]
    },
    {
     "name": "stderr",
     "output_type": "stream",
     "text": [
      "[Parallel(n_jobs=-1)]: Using backend LokyBackend with 8 concurrent workers.\n",
      "[Parallel(n_jobs=-1)]: Done  34 tasks      | elapsed:    1.4s\n",
      "[Parallel(n_jobs=-1)]: Done 1061 tasks      | elapsed:   11.1s\n",
      "[Parallel(n_jobs=-1)]: Done 1200 out of 1200 | elapsed:   12.6s finished\n",
      "2019-04-03 13:47:26 - INFO - best model:\n",
      " LogisticRegression(C=0.1, class_weight='balanced', dual=False,\n",
      "          fit_intercept=True, intercept_scaling=1, max_iter=500,\n",
      "          multi_class='warn', n_jobs=None, penalty='l2', random_state=13,\n",
      "          solver='lbfgs', tol=0.0001, verbose=0, warm_start=False)\n",
      "2019-04-03 13:47:26 - INFO - parameters tuning best results (averaged): 0.8797056175744881\n",
      "2019-04-03 13:47:26 - INFO - 5-fold CV final results on all prediction (not averaged): 0.8759007047272153\n",
      "2019-04-03 13:47:26 - INFO - seeds: [41, 39, 37, 35, 33, 31, 29, 27, 25, 23, 21, 19, 17, 15, 13, 11, 9, 7, 5, 3]\n"
     ]
    },
    {
     "name": "stdout",
     "output_type": "stream",
     "text": [
      "5-cv performance: 0.8759; sensitivity: 0.7370; specificity: 0.8699\n",
      "20x5-fold cv mean: 0.8731 std: 0.0355 95% CI: (0.8660087032065235, 0.8801587773389182)\n"
     ]
    }
   ],
   "source": [
    "#with homa auc_roc\n",
    "# load dataset\n",
    "'''\n",
    "5-cv performance: 0.8759; sensitivity: 0.7370; specificity: 0.8699\n",
    "20x5-fold cv mean: 0.8731 std: 0.0355 95% CI: (0.8660087032065235, 0.8801587773389182)\n",
    "'''\n",
    "dx = ohe_w_homa_dx\n",
    "run_experiment(LogisticRegression(), tuned_parameters, dx, dy, model_name, dty, disease, homa=\"w\", score_method='roc_auc')"
   ]
  },
  {
   "cell_type": "code",
   "execution_count": null,
   "metadata": {
    "ExecuteTime": {
     "end_time": "2019-04-02T22:23:57.602581Z",
     "start_time": "2019-04-02T22:23:32.111044Z"
    }
   },
   "outputs": [],
   "source": [
    "# no homa auc_roc\n",
    "# load dataset\n",
    "'''\n",
    "5-cv performance: 0.8657; sensitivity: 0.7139; specificity: 0.8836\n",
    "20x5-fold cv mean: 0.8632 std: 0.0361 95% CI: (0.8560302511221977, 0.8704303400108072)\n",
    "'''\n",
    "dx = ohe_wo_homa_dx\n",
    "run_experiment(LogisticRegression(), tuned_parameters, dx, dy, model_name, dty, disease, homa=\"wo\", score_method='roc_auc')"
   ]
  },
  {
   "cell_type": "code",
   "execution_count": null,
   "metadata": {
    "ExecuteTime": {
     "end_time": "2019-04-02T22:23:57.640619Z",
     "start_time": "2019-04-02T22:23:57.604507Z"
    }
   },
   "outputs": [],
   "source": [
    "# homa: w==with wo==without\n",
    "d_homa = load_json(f\"{RESULTS_DIR}/{model_name}_{dty}_{disease}_w_HOMA_results.json\")\n",
    "d_no_homa = load_json(f\"{RESULTS_DIR}/{model_name}_{dty}_{disease}_wo_HOMA_results.json\")\n",
    "two_results_t_test(d_homa['cv_scores'], d_no_homa['cv_scores'])"
   ]
  },
  {
   "cell_type": "markdown",
   "metadata": {},
   "source": [
    "### FIB"
   ]
  },
  {
   "cell_type": "code",
   "execution_count": null,
   "metadata": {
    "ExecuteTime": {
     "end_time": "2019-04-02T22:23:57.668756Z",
     "start_time": "2019-04-02T22:23:57.642353Z"
    }
   },
   "outputs": [],
   "source": [
    "dy = pkl_load(f\"{DATASET}/y_fib.pkl\")\n",
    "disease = \"FIB\""
   ]
  },
  {
   "cell_type": "code",
   "execution_count": null,
   "metadata": {
    "ExecuteTime": {
     "end_time": "2019-04-02T22:24:22.693186Z",
     "start_time": "2019-04-02T22:23:57.670443Z"
    }
   },
   "outputs": [],
   "source": [
    "#with homa auc_roc\n",
    "# load dataset\n",
    "dx = ohe_w_homa_dx\n",
    "run_experiment(LogisticRegression(), tuned_parameters, dx, dy, \n",
    "               model_name, dty, disease, homa=\"w\", score_method='roc_auc')"
   ]
  },
  {
   "cell_type": "code",
   "execution_count": null,
   "metadata": {
    "ExecuteTime": {
     "end_time": "2019-04-02T22:24:50.024129Z",
     "start_time": "2019-04-02T22:24:22.695106Z"
    }
   },
   "outputs": [],
   "source": [
    "# no homa auc_roc\n",
    "# load dataset\n",
    "dx = ohe_wo_homa_dx\n",
    "run_experiment(LogisticRegression(), tuned_parameters, dx, dy, \n",
    "               model_name, dty, disease, homa=\"wo\", score_method='roc_auc')"
   ]
  },
  {
   "cell_type": "code",
   "execution_count": null,
   "metadata": {
    "ExecuteTime": {
     "end_time": "2019-04-02T22:24:50.120448Z",
     "start_time": "2019-04-02T22:24:50.025963Z"
    }
   },
   "outputs": [],
   "source": [
    "d_homa = load_json(f\"{RESULTS_DIR}/{model_name}_{dty}_{disease}_w_HOMA_results.json\")\n",
    "d_no_homa = load_json(f\"{RESULTS_DIR}/{model_name}_{dty}_{disease}_wo_HOMA_results.json\")\n",
    "two_results_t_test(d_homa['cv_scores'], d_no_homa['cv_scores'])"
   ]
  },
  {
   "cell_type": "markdown",
   "metadata": {},
   "source": [
    "### NASH"
   ]
  },
  {
   "cell_type": "code",
   "execution_count": null,
   "metadata": {
    "ExecuteTime": {
     "end_time": "2019-04-02T22:24:50.153605Z",
     "start_time": "2019-04-02T22:24:50.122838Z"
    }
   },
   "outputs": [],
   "source": [
    "dy = pkl_load(f\"{DATASET}/y_nash.pkl\")\n",
    "disease = \"NASH\""
   ]
  },
  {
   "cell_type": "code",
   "execution_count": null,
   "metadata": {
    "ExecuteTime": {
     "end_time": "2019-04-02T22:25:13.277513Z",
     "start_time": "2019-04-02T22:24:50.156358Z"
    }
   },
   "outputs": [],
   "source": [
    "#with homa auc_roc\n",
    "# load dataset\n",
    "dx = ohe_w_homa_dx\n",
    "run_experiment(LogisticRegression(), tuned_parameters, dx, dy, \n",
    "               model_name, dty, disease, homa=\"w\", score_method='roc_auc')"
   ]
  },
  {
   "cell_type": "code",
   "execution_count": null,
   "metadata": {
    "ExecuteTime": {
     "end_time": "2019-04-02T22:25:36.374065Z",
     "start_time": "2019-04-02T22:25:13.278949Z"
    }
   },
   "outputs": [],
   "source": [
    "# no homa auc_roc\n",
    "# load dataset\n",
    "dx = ohe_wo_homa_dx\n",
    "run_experiment(LogisticRegression(), tuned_parameters, dx, dy, \n",
    "               model_name, dty, disease, homa=\"wo\", score_method='roc_auc')"
   ]
  },
  {
   "cell_type": "code",
   "execution_count": null,
   "metadata": {
    "ExecuteTime": {
     "end_time": "2019-04-02T22:25:36.403887Z",
     "start_time": "2019-04-02T22:25:36.375933Z"
    }
   },
   "outputs": [],
   "source": [
    "d_homa = load_json(f\"{RESULTS_DIR}/{model_name}_{dty}_{disease}_w_HOMA_results.json\")\n",
    "d_no_homa = load_json(f\"{RESULTS_DIR}/{model_name}_{dty}_{disease}_wo_HOMA_results.json\")\n",
    "\n",
    "two_results_t_test(d_homa['cv_scores'], d_no_homa['cv_scores'])"
   ]
  },
  {
   "cell_type": "markdown",
   "metadata": {},
   "source": [
    "## MIX"
   ]
  },
  {
   "cell_type": "code",
   "execution_count": null,
   "metadata": {
    "ExecuteTime": {
     "end_time": "2019-04-02T22:25:36.430412Z",
     "start_time": "2019-04-02T22:25:36.405725Z"
    }
   },
   "outputs": [],
   "source": [
    "dty = \"MIX\""
   ]
  },
  {
   "cell_type": "markdown",
   "metadata": {},
   "source": [
    "### NAFLD"
   ]
  },
  {
   "cell_type": "code",
   "execution_count": null,
   "metadata": {
    "ExecuteTime": {
     "end_time": "2019-04-02T22:25:36.457191Z",
     "start_time": "2019-04-02T22:25:36.432129Z"
    }
   },
   "outputs": [],
   "source": [
    "dy = pkl_load(f\"{DATASET}/y_nafld.pkl\")\n",
    "disease = \"NAFLD\""
   ]
  },
  {
   "cell_type": "code",
   "execution_count": null,
   "metadata": {
    "ExecuteTime": {
     "end_time": "2019-04-02T22:27:20.127943Z",
     "start_time": "2019-04-02T22:25:36.459144Z"
    }
   },
   "outputs": [],
   "source": [
    "dx = mix_w_homa_dx\n",
    "run_experiment(LogisticRegression(), tuned_parameters, dx, dy, \n",
    "               model_name, dty, disease, homa=\"w\", score_method='roc_auc')"
   ]
  },
  {
   "cell_type": "code",
   "execution_count": null,
   "metadata": {
    "ExecuteTime": {
     "end_time": "2019-04-02T22:29:09.137167Z",
     "start_time": "2019-04-02T22:27:20.130341Z"
    }
   },
   "outputs": [],
   "source": [
    "dx = mix_wo_homa_dx\n",
    "run_experiment(LogisticRegression(), tuned_parameters, dx, dy, \n",
    "               model_name, dty, disease, homa=\"wo\", score_method='roc_auc')"
   ]
  },
  {
   "cell_type": "code",
   "execution_count": null,
   "metadata": {
    "ExecuteTime": {
     "end_time": "2019-04-02T22:29:09.235392Z",
     "start_time": "2019-04-02T22:29:09.139663Z"
    }
   },
   "outputs": [],
   "source": [
    "d_homa = load_json(f\"{RESULTS_DIR}/{model_name}_{dty}_{disease}_w_HOMA_results.json\")\n",
    "d_no_homa = load_json(f\"{RESULTS_DIR}/{model_name}_{dty}_{disease}_wo_HOMA_results.json\")\n",
    "\n",
    "two_results_t_test(d_homa['cv_scores'], d_no_homa['cv_scores'])"
   ]
  },
  {
   "cell_type": "markdown",
   "metadata": {},
   "source": [
    "### FIB"
   ]
  },
  {
   "cell_type": "code",
   "execution_count": null,
   "metadata": {
    "ExecuteTime": {
     "end_time": "2019-04-02T22:29:09.268555Z",
     "start_time": "2019-04-02T22:29:09.238257Z"
    }
   },
   "outputs": [],
   "source": [
    "dy = pkl_load(f\"{DATASET}/y_fib.pkl\")\n",
    "disease = \"FIB\""
   ]
  },
  {
   "cell_type": "code",
   "execution_count": null,
   "metadata": {
    "ExecuteTime": {
     "end_time": "2019-04-02T22:31:02.011567Z",
     "start_time": "2019-04-02T22:29:09.270697Z"
    }
   },
   "outputs": [],
   "source": [
    "dx = mix_w_homa_dx\n",
    "run_experiment(LogisticRegression(), tuned_parameters, dx, dy, \n",
    "               model_name, dty, disease, homa=\"w\", score_method='roc_auc')"
   ]
  },
  {
   "cell_type": "code",
   "execution_count": null,
   "metadata": {
    "ExecuteTime": {
     "end_time": "2019-04-02T22:32:55.786039Z",
     "start_time": "2019-04-02T22:31:02.013436Z"
    }
   },
   "outputs": [],
   "source": [
    "dx = mix_wo_homa_dx\n",
    "run_experiment(LogisticRegression(), tuned_parameters, dx, dy, \n",
    "               model_name, dty, disease, homa=\"wo\", score_method='roc_auc')"
   ]
  },
  {
   "cell_type": "code",
   "execution_count": null,
   "metadata": {
    "ExecuteTime": {
     "end_time": "2019-04-02T22:32:55.876567Z",
     "start_time": "2019-04-02T22:32:55.788257Z"
    }
   },
   "outputs": [],
   "source": [
    "d_homa = load_json(f\"{RESULTS_DIR}/{model_name}_{dty}_{disease}_w_HOMA_results.json\")\n",
    "d_no_homa = load_json(f\"{RESULTS_DIR}/{model_name}_{dty}_{disease}_wo_HOMA_results.json\")\n",
    "two_results_t_test(d_homa['cv_scores'], d_no_homa['cv_scores'])"
   ]
  },
  {
   "cell_type": "markdown",
   "metadata": {},
   "source": [
    "### NASH"
   ]
  },
  {
   "cell_type": "code",
   "execution_count": null,
   "metadata": {
    "ExecuteTime": {
     "end_time": "2019-04-02T22:32:55.908698Z",
     "start_time": "2019-04-02T22:32:55.878354Z"
    }
   },
   "outputs": [],
   "source": [
    "dy = pkl_load(f\"{DATASET}/y_nash.pkl\")\n",
    "disease = \"NASH\""
   ]
  },
  {
   "cell_type": "code",
   "execution_count": null,
   "metadata": {
    "ExecuteTime": {
     "end_time": "2019-04-02T22:34:45.900458Z",
     "start_time": "2019-04-02T22:32:55.911229Z"
    }
   },
   "outputs": [],
   "source": [
    "dx = mix_w_homa_dx\n",
    "run_experiment(LogisticRegression(), tuned_parameters, dx, dy, \n",
    "               model_name, dty, disease, homa=\"w\", score_method='roc_auc')"
   ]
  },
  {
   "cell_type": "code",
   "execution_count": null,
   "metadata": {
    "ExecuteTime": {
     "end_time": "2019-04-02T22:36:40.294118Z",
     "start_time": "2019-04-02T22:34:45.902659Z"
    }
   },
   "outputs": [],
   "source": [
    "dx = mix_wo_homa_dx\n",
    "run_experiment(LogisticRegression(), tuned_parameters, dx, dy, \n",
    "               model_name, dty, disease, homa=\"wo\", score_method='roc_auc')"
   ]
  },
  {
   "cell_type": "code",
   "execution_count": null,
   "metadata": {
    "ExecuteTime": {
     "end_time": "2019-04-02T22:36:40.327330Z",
     "start_time": "2019-04-02T22:36:40.295906Z"
    }
   },
   "outputs": [],
   "source": [
    "d_homa = load_json(f\"{RESULTS_DIR}/{model_name}_{dty}_{disease}_w_HOMA_results.json\")\n",
    "d_no_homa = load_json(f\"{RESULTS_DIR}/{model_name}_{dty}_{disease}_wo_HOMA_results.json\")\n",
    "two_results_t_test(d_homa['cv_scores'], d_no_homa['cv_scores'])"
   ]
  },
  {
   "cell_type": "markdown",
   "metadata": {},
   "source": [
    "# svm"
   ]
  },
  {
   "cell_type": "code",
   "execution_count": null,
   "metadata": {
    "ExecuteTime": {
     "end_time": "2019-04-02T22:36:40.354885Z",
     "start_time": "2019-04-02T22:36:40.328862Z"
    }
   },
   "outputs": [],
   "source": [
    "from sklearn.svm import SVC"
   ]
  },
  {
   "cell_type": "code",
   "execution_count": null,
   "metadata": {
    "ExecuteTime": {
     "end_time": "2019-04-02T22:36:40.382502Z",
     "start_time": "2019-04-02T22:36:40.356612Z"
    }
   },
   "outputs": [],
   "source": [
    "tuned_parameters = {\"C\": [0.001, 0.01, 0.1, 2, 8, 32, 64, 128, 512, 1024, 2048], \n",
    "                    'probability':[True], \n",
    "                    'tol': [0.1, 0.01, 0.001, 0.0001], \n",
    "                    'random_state':[SEED], 'gamma': ['scale', 'auto']}"
   ]
  },
  {
   "cell_type": "code",
   "execution_count": null,
   "metadata": {
    "ExecuteTime": {
     "end_time": "2019-04-02T22:36:40.408736Z",
     "start_time": "2019-04-02T22:36:40.383914Z"
    }
   },
   "outputs": [],
   "source": [
    "'''\n",
    "for svm, only categorical features can be used due to model\n",
    "'''\n",
    "model_name = \"SVM\"\n",
    "dty = \"OHE\""
   ]
  },
  {
   "cell_type": "markdown",
   "metadata": {},
   "source": [
    "## NAFLD"
   ]
  },
  {
   "cell_type": "code",
   "execution_count": null,
   "metadata": {
    "ExecuteTime": {
     "end_time": "2019-04-02T22:36:40.435918Z",
     "start_time": "2019-04-02T22:36:40.410483Z"
    }
   },
   "outputs": [],
   "source": [
    "dy = pkl_load(f\"{DATASET}/y_nafld.pkl\")\n",
    "disease = \"NAFLD\""
   ]
  },
  {
   "cell_type": "code",
   "execution_count": null,
   "metadata": {
    "ExecuteTime": {
     "end_time": "2019-04-02T22:36:44.518009Z",
     "start_time": "2019-04-02T22:36:40.437683Z"
    }
   },
   "outputs": [],
   "source": [
    "dx = ohe_w_homa_dx\n",
    "run_experiment(SVC(), tuned_parameters, dx, dy, \n",
    "               model_name, dty, disease, homa=\"w\", score_method='roc_auc')"
   ]
  },
  {
   "cell_type": "code",
   "execution_count": null,
   "metadata": {
    "ExecuteTime": {
     "end_time": "2019-04-02T22:36:48.406457Z",
     "start_time": "2019-04-02T22:36:44.519595Z"
    }
   },
   "outputs": [],
   "source": [
    "dx = ohe_wo_homa_dx\n",
    "run_experiment(SVC(), tuned_parameters, dx, dy, \n",
    "               model_name, dty, disease, homa=\"wo\", score_method='roc_auc')"
   ]
  },
  {
   "cell_type": "code",
   "execution_count": null,
   "metadata": {
    "ExecuteTime": {
     "end_time": "2019-04-02T22:36:48.434627Z",
     "start_time": "2019-04-02T22:36:48.408053Z"
    }
   },
   "outputs": [],
   "source": [
    "d_homa = load_json(f\"{RESULTS_DIR}/{model_name}_{dty}_{disease}_w_HOMA_results.json\")\n",
    "d_no_homa = load_json(f\"{RESULTS_DIR}/{model_name}_{dty}_{disease}_wo_HOMA_results.json\")\n",
    "two_results_t_test(d_homa['cv_scores'], d_no_homa['cv_scores'])"
   ]
  },
  {
   "cell_type": "markdown",
   "metadata": {},
   "source": [
    "## FIB"
   ]
  },
  {
   "cell_type": "code",
   "execution_count": null,
   "metadata": {
    "ExecuteTime": {
     "end_time": "2019-04-02T22:36:48.460528Z",
     "start_time": "2019-04-02T22:36:48.436219Z"
    }
   },
   "outputs": [],
   "source": [
    "dy = pkl_load(f\"{DATASET}/y_fib.pkl\")\n",
    "disease = \"FIB\""
   ]
  },
  {
   "cell_type": "code",
   "execution_count": null,
   "metadata": {
    "ExecuteTime": {
     "end_time": "2019-04-02T22:36:51.533014Z",
     "start_time": "2019-04-02T22:36:48.462482Z"
    }
   },
   "outputs": [],
   "source": [
    "dx = ohe_w_homa_dx\n",
    "run_experiment(SVC(), tuned_parameters, dx, dy, \n",
    "               model_name, dty, disease, homa=\"w\", score_method='roc_auc')"
   ]
  },
  {
   "cell_type": "code",
   "execution_count": null,
   "metadata": {
    "ExecuteTime": {
     "end_time": "2019-04-02T22:36:54.487884Z",
     "start_time": "2019-04-02T22:36:51.534562Z"
    }
   },
   "outputs": [],
   "source": [
    "dx = ohe_wo_homa_dx\n",
    "run_experiment(SVC(), tuned_parameters, dx, dy, \n",
    "               model_name, dty, disease, homa=\"wo\", score_method='roc_auc')"
   ]
  },
  {
   "cell_type": "code",
   "execution_count": null,
   "metadata": {
    "ExecuteTime": {
     "end_time": "2019-04-02T22:36:54.587793Z",
     "start_time": "2019-04-02T22:36:54.489277Z"
    }
   },
   "outputs": [],
   "source": [
    "d_homa = load_json(f\"{RESULTS_DIR}/{model_name}_{dty}_{disease}_w_HOMA_results.json\")\n",
    "d_no_homa = load_json(f\"{RESULTS_DIR}/{model_name}_{dty}_{disease}_wo_HOMA_results.json\")\n",
    "two_results_t_test(d_homa['cv_scores'], d_no_homa['cv_scores'])"
   ]
  },
  {
   "cell_type": "markdown",
   "metadata": {},
   "source": [
    "## NASH"
   ]
  },
  {
   "cell_type": "code",
   "execution_count": null,
   "metadata": {
    "ExecuteTime": {
     "end_time": "2019-04-02T22:36:54.619238Z",
     "start_time": "2019-04-02T22:36:54.589617Z"
    }
   },
   "outputs": [],
   "source": [
    "dy = pkl_load(f\"{DATASET}/y_nash.pkl\")\n",
    "disease = \"NASH\""
   ]
  },
  {
   "cell_type": "code",
   "execution_count": null,
   "metadata": {
    "ExecuteTime": {
     "end_time": "2019-04-02T22:37:00.163677Z",
     "start_time": "2019-04-02T22:36:54.621628Z"
    }
   },
   "outputs": [],
   "source": [
    "dx = ohe_w_homa_dx\n",
    "run_experiment(SVC(), tuned_parameters, dx, dy, \n",
    "               model_name, dty, disease, homa=\"w\", score_method='roc_auc')"
   ]
  },
  {
   "cell_type": "code",
   "execution_count": null,
   "metadata": {
    "ExecuteTime": {
     "end_time": "2019-04-02T22:37:05.666498Z",
     "start_time": "2019-04-02T22:37:00.165289Z"
    }
   },
   "outputs": [],
   "source": [
    "dx = ohe_wo_homa_dx\n",
    "run_experiment(SVC(), tuned_parameters, dx, dy, \n",
    "               model_name, dty, disease, homa=\"wo\", score_method='roc_auc')"
   ]
  },
  {
   "cell_type": "code",
   "execution_count": null,
   "metadata": {
    "ExecuteTime": {
     "end_time": "2019-04-02T22:37:05.694926Z",
     "start_time": "2019-04-02T22:37:05.668145Z"
    }
   },
   "outputs": [],
   "source": [
    "d_homa = load_json(f\"{RESULTS_DIR}/{model_name}_{dty}_{disease}_w_HOMA_results.json\")\n",
    "d_no_homa = load_json(f\"{RESULTS_DIR}/{model_name}_{dty}_{disease}_wo_HOMA_results.json\")\n",
    "two_results_t_test(d_homa['cv_scores'], d_no_homa['cv_scores'])"
   ]
  },
  {
   "cell_type": "markdown",
   "metadata": {},
   "source": [
    "# Decision Tree"
   ]
  },
  {
   "cell_type": "code",
   "execution_count": null,
   "metadata": {
    "ExecuteTime": {
     "end_time": "2019-04-03T14:50:24.216767Z",
     "start_time": "2019-04-03T14:50:24.188712Z"
    }
   },
   "outputs": [],
   "source": [
    "from sklearn.tree import DecisionTreeClassifier"
   ]
  },
  {
   "cell_type": "code",
   "execution_count": null,
   "metadata": {
    "ExecuteTime": {
     "end_time": "2019-04-03T14:50:24.833890Z",
     "start_time": "2019-04-03T14:50:24.803512Z"
    }
   },
   "outputs": [],
   "source": [
    "tuned_parameters = {'criterion':['gini', 'entropy'], 'random_state':[SEED], 'max_depth': [3, 5, 10, 25, 50, None],\n",
    "                    'max_features':['log2', 'auto', None], 'min_samples_split':[2, 4], \n",
    "                    'splitter':['best', 'random'],'min_samples_leaf':[1, 2, 4], \n",
    "                    'class_weight': [None, 'balanced'], \n",
    "                    'min_impurity_decrease': [0.1, 0.00001, 0.0001, 0.001, 0.01]}\n",
    "model_name = \"DT\""
   ]
  },
  {
   "cell_type": "markdown",
   "metadata": {},
   "source": [
    "## OHE"
   ]
  },
  {
   "cell_type": "code",
   "execution_count": null,
   "metadata": {
    "ExecuteTime": {
     "end_time": "2019-04-03T14:50:26.016326Z",
     "start_time": "2019-04-03T14:50:25.986743Z"
    }
   },
   "outputs": [],
   "source": [
    "dty = \"OHE\""
   ]
  },
  {
   "cell_type": "markdown",
   "metadata": {},
   "source": [
    "### NAFLD"
   ]
  },
  {
   "cell_type": "code",
   "execution_count": null,
   "metadata": {
    "ExecuteTime": {
     "end_time": "2019-04-03T14:50:27.375685Z",
     "start_time": "2019-04-03T14:50:27.345408Z"
    }
   },
   "outputs": [],
   "source": [
    "dy = pkl_load(f\"{DATASET}/y_nafld.pkl\")\n",
    "disease = \"NAFLD\""
   ]
  },
  {
   "cell_type": "code",
   "execution_count": null,
   "metadata": {
    "ExecuteTime": {
     "end_time": "2019-04-03T14:50:34.230008Z",
     "start_time": "2019-04-03T14:50:29.298907Z"
    }
   },
   "outputs": [],
   "source": [
    "dx = ohe_w_homa_dx\n",
    "run_experiment(DecisionTreeClassifier(), tuned_parameters, dx, dy, \n",
    "               model_name, dty, disease, homa=\"w\", score_method='roc_auc')"
   ]
  },
  {
   "cell_type": "code",
   "execution_count": null,
   "metadata": {
    "ExecuteTime": {
     "end_time": "2019-04-03T14:50:37.915451Z",
     "start_time": "2019-04-03T14:50:34.232846Z"
    }
   },
   "outputs": [],
   "source": [
    "dx = ohe_wo_homa_dx\n",
    "run_experiment(DecisionTreeClassifier(), tuned_parameters, dx, dy, \n",
    "               model_name, dty, disease, homa=\"wo\", score_method='roc_auc')"
   ]
  },
  {
   "cell_type": "code",
   "execution_count": null,
   "metadata": {
    "ExecuteTime": {
     "end_time": "2019-04-03T11:37:48.220808Z",
     "start_time": "2019-04-03T11:37:48.129733Z"
    }
   },
   "outputs": [],
   "source": [
    "d_homa = load_json(f\"{RESULTS_DIR}/{model_name}_{dty}_{disease}_w_HOMA_results.json\")\n",
    "d_no_homa = load_json(f\"{RESULTS_DIR}/{model_name}_{dty}_{disease}_wo_HOMA_results.json\")\n",
    "two_results_t_test(d_homa['cv_scores'], d_no_homa['cv_scores'])"
   ]
  },
  {
   "cell_type": "markdown",
   "metadata": {},
   "source": [
    "### FIB"
   ]
  },
  {
   "cell_type": "code",
   "execution_count": null,
   "metadata": {
    "ExecuteTime": {
     "end_time": "2019-04-03T11:37:57.177619Z",
     "start_time": "2019-04-03T11:37:57.141051Z"
    }
   },
   "outputs": [],
   "source": [
    "dy = pkl_load(f\"{DATASET}/y_fib.pkl\")\n",
    "disease = \"FIB\""
   ]
  },
  {
   "cell_type": "code",
   "execution_count": null,
   "metadata": {
    "ExecuteTime": {
     "end_time": "2019-04-03T11:38:02.055376Z",
     "start_time": "2019-04-03T11:37:57.739933Z"
    }
   },
   "outputs": [],
   "source": [
    "dx = ohe_w_homa_dx\n",
    "run_experiment(DecisionTreeClassifier(), tuned_parameters, dx, dy, \n",
    "               model_name, dty, disease, homa=\"w\", score_method='roc_auc')"
   ]
  },
  {
   "cell_type": "code",
   "execution_count": null,
   "metadata": {
    "ExecuteTime": {
     "end_time": "2019-04-03T11:38:06.145820Z",
     "start_time": "2019-04-03T11:38:02.057089Z"
    }
   },
   "outputs": [],
   "source": [
    "dx = ohe_wo_homa_dx\n",
    "run_experiment(DecisionTreeClassifier(), tuned_parameters, dx, dy, \n",
    "               model_name, dty, disease, homa=\"wo\", score_method='roc_auc')"
   ]
  },
  {
   "cell_type": "code",
   "execution_count": null,
   "metadata": {
    "ExecuteTime": {
     "end_time": "2019-04-03T11:38:06.237835Z",
     "start_time": "2019-04-03T11:38:06.147419Z"
    }
   },
   "outputs": [],
   "source": [
    "d_homa = load_json(f\"{RESULTS_DIR}/{model_name}_{dty}_{disease}_w_HOMA_results.json\")\n",
    "d_no_homa = load_json(f\"{RESULTS_DIR}/{model_name}_{dty}_{disease}_wo_HOMA_results.json\")\n",
    "two_results_t_test(d_homa['cv_scores'], d_no_homa['cv_scores'])"
   ]
  },
  {
   "cell_type": "markdown",
   "metadata": {},
   "source": [
    "### NASH"
   ]
  },
  {
   "cell_type": "code",
   "execution_count": null,
   "metadata": {
    "ExecuteTime": {
     "end_time": "2019-04-03T11:38:06.265166Z",
     "start_time": "2019-04-03T11:38:06.239663Z"
    }
   },
   "outputs": [],
   "source": [
    "dy = pkl_load(f\"{DATASET}/y_nash.pkl\")\n",
    "disease = \"NASH\""
   ]
  },
  {
   "cell_type": "code",
   "execution_count": null,
   "metadata": {
    "ExecuteTime": {
     "end_time": "2019-04-03T11:38:10.910099Z",
     "start_time": "2019-04-03T11:38:06.266861Z"
    }
   },
   "outputs": [],
   "source": [
    "dx = ohe_w_homa_dx\n",
    "run_experiment(DecisionTreeClassifier(), tuned_parameters, dx, dy, \n",
    "               model_name, dty, disease, homa=\"w\", score_method='roc_auc')"
   ]
  },
  {
   "cell_type": "code",
   "execution_count": null,
   "metadata": {
    "ExecuteTime": {
     "end_time": "2019-04-03T11:38:15.551682Z",
     "start_time": "2019-04-03T11:38:10.912068Z"
    }
   },
   "outputs": [],
   "source": [
    "dx = ohe_wo_homa_dx\n",
    "run_experiment(DecisionTreeClassifier(), tuned_parameters, dx, dy, \n",
    "               model_name, dty, disease, homa=\"wo\", score_method='roc_auc')"
   ]
  },
  {
   "cell_type": "code",
   "execution_count": null,
   "metadata": {
    "ExecuteTime": {
     "end_time": "2019-04-03T11:38:15.643019Z",
     "start_time": "2019-04-03T11:38:15.553453Z"
    }
   },
   "outputs": [],
   "source": [
    "d_homa = load_json(f\"{RESULTS_DIR}/{model_name}_{dty}_{disease}_w_HOMA_results.json\")\n",
    "d_no_homa = load_json(f\"{RESULTS_DIR}/{model_name}_{dty}_{disease}_wo_HOMA_results.json\")\n",
    "two_results_t_test(d_homa['cv_scores'], d_no_homa['cv_scores'])"
   ]
  },
  {
   "cell_type": "markdown",
   "metadata": {},
   "source": [
    "## MIX"
   ]
  },
  {
   "cell_type": "code",
   "execution_count": null,
   "metadata": {
    "ExecuteTime": {
     "end_time": "2019-04-03T14:50:37.941562Z",
     "start_time": "2019-04-03T14:50:37.917356Z"
    }
   },
   "outputs": [],
   "source": [
    "dty = \"MIX\""
   ]
  },
  {
   "cell_type": "markdown",
   "metadata": {},
   "source": [
    "### NAFLD"
   ]
  },
  {
   "cell_type": "code",
   "execution_count": null,
   "metadata": {
    "ExecuteTime": {
     "end_time": "2019-04-03T14:50:37.967012Z",
     "start_time": "2019-04-03T14:50:37.943201Z"
    }
   },
   "outputs": [],
   "source": [
    "dy = pkl_load(f\"{DATASET}/y_nafld.pkl\")\n",
    "disease = \"NAFLD\""
   ]
  },
  {
   "cell_type": "code",
   "execution_count": null,
   "metadata": {
    "ExecuteTime": {
     "end_time": "2019-04-03T14:50:42.575022Z",
     "start_time": "2019-04-03T14:50:38.948278Z"
    }
   },
   "outputs": [],
   "source": [
    "dx = mix_w_homa_dx\n",
    "run_experiment(DecisionTreeClassifier(), tuned_parameters, dx, dy, \n",
    "               model_name, dty, disease, homa=\"w\", score_method='roc_auc')"
   ]
  },
  {
   "cell_type": "code",
   "execution_count": null,
   "metadata": {
    "ExecuteTime": {
     "end_time": "2019-04-03T14:50:46.725543Z",
     "start_time": "2019-04-03T14:50:43.036714Z"
    }
   },
   "outputs": [],
   "source": [
    "dx = mix_wo_homa_dx\n",
    "run_experiment(DecisionTreeClassifier(), tuned_parameters, dx, dy, \n",
    "               model_name, dty, disease, homa=\"wo\", score_method='roc_auc')"
   ]
  },
  {
   "cell_type": "code",
   "execution_count": null,
   "metadata": {
    "ExecuteTime": {
     "end_time": "2019-04-03T11:38:25.217873Z",
     "start_time": "2019-04-03T11:38:25.125868Z"
    }
   },
   "outputs": [],
   "source": [
    "d_homa = load_json(f\"{RESULTS_DIR}/{model_name}_{dty}_{disease}_w_HOMA_results.json\")\n",
    "d_no_homa = load_json(f\"{RESULTS_DIR}/{model_name}_{dty}_{disease}_wo_HOMA_results.json\")\n",
    "two_results_t_test(d_homa['cv_scores'], d_no_homa['cv_scores'])"
   ]
  },
  {
   "cell_type": "markdown",
   "metadata": {},
   "source": [
    "### FIB"
   ]
  },
  {
   "cell_type": "code",
   "execution_count": null,
   "metadata": {
    "ExecuteTime": {
     "end_time": "2019-04-03T11:38:25.249528Z",
     "start_time": "2019-04-03T11:38:25.219924Z"
    }
   },
   "outputs": [],
   "source": [
    "dy = pkl_load(f\"{DATASET}/y_fib.pkl\")\n",
    "disease = \"FIB\""
   ]
  },
  {
   "cell_type": "code",
   "execution_count": null,
   "metadata": {
    "ExecuteTime": {
     "end_time": "2019-04-03T11:38:29.760876Z",
     "start_time": "2019-04-03T11:38:25.251770Z"
    }
   },
   "outputs": [],
   "source": [
    "dx = mix_w_homa_dx\n",
    "run_experiment(DecisionTreeClassifier(), tuned_parameters, dx, dy, \n",
    "               model_name, dty, disease, homa=\"w\", score_method='roc_auc')"
   ]
  },
  {
   "cell_type": "code",
   "execution_count": null,
   "metadata": {
    "ExecuteTime": {
     "end_time": "2019-04-03T11:38:34.168783Z",
     "start_time": "2019-04-03T11:38:29.762494Z"
    }
   },
   "outputs": [],
   "source": [
    "dx = mix_wo_homa_dx\n",
    "run_experiment(DecisionTreeClassifier(), tuned_parameters, dx, dy, \n",
    "               model_name, dty, disease, homa=\"wo\", score_method='roc_auc')"
   ]
  },
  {
   "cell_type": "code",
   "execution_count": null,
   "metadata": {
    "ExecuteTime": {
     "end_time": "2019-04-03T11:38:34.261812Z",
     "start_time": "2019-04-03T11:38:34.170775Z"
    }
   },
   "outputs": [],
   "source": [
    "d_homa = load_json(f\"{RESULTS_DIR}/{model_name}_{dty}_{disease}_w_HOMA_results.json\")\n",
    "d_no_homa = load_json(f\"{RESULTS_DIR}/{model_name}_{dty}_{disease}_wo_HOMA_results.json\")\n",
    "two_results_t_test(d_homa['cv_scores'], d_no_homa['cv_scores'])"
   ]
  },
  {
   "cell_type": "markdown",
   "metadata": {},
   "source": [
    "### NASH"
   ]
  },
  {
   "cell_type": "code",
   "execution_count": null,
   "metadata": {
    "ExecuteTime": {
     "end_time": "2019-04-03T11:38:34.294421Z",
     "start_time": "2019-04-03T11:38:34.263999Z"
    }
   },
   "outputs": [],
   "source": [
    "dy = pkl_load(f\"{DATASET}/y_nash.pkl\")\n",
    "disease = \"NASH\""
   ]
  },
  {
   "cell_type": "code",
   "execution_count": null,
   "metadata": {
    "ExecuteTime": {
     "end_time": "2019-04-03T11:38:39.077858Z",
     "start_time": "2019-04-03T11:38:34.296678Z"
    }
   },
   "outputs": [],
   "source": [
    "dx = mix_w_homa_dx\n",
    "run_experiment(DecisionTreeClassifier(), tuned_parameters, dx, dy, \n",
    "               model_name, dty, disease, homa=\"w\", score_method='roc_auc')"
   ]
  },
  {
   "cell_type": "code",
   "execution_count": null,
   "metadata": {
    "ExecuteTime": {
     "end_time": "2019-04-03T11:38:43.717477Z",
     "start_time": "2019-04-03T11:38:39.079565Z"
    }
   },
   "outputs": [],
   "source": [
    "dx = mix_wo_homa_dx\n",
    "run_experiment(DecisionTreeClassifier(), tuned_parameters, dx, dy, \n",
    "               model_name, dty, disease, homa=\"wo\", score_method='roc_auc')"
   ]
  },
  {
   "cell_type": "code",
   "execution_count": null,
   "metadata": {
    "ExecuteTime": {
     "end_time": "2019-04-03T11:38:43.808528Z",
     "start_time": "2019-04-03T11:38:43.719305Z"
    }
   },
   "outputs": [],
   "source": [
    "d_homa = load_json(f\"{RESULTS_DIR}/{model_name}_{dty}_{disease}_w_HOMA_results.json\")\n",
    "d_no_homa = load_json(f\"{RESULTS_DIR}/{model_name}_{dty}_{disease}_wo_HOMA_results.json\")\n",
    "two_results_t_test(d_homa['cv_scores'], d_no_homa['cv_scores'])"
   ]
  },
  {
   "cell_type": "markdown",
   "metadata": {},
   "source": [
    "# Random Forest"
   ]
  },
  {
   "cell_type": "code",
   "execution_count": null,
   "metadata": {
    "ExecuteTime": {
     "end_time": "2019-04-03T11:38:43.841723Z",
     "start_time": "2019-04-03T11:38:43.811027Z"
    }
   },
   "outputs": [],
   "source": [
    "from sklearn.ensemble import RandomForestClassifier"
   ]
  },
  {
   "cell_type": "code",
   "execution_count": null,
   "metadata": {
    "ExecuteTime": {
     "end_time": "2019-04-03T11:51:51.109869Z",
     "start_time": "2019-04-03T11:51:51.075837Z"
    }
   },
   "outputs": [],
   "source": [
    "model_name = \"RF\"\n",
    "\n",
    "tuned_parameters = {'n_estimators':[10, 50, 100, 500, 1000, 2000, 3000], 'criterion':['gini', 'entropy'], \n",
    "                    'random_state':[SEED], 'max_features':['log2', 'auto', None], \n",
    "                    'min_samples_split':[2, 4], 'max_depth': [3, 5, 10, 25, 50, None], \n",
    "                    'min_samples_leaf':[1,2,4], \n",
    "                    'class_weight': [None, 'balanced', 'balanced_subsample']}"
   ]
  },
  {
   "cell_type": "markdown",
   "metadata": {},
   "source": [
    "## OHE"
   ]
  },
  {
   "cell_type": "code",
   "execution_count": null,
   "metadata": {
    "ExecuteTime": {
     "end_time": "2019-04-03T11:38:49.593680Z",
     "start_time": "2019-04-03T11:38:49.563273Z"
    }
   },
   "outputs": [],
   "source": [
    "dty = \"OHE\""
   ]
  },
  {
   "cell_type": "markdown",
   "metadata": {},
   "source": [
    "### NAFLD"
   ]
  },
  {
   "cell_type": "code",
   "execution_count": null,
   "metadata": {
    "ExecuteTime": {
     "end_time": "2019-04-03T11:38:51.530439Z",
     "start_time": "2019-04-03T11:38:51.499348Z"
    }
   },
   "outputs": [],
   "source": [
    "dy = pkl_load(f\"{DATASET}/y_nafld.pkl\")\n",
    "disease = \"NAFLD\""
   ]
  },
  {
   "cell_type": "code",
   "execution_count": null,
   "metadata": {
    "ExecuteTime": {
     "end_time": "2019-04-03T12:33:17.315687Z",
     "start_time": "2019-04-03T12:04:57.589769Z"
    }
   },
   "outputs": [],
   "source": [
    "dx = ohe_w_homa_dx\n",
    "run_experiment(RandomForestClassifier(), tuned_parameters, dx, dy, \n",
    "               model_name, dty, disease, homa=\"w\", score_method='roc_auc')"
   ]
  },
  {
   "cell_type": "code",
   "execution_count": null,
   "metadata": {
    "ExecuteTime": {
     "end_time": "2019-04-03T11:41:34.437995Z",
     "start_time": "2019-04-03T11:38:52.911Z"
    }
   },
   "outputs": [],
   "source": [
    "dx = ohe_wo_homa_dx\n",
    "run_experiment(RandomForestClassifier(), tuned_parameters, dx, dy, \n",
    "               model_name, dty, disease, homa=\"wo\", score_method='roc_auc')"
   ]
  },
  {
   "cell_type": "code",
   "execution_count": null,
   "metadata": {
    "ExecuteTime": {
     "end_time": "2019-04-03T11:41:34.439240Z",
     "start_time": "2019-04-03T11:38:53.687Z"
    }
   },
   "outputs": [],
   "source": [
    "d_homa = load_json(f\"{RESULTS_DIR}/{model_name}_{dty}_{disease}_w_HOMA_results.json\")\n",
    "d_no_homa = load_json(f\"{RESULTS_DIR}/{model_name}_{dty}_{disease}_wo_HOMA_results.json\")\n",
    "two_results_t_test(d_homa['cv_scores'], d_no_homa['cv_scores'])"
   ]
  },
  {
   "cell_type": "markdown",
   "metadata": {},
   "source": [
    "### FIB"
   ]
  },
  {
   "cell_type": "code",
   "execution_count": null,
   "metadata": {
    "ExecuteTime": {
     "end_time": "2019-04-03T11:41:34.440338Z",
     "start_time": "2019-04-03T11:38:55.504Z"
    }
   },
   "outputs": [],
   "source": [
    "dy = pkl_load(f\"{DATASET}/y_fib.pkl\")\n",
    "disease = \"FIB\""
   ]
  },
  {
   "cell_type": "code",
   "execution_count": null,
   "metadata": {
    "ExecuteTime": {
     "end_time": "2019-04-03T11:41:34.441397Z",
     "start_time": "2019-04-03T11:38:56.063Z"
    }
   },
   "outputs": [],
   "source": [
    "dx = ohe_w_homa_dx\n",
    "run_experiment(RandomForestClassifier(), tuned_parameters, dx, dy, \n",
    "               model_name, dty, disease, homa=\"w\", score_method='roc_auc')"
   ]
  },
  {
   "cell_type": "code",
   "execution_count": null,
   "metadata": {
    "ExecuteTime": {
     "end_time": "2019-04-03T11:41:34.442434Z",
     "start_time": "2019-04-03T11:38:56.559Z"
    }
   },
   "outputs": [],
   "source": [
    "dx = ohe_wo_homa_dx\n",
    "run_experiment(RandomForestClassifier(), tuned_parameters, dx, dy, \n",
    "               model_name, dty, disease, homa=\"wo\", score_method='roc_auc')"
   ]
  },
  {
   "cell_type": "code",
   "execution_count": null,
   "metadata": {
    "ExecuteTime": {
     "end_time": "2019-04-03T11:41:34.443591Z",
     "start_time": "2019-04-03T11:38:57.055Z"
    }
   },
   "outputs": [],
   "source": [
    "d_homa = load_json(f\"{RESULTS_DIR}/{model_name}_{dty}_{disease}_w_HOMA_results.json\")\n",
    "d_no_homa = load_json(f\"{RESULTS_DIR}/{model_name}_{dty}_{disease}_wo_HOMA_results.json\")\n",
    "two_results_t_test(d_homa['cv_scores'], d_no_homa['cv_scores'])"
   ]
  },
  {
   "cell_type": "markdown",
   "metadata": {},
   "source": [
    "### NASH"
   ]
  },
  {
   "cell_type": "code",
   "execution_count": null,
   "metadata": {
    "ExecuteTime": {
     "end_time": "2019-04-03T11:41:34.444873Z",
     "start_time": "2019-04-03T11:38:58.311Z"
    }
   },
   "outputs": [],
   "source": [
    "dy = pkl_load(f\"{DATASET}/y_nash.pkl\")\n",
    "disease = \"NASH\""
   ]
  },
  {
   "cell_type": "code",
   "execution_count": null,
   "metadata": {
    "ExecuteTime": {
     "end_time": "2019-04-03T11:41:34.446004Z",
     "start_time": "2019-04-03T11:38:58.823Z"
    }
   },
   "outputs": [],
   "source": [
    "dx = ohe_w_homa_dx\n",
    "run_experiment(RandomForestClassifier(), tuned_parameters, dx, dy, \n",
    "               model_name, dty, disease, homa=\"w\", score_method='roc_auc')"
   ]
  },
  {
   "cell_type": "code",
   "execution_count": null,
   "metadata": {
    "ExecuteTime": {
     "end_time": "2019-04-03T11:41:34.447085Z",
     "start_time": "2019-04-03T11:38:59.327Z"
    }
   },
   "outputs": [],
   "source": [
    "dx = ohe_wo_homa_dx\n",
    "run_experiment(RandomForestClassifier(), tuned_parameters, dx, dy, \n",
    "               model_name, dty, disease, homa=\"wo\", score_method='roc_auc')"
   ]
  },
  {
   "cell_type": "code",
   "execution_count": null,
   "metadata": {
    "ExecuteTime": {
     "end_time": "2019-04-03T11:41:34.448161Z",
     "start_time": "2019-04-03T11:38:59.847Z"
    }
   },
   "outputs": [],
   "source": [
    "d_homa = load_json(f\"{RESULTS_DIR}/{model_name}_{dty}_{disease}_w_HOMA_results.json\")\n",
    "d_no_homa = load_json(f\"{RESULTS_DIR}/{model_name}_{dty}_{disease}_wo_HOMA_results.json\")\n",
    "two_results_t_test(d_homa['cv_scores'], d_no_homa['cv_scores'])"
   ]
  },
  {
   "cell_type": "markdown",
   "metadata": {},
   "source": [
    "## MIX"
   ]
  },
  {
   "cell_type": "code",
   "execution_count": null,
   "metadata": {
    "ExecuteTime": {
     "end_time": "2019-04-03T11:41:34.449148Z",
     "start_time": "2019-04-03T11:39:00.895Z"
    }
   },
   "outputs": [],
   "source": [
    "dty = \"MIX\""
   ]
  },
  {
   "cell_type": "markdown",
   "metadata": {},
   "source": [
    "### NAFLD"
   ]
  },
  {
   "cell_type": "code",
   "execution_count": null,
   "metadata": {
    "ExecuteTime": {
     "end_time": "2019-04-03T11:41:34.450193Z",
     "start_time": "2019-04-03T11:39:01.959Z"
    }
   },
   "outputs": [],
   "source": [
    "dy = pkl_load(f\"{DATASET}/y_nafld.pkl\")\n",
    "disease = \"NAFLD\""
   ]
  },
  {
   "cell_type": "code",
   "execution_count": null,
   "metadata": {
    "ExecuteTime": {
     "end_time": "2019-04-03T11:41:34.451900Z",
     "start_time": "2019-04-03T11:39:02.479Z"
    }
   },
   "outputs": [],
   "source": [
    "dx = mix_w_homa_dx\n",
    "run_experiment(RandomForestClassifier(), tuned_parameters, dx, dy, \n",
    "               model_name, dty, disease, homa=\"w\", score_method='roc_auc')"
   ]
  },
  {
   "cell_type": "code",
   "execution_count": null,
   "metadata": {
    "ExecuteTime": {
     "end_time": "2019-04-03T11:41:34.459708Z",
     "start_time": "2019-04-03T11:39:02.999Z"
    }
   },
   "outputs": [],
   "source": [
    "dx = mix_wo_homa_dx\n",
    "run_experiment(RandomForestClassifier(), tuned_parameters, dx, dy, \n",
    "               model_name, dty, disease, homa=\"wo\", score_method='roc_auc')"
   ]
  },
  {
   "cell_type": "code",
   "execution_count": null,
   "metadata": {
    "ExecuteTime": {
     "end_time": "2019-04-03T11:41:34.461329Z",
     "start_time": "2019-04-03T11:39:03.527Z"
    }
   },
   "outputs": [],
   "source": [
    "d_homa = load_json(f\"{RESULTS_DIR}/{model_name}_{dty}_{disease}_w_HOMA_results.json\")\n",
    "d_no_homa = load_json(f\"{RESULTS_DIR}/{model_name}_{dty}_{disease}_wo_HOMA_results.json\")\n",
    "two_results_t_test(d_homa['cv_scores'], d_no_homa['cv_scores'])"
   ]
  },
  {
   "cell_type": "markdown",
   "metadata": {},
   "source": [
    "### FIB"
   ]
  },
  {
   "cell_type": "code",
   "execution_count": null,
   "metadata": {
    "ExecuteTime": {
     "end_time": "2019-04-03T11:41:34.462478Z",
     "start_time": "2019-04-03T11:39:04.623Z"
    }
   },
   "outputs": [],
   "source": [
    "dy = pkl_load(f\"{DATASET}/y_fib.pkl\")\n",
    "disease = \"FIB\""
   ]
  },
  {
   "cell_type": "code",
   "execution_count": null,
   "metadata": {
    "ExecuteTime": {
     "end_time": "2019-04-03T11:41:34.463372Z",
     "start_time": "2019-04-03T11:39:05.127Z"
    }
   },
   "outputs": [],
   "source": [
    "dx = mix_w_homa_dx\n",
    "run_experiment(RandomForestClassifier(), tuned_parameters, dx, dy, \n",
    "               model_name, dty, disease, homa=\"w\", score_method='roc_auc')"
   ]
  },
  {
   "cell_type": "code",
   "execution_count": null,
   "metadata": {
    "ExecuteTime": {
     "end_time": "2019-04-03T11:41:34.464364Z",
     "start_time": "2019-04-03T11:39:06.031Z"
    }
   },
   "outputs": [],
   "source": [
    "dx = mix_wo_homa_dx\n",
    "run_experiment(RandomForestClassifier(), tuned_parameters, dx, dy, \n",
    "               model_name, dty, disease, homa=\"wo\", score_method='roc_auc')"
   ]
  },
  {
   "cell_type": "code",
   "execution_count": null,
   "metadata": {
    "ExecuteTime": {
     "end_time": "2019-04-03T11:41:34.465312Z",
     "start_time": "2019-04-03T11:39:06.663Z"
    }
   },
   "outputs": [],
   "source": [
    "d_homa = load_json(f\"{RESULTS_DIR}/{model_name}_{dty}_{disease}_w_HOMA_results.json\")\n",
    "d_no_homa = load_json(f\"{RESULTS_DIR}/{model_name}_{dty}_{disease}_wo_HOMA_results.json\")\n",
    "two_results_t_test(d_homa['cv_scores'], d_no_homa['cv_scores'])"
   ]
  },
  {
   "cell_type": "markdown",
   "metadata": {},
   "source": [
    "### NASH"
   ]
  },
  {
   "cell_type": "code",
   "execution_count": null,
   "metadata": {
    "ExecuteTime": {
     "end_time": "2019-04-03T11:41:34.466509Z",
     "start_time": "2019-04-03T11:39:08.327Z"
    }
   },
   "outputs": [],
   "source": [
    "dy = pkl_load(f\"{DATASET}/y_nash.pkl\")\n",
    "disease = \"NASH\""
   ]
  },
  {
   "cell_type": "code",
   "execution_count": null,
   "metadata": {
    "ExecuteTime": {
     "end_time": "2019-04-03T11:41:34.467982Z",
     "start_time": "2019-04-03T11:39:08.927Z"
    }
   },
   "outputs": [],
   "source": [
    "dx = mix_w_homa_dx\n",
    "run_experiment(RandomForestClassifier(), tuned_parameters, dx, dy, \n",
    "               model_name, dty, disease, homa=\"w\", score_method='roc_auc')"
   ]
  },
  {
   "cell_type": "code",
   "execution_count": null,
   "metadata": {
    "ExecuteTime": {
     "end_time": "2019-04-03T11:41:34.469291Z",
     "start_time": "2019-04-03T11:39:09.511Z"
    }
   },
   "outputs": [],
   "source": [
    "dx = mix_wo_homa_dx\n",
    "run_experiment(RandomForestClassifier(), tuned_parameters, dx, dy, \n",
    "               model_name, dty, disease, homa=\"wo\", score_method='roc_auc')"
   ]
  },
  {
   "cell_type": "code",
   "execution_count": null,
   "metadata": {
    "ExecuteTime": {
     "end_time": "2019-04-03T11:41:34.470358Z",
     "start_time": "2019-04-03T11:39:10.143Z"
    }
   },
   "outputs": [],
   "source": [
    "d_homa = load_json(f\"{RESULTS_DIR}/{model_name}_{dty}_{disease}_w_HOMA_results.json\")\n",
    "d_no_homa = load_json(f\"{RESULTS_DIR}/{model_name}_{dty}_{disease}_wo_HOMA_results.json\")\n",
    "two_results_t_test(d_homa['cv_scores'], d_no_homa['cv_scores'])"
   ]
  },
  {
   "cell_type": "markdown",
   "metadata": {},
   "source": [
    "# XGBoost"
   ]
  },
  {
   "cell_type": "code",
   "execution_count": null,
   "metadata": {
    "ExecuteTime": {
     "end_time": "2019-04-03T12:40:09.887953Z",
     "start_time": "2019-04-03T12:40:09.805459Z"
    }
   },
   "outputs": [],
   "source": [
    "from xgboost import XGBClassifier"
   ]
  },
  {
   "cell_type": "code",
   "execution_count": null,
   "metadata": {
    "ExecuteTime": {
     "end_time": "2019-04-03T13:36:48.790998Z",
     "start_time": "2019-04-03T13:36:48.758233Z"
    }
   },
   "outputs": [],
   "source": [
    "model_name = \"XGB\"\n",
    "\n",
    "tuned_parameters = {'random_state':[SEED],  'max_depth': [3, 6, 9, 12, 15], 'learning_rate': [0.01, 0.05,  0.1], \n",
    "                    \"n_estimators\": [100, 500, 1000], 'gamma':[0, 0.5, 1], \n",
    "                    'subsample': [0.5, 0.75, 1], 'colsample_bytree': [0.5, 0.75, 1], \n",
    "                    'reg_alpha': [0.5, 1, 2],\n",
    "                    'reg_lambda': [0.5, 1, 2], 'objective':['binary:logistic'], \n",
    "                    'tree_method':['exact', 'approx', 'hist']}"
   ]
  },
  {
   "cell_type": "markdown",
   "metadata": {},
   "source": [
    "## OHE"
   ]
  },
  {
   "cell_type": "code",
   "execution_count": null,
   "metadata": {
    "ExecuteTime": {
     "end_time": "2019-04-03T12:40:28.547783Z",
     "start_time": "2019-04-03T12:40:28.523395Z"
    }
   },
   "outputs": [],
   "source": [
    "dty = \"OHE\""
   ]
  },
  {
   "cell_type": "markdown",
   "metadata": {},
   "source": [
    "### NAFLD"
   ]
  },
  {
   "cell_type": "code",
   "execution_count": null,
   "metadata": {
    "ExecuteTime": {
     "end_time": "2019-04-03T12:40:13.385938Z",
     "start_time": "2019-04-03T12:40:13.355218Z"
    }
   },
   "outputs": [],
   "source": [
    "dy = pkl_load(f\"{DATASET}/y_nafld.pkl\")\n",
    "disease = \"NAFLD\""
   ]
  },
  {
   "cell_type": "code",
   "execution_count": null,
   "metadata": {
    "ExecuteTime": {
     "end_time": "2019-04-03T14:13:10.773792Z",
     "start_time": "2019-04-03T14:12:57.583788Z"
    },
    "scrolled": true
   },
   "outputs": [],
   "source": [
    "'''\n",
    "2019-04-03 10:09:14 - INFO - XGBClassifier(base_score=0.5, booster='gbtree', colsample_bylevel=1,\n",
    "       colsample_bytree=1, gamma=0, learning_rate=0.1, max_delta_step=0,\n",
    "       max_depth=3, min_child_weight=1, missing=None, n_estimators=1000,\n",
    "       n_jobs=-1, nthread=None, objective='binary:logistic',\n",
    "       random_state=13, reg_alpha=2, reg_lambda=1, scale_pos_weight=1,\n",
    "       seed=None, silent=True, subsample=1, tree_method='hist',\n",
    "       verbosity=0)\n",
    "2019-04-03 10:09:14 - INFO - 0.8768044839368934\n",
    "5-cv performance: 0.8750; sensitivity: 0.7572; specificity: 0.8425\n",
    "20x5-fold cv mean: 0.8729 std: 0.0365 95% CI: (0.8656027431841128, 0.8801666506903788)\n",
    "'''\n",
    "dx = ohe_w_homa_dx\n",
    "run_experiment(XGBClassifier(), tuned_parameters, dx, dy, \n",
    "               model_name, dty, disease, homa=\"w\", score_method='roc_auc')"
   ]
  },
  {
   "cell_type": "code",
   "execution_count": null,
   "metadata": {
    "ExecuteTime": {
     "end_time": "2019-04-03T11:41:34.477118Z",
     "start_time": "2019-04-03T11:39:21.671Z"
    }
   },
   "outputs": [],
   "source": [
    "dx = ohe_wo_homa_dx\n",
    "run_experiment(XGBClassifier(), tuned_parameters, dx, dy, \n",
    "               model_name, dty, disease, homa=\"wo\", score_method='roc_auc')"
   ]
  },
  {
   "cell_type": "code",
   "execution_count": null,
   "metadata": {
    "ExecuteTime": {
     "end_time": "2019-04-03T11:41:34.488219Z",
     "start_time": "2019-04-03T11:39:22.191Z"
    }
   },
   "outputs": [],
   "source": [
    "d_homa = load_json(f\"{RESULTS_DIR}/{model_name}_{dty}_{disease}_w_HOMA_results.json\")\n",
    "d_no_homa = load_json(f\"{RESULTS_DIR}/{model_name}_{dty}_{disease}_wo_HOMA_results.json\")\n",
    "two_results_t_test(d_homa['cv_scores'], d_no_homa['cv_scores'])"
   ]
  },
  {
   "cell_type": "markdown",
   "metadata": {},
   "source": [
    "### FIB"
   ]
  },
  {
   "cell_type": "code",
   "execution_count": null,
   "metadata": {
    "ExecuteTime": {
     "end_time": "2019-04-03T11:41:34.489662Z",
     "start_time": "2019-04-03T11:39:23.271Z"
    }
   },
   "outputs": [],
   "source": [
    "dy = pkl_load(f\"{DATASET}/y_fib.pkl\")\n",
    "disease = \"FIB\""
   ]
  },
  {
   "cell_type": "code",
   "execution_count": null,
   "metadata": {
    "ExecuteTime": {
     "end_time": "2019-04-03T11:41:34.491068Z",
     "start_time": "2019-04-03T11:39:23.815Z"
    }
   },
   "outputs": [],
   "source": [
    "dx = ohe_w_homa_dx\n",
    "run_experiment(XGBClassifier(), tuned_parameters, dx, dy, \n",
    "               model_name, dty, disease, homa=\"w\", score_method='roc_auc')"
   ]
  },
  {
   "cell_type": "code",
   "execution_count": null,
   "metadata": {
    "ExecuteTime": {
     "end_time": "2019-04-03T11:41:34.492359Z",
     "start_time": "2019-04-03T11:39:24.487Z"
    }
   },
   "outputs": [],
   "source": [
    "dx = ohe_wo_homa_dx\n",
    "run_experiment(XGBClassifier(), tuned_parameters, dx, dy, \n",
    "               model_name, dty, disease, homa=\"wo\", score_method='roc_auc')"
   ]
  },
  {
   "cell_type": "code",
   "execution_count": null,
   "metadata": {
    "ExecuteTime": {
     "end_time": "2019-04-03T11:41:34.494117Z",
     "start_time": "2019-04-03T11:39:25.031Z"
    }
   },
   "outputs": [],
   "source": [
    "d_homa = load_json(f\"{RESULTS_DIR}/{model_name}_{dty}_{disease}_w_HOMA_results.json\")\n",
    "d_no_homa = load_json(f\"{RESULTS_DIR}/{model_name}_{dty}_{disease}_wo_HOMA_results.json\")\n",
    "two_results_t_test(d_homa['cv_scores'], d_no_homa['cv_scores'])"
   ]
  },
  {
   "cell_type": "markdown",
   "metadata": {},
   "source": [
    "### NASH"
   ]
  },
  {
   "cell_type": "code",
   "execution_count": null,
   "metadata": {
    "ExecuteTime": {
     "end_time": "2019-04-03T11:41:34.495334Z",
     "start_time": "2019-04-03T11:39:26.199Z"
    }
   },
   "outputs": [],
   "source": [
    "dy = pkl_load(f\"{DATASET}/y_nash.pkl\")\n",
    "disease = \"NASH\""
   ]
  },
  {
   "cell_type": "code",
   "execution_count": null,
   "metadata": {
    "ExecuteTime": {
     "end_time": "2019-04-03T11:41:34.496346Z",
     "start_time": "2019-04-03T11:39:26.767Z"
    }
   },
   "outputs": [],
   "source": [
    "dx = ohe_w_homa_dx\n",
    "run_experiment(XGBClassifier(), tuned_parameters, dx, dy, \n",
    "               model_name, dty, disease, homa=\"w\", score_method='roc_auc')"
   ]
  },
  {
   "cell_type": "code",
   "execution_count": null,
   "metadata": {
    "ExecuteTime": {
     "end_time": "2019-04-03T11:41:34.497832Z",
     "start_time": "2019-04-03T11:39:27.335Z"
    }
   },
   "outputs": [],
   "source": [
    "dx = ohe_wo_homa_dx\n",
    "run_experiment(XGBClassifier(), tuned_parameters, dx, dy, \n",
    "               model_name, dty, disease, homa=\"wo\", score_method='roc_auc')"
   ]
  },
  {
   "cell_type": "code",
   "execution_count": null,
   "metadata": {
    "ExecuteTime": {
     "end_time": "2019-04-03T11:41:34.498833Z",
     "start_time": "2019-04-03T11:39:27.903Z"
    }
   },
   "outputs": [],
   "source": [
    "d_homa = load_json(f\"{RESULTS_DIR}/{model_name}_{dty}_{disease}_w_HOMA_results.json\")\n",
    "d_no_homa = load_json(f\"{RESULTS_DIR}/{model_name}_{dty}_{disease}_wo_HOMA_results.json\")\n",
    "two_results_t_test(d_homa['cv_scores'], d_no_homa['cv_scores'])"
   ]
  },
  {
   "cell_type": "markdown",
   "metadata": {},
   "source": [
    "## MIX"
   ]
  },
  {
   "cell_type": "code",
   "execution_count": null,
   "metadata": {
    "ExecuteTime": {
     "end_time": "2019-04-03T11:41:34.500181Z",
     "start_time": "2019-04-03T11:39:29.047Z"
    }
   },
   "outputs": [],
   "source": [
    "dty = \"MIX\""
   ]
  },
  {
   "cell_type": "markdown",
   "metadata": {},
   "source": [
    "### NAFLD"
   ]
  },
  {
   "cell_type": "code",
   "execution_count": null,
   "metadata": {
    "ExecuteTime": {
     "end_time": "2019-04-03T11:41:34.501933Z",
     "start_time": "2019-04-03T11:39:30.384Z"
    }
   },
   "outputs": [],
   "source": [
    "dy = pkl_load(f\"{DATASET}/y_nafld.pkl\")\n",
    "disease = \"NAFLD\""
   ]
  },
  {
   "cell_type": "code",
   "execution_count": null,
   "metadata": {
    "ExecuteTime": {
     "end_time": "2019-04-03T11:41:34.511738Z",
     "start_time": "2019-04-03T11:39:30.959Z"
    }
   },
   "outputs": [],
   "source": [
    "dx = mix_w_homa_dx\n",
    "run_experiment(XGBClassifier(), tuned_parameters, dx, dy, \n",
    "               model_name, dty, disease, homa=\"w\", score_method='roc_auc')"
   ]
  },
  {
   "cell_type": "code",
   "execution_count": null,
   "metadata": {
    "ExecuteTime": {
     "end_time": "2019-04-03T11:41:34.513088Z",
     "start_time": "2019-04-03T11:39:31.567Z"
    }
   },
   "outputs": [],
   "source": [
    "dx = mix_wo_homa_dx\n",
    "run_experiment(XGBClassifier(), tuned_parameters, dx, dy, \n",
    "               model_name, dty, disease, homa=\"wo\", score_method='roc_auc')"
   ]
  },
  {
   "cell_type": "code",
   "execution_count": null,
   "metadata": {
    "ExecuteTime": {
     "end_time": "2019-04-03T11:41:34.514193Z",
     "start_time": "2019-04-03T11:39:32.263Z"
    }
   },
   "outputs": [],
   "source": [
    "d_homa = load_json(f\"{RESULTS_DIR}/{model_name}_{dty}_{disease}_w_HOMA_results.json\")\n",
    "d_no_homa = load_json(f\"{RESULTS_DIR}/{model_name}_{dty}_{disease}_wo_HOMA_results.json\")\n",
    "two_results_t_test(d_homa['cv_scores'], d_no_homa['cv_scores'])"
   ]
  },
  {
   "cell_type": "markdown",
   "metadata": {},
   "source": [
    "### FIB"
   ]
  },
  {
   "cell_type": "code",
   "execution_count": null,
   "metadata": {
    "ExecuteTime": {
     "end_time": "2019-04-03T11:41:34.515433Z",
     "start_time": "2019-04-03T11:39:33.735Z"
    }
   },
   "outputs": [],
   "source": [
    "dy = pkl_load(f\"{DATASET}/y_fib.pkl\")\n",
    "disease = \"FIB\""
   ]
  },
  {
   "cell_type": "code",
   "execution_count": null,
   "metadata": {
    "ExecuteTime": {
     "end_time": "2019-04-03T11:41:34.516638Z",
     "start_time": "2019-04-03T11:39:34.439Z"
    }
   },
   "outputs": [],
   "source": [
    "dx = mix_w_homa_dx\n",
    "run_experiment(XGBClassifier(), tuned_parameters, dx, dy, \n",
    "               model_name, dty, disease, homa=\"w\", score_method='roc_auc')"
   ]
  },
  {
   "cell_type": "code",
   "execution_count": null,
   "metadata": {
    "ExecuteTime": {
     "end_time": "2019-04-03T11:41:34.518707Z",
     "start_time": "2019-04-03T11:39:35.127Z"
    }
   },
   "outputs": [],
   "source": [
    "dx = mix_wo_homa_dx\n",
    "run_experiment(XGBClassifier(), tuned_parameters, dx, dy, \n",
    "               model_name, dty, disease, homa=\"wo\", score_method='roc_auc')"
   ]
  },
  {
   "cell_type": "code",
   "execution_count": null,
   "metadata": {
    "ExecuteTime": {
     "end_time": "2019-04-03T11:41:34.519847Z",
     "start_time": "2019-04-03T11:39:35.799Z"
    }
   },
   "outputs": [],
   "source": [
    "d_homa = load_json(f\"{RESULTS_DIR}/{model_name}_{dty}_{disease}_w_HOMA_results.json\")\n",
    "d_no_homa = load_json(f\"{RESULTS_DIR}/{model_name}_{dty}_{disease}_wo_HOMA_results.json\")\n",
    "two_results_t_test(d_homa['cv_scores'], d_no_homa['cv_scores'])"
   ]
  },
  {
   "cell_type": "markdown",
   "metadata": {},
   "source": [
    "### NASH"
   ]
  },
  {
   "cell_type": "code",
   "execution_count": null,
   "metadata": {
    "ExecuteTime": {
     "end_time": "2019-04-03T11:41:34.520950Z",
     "start_time": "2019-04-03T11:39:37.135Z"
    }
   },
   "outputs": [],
   "source": [
    "dy = pkl_load(f\"{DATASET}/y_nash.pkl\")\n",
    "disease = \"NASH\""
   ]
  },
  {
   "cell_type": "code",
   "execution_count": null,
   "metadata": {
    "ExecuteTime": {
     "end_time": "2019-04-03T11:41:34.522064Z",
     "start_time": "2019-04-03T11:39:37.791Z"
    }
   },
   "outputs": [],
   "source": [
    "dx = mix_w_homa_dx\n",
    "run_experiment(XGBClassifier(), tuned_parameters, dx, dy, \n",
    "               model_name, dty, disease, homa=\"w\", score_method='roc_auc')"
   ]
  },
  {
   "cell_type": "code",
   "execution_count": null,
   "metadata": {
    "ExecuteTime": {
     "end_time": "2019-04-03T11:41:34.523609Z",
     "start_time": "2019-04-03T11:39:38.431Z"
    }
   },
   "outputs": [],
   "source": [
    "dx = mix_wo_homa_dx\n",
    "run_experiment(XGBClassifier(), tuned_parameters, dx, dy, \n",
    "               model_name, dty, disease, homa=\"wo\", score_method='roc_auc')"
   ]
  },
  {
   "cell_type": "code",
   "execution_count": null,
   "metadata": {
    "ExecuteTime": {
     "end_time": "2019-04-03T11:41:34.524794Z",
     "start_time": "2019-04-03T11:39:39.167Z"
    }
   },
   "outputs": [],
   "source": [
    "d_homa = load_json(f\"{RESULTS_DIR}/{model_name}_{dty}_{disease}_w_HOMA_results.json\")\n",
    "d_no_homa = load_json(f\"{RESULTS_DIR}/{model_name}_{dty}_{disease}_wo_HOMA_results.json\")\n",
    "two_results_t_test(d_homa['cv_scores'], d_no_homa['cv_scores'])"
   ]
  }
 ],
 "metadata": {
  "kernelspec": {
   "display_name": "Python 3",
   "language": "python",
   "name": "python3"
  },
  "language_info": {
   "codemirror_mode": {
    "name": "ipython",
    "version": 3
   },
   "file_extension": ".py",
   "mimetype": "text/x-python",
   "name": "python",
   "nbconvert_exporter": "python",
   "pygments_lexer": "ipython3",
   "version": "3.6.8"
  },
  "toc": {
   "base_numbering": 1,
   "nav_menu": {},
   "number_sections": true,
   "sideBar": true,
   "skip_h1_title": false,
   "title_cell": "Table of Contents",
   "title_sidebar": "Contents",
   "toc_cell": false,
   "toc_position": {},
   "toc_section_display": true,
   "toc_window_display": false
  }
 },
 "nbformat": 4,
 "nbformat_minor": 2
}
