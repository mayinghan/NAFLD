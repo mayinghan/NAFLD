{
 "cells": [
  {
   "cell_type": "code",
   "execution_count": null,
   "metadata": {
    "ExecuteTime": {
     "end_time": "2019-04-03T17:43:27.133626Z",
     "start_time": "2019-04-03T17:43:26.032097Z"
    }
   },
   "outputs": [],
   "source": [
    "%load_ext autoreload\n",
    "%autoreload 2\n",
    "%matplotlib inline\n",
    "import sys\n",
    "sys.path.append('/Users/alexgre/workspace/py3/NAFLD/clean_project/scripts')\n",
    "from IPython.display import Image\n",
    "from scripts.utils import draw_decision_tree, pkl_load\n",
    "from nafld_config import DATASET, IMG, MODEL_DIR"
   ]
  },
  {
   "cell_type": "code",
   "execution_count": null,
   "metadata": {
    "ExecuteTime": {
     "end_time": "2019-04-03T17:43:27.164435Z",
     "start_time": "2019-04-03T17:43:27.136247Z"
    }
   },
   "outputs": [],
   "source": [
    "# load all features\n",
    "ohe_w_homa_cat_features = pkl_load(f\"{DATASET}/ohe_features.pkl\")\n",
    "ohe_wo_homa_cat_features = pkl_load(f\"{DATASET}/ohe_features_no_homa.pkl\")\n",
    "mix_w_homa_features = pkl_load(f\"{DATASET}/mix_features.pkl\")\n",
    "mix_wo_homa_features = pkl_load(f\"{DATASET}/mix_features_no_homa.pkl\")"
   ]
  },
  {
   "cell_type": "code",
   "execution_count": null,
   "metadata": {
    "ExecuteTime": {
     "end_time": "2019-04-03T17:43:27.191953Z",
     "start_time": "2019-04-03T17:43:27.165825Z"
    }
   },
   "outputs": [],
   "source": [
    "#dot file used to generate image file\n",
    "dot_file=\"temp.dot\""
   ]
  },
  {
   "cell_type": "markdown",
   "metadata": {},
   "source": [
    "## draw 1: DT_OHE_NAFLD_w_HOMA_model"
   ]
  },
  {
   "cell_type": "code",
   "execution_count": null,
   "metadata": {
    "ExecuteTime": {
     "end_time": "2019-04-03T17:12:43.915662Z",
     "start_time": "2019-04-03T17:12:43.884660Z"
    }
   },
   "outputs": [],
   "source": [
    "img_file = \"NAFLD_OHE_W_HOMA.png\"\n",
    "clf = pkl_load(f\"{MODEL_DIR}/DT_OHE_NAFLD_w_HOMA_model.pkl\")\n",
    "features = ohe_w_homa_cat_features\n",
    "labels = ['has_nafld', 'no_nafld']"
   ]
  },
  {
   "cell_type": "code",
   "execution_count": null,
   "metadata": {
    "ExecuteTime": {
     "end_time": "2019-04-03T17:13:55.743423Z",
     "start_time": "2019-04-03T17:13:54.981409Z"
    },
    "scrolled": true
   },
   "outputs": [],
   "source": [
    "draw_decision_tree(clf, labels, features, dot_file, img_file)\n",
    "Image(filename = f\"{IMG}/{img_file}\")"
   ]
  },
  {
   "cell_type": "markdown",
   "metadata": {},
   "source": [
    "## draw 2: DT_OHE_NAFLD_wo_HOMA_model"
   ]
  },
  {
   "cell_type": "code",
   "execution_count": null,
   "metadata": {
    "ExecuteTime": {
     "end_time": "2019-04-03T17:43:31.685292Z",
     "start_time": "2019-04-03T17:43:31.528543Z"
    }
   },
   "outputs": [],
   "source": [
    "img_file = \"NAFLD_OHE_WO_HOMA.png\"\n",
    "clf = pkl_load(f\"{MODEL_DIR}/DT_OHE_NAFLD_wo_HOMA_model.pkl\")\n",
    "features = ohe_wo_homa_cat_features\n",
    "labels = ['has_nafld', 'no_nafld']"
   ]
  },
  {
   "cell_type": "code",
   "execution_count": null,
   "metadata": {
    "ExecuteTime": {
     "end_time": "2019-04-03T17:43:35.445990Z",
     "start_time": "2019-04-03T17:43:32.311164Z"
    },
    "scrolled": true
   },
   "outputs": [],
   "source": [
    "draw_decision_tree(clf, labels, features, dot_file, img_file)\n",
    "Image(filename = f\"{IMG}/{img_file}\")"
   ]
  },
  {
   "cell_type": "markdown",
   "metadata": {},
   "source": [
    "## draw 3: DT_OHE_FIB_w_HOMA_model"
   ]
  },
  {
   "cell_type": "code",
   "execution_count": null,
   "metadata": {
    "ExecuteTime": {
     "end_time": "2019-04-03T16:48:25.159468Z",
     "start_time": "2019-04-03T16:48:25.102943Z"
    }
   },
   "outputs": [],
   "source": [
    "img_file = \"FIB_OHE_W_HOMA.png\"\n",
    "clf = pkl_load(f\"{MODEL_DIR}/DT_OHE_FIB_w_HOMA_model.pkl\")\n",
    "features = ohe_w_homa_cat_features\n",
    "labels = ['has_nafld', 'no_nafld']"
   ]
  },
  {
   "cell_type": "code",
   "execution_count": null,
   "metadata": {
    "ExecuteTime": {
     "end_time": "2019-04-03T16:20:21.164588Z",
     "start_time": "2019-04-03T16:20:19.978083Z"
    },
    "scrolled": true
   },
   "outputs": [],
   "source": [
    "draw_decision_tree(clf, labels, features, dot_file, img_file)\n",
    "Image(filename = f\"{IMG}/{img_file}\")"
   ]
  },
  {
   "cell_type": "markdown",
   "metadata": {},
   "source": [
    "## draw 4: DT_OHE_FIB_wo_HOMA_mode"
   ]
  },
  {
   "cell_type": "code",
   "execution_count": null,
   "metadata": {},
   "outputs": [],
   "source": [
    "img_file = \"FIB_OHE_WO_HOMA.png\"\n",
    "clf = pkl_load(f\"{MODEL_DIR}/DT_OHE_FIB_wo_HOMA_model.pkl\")\n",
    "features = ohe_w_homa_cat_features\n",
    "labels = ['has_nafld', 'no_nafld']\n",
    "\n",
    "draw_decision_tree(clf, labels, features, dot_file, img_file)\n",
    "Image(filename = f\"{IMG}/{img_file}\")"
   ]
  },
  {
   "cell_type": "markdown",
   "metadata": {},
   "source": [
    "## draw 5: DT_OHE_NASH_w_HOMA_model"
   ]
  },
  {
   "cell_type": "code",
   "execution_count": null,
   "metadata": {
    "ExecuteTime": {
     "end_time": "2019-04-03T16:48:25.159468Z",
     "start_time": "2019-04-03T16:48:25.102943Z"
    }
   },
   "outputs": [],
   "source": [
    "img_file = \"NASH_OHE_W_HOMA.png\"\n",
    "clf = pkl_load(f\"{MODEL_DIR}/DT_OHE_NASH_w_HOMA_model.pkl\")\n",
    "features = ohe_w_homa_cat_features\n",
    "labels = ['has_nafld', 'no_nafld']"
   ]
  },
  {
   "cell_type": "code",
   "execution_count": null,
   "metadata": {
    "ExecuteTime": {
     "end_time": "2019-04-03T16:20:21.164588Z",
     "start_time": "2019-04-03T16:20:19.978083Z"
    },
    "scrolled": true
   },
   "outputs": [],
   "source": [
    "draw_decision_tree(clf, labels, features, dot_file, img_file)\n",
    "Image(filename = f\"{IMG}/{img_file}\")"
   ]
  },
  {
   "cell_type": "markdown",
   "metadata": {},
   "source": [
    "## draw 6: DT_OHE_NASH_wo_HOMA_model"
   ]
  },
  {
   "cell_type": "code",
   "execution_count": null,
   "metadata": {},
   "outputs": [],
   "source": [
    "img_file = \"NASH_OHE_WO_HOMA.png\"\n",
    "clf = pkl_load(f\"{MODEL_DIR}/DT_OHE_NASH_wo_HOMA_model.pkl\")\n",
    "features = ohe_wo_homa_cat_features\n",
    "labels = ['has_nafld', 'no_nafld']\n",
    "\n",
    "draw_decision_tree(clf, labels, features, dot_file, img_file)\n",
    "Image(filename = f\"{IMG}/{img_file}\")"
   ]
  },
  {
   "cell_type": "markdown",
   "metadata": {},
   "source": [
    "## draw 7: DT_MIX_NAFLD_w_HOMA_model"
   ]
  },
  {
   "cell_type": "code",
   "execution_count": null,
   "metadata": {
    "ExecuteTime": {
     "end_time": "2019-04-03T16:48:25.159468Z",
     "start_time": "2019-04-03T16:48:25.102943Z"
    }
   },
   "outputs": [],
   "source": [
    "img_file = \"NADLF_MIX_W_HOMA.png\"\n",
    "clf = pkl_load(f\"{MODEL_DIR}/DT_MIX_NAFLD_w_HOMA_model.pkl\")\n",
    "features = mix_w_homa_cat_features\n",
    "labels = ['has_nafld', 'no_nafld']"
   ]
  },
  {
   "cell_type": "code",
   "execution_count": null,
   "metadata": {
    "ExecuteTime": {
     "end_time": "2019-04-03T16:20:21.164588Z",
     "start_time": "2019-04-03T16:20:19.978083Z"
    },
    "scrolled": true
   },
   "outputs": [],
   "source": [
    "draw_decision_tree(clf, labels, features, dot_file, img_file)\n",
    "Image(filename = f\"{IMG}/{img_file}\")"
   ]
  },
  {
   "cell_type": "markdown",
   "metadata": {},
   "source": [
    "## draw 8: DT_MIX_NAFLD_wo_HOMA_model"
   ]
  },
  {
   "cell_type": "code",
   "execution_count": null,
   "metadata": {},
   "outputs": [],
   "source": [
    "img_file = \"NAFLD_MIX_WO_HOMA.png\"\n",
    "clf = pkl_load(f\"{MODEL_DIR}/DT_MIX_NAFLD_wo_HOMA_model.pkl\")\n",
    "features = mix_wo_homa_cat_features\n",
    "labels = ['has_nafld', 'no_nafld']\n",
    "\n",
    "draw_decision_tree(clf, labels, features, dot_file, img_file)\n",
    "Image(filename = f\"{IMG}/{img_file}\")"
   ]
  },
  {
   "cell_type": "markdown",
   "metadata": {},
   "source": [
    "## draw 9: DT_MIX_FIB_w_HOMA_model"
   ]
  },
  {
   "cell_type": "code",
   "execution_count": null,
   "metadata": {
    "ExecuteTime": {
     "end_time": "2019-04-03T16:48:25.159468Z",
     "start_time": "2019-04-03T16:48:25.102943Z"
    }
   },
   "outputs": [],
   "source": [
    "img_file = \"FIB_MIX_W_HOMA.png\"\n",
    "clf = pkl_load(f\"{MODEL_DIR}/DT_MIX_FIB_w_HOMA_model.pkl\")\n",
    "features = mix_w_homa_cat_features\n",
    "labels = ['has_nafld', 'no_nafld']"
   ]
  },
  {
   "cell_type": "code",
   "execution_count": null,
   "metadata": {
    "ExecuteTime": {
     "end_time": "2019-04-03T16:20:21.164588Z",
     "start_time": "2019-04-03T16:20:19.978083Z"
    },
    "scrolled": true
   },
   "outputs": [],
   "source": [
    "draw_decision_tree(clf, labels, features, dot_file, img_file)\n",
    "Image(filename = f\"{IMG}/{img_file}\")"
   ]
  },
  {
   "cell_type": "markdown",
   "metadata": {},
   "source": [
    "## draw 10: DT_MIX_FIB_wo_HOMA_model"
   ]
  },
  {
   "cell_type": "code",
   "execution_count": null,
   "metadata": {},
   "outputs": [],
   "source": [
    "img_file = \"FIB_MIX_WO_HOMA.png\"\n",
    "clf = pkl_load(f\"{MODEL_DIR}/DT_MIX_FIB_wo_HOMA_model.pkl\")\n",
    "features = mix_wo_homa_cat_features\n",
    "labels = ['has_nafld', 'no_nafld']\n",
    "\n",
    "draw_decision_tree(clf, labels, features, dot_file, img_file)\n",
    "Image(filename = f\"{IMG}/{img_file}\")"
   ]
  },
  {
   "cell_type": "markdown",
   "metadata": {},
   "source": [
    "## draw 11: DT_MIX_NASH_w_HOMA_model"
   ]
  },
  {
   "cell_type": "code",
   "execution_count": null,
   "metadata": {
    "ExecuteTime": {
     "end_time": "2019-04-03T16:48:25.159468Z",
     "start_time": "2019-04-03T16:48:25.102943Z"
    }
   },
   "outputs": [],
   "source": [
    "img_file = \"NASH_MIX_W_HOMA.png\"\n",
    "clf = pkl_load(f\"{MODEL_DIR}/DT_MIX_NASH_w_HOMA_model.pkl\")\n",
    "features = mix_w_homa_cat_features\n",
    "labels = ['has_nafld', 'no_nafld']"
   ]
  },
  {
   "cell_type": "code",
   "execution_count": null,
   "metadata": {
    "ExecuteTime": {
     "end_time": "2019-04-03T16:20:21.164588Z",
     "start_time": "2019-04-03T16:20:19.978083Z"
    },
    "scrolled": true
   },
   "outputs": [],
   "source": [
    "draw_decision_tree(clf, labels, features, dot_file, img_file)\n",
    "Image(filename = f\"{IMG}/{img_file}\")"
   ]
  },
  {
   "cell_type": "markdown",
   "metadata": {},
   "source": [
    "## draw 12: DT_MIX_NASH_wo_HOMA_model"
   ]
  },
  {
   "cell_type": "code",
   "execution_count": null,
   "metadata": {},
   "outputs": [],
   "source": [
    "img_file = \"NASH_MIX_WO_HOMA.png\"\n",
    "clf = pkl_load(f\"{MODEL_DIR}/DT_MIX_NASH_wo_HOMA_model.pkl\")\n",
    "features = mix_wo_homa_cat_features\n",
    "labels = ['has_nafld', 'no_nafld']\n",
    "\n",
    "draw_decision_tree(clf, labels, features, dot_file, img_file)\n",
    "Image(filename = f\"{IMG}/{img_file}\")"
   ]
  }
 ],
 "metadata": {
  "kernelspec": {
   "display_name": "Python 3",
   "language": "python",
   "name": "python3"
  },
  "language_info": {
   "codemirror_mode": {
    "name": "ipython",
    "version": 3
   },
   "file_extension": ".py",
   "mimetype": "text/x-python",
   "name": "python",
   "nbconvert_exporter": "python",
   "pygments_lexer": "ipython3",
   "version": "3.6.8"
  },
  "toc": {
   "base_numbering": 1,
   "nav_menu": {},
   "number_sections": true,
   "sideBar": true,
   "skip_h1_title": false,
   "title_cell": "Table of Contents",
   "title_sidebar": "Contents",
   "toc_cell": false,
   "toc_position": {},
   "toc_section_display": true,
   "toc_window_display": false
  }
 },
 "nbformat": 4,
 "nbformat_minor": 2
}
