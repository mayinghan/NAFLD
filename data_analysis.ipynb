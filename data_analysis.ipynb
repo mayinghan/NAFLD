{
 "cells": [
  {
   "cell_type": "code",
   "execution_count": 4,
   "metadata": {
    "ExecuteTime": {
     "end_time": "2019-01-29T16:03:22.896755Z",
     "start_time": "2019-01-29T16:03:22.885897Z"
    }
   },
   "outputs": [
    {
     "data": {
      "text/html": [
       "<style>.container { width:90% !important; }</style>"
      ],
      "text/plain": [
       "<IPython.core.display.HTML object>"
      ]
     },
     "metadata": {},
     "output_type": "display_data"
    }
   ],
   "source": [
    "from IPython.core.display import display, HTML\n",
    "display(HTML(\"<style>.container { width:90% !important; }</style>\"))"
   ]
  },
  {
   "cell_type": "code",
   "execution_count": 1,
   "metadata": {
    "ExecuteTime": {
     "end_time": "2019-01-29T16:03:20.664911Z",
     "start_time": "2019-01-29T16:03:20.345542Z"
    }
   },
   "outputs": [],
   "source": [
    "import pandas as pd\n",
    "import numpy as np\n",
    "import pickle"
   ]
  },
  {
   "cell_type": "code",
   "execution_count": 2,
   "metadata": {
    "ExecuteTime": {
     "end_time": "2019-01-29T16:03:21.012810Z",
     "start_time": "2019-01-29T16:03:21.009290Z"
    }
   },
   "outputs": [],
   "source": [
    "def pkl_process(data=None, file=None, mode=\"dump\"):\n",
    "    f_mode = \"wb\" if mode == \"dump\" else \"rb\"\n",
    "    load_data = None\n",
    "    \n",
    "    with open(file, f_mode) as f:\n",
    "        if mode == \"dump\":\n",
    "            pickle.dump(data, f)\n",
    "        else:\n",
    "            load_data = pickle.load(f)\n",
    "    \n",
    "    return load_data"
   ]
  },
  {
   "cell_type": "code",
   "execution_count": 3,
   "metadata": {
    "ExecuteTime": {
     "end_time": "2019-01-29T16:03:21.463203Z",
     "start_time": "2019-01-29T16:03:21.460968Z"
    }
   },
   "outputs": [],
   "source": [
    "seed = 13"
   ]
  },
  {
   "cell_type": "markdown",
   "metadata": {},
   "source": [
    "# load categorized data and split train, test"
   ]
  },
  {
   "cell_type": "code",
   "execution_count": 5,
   "metadata": {
    "ExecuteTime": {
     "end_time": "2019-01-29T16:03:25.678040Z",
     "start_time": "2019-01-29T16:03:25.663360Z"
    }
   },
   "outputs": [
    {
     "data": {
      "text/plain": [
       "(488, 32)"
      ]
     },
     "execution_count": 5,
     "metadata": {},
     "output_type": "execute_result"
    }
   ],
   "source": [
    "df = pd.read_csv(\"categorized_NAFLD.csv\")\n",
    "df = df.drop(columns=['Unnamed: 0'])\n",
    "df.shape"
   ]
  },
  {
   "cell_type": "code",
   "execution_count": 6,
   "metadata": {
    "ExecuteTime": {
     "end_time": "2019-01-29T16:03:26.656400Z",
     "start_time": "2019-01-29T16:03:26.636846Z"
    }
   },
   "outputs": [
    {
     "data": {
      "text/html": [
       "<div>\n",
       "<style scoped>\n",
       "    .dataframe tbody tr th:only-of-type {\n",
       "        vertical-align: middle;\n",
       "    }\n",
       "\n",
       "    .dataframe tbody tr th {\n",
       "        vertical-align: top;\n",
       "    }\n",
       "\n",
       "    .dataframe thead th {\n",
       "        text-align: right;\n",
       "    }\n",
       "</style>\n",
       "<table border=\"1\" class=\"dataframe\">\n",
       "  <thead>\n",
       "    <tr style=\"text-align: right;\">\n",
       "      <th></th>\n",
       "      <th>NGT_IFG_</th>\n",
       "      <th>NGT__PRE</th>\n",
       "      <th>DM_STATU</th>\n",
       "      <th>MS</th>\n",
       "      <th>AGE</th>\n",
       "      <th>GNDR</th>\n",
       "      <th>ETHNICIT</th>\n",
       "      <th>BMI</th>\n",
       "      <th>HOMA</th>\n",
       "      <th>SBP</th>\n",
       "      <th>...</th>\n",
       "      <th>AST_M0</th>\n",
       "      <th>ALT_M0</th>\n",
       "      <th>BILIRRUB</th>\n",
       "      <th>PLATELET</th>\n",
       "      <th>ALBUMIN</th>\n",
       "      <th>TSH</th>\n",
       "      <th>MEAN_FPG</th>\n",
       "      <th>NASH_OU2</th>\n",
       "      <th>FIBROSI2</th>\n",
       "      <th>NAFLD_OU</th>\n",
       "    </tr>\n",
       "  </thead>\n",
       "  <tbody>\n",
       "    <tr>\n",
       "      <th>0</th>\n",
       "      <td>0</td>\n",
       "      <td>0</td>\n",
       "      <td>1</td>\n",
       "      <td>0</td>\n",
       "      <td>0</td>\n",
       "      <td>0</td>\n",
       "      <td>0</td>\n",
       "      <td>2</td>\n",
       "      <td>0</td>\n",
       "      <td>1</td>\n",
       "      <td>...</td>\n",
       "      <td>0</td>\n",
       "      <td>0</td>\n",
       "      <td>0</td>\n",
       "      <td>1</td>\n",
       "      <td>1</td>\n",
       "      <td>0</td>\n",
       "      <td>2</td>\n",
       "      <td>0</td>\n",
       "      <td>0</td>\n",
       "      <td>0</td>\n",
       "    </tr>\n",
       "    <tr>\n",
       "      <th>1</th>\n",
       "      <td>1</td>\n",
       "      <td>2</td>\n",
       "      <td>0</td>\n",
       "      <td>1</td>\n",
       "      <td>2</td>\n",
       "      <td>1</td>\n",
       "      <td>2</td>\n",
       "      <td>3</td>\n",
       "      <td>0</td>\n",
       "      <td>0</td>\n",
       "      <td>...</td>\n",
       "      <td>0</td>\n",
       "      <td>0</td>\n",
       "      <td>0</td>\n",
       "      <td>1</td>\n",
       "      <td>0</td>\n",
       "      <td>0</td>\n",
       "      <td>1</td>\n",
       "      <td>0</td>\n",
       "      <td>0</td>\n",
       "      <td>0</td>\n",
       "    </tr>\n",
       "    <tr>\n",
       "      <th>2</th>\n",
       "      <td>0</td>\n",
       "      <td>0</td>\n",
       "      <td>1</td>\n",
       "      <td>1</td>\n",
       "      <td>2</td>\n",
       "      <td>1</td>\n",
       "      <td>2</td>\n",
       "      <td>2</td>\n",
       "      <td>0</td>\n",
       "      <td>0</td>\n",
       "      <td>...</td>\n",
       "      <td>0</td>\n",
       "      <td>0</td>\n",
       "      <td>0</td>\n",
       "      <td>1</td>\n",
       "      <td>1</td>\n",
       "      <td>0</td>\n",
       "      <td>1</td>\n",
       "      <td>0</td>\n",
       "      <td>0</td>\n",
       "      <td>0</td>\n",
       "    </tr>\n",
       "    <tr>\n",
       "      <th>3</th>\n",
       "      <td>0</td>\n",
       "      <td>0</td>\n",
       "      <td>1</td>\n",
       "      <td>0</td>\n",
       "      <td>1</td>\n",
       "      <td>0</td>\n",
       "      <td>0</td>\n",
       "      <td>3</td>\n",
       "      <td>1</td>\n",
       "      <td>1</td>\n",
       "      <td>...</td>\n",
       "      <td>0</td>\n",
       "      <td>0</td>\n",
       "      <td>0</td>\n",
       "      <td>1</td>\n",
       "      <td>1</td>\n",
       "      <td>0</td>\n",
       "      <td>2</td>\n",
       "      <td>0</td>\n",
       "      <td>0</td>\n",
       "      <td>0</td>\n",
       "    </tr>\n",
       "    <tr>\n",
       "      <th>4</th>\n",
       "      <td>0</td>\n",
       "      <td>0</td>\n",
       "      <td>1</td>\n",
       "      <td>1</td>\n",
       "      <td>3</td>\n",
       "      <td>1</td>\n",
       "      <td>0</td>\n",
       "      <td>2</td>\n",
       "      <td>1</td>\n",
       "      <td>1</td>\n",
       "      <td>...</td>\n",
       "      <td>0</td>\n",
       "      <td>0</td>\n",
       "      <td>0</td>\n",
       "      <td>1</td>\n",
       "      <td>1</td>\n",
       "      <td>0</td>\n",
       "      <td>2</td>\n",
       "      <td>0</td>\n",
       "      <td>0</td>\n",
       "      <td>0</td>\n",
       "    </tr>\n",
       "  </tbody>\n",
       "</table>\n",
       "<p>5 rows × 32 columns</p>\n",
       "</div>"
      ],
      "text/plain": [
       "   NGT_IFG_  NGT__PRE  DM_STATU  MS  AGE  GNDR  ETHNICIT  BMI  HOMA  SBP  \\\n",
       "0         0         0         1   0    0     0         0    2     0    1   \n",
       "1         1         2         0   1    2     1         2    3     0    0   \n",
       "2         0         0         1   1    2     1         2    2     0    0   \n",
       "3         0         0         1   0    1     0         0    3     1    1   \n",
       "4         0         0         1   1    3     1         0    2     1    1   \n",
       "\n",
       "     ...     AST_M0  ALT_M0  BILIRRUB  PLATELET  ALBUMIN  TSH  MEAN_FPG  \\\n",
       "0    ...          0       0         0         1        1    0         2   \n",
       "1    ...          0       0         0         1        0    0         1   \n",
       "2    ...          0       0         0         1        1    0         1   \n",
       "3    ...          0       0         0         1        1    0         2   \n",
       "4    ...          0       0         0         1        1    0         2   \n",
       "\n",
       "   NASH_OU2  FIBROSI2  NAFLD_OU  \n",
       "0         0         0         0  \n",
       "1         0         0         0  \n",
       "2         0         0         0  \n",
       "3         0         0         0  \n",
       "4         0         0         0  \n",
       "\n",
       "[5 rows x 32 columns]"
      ]
     },
     "execution_count": 6,
     "metadata": {},
     "output_type": "execute_result"
    }
   ],
   "source": [
    "df.head()"
   ]
  },
  {
   "cell_type": "code",
   "execution_count": 7,
   "metadata": {
    "ExecuteTime": {
     "end_time": "2019-01-29T16:03:27.441699Z",
     "start_time": "2019-01-29T16:03:27.085081Z"
    }
   },
   "outputs": [
    {
     "data": {
      "text/plain": [
       "((390, 32), (98, 32), 278, 112, 64, 34)"
      ]
     },
     "execution_count": 7,
     "metadata": {},
     "output_type": "execute_result"
    }
   ],
   "source": [
    "# split the data fram to train and test and shuffle\n",
    "from sklearn.model_selection import train_test_split\n",
    "train_df, test_df = train_test_split(df, test_size=0.2, random_state=seed)\n",
    "train_df.shape, test_df.shape, len(train_df[train_df['NAFLD_OU'] == 1]), len(train_df[train_df['NAFLD_OU'] == 0]), len(test_df[test_df['NAFLD_OU'] == 1]), len(test_df[test_df['NAFLD_OU'] == 0])"
   ]
  },
  {
   "cell_type": "code",
   "execution_count": 8,
   "metadata": {
    "ExecuteTime": {
     "end_time": "2019-01-29T16:03:30.648712Z",
     "start_time": "2019-01-29T16:03:30.631020Z"
    }
   },
   "outputs": [
    {
     "data": {
      "text/html": [
       "<div>\n",
       "<style scoped>\n",
       "    .dataframe tbody tr th:only-of-type {\n",
       "        vertical-align: middle;\n",
       "    }\n",
       "\n",
       "    .dataframe tbody tr th {\n",
       "        vertical-align: top;\n",
       "    }\n",
       "\n",
       "    .dataframe thead th {\n",
       "        text-align: right;\n",
       "    }\n",
       "</style>\n",
       "<table border=\"1\" class=\"dataframe\">\n",
       "  <thead>\n",
       "    <tr style=\"text-align: right;\">\n",
       "      <th></th>\n",
       "      <th>NGT_IFG_</th>\n",
       "      <th>NGT__PRE</th>\n",
       "      <th>DM_STATU</th>\n",
       "      <th>MS</th>\n",
       "      <th>AGE</th>\n",
       "      <th>GNDR</th>\n",
       "      <th>ETHNICIT</th>\n",
       "      <th>BMI</th>\n",
       "      <th>HOMA</th>\n",
       "      <th>SBP</th>\n",
       "      <th>...</th>\n",
       "      <th>AST_M0</th>\n",
       "      <th>ALT_M0</th>\n",
       "      <th>BILIRRUB</th>\n",
       "      <th>PLATELET</th>\n",
       "      <th>ALBUMIN</th>\n",
       "      <th>TSH</th>\n",
       "      <th>MEAN_FPG</th>\n",
       "      <th>NASH_OU2</th>\n",
       "      <th>FIBROSI2</th>\n",
       "      <th>NAFLD_OU</th>\n",
       "    </tr>\n",
       "  </thead>\n",
       "  <tbody>\n",
       "    <tr>\n",
       "      <th>268</th>\n",
       "      <td>0</td>\n",
       "      <td>0</td>\n",
       "      <td>1</td>\n",
       "      <td>1</td>\n",
       "      <td>2</td>\n",
       "      <td>1</td>\n",
       "      <td>0</td>\n",
       "      <td>2</td>\n",
       "      <td>0</td>\n",
       "      <td>1</td>\n",
       "      <td>...</td>\n",
       "      <td>0</td>\n",
       "      <td>0</td>\n",
       "      <td>1</td>\n",
       "      <td>1</td>\n",
       "      <td>1</td>\n",
       "      <td>0</td>\n",
       "      <td>1</td>\n",
       "      <td>1</td>\n",
       "      <td>0</td>\n",
       "      <td>1</td>\n",
       "    </tr>\n",
       "    <tr>\n",
       "      <th>444</th>\n",
       "      <td>0</td>\n",
       "      <td>0</td>\n",
       "      <td>1</td>\n",
       "      <td>1</td>\n",
       "      <td>1</td>\n",
       "      <td>1</td>\n",
       "      <td>2</td>\n",
       "      <td>3</td>\n",
       "      <td>1</td>\n",
       "      <td>1</td>\n",
       "      <td>...</td>\n",
       "      <td>0</td>\n",
       "      <td>0</td>\n",
       "      <td>1</td>\n",
       "      <td>1</td>\n",
       "      <td>1</td>\n",
       "      <td>0</td>\n",
       "      <td>2</td>\n",
       "      <td>1</td>\n",
       "      <td>0</td>\n",
       "      <td>1</td>\n",
       "    </tr>\n",
       "    <tr>\n",
       "      <th>118</th>\n",
       "      <td>3</td>\n",
       "      <td>1</td>\n",
       "      <td>0</td>\n",
       "      <td>0</td>\n",
       "      <td>2</td>\n",
       "      <td>0</td>\n",
       "      <td>3</td>\n",
       "      <td>1</td>\n",
       "      <td>2</td>\n",
       "      <td>0</td>\n",
       "      <td>...</td>\n",
       "      <td>0</td>\n",
       "      <td>0</td>\n",
       "      <td>0</td>\n",
       "      <td>0</td>\n",
       "      <td>1</td>\n",
       "      <td>1</td>\n",
       "      <td>0</td>\n",
       "      <td>0</td>\n",
       "      <td>0</td>\n",
       "      <td>0</td>\n",
       "    </tr>\n",
       "    <tr>\n",
       "      <th>449</th>\n",
       "      <td>0</td>\n",
       "      <td>0</td>\n",
       "      <td>1</td>\n",
       "      <td>1</td>\n",
       "      <td>2</td>\n",
       "      <td>1</td>\n",
       "      <td>3</td>\n",
       "      <td>3</td>\n",
       "      <td>1</td>\n",
       "      <td>1</td>\n",
       "      <td>...</td>\n",
       "      <td>1</td>\n",
       "      <td>1</td>\n",
       "      <td>0</td>\n",
       "      <td>1</td>\n",
       "      <td>1</td>\n",
       "      <td>0</td>\n",
       "      <td>2</td>\n",
       "      <td>0</td>\n",
       "      <td>0</td>\n",
       "      <td>1</td>\n",
       "    </tr>\n",
       "    <tr>\n",
       "      <th>207</th>\n",
       "      <td>0</td>\n",
       "      <td>0</td>\n",
       "      <td>1</td>\n",
       "      <td>1</td>\n",
       "      <td>1</td>\n",
       "      <td>0</td>\n",
       "      <td>3</td>\n",
       "      <td>3</td>\n",
       "      <td>2</td>\n",
       "      <td>0</td>\n",
       "      <td>...</td>\n",
       "      <td>1</td>\n",
       "      <td>1</td>\n",
       "      <td>0</td>\n",
       "      <td>1</td>\n",
       "      <td>0</td>\n",
       "      <td>0</td>\n",
       "      <td>0</td>\n",
       "      <td>0</td>\n",
       "      <td>0</td>\n",
       "      <td>1</td>\n",
       "    </tr>\n",
       "  </tbody>\n",
       "</table>\n",
       "<p>5 rows × 32 columns</p>\n",
       "</div>"
      ],
      "text/plain": [
       "     NGT_IFG_  NGT__PRE  DM_STATU  MS  AGE  GNDR  ETHNICIT  BMI  HOMA  SBP  \\\n",
       "268         0         0         1   1    2     1         0    2     0    1   \n",
       "444         0         0         1   1    1     1         2    3     1    1   \n",
       "118         3         1         0   0    2     0         3    1     2    0   \n",
       "449         0         0         1   1    2     1         3    3     1    1   \n",
       "207         0         0         1   1    1     0         3    3     2    0   \n",
       "\n",
       "       ...     AST_M0  ALT_M0  BILIRRUB  PLATELET  ALBUMIN  TSH  MEAN_FPG  \\\n",
       "268    ...          0       0         1         1        1    0         1   \n",
       "444    ...          0       0         1         1        1    0         2   \n",
       "118    ...          0       0         0         0        1    1         0   \n",
       "449    ...          1       1         0         1        1    0         2   \n",
       "207    ...          1       1         0         1        0    0         0   \n",
       "\n",
       "     NASH_OU2  FIBROSI2  NAFLD_OU  \n",
       "268         1         0         1  \n",
       "444         1         0         1  \n",
       "118         0         0         0  \n",
       "449         0         0         1  \n",
       "207         0         0         1  \n",
       "\n",
       "[5 rows x 32 columns]"
      ]
     },
     "execution_count": 8,
     "metadata": {},
     "output_type": "execute_result"
    }
   ],
   "source": [
    "train_df.head()"
   ]
  },
  {
   "cell_type": "code",
   "execution_count": 9,
   "metadata": {
    "ExecuteTime": {
     "end_time": "2019-01-29T16:03:31.233999Z",
     "start_time": "2019-01-29T16:03:31.229172Z"
    }
   },
   "outputs": [
    {
     "data": {
      "text/plain": [
       "array([1, 1, 0, 1, 1])"
      ]
     },
     "execution_count": 9,
     "metadata": {},
     "output_type": "execute_result"
    }
   ],
   "source": [
    "#get training y label\n",
    "train_y_nash, train_y_fib, train_y_nafld = np.array(train_df['NASH_OU2']), np.array(train_df['FIBROSI2']), np.array(train_df['NAFLD_OU'])\n",
    "train_y_nafld[:5]"
   ]
  },
  {
   "cell_type": "code",
   "execution_count": 10,
   "metadata": {
    "ExecuteTime": {
     "end_time": "2019-01-29T16:03:31.778133Z",
     "start_time": "2019-01-29T16:03:31.773108Z"
    }
   },
   "outputs": [
    {
     "data": {
      "text/plain": [
       "((390, 29), (390,))"
      ]
     },
     "execution_count": 10,
     "metadata": {},
     "output_type": "execute_result"
    }
   ],
   "source": [
    "train_X = train_df.drop(columns=['NASH_OU2', 'FIBROSI2', 'NAFLD_OU'])\n",
    "train_X.shape, train_y_nafld.shape"
   ]
  },
  {
   "cell_type": "code",
   "execution_count": 11,
   "metadata": {
    "ExecuteTime": {
     "end_time": "2019-01-29T16:03:32.237089Z",
     "start_time": "2019-01-29T16:03:32.231044Z"
    }
   },
   "outputs": [
    {
     "data": {
      "text/plain": [
       "((98, 29), (98,))"
      ]
     },
     "execution_count": 11,
     "metadata": {},
     "output_type": "execute_result"
    }
   ],
   "source": [
    "test_y_nash, test_y_fib, test_y_nafld = np.array(test_df['NASH_OU2']), np.array(test_df['FIBROSI2']), np.array(test_df['NAFLD_OU'])\n",
    "test_X = test_df.drop(columns=['NASH_OU2', 'FIBROSI2', 'NAFLD_OU'])\n",
    "test_X.shape, test_y_nafld.shape"
   ]
  },
  {
   "cell_type": "markdown",
   "metadata": {},
   "source": [
    "# data encoding"
   ]
  },
  {
   "cell_type": "markdown",
   "metadata": {},
   "source": [
    "## one-hot encoding"
   ]
  },
  {
   "cell_type": "code",
   "execution_count": 12,
   "metadata": {
    "ExecuteTime": {
     "end_time": "2019-01-29T16:03:35.064801Z",
     "start_time": "2019-01-29T16:03:35.062307Z"
    }
   },
   "outputs": [],
   "source": [
    "from sklearn.preprocessing import OneHotEncoder\n",
    "ohe = OneHotEncoder(sparse=False, dtype=int)"
   ]
  },
  {
   "cell_type": "code",
   "execution_count": 13,
   "metadata": {
    "ExecuteTime": {
     "end_time": "2019-01-29T16:03:35.550106Z",
     "start_time": "2019-01-29T16:03:35.540714Z"
    }
   },
   "outputs": [
    {
     "data": {
      "text/plain": [
       "OneHotEncoder(categorical_features='all', dtype=<class 'int'>,\n",
       "       handle_unknown='error', n_values='auto', sparse=False)"
      ]
     },
     "execution_count": 13,
     "metadata": {},
     "output_type": "execute_result"
    }
   ],
   "source": [
    "ohe.fit(df.drop(columns=['NASH_OU2', 'FIBROSI2', 'NAFLD_OU']))"
   ]
  },
  {
   "cell_type": "code",
   "execution_count": 14,
   "metadata": {
    "ExecuteTime": {
     "end_time": "2019-01-29T16:03:36.021438Z",
     "start_time": "2019-01-29T16:03:36.013999Z"
    }
   },
   "outputs": [
    {
     "data": {
      "text/plain": [
       "((390, 73), (98, 73))"
      ]
     },
     "execution_count": 14,
     "metadata": {},
     "output_type": "execute_result"
    }
   ],
   "source": [
    "train_X_ohe = ohe.transform(train_X)\n",
    "test_X_ohe = ohe.transform(test_X)\n",
    "train_X_ohe.shape, test_X_ohe.shape"
   ]
  },
  {
   "cell_type": "code",
   "execution_count": 15,
   "metadata": {
    "ExecuteTime": {
     "end_time": "2019-01-29T16:03:39.483922Z",
     "start_time": "2019-01-29T16:03:39.479361Z"
    }
   },
   "outputs": [
    {
     "data": {
      "text/plain": [
       "(array([1, 0, 0, 0, 1, 0, 0, 0, 1, 0, 1, 0, 0, 1, 0, 0, 1, 1, 0, 0, 0, 0,\n",
       "        0, 0, 1, 0, 1, 0, 0, 0, 1, 0, 1, 0, 1, 0, 1, 1, 0, 0, 1, 0, 0, 0,\n",
       "        1, 0, 1, 0, 1, 1, 0, 1, 0, 0, 1, 0, 0, 1, 1, 0, 1, 0, 0, 1, 0, 1,\n",
       "        0, 1, 1, 0, 0, 1, 0], dtype=int64), 1)"
      ]
     },
     "execution_count": 15,
     "metadata": {},
     "output_type": "execute_result"
    }
   ],
   "source": [
    "train_X_ohe[0], train_y_nafld[0]"
   ]
  },
  {
   "cell_type": "markdown",
   "metadata": {},
   "source": [
    "## feature hashing"
   ]
  },
  {
   "cell_type": "code",
   "execution_count": null,
   "metadata": {},
   "outputs": [],
   "source": [
    "from sklearn.feature_extraction import FeatureHasher\n",
    "#convert data to uni-feature space then feature hashing (libsvm format first -> convert to dict)"
   ]
  },
  {
   "cell_type": "code",
   "execution_count": null,
   "metadata": {},
   "outputs": [],
   "source": []
  },
  {
   "cell_type": "code",
   "execution_count": null,
   "metadata": {},
   "outputs": [],
   "source": []
  },
  {
   "cell_type": "markdown",
   "metadata": {},
   "source": [
    "# machine learning "
   ]
  },
  {
   "cell_type": "code",
   "execution_count": 32,
   "metadata": {
    "ExecuteTime": {
     "end_time": "2019-01-29T16:06:47.312407Z",
     "start_time": "2019-01-29T16:06:47.309355Z"
    }
   },
   "outputs": [],
   "source": [
    "from sklearn.linear_model import LogisticRegression\n",
    "from sklearn.svm import SVC\n",
    "from sklearn.ensemble import RandomForestClassifier\n",
    "from sklearn.model_selection import GridSearchCV, cross_val_score\n",
    "from sklearn.metrics import roc_auc_score, roc_curve, f1_score, precision_recall_fscore_support, confusion_matrix\n",
    "import matplotlib.pyplot as plt\n",
    "import seaborn as sns"
   ]
  },
  {
   "cell_type": "code",
   "execution_count": 17,
   "metadata": {
    "ExecuteTime": {
     "end_time": "2019-01-29T16:03:44.530174Z",
     "start_time": "2019-01-29T16:03:44.526544Z"
    }
   },
   "outputs": [],
   "source": [
    "def get_binary_cls_precision_recall_f1(true_labels, pred_probs, pos_idx, threshold=0.5):\n",
    "    pred_lables = []\n",
    "    for pred_prob in pred_probs:\n",
    "        pos_prob = pred_prob[pos_idx]\n",
    "        if pos_prob >= threshold:\n",
    "            pred_lables.append(1)\n",
    "        else:\n",
    "            pred_lables.append(0)\n",
    "    return precision_recall_fscore_support(true_labels, pred_lables, average='binary'), pred_lables"
   ]
  },
  {
   "cell_type": "code",
   "execution_count": 87,
   "metadata": {
    "ExecuteTime": {
     "end_time": "2019-01-29T17:06:05.509393Z",
     "start_time": "2019-01-29T17:06:05.505175Z"
    }
   },
   "outputs": [],
   "source": [
    "def get_full_cv_scores(model, train_X, train_y, test_X, test_y):\n",
    "    l1=list(train_X)+list(test_X)\n",
    "    l2=list(train_y)+list(test_y)\n",
    "\n",
    "    l = list(zip(l1, l2))\n",
    "    np.random.seed(seed)\n",
    "    np.random.shuffle(l, )\n",
    "\n",
    "    X = list(map(lambda x: x[0], l))\n",
    "    y = list(map(lambda x: x[1], l))\n",
    "\n",
    "    cv_res = cross_val_score(model, X, y, cv=5, n_jobs=1, scoring=\"roc_auc\")\n",
    "    return cv_res, np.average(cv_res)"
   ]
  },
  {
   "cell_type": "code",
   "execution_count": 25,
   "metadata": {
    "ExecuteTime": {
     "end_time": "2019-01-29T16:04:20.738502Z",
     "start_time": "2019-01-29T16:04:20.735128Z"
    }
   },
   "outputs": [],
   "source": [
    "def make_confusion_matrix(tl, pl):\n",
    "    mat = confusion_matrix(tl, pl)\n",
    "    sns.heatmap(mat.T, square=True, annot=True, fmt='d', cbar=False)\n",
    "    plt.xlabel('true label')\n",
    "    plt.ylabel('predicted label')\n",
    "    plt.show()"
   ]
  },
  {
   "cell_type": "code",
   "execution_count": 82,
   "metadata": {
    "ExecuteTime": {
     "end_time": "2019-01-29T17:04:22.661984Z",
     "start_time": "2019-01-29T17:04:22.655742Z"
    }
   },
   "outputs": [],
   "source": [
    "def auc_roc_expr(classifer, tuned_parameters, train_X, train_y, test_X, test_y):\n",
    "    gs = GridSearchCV(classifer, tuned_parameters, scoring='roc_auc', n_jobs=-1, cv=5, verbose=1) #scoring='roc_auc'\n",
    "    gs.fit(train_X, train_y)\n",
    "    print(gs.best_params_)\n",
    "    print(gs.best_estimator_)\n",
    "    clf = gs.best_estimator_\n",
    "    clf.fit(train_X, train_y)\n",
    "    pred_result = clf.predict_proba(test_X)\n",
    "    idx = list(filter(lambda x: x==1, clf.classes_))[0]\n",
    "    pred_result_1 = list(map(lambda x: x[idx], pred_result))\n",
    "    fpr, tpr, thresholds = roc_curve(test_y, pred_result_1)\n",
    "    plt.plot(fpr, tpr, lw=1, alpha=0.5)\n",
    "    plt.plot([0, 1], [0, 1], linestyle='--', lw=2, color='r',label='Chance', alpha=.8)\n",
    "    plt.xlim([-0.05, 1.05])\n",
    "    plt.ylim([-0.05, 1.05])\n",
    "    plt.xlabel('False Positive Rate')\n",
    "    plt.ylabel('True Positive Rate')\n",
    "    plt.title('Receiver operating characteristic example')\n",
    "    plt.legend(loc=\"lower right\")\n",
    "    plt.show()\n",
    "    cut_off = get_cutoff(fpr, tpr, thresholds)\n",
    "    print(\"AUC_ROC_score: \", roc_auc_score(test_y, pred_result_1), \" cutoff: \", cut_off)\n",
    "    return clf, fpr, tpr, thresholds, pred_result, cut_off"
   ]
  },
  {
   "cell_type": "code",
   "execution_count": 20,
   "metadata": {
    "ExecuteTime": {
     "end_time": "2019-01-29T16:04:04.543494Z",
     "start_time": "2019-01-29T16:04:04.540545Z"
    }
   },
   "outputs": [],
   "source": [
    "def get_cutoff(fpr, tpr, thresholds):\n",
    "    opt_idx = np.argmin(np.sqrt(np.square(1-tpr) + np.square(fpr)))\n",
    "    return thresholds[opt_idx]"
   ]
  },
  {
   "cell_type": "markdown",
   "metadata": {},
   "source": [
    "## Logistic Regression"
   ]
  },
  {
   "cell_type": "markdown",
   "metadata": {},
   "source": [
    "###  OHE as features"
   ]
  },
  {
   "cell_type": "markdown",
   "metadata": {},
   "source": [
    "#### NAFLD"
   ]
  },
  {
   "cell_type": "code",
   "execution_count": 83,
   "metadata": {
    "ExecuteTime": {
     "end_time": "2019-01-29T17:04:30.107371Z",
     "start_time": "2019-01-29T17:04:25.376148Z"
    }
   },
   "outputs": [
    {
     "name": "stdout",
     "output_type": "stream",
     "text": [
      "Fitting 5 folds for each of 216 candidates, totalling 1080 fits\n"
     ]
    },
    {
     "name": "stderr",
     "output_type": "stream",
     "text": [
      "[Parallel(n_jobs=-1)]: Done 324 tasks      | elapsed:    1.1s\n"
     ]
    },
    {
     "name": "stdout",
     "output_type": "stream",
     "text": [
      "{'C': 0.1, 'max_iter': 50, 'random_state': 13, 'solver': 'liblinear', 'tol': 1e-05}\n",
      "LogisticRegression(C=0.1, class_weight=None, dual=False, fit_intercept=True,\n",
      "          intercept_scaling=1, max_iter=50, multi_class='ovr', n_jobs=1,\n",
      "          penalty='l2', random_state=13, solver='liblinear', tol=1e-05,\n",
      "          verbose=0, warm_start=False)\n"
     ]
    },
    {
     "name": "stderr",
     "output_type": "stream",
     "text": [
      "[Parallel(n_jobs=-1)]: Done 1080 out of 1080 | elapsed:    4.4s finished\n"
     ]
    },
    {
     "data": {
      "image/png": "[encoded data removed]",
      "text/plain": [
       "<Figure size 432x288 with 1 Axes>"
      ]
     },
     "metadata": {},
     "output_type": "display_data"
    },
    {
     "name": "stdout",
     "output_type": "stream",
     "text": [
      "AUC_ROC_score:  0.8818933823529411  cutoff:  0.7325190449228863\n"
     ]
    }
   ],
   "source": [
    "# AUC_ROC\n",
    "tuned_parameters = {'max_iter':[50, 100, 500], 'tol':[0.00001, 0.0001, 0.001, 0.01],'random_state':[seed], 'C': [0.01, 0.1, 1.0, 10.0, 100.0, 1000.0], \n",
    "                    'solver':['lbfgs', 'liblinear', 'newton-cg']}\n",
    "clf, fpr, tpr, thresholds, pred_result, cut_off = auc_roc_expr(LogisticRegression(), tuned_parameters, \n",
    "                                                               train_X_ohe, train_y_nafld, test_X_ohe, test_y_nafld)"
   ]
  },
  {
   "cell_type": "code",
   "execution_count": null,
   "metadata": {},
   "outputs": [],
   "source": [
    "'''\n",
    "random_state in train_test_split\n",
    "random_state=43, AUC_ROC_score:  0.9181372549019607  cutoff:  0.589327937535999\n",
    "random_state=13, AUC_ROC_score:  0.8818933823529411  cutoff:  0.7325190449228863\n",
    "random_state=23, AUC_ROC_score:  0.8180821917808219  cutoff:  0.6482708195516653\n",
    "random_state=37, AUC_ROC_score:  0.7571014492753624  cutoff:  0.6753595392344012\n",
    "'''"
   ]
  },
  {
   "cell_type": "code",
   "execution_count": 88,
   "metadata": {
    "ExecuteTime": {
     "end_time": "2019-01-29T17:06:27.034663Z",
     "start_time": "2019-01-29T17:06:27.010070Z"
    }
   },
   "outputs": [
    {
     "data": {
      "text/plain": [
       "(array([0.86183575, 0.88105947, 0.8351927 , 0.85141988, 0.84381339]),\n",
       " 0.8546642365091962)"
      ]
     },
     "execution_count": 88,
     "metadata": {},
     "output_type": "execute_result"
    }
   ],
   "source": [
    "# CV on train + test\n",
    "get_full_cv_scores(clf, train_X_ohe, train_y_nafld, test_X_ohe, test_y_nafld)"
   ]
  },
  {
   "cell_type": "code",
   "execution_count": 85,
   "metadata": {
    "ExecuteTime": {
     "end_time": "2019-01-29T17:04:30.454429Z",
     "start_time": "2019-01-29T17:04:30.448416Z"
    }
   },
   "outputs": [
    {
     "data": {
      "text/plain": [
       "(0.9423076923076923, 0.765625, 0.8448275862068965)"
      ]
     },
     "execution_count": 85,
     "metadata": {},
     "output_type": "execute_result"
    }
   ],
   "source": [
    "#precision, recall, f1-score based on cut-off decided from ROC_AUC\n",
    "get_binary_cls_precision_recall_f1(test_y_nafld, pred_result, list(filter(lambda x: x==1, clf.classes_))[0], cut_off)[0][:-1]"
   ]
  },
  {
   "cell_type": "code",
   "execution_count": 86,
   "metadata": {
    "ExecuteTime": {
     "end_time": "2019-01-29T17:04:32.119829Z",
     "start_time": "2019-01-29T17:04:32.018181Z"
    }
   },
   "outputs": [
    {
     "data": {
      "image/png": "[encoded data removed]",
      "text/plain": [
       "<Figure size 432x288 with 1 Axes>"
      ]
     },
     "metadata": {},
     "output_type": "display_data"
    }
   ],
   "source": [
    "preds = get_binary_cls_precision_recall_f1(test_y_nafld, pred_result, list(filter(lambda x: x==1, clf.classes_))[0], cut_off)[1]\n",
    "make_confusion_matrix(test_y_nafld, preds)"
   ]
  },
  {
   "cell_type": "markdown",
   "metadata": {},
   "source": [
    "#### nash"
   ]
  },
  {
   "cell_type": "code",
   "execution_count": null,
   "metadata": {},
   "outputs": [],
   "source": []
  },
  {
   "cell_type": "markdown",
   "metadata": {},
   "source": [
    "#### fabrosis"
   ]
  },
  {
   "cell_type": "code",
   "execution_count": null,
   "metadata": {},
   "outputs": [],
   "source": []
  },
  {
   "cell_type": "markdown",
   "metadata": {},
   "source": [
    "### feature hashing as features"
   ]
  },
  {
   "cell_type": "code",
   "execution_count": null,
   "metadata": {},
   "outputs": [],
   "source": []
  },
  {
   "cell_type": "markdown",
   "metadata": {},
   "source": [
    "## SVM"
   ]
  },
  {
   "cell_type": "code",
   "execution_count": null,
   "metadata": {},
   "outputs": [],
   "source": []
  },
  {
   "cell_type": "markdown",
   "metadata": {},
   "source": [
    "## Random Forest"
   ]
  },
  {
   "cell_type": "markdown",
   "metadata": {},
   "source": [
    "### OHE"
   ]
  },
  {
   "cell_type": "code",
   "execution_count": 27,
   "metadata": {
    "ExecuteTime": {
     "end_time": "2019-01-29T16:06:44.767725Z",
     "start_time": "2019-01-29T16:04:55.702663Z"
    }
   },
   "outputs": [
    {
     "name": "stdout",
     "output_type": "stream",
     "text": [
      "Fitting 5 folds for each of 192 candidates, totalling 960 fits\n"
     ]
    },
    {
     "name": "stderr",
     "output_type": "stream",
     "text": [
      "[Parallel(n_jobs=-1)]: Done  52 tasks      | elapsed:    4.8s\n",
      "[Parallel(n_jobs=-1)]: Done 212 tasks      | elapsed:   21.5s\n",
      "[Parallel(n_jobs=-1)]: Done 462 tasks      | elapsed:   51.2s\n",
      "[Parallel(n_jobs=-1)]: Done 812 tasks      | elapsed:  1.5min\n",
      "[Parallel(n_jobs=-1)]: Done 960 out of 960 | elapsed:  1.8min finished\n"
     ]
    },
    {
     "name": "stdout",
     "output_type": "stream",
     "text": [
      "{'criterion': 'gini', 'max_depth': 50, 'max_features': 'log2', 'min_samples_leaf': 4, 'min_samples_split': 2, 'n_estimators': 500, 'random_state': 13}\n",
      "RandomForestClassifier(bootstrap=True, class_weight=None, criterion='gini',\n",
      "            max_depth=50, max_features='log2', max_leaf_nodes=None,\n",
      "            min_impurity_decrease=0.0, min_impurity_split=None,\n",
      "            min_samples_leaf=4, min_samples_split=2,\n",
      "            min_weight_fraction_leaf=0.0, n_estimators=500, n_jobs=1,\n",
      "            oob_score=False, random_state=13, verbose=0, warm_start=False)\n"
     ]
    },
    {
     "data": {
      "image/png": "[encoded data removed]",
      "text/plain": [
       "<Figure size 432x288 with 1 Axes>"
      ]
     },
     "metadata": {},
     "output_type": "display_data"
    },
    {
     "name": "stdout",
     "output_type": "stream",
     "text": [
      "AUC_ROC_score:  0.8740808823529412  cutoff:  0.6759743381553528\n"
     ]
    }
   ],
   "source": [
    "# AUC_ROC\n",
    "tuned_parameters = {'n_estimators':[50, 100, 500, 1000], 'criterion':['gini', 'entropy'], 'random_state':[seed], 'max_features':['log2', 'auto'], \n",
    "                    'min_samples_split':[2, 4], 'max_depth': [10, 50, None], 'min_samples_leaf':[1,4]}\n",
    "clf, fpr, tpr, thresholds, pred_result, cut_off = auc_roc_expr(RandomForestClassifier(), tuned_parameters,\n",
    "                                                              train_X_ohe, train_y_nafld, test_X_ohe, test_y_nafld)"
   ]
  },
  {
   "cell_type": "code",
   "execution_count": 28,
   "metadata": {
    "ExecuteTime": {
     "end_time": "2019-01-29T16:06:47.193120Z",
     "start_time": "2019-01-29T16:06:44.770380Z"
    }
   },
   "outputs": [
    {
     "data": {
      "text/plain": [
       "(array([0.85555556, 0.87106447, 0.8356998 , 0.87525355, 0.84482759]),\n",
       " 0.8564801912769106)"
      ]
     },
     "execution_count": 28,
     "metadata": {},
     "output_type": "execute_result"
    }
   ],
   "source": [
    "# CV on train + test\n",
    "get_full_cv_scores(clf)"
   ]
  },
  {
   "cell_type": "code",
   "execution_count": 29,
   "metadata": {
    "ExecuteTime": {
     "end_time": "2019-01-29T16:06:47.200395Z",
     "start_time": "2019-01-29T16:06:47.194595Z"
    }
   },
   "outputs": [
    {
     "data": {
      "text/plain": [
       "(0.8928571428571429, 0.78125, 0.8333333333333334)"
      ]
     },
     "execution_count": 29,
     "metadata": {},
     "output_type": "execute_result"
    }
   ],
   "source": [
    "#precision, recall, f1-score based on cut-off decided from ROC_AUC\n",
    "get_binary_cls_precision_recall_f1(test_y_nafld, pred_result, list(filter(lambda x: x==1, clf.classes_))[0], cut_off)[0][:-1]"
   ]
  },
  {
   "cell_type": "code",
   "execution_count": 30,
   "metadata": {
    "ExecuteTime": {
     "end_time": "2019-01-29T16:06:47.303106Z",
     "start_time": "2019-01-29T16:06:47.201983Z"
    }
   },
   "outputs": [
    {
     "data": {
      "image/png": "[encoded data removed]",
      "text/plain": [
       "<Figure size 432x288 with 1 Axes>"
      ]
     },
     "metadata": {},
     "output_type": "display_data"
    }
   ],
   "source": [
    "preds = get_binary_cls_precision_recall_f1(test_y_nafld, pred_result, list(filter(lambda x: x==1, clf.classes_))[0], cut_off)[1]\n",
    "make_confusion_matrix(test_y_nafld, preds)"
   ]
  },
  {
   "cell_type": "code",
   "execution_count": 31,
   "metadata": {
    "ExecuteTime": {
     "end_time": "2019-01-29T16:06:47.307381Z",
     "start_time": "2019-01-29T16:06:47.304977Z"
    }
   },
   "outputs": [],
   "source": [
    "# TODO visulization trees\n",
    "from sklearn.tree import export_graphviz\n",
    "from subprocess import call\n",
    "from IPython.display import Image"
   ]
  },
  {
   "cell_type": "markdown",
   "metadata": {},
   "source": [
    "### no data transformation "
   ]
  },
  {
   "cell_type": "code",
   "execution_count": 98,
   "metadata": {
    "ExecuteTime": {
     "end_time": "2019-01-29T17:10:46.522367Z",
     "start_time": "2019-01-29T17:10:46.518951Z"
    }
   },
   "outputs": [],
   "source": [
    "def fc(s):\n",
    "    return {each:i for i, each in enumerate(s)}\n",
    "\n",
    "def xys(l):\n",
    "    return list(zip(*l))"
   ]
  },
  {
   "cell_type": "code",
   "execution_count": 90,
   "metadata": {
    "ExecuteTime": {
     "end_time": "2019-01-29T17:07:25.053803Z",
     "start_time": "2019-01-29T17:07:25.029561Z"
    }
   },
   "outputs": [],
   "source": [
    "df_svm = pd.read_csv(\"imputed_nafld.csv\")\n",
    "d = {0: fc(set(df_svm['NGT_IFG_'])), 1: fc(set(df_svm['NGT__PRE'])), 6: fc(set(df_svm['ETHNICIT']))}\n",
    "nd = {0: len(set(df_svm['NGT_IFG_'])), 1: len(set(df_svm['NGT__PRE'])), 6: len(set(df_svm['ETHNICIT']))}\n",
    "\n",
    "\n",
    "n_data = []\n",
    "for each in df_svm.values:\n",
    "    n_point = []\n",
    "    for idx, v in enumerate(each):\n",
    "        if idx in d:\n",
    "            cat = list(np.zeros(shape=nd[idx]))\n",
    "            cat[d[idx][v]] = 1\n",
    "            n_point.extend(cat)\n",
    "        \n",
    "        else:\n",
    "            n_point.append(v)\n",
    "    n_data.append(n_point)\n",
    "\n",
    "n_data_X = list(map(lambda x: x[:-3], n_data))\n",
    "n_data_y = list(map(lambda x: x[-1], n_data))"
   ]
  },
  {
   "cell_type": "code",
   "execution_count": 99,
   "metadata": {
    "ExecuteTime": {
     "end_time": "2019-01-29T17:11:14.669957Z",
     "start_time": "2019-01-29T17:11:14.663814Z"
    }
   },
   "outputs": [],
   "source": [
    "n_data_X = np.array(n_data_X)\n",
    "data = list(zip(n_data_X, n_data_y))\n",
    "trs, tss = train_test_split(data, test_size=0.2, random_state=seed)\n",
    "train_X, train_y = xys(trs)\n",
    "test_X, test_y = xys(tss)"
   ]
  },
  {
   "cell_type": "code",
   "execution_count": 102,
   "metadata": {
    "ExecuteTime": {
     "end_time": "2019-01-29T17:13:56.138473Z",
     "start_time": "2019-01-29T17:11:57.208851Z"
    }
   },
   "outputs": [
    {
     "name": "stdout",
     "output_type": "stream",
     "text": [
      "Fitting 5 folds for each of 192 candidates, totalling 960 fits\n"
     ]
    },
    {
     "name": "stderr",
     "output_type": "stream",
     "text": [
      "[Parallel(n_jobs=-1)]: Done  52 tasks      | elapsed:    5.4s\n",
      "[Parallel(n_jobs=-1)]: Done 209 tasks      | elapsed:   23.4s\n",
      "[Parallel(n_jobs=-1)]: Done 459 tasks      | elapsed:   54.2s\n",
      "[Parallel(n_jobs=-1)]: Done 809 tasks      | elapsed:  1.6min\n",
      "[Parallel(n_jobs=-1)]: Done 960 out of 960 | elapsed:  2.0min finished\n"
     ]
    },
    {
     "name": "stdout",
     "output_type": "stream",
     "text": [
      "{'criterion': 'gini', 'max_depth': 50, 'max_features': 'auto', 'min_samples_leaf': 1, 'min_samples_split': 4, 'n_estimators': 500, 'random_state': 13}\n",
      "RandomForestClassifier(bootstrap=True, class_weight=None, criterion='gini',\n",
      "            max_depth=50, max_features='auto', max_leaf_nodes=None,\n",
      "            min_impurity_decrease=0.0, min_impurity_split=None,\n",
      "            min_samples_leaf=1, min_samples_split=4,\n",
      "            min_weight_fraction_leaf=0.0, n_estimators=500, n_jobs=1,\n",
      "            oob_score=False, random_state=13, verbose=0, warm_start=False)\n"
     ]
    },
    {
     "data": {
      "image/png": "[encoded data removed]",
      "text/plain": [
       "<Figure size 432x288 with 1 Axes>"
      ]
     },
     "metadata": {},
     "output_type": "display_data"
    },
    {
     "name": "stdout",
     "output_type": "stream",
     "text": [
      "AUC_ROC_score:  0.9283088235294117  cutoff:  0.5857857142857142\n"
     ]
    }
   ],
   "source": [
    "tuned_parameters = {'n_estimators':[50, 100, 500, 1000], 'criterion':['gini', 'entropy'], 'random_state':[seed], 'max_features':['log2', 'auto'], \n",
    "                    'min_samples_split':[2, 4], 'max_depth': [10, 50, None], 'min_samples_leaf':[1,4]}\n",
    "clf, fpr, tpr, thresholds, pred_result, cut_off = auc_roc_expr(RandomForestClassifier(), tuned_parameters,\n",
    "                                                              train_X, train_y, test_X, test_y)"
   ]
  },
  {
   "cell_type": "code",
   "execution_count": 106,
   "metadata": {
    "ExecuteTime": {
     "end_time": "2019-01-29T17:38:19.348440Z",
     "start_time": "2019-01-29T17:38:16.836216Z"
    }
   },
   "outputs": [
    {
     "data": {
      "text/plain": [
       "(array([0.85700483, 0.84957521, 0.82200811, 0.86764706, 0.84077079]),\n",
       " 0.8474012013601042)"
      ]
     },
     "execution_count": 106,
     "metadata": {},
     "output_type": "execute_result"
    }
   ],
   "source": [
    "get_full_cv_scores(clf, train_X_ohe, train_y_nafld, test_X_ohe, test_y_nafld)"
   ]
  },
  {
   "cell_type": "code",
   "execution_count": 104,
   "metadata": {
    "ExecuteTime": {
     "end_time": "2019-01-29T17:13:58.732237Z",
     "start_time": "2019-01-29T17:13:58.726747Z"
    }
   },
   "outputs": [
    {
     "data": {
      "text/plain": [
       "(0.9193548387096774, 0.890625, 0.9047619047619047)"
      ]
     },
     "execution_count": 104,
     "metadata": {},
     "output_type": "execute_result"
    }
   ],
   "source": [
    "get_binary_cls_precision_recall_f1(test_y_nafld, pred_result, list(filter(lambda x: x==1, clf.classes_))[0], cut_off)[0][:-1]"
   ]
  },
  {
   "cell_type": "code",
   "execution_count": 105,
   "metadata": {
    "ExecuteTime": {
     "end_time": "2019-01-29T17:13:58.836397Z",
     "start_time": "2019-01-29T17:13:58.734110Z"
    }
   },
   "outputs": [
    {
     "data": {
      "image/png": "[encoded data removed]",
      "text/plain": [
       "<Figure size 432x288 with 1 Axes>"
      ]
     },
     "metadata": {},
     "output_type": "display_data"
    }
   ],
   "source": [
    "preds = get_binary_cls_precision_recall_f1(test_y, pred_result, list(filter(lambda x: x==1, clf.classes_))[0], cut_off)[1]\n",
    "make_confusion_matrix(test_y_nafld, preds)"
   ]
  },
  {
   "cell_type": "markdown",
   "metadata": {},
   "source": [
    "## XGBoost"
   ]
  },
  {
   "cell_type": "code",
   "execution_count": null,
   "metadata": {},
   "outputs": [],
   "source": []
  },
  {
   "cell_type": "markdown",
   "metadata": {},
   "source": [
    "# feature elimination\n",
    "\n",
    "- model:\n",
    "- cv: 5-fold\n",
    "- method: backward"
   ]
  },
  {
   "cell_type": "code",
   "execution_count": null,
   "metadata": {},
   "outputs": [],
   "source": []
  }
 ],
 "metadata": {
  "kernelspec": {
   "display_name": "Python 3",
   "language": "python",
   "name": "python3"
  },
  "language_info": {
   "codemirror_mode": {
    "name": "ipython",
    "version": 3
   },
   "file_extension": ".py",
   "mimetype": "text/x-python",
   "name": "python",
   "nbconvert_exporter": "python",
   "pygments_lexer": "ipython3",
   "version": "3.6.5"
  },
  "toc": {
   "base_numbering": 1,
   "nav_menu": {},
   "number_sections": true,
   "sideBar": true,
   "skip_h1_title": false,
   "title_cell": "Table of Contents",
   "title_sidebar": "Contents",
   "toc_cell": false,
   "toc_position": {},
   "toc_section_display": true,
   "toc_window_display": false
  }
 },
 "nbformat": 4,
 "nbformat_minor": 2
}
