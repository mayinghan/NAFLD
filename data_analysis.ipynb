{
 "cells": [
  {
   "cell_type": "code",
   "execution_count": 1,
   "metadata": {
    "ExecuteTime": {
     "end_time": "2019-01-30T22:56:48.764372Z",
     "start_time": "2019-01-30T22:56:48.753959Z"
    }
   },
   "outputs": [
    {
     "data": {
      "text/html": [
       "<style>.container { width:90% !important; }</style>"
      ],
      "text/plain": [
       "<IPython.core.display.HTML object>"
      ]
     },
     "metadata": {},
     "output_type": "display_data"
    }
   ],
   "source": [
    "from IPython.core.display import display, HTML\n",
    "display(HTML(\"<style>.container { width:90% !important; }</style>\"))"
   ]
  },
  {
   "cell_type": "code",
   "execution_count": 2,
   "metadata": {
    "ExecuteTime": {
     "end_time": "2019-01-30T22:56:54.565683Z",
     "start_time": "2019-01-30T22:56:48.765990Z"
    }
   },
   "outputs": [],
   "source": [
    "import pandas as pd\n",
    "import numpy as np\n",
    "import pickle"
   ]
  },
  {
   "cell_type": "code",
   "execution_count": 3,
   "metadata": {
    "ExecuteTime": {
     "end_time": "2019-01-30T22:56:54.571005Z",
     "start_time": "2019-01-30T22:56:54.567847Z"
    }
   },
   "outputs": [],
   "source": [
    "def pkl_process(data=None, file=None, mode=\"dump\"):\n",
    "    f_mode = \"wb\" if mode == \"dump\" else \"rb\"\n",
    "    load_data = None\n",
    "    \n",
    "    with open(file, f_mode) as f:\n",
    "        if mode == \"dump\":\n",
    "            pickle.dump(data, f)\n",
    "        else:\n",
    "            load_data = pickle.load(f)\n",
    "    \n",
    "    return load_data"
   ]
  },
  {
   "cell_type": "code",
   "execution_count": 4,
   "metadata": {
    "ExecuteTime": {
     "end_time": "2019-01-30T22:56:54.576497Z",
     "start_time": "2019-01-30T22:56:54.573551Z"
    }
   },
   "outputs": [],
   "source": [
    "seed = 13"
   ]
  },
  {
   "cell_type": "markdown",
   "metadata": {},
   "source": [
    "# load categorized data and split train, test"
   ]
  },
  {
   "cell_type": "code",
   "execution_count": 5,
   "metadata": {
    "ExecuteTime": {
     "end_time": "2019-01-30T22:56:54.702474Z",
     "start_time": "2019-01-30T22:56:54.579260Z"
    }
   },
   "outputs": [
    {
     "data": {
      "text/plain": [
       "(488, 32)"
      ]
     },
     "execution_count": 5,
     "metadata": {},
     "output_type": "execute_result"
    }
   ],
   "source": [
    "df = pd.read_csv(\"categorized_NAFLD.csv\")\n",
    "df = df.drop(columns=['Unnamed: 0'])\n",
    "df.shape"
   ]
  },
  {
   "cell_type": "code",
   "execution_count": 6,
   "metadata": {
    "ExecuteTime": {
     "end_time": "2019-01-30T22:56:54.780865Z",
     "start_time": "2019-01-30T22:56:54.704499Z"
    }
   },
   "outputs": [
    {
     "data": {
      "text/html": [
       "<div>\n",
       "<style scoped>\n",
       "    .dataframe tbody tr th:only-of-type {\n",
       "        vertical-align: middle;\n",
       "    }\n",
       "\n",
       "    .dataframe tbody tr th {\n",
       "        vertical-align: top;\n",
       "    }\n",
       "\n",
       "    .dataframe thead th {\n",
       "        text-align: right;\n",
       "    }\n",
       "</style>\n",
       "<table border=\"1\" class=\"dataframe\">\n",
       "  <thead>\n",
       "    <tr style=\"text-align: right;\">\n",
       "      <th></th>\n",
       "      <th>NGT_IFG_</th>\n",
       "      <th>NGT__PRE</th>\n",
       "      <th>DM_STATU</th>\n",
       "      <th>MS</th>\n",
       "      <th>AGE</th>\n",
       "      <th>GNDR</th>\n",
       "      <th>ETHNICIT</th>\n",
       "      <th>BMI</th>\n",
       "      <th>HOMA</th>\n",
       "      <th>SBP</th>\n",
       "      <th>...</th>\n",
       "      <th>AST_M0</th>\n",
       "      <th>ALT_M0</th>\n",
       "      <th>BILIRRUB</th>\n",
       "      <th>PLATELET</th>\n",
       "      <th>ALBUMIN</th>\n",
       "      <th>TSH</th>\n",
       "      <th>MEAN_FPG</th>\n",
       "      <th>NASH_OU2</th>\n",
       "      <th>FIBROSI2</th>\n",
       "      <th>NAFLD_OU</th>\n",
       "    </tr>\n",
       "  </thead>\n",
       "  <tbody>\n",
       "    <tr>\n",
       "      <th>0</th>\n",
       "      <td>0</td>\n",
       "      <td>0</td>\n",
       "      <td>1</td>\n",
       "      <td>0</td>\n",
       "      <td>0</td>\n",
       "      <td>0</td>\n",
       "      <td>0</td>\n",
       "      <td>2</td>\n",
       "      <td>0</td>\n",
       "      <td>1</td>\n",
       "      <td>...</td>\n",
       "      <td>0</td>\n",
       "      <td>0</td>\n",
       "      <td>0</td>\n",
       "      <td>1</td>\n",
       "      <td>1</td>\n",
       "      <td>0</td>\n",
       "      <td>2</td>\n",
       "      <td>0</td>\n",
       "      <td>0</td>\n",
       "      <td>0</td>\n",
       "    </tr>\n",
       "    <tr>\n",
       "      <th>1</th>\n",
       "      <td>1</td>\n",
       "      <td>2</td>\n",
       "      <td>0</td>\n",
       "      <td>1</td>\n",
       "      <td>2</td>\n",
       "      <td>1</td>\n",
       "      <td>2</td>\n",
       "      <td>3</td>\n",
       "      <td>0</td>\n",
       "      <td>0</td>\n",
       "      <td>...</td>\n",
       "      <td>0</td>\n",
       "      <td>0</td>\n",
       "      <td>0</td>\n",
       "      <td>1</td>\n",
       "      <td>0</td>\n",
       "      <td>0</td>\n",
       "      <td>1</td>\n",
       "      <td>0</td>\n",
       "      <td>0</td>\n",
       "      <td>0</td>\n",
       "    </tr>\n",
       "    <tr>\n",
       "      <th>2</th>\n",
       "      <td>0</td>\n",
       "      <td>0</td>\n",
       "      <td>1</td>\n",
       "      <td>1</td>\n",
       "      <td>2</td>\n",
       "      <td>1</td>\n",
       "      <td>2</td>\n",
       "      <td>2</td>\n",
       "      <td>0</td>\n",
       "      <td>0</td>\n",
       "      <td>...</td>\n",
       "      <td>0</td>\n",
       "      <td>0</td>\n",
       "      <td>0</td>\n",
       "      <td>1</td>\n",
       "      <td>1</td>\n",
       "      <td>0</td>\n",
       "      <td>1</td>\n",
       "      <td>0</td>\n",
       "      <td>0</td>\n",
       "      <td>0</td>\n",
       "    </tr>\n",
       "    <tr>\n",
       "      <th>3</th>\n",
       "      <td>0</td>\n",
       "      <td>0</td>\n",
       "      <td>1</td>\n",
       "      <td>0</td>\n",
       "      <td>1</td>\n",
       "      <td>0</td>\n",
       "      <td>0</td>\n",
       "      <td>3</td>\n",
       "      <td>1</td>\n",
       "      <td>1</td>\n",
       "      <td>...</td>\n",
       "      <td>0</td>\n",
       "      <td>0</td>\n",
       "      <td>0</td>\n",
       "      <td>1</td>\n",
       "      <td>1</td>\n",
       "      <td>0</td>\n",
       "      <td>2</td>\n",
       "      <td>0</td>\n",
       "      <td>0</td>\n",
       "      <td>0</td>\n",
       "    </tr>\n",
       "    <tr>\n",
       "      <th>4</th>\n",
       "      <td>0</td>\n",
       "      <td>0</td>\n",
       "      <td>1</td>\n",
       "      <td>1</td>\n",
       "      <td>3</td>\n",
       "      <td>1</td>\n",
       "      <td>0</td>\n",
       "      <td>2</td>\n",
       "      <td>1</td>\n",
       "      <td>1</td>\n",
       "      <td>...</td>\n",
       "      <td>0</td>\n",
       "      <td>0</td>\n",
       "      <td>0</td>\n",
       "      <td>1</td>\n",
       "      <td>1</td>\n",
       "      <td>0</td>\n",
       "      <td>2</td>\n",
       "      <td>0</td>\n",
       "      <td>0</td>\n",
       "      <td>0</td>\n",
       "    </tr>\n",
       "  </tbody>\n",
       "</table>\n",
       "<p>5 rows × 32 columns</p>\n",
       "</div>"
      ],
      "text/plain": [
       "   NGT_IFG_  NGT__PRE  DM_STATU  MS  AGE  GNDR  ETHNICIT  BMI  HOMA  SBP  \\\n",
       "0         0         0         1   0    0     0         0    2     0    1   \n",
       "1         1         2         0   1    2     1         2    3     0    0   \n",
       "2         0         0         1   1    2     1         2    2     0    0   \n",
       "3         0         0         1   0    1     0         0    3     1    1   \n",
       "4         0         0         1   1    3     1         0    2     1    1   \n",
       "\n",
       "     ...     AST_M0  ALT_M0  BILIRRUB  PLATELET  ALBUMIN  TSH  MEAN_FPG  \\\n",
       "0    ...          0       0         0         1        1    0         2   \n",
       "1    ...          0       0         0         1        0    0         1   \n",
       "2    ...          0       0         0         1        1    0         1   \n",
       "3    ...          0       0         0         1        1    0         2   \n",
       "4    ...          0       0         0         1        1    0         2   \n",
       "\n",
       "   NASH_OU2  FIBROSI2  NAFLD_OU  \n",
       "0         0         0         0  \n",
       "1         0         0         0  \n",
       "2         0         0         0  \n",
       "3         0         0         0  \n",
       "4         0         0         0  \n",
       "\n",
       "[5 rows x 32 columns]"
      ]
     },
     "execution_count": 6,
     "metadata": {},
     "output_type": "execute_result"
    }
   ],
   "source": [
    "df.head()"
   ]
  },
  {
   "cell_type": "code",
   "execution_count": 93,
   "metadata": {
    "ExecuteTime": {
     "end_time": "2019-01-31T15:15:26.399062Z",
     "start_time": "2019-01-31T15:15:26.382078Z"
    }
   },
   "outputs": [
    {
     "name": "stdout",
     "output_type": "stream",
     "text": [
      "train, test shape:  (390, 32) (98, 32)\n",
      "NAFLD counts in train test:  278 112 64 34\n",
      "fibrosis counts in train test:  49 341 11 87\n",
      "NASH_OU2 counts in train test:  163 227 35 63\n"
     ]
    }
   ],
   "source": [
    "# split the data fram to train and test and shuffle\n",
    "from sklearn.model_selection import train_test_split\n",
    "train_df, test_df = train_test_split(df, test_size=0.2, random_state=seed)\n",
    "print(\"train, test shape: \", train_df.shape, test_df.shape)\n",
    "\n",
    "print(\"NAFLD counts in train test: \", len(train_df[train_df['NAFLD_OU'] == 1]), len(train_df[train_df['NAFLD_OU'] == 0]), \n",
    "      len(test_df[test_df['NAFLD_OU'] == 1]), len(test_df[test_df['NAFLD_OU'] == 0]))\n",
    "\n",
    "print(\"fibrosis counts in train test: \", len(train_df[train_df['FIBROSI2'] == 1]), len(train_df[train_df['FIBROSI2'] == 0]), \n",
    "      len(test_df[test_df['FIBROSI2'] == 1]), len(test_df[test_df['FIBROSI2'] == 0]))\n",
    "\n",
    "print(\"NASH_OU2 counts in train test: \", len(train_df[train_df['NASH_OU2'] == 1]), len(train_df[train_df['NASH_OU2'] == 0]), \n",
    "      len(test_df[test_df['NASH_OU2'] == 1]), len(test_df[test_df['NASH_OU2'] == 0]))"
   ]
  },
  {
   "cell_type": "code",
   "execution_count": 8,
   "metadata": {
    "ExecuteTime": {
     "end_time": "2019-01-30T22:56:59.974033Z",
     "start_time": "2019-01-30T22:56:59.958701Z"
    }
   },
   "outputs": [
    {
     "data": {
      "text/html": [
       "<div>\n",
       "<style scoped>\n",
       "    .dataframe tbody tr th:only-of-type {\n",
       "        vertical-align: middle;\n",
       "    }\n",
       "\n",
       "    .dataframe tbody tr th {\n",
       "        vertical-align: top;\n",
       "    }\n",
       "\n",
       "    .dataframe thead th {\n",
       "        text-align: right;\n",
       "    }\n",
       "</style>\n",
       "<table border=\"1\" class=\"dataframe\">\n",
       "  <thead>\n",
       "    <tr style=\"text-align: right;\">\n",
       "      <th></th>\n",
       "      <th>NGT_IFG_</th>\n",
       "      <th>NGT__PRE</th>\n",
       "      <th>DM_STATU</th>\n",
       "      <th>MS</th>\n",
       "      <th>AGE</th>\n",
       "      <th>GNDR</th>\n",
       "      <th>ETHNICIT</th>\n",
       "      <th>BMI</th>\n",
       "      <th>HOMA</th>\n",
       "      <th>SBP</th>\n",
       "      <th>...</th>\n",
       "      <th>AST_M0</th>\n",
       "      <th>ALT_M0</th>\n",
       "      <th>BILIRRUB</th>\n",
       "      <th>PLATELET</th>\n",
       "      <th>ALBUMIN</th>\n",
       "      <th>TSH</th>\n",
       "      <th>MEAN_FPG</th>\n",
       "      <th>NASH_OU2</th>\n",
       "      <th>FIBROSI2</th>\n",
       "      <th>NAFLD_OU</th>\n",
       "    </tr>\n",
       "  </thead>\n",
       "  <tbody>\n",
       "    <tr>\n",
       "      <th>268</th>\n",
       "      <td>0</td>\n",
       "      <td>0</td>\n",
       "      <td>1</td>\n",
       "      <td>1</td>\n",
       "      <td>2</td>\n",
       "      <td>1</td>\n",
       "      <td>0</td>\n",
       "      <td>2</td>\n",
       "      <td>0</td>\n",
       "      <td>1</td>\n",
       "      <td>...</td>\n",
       "      <td>0</td>\n",
       "      <td>0</td>\n",
       "      <td>1</td>\n",
       "      <td>1</td>\n",
       "      <td>1</td>\n",
       "      <td>0</td>\n",
       "      <td>1</td>\n",
       "      <td>1</td>\n",
       "      <td>0</td>\n",
       "      <td>1</td>\n",
       "    </tr>\n",
       "    <tr>\n",
       "      <th>444</th>\n",
       "      <td>0</td>\n",
       "      <td>0</td>\n",
       "      <td>1</td>\n",
       "      <td>1</td>\n",
       "      <td>1</td>\n",
       "      <td>1</td>\n",
       "      <td>2</td>\n",
       "      <td>3</td>\n",
       "      <td>1</td>\n",
       "      <td>1</td>\n",
       "      <td>...</td>\n",
       "      <td>0</td>\n",
       "      <td>0</td>\n",
       "      <td>1</td>\n",
       "      <td>1</td>\n",
       "      <td>1</td>\n",
       "      <td>0</td>\n",
       "      <td>2</td>\n",
       "      <td>1</td>\n",
       "      <td>0</td>\n",
       "      <td>1</td>\n",
       "    </tr>\n",
       "    <tr>\n",
       "      <th>118</th>\n",
       "      <td>3</td>\n",
       "      <td>1</td>\n",
       "      <td>0</td>\n",
       "      <td>0</td>\n",
       "      <td>2</td>\n",
       "      <td>0</td>\n",
       "      <td>3</td>\n",
       "      <td>1</td>\n",
       "      <td>2</td>\n",
       "      <td>0</td>\n",
       "      <td>...</td>\n",
       "      <td>0</td>\n",
       "      <td>0</td>\n",
       "      <td>0</td>\n",
       "      <td>0</td>\n",
       "      <td>1</td>\n",
       "      <td>1</td>\n",
       "      <td>0</td>\n",
       "      <td>0</td>\n",
       "      <td>0</td>\n",
       "      <td>0</td>\n",
       "    </tr>\n",
       "    <tr>\n",
       "      <th>449</th>\n",
       "      <td>0</td>\n",
       "      <td>0</td>\n",
       "      <td>1</td>\n",
       "      <td>1</td>\n",
       "      <td>2</td>\n",
       "      <td>1</td>\n",
       "      <td>3</td>\n",
       "      <td>3</td>\n",
       "      <td>1</td>\n",
       "      <td>1</td>\n",
       "      <td>...</td>\n",
       "      <td>1</td>\n",
       "      <td>1</td>\n",
       "      <td>0</td>\n",
       "      <td>1</td>\n",
       "      <td>1</td>\n",
       "      <td>0</td>\n",
       "      <td>2</td>\n",
       "      <td>0</td>\n",
       "      <td>0</td>\n",
       "      <td>1</td>\n",
       "    </tr>\n",
       "    <tr>\n",
       "      <th>207</th>\n",
       "      <td>0</td>\n",
       "      <td>0</td>\n",
       "      <td>1</td>\n",
       "      <td>1</td>\n",
       "      <td>1</td>\n",
       "      <td>0</td>\n",
       "      <td>3</td>\n",
       "      <td>3</td>\n",
       "      <td>2</td>\n",
       "      <td>0</td>\n",
       "      <td>...</td>\n",
       "      <td>1</td>\n",
       "      <td>1</td>\n",
       "      <td>0</td>\n",
       "      <td>1</td>\n",
       "      <td>0</td>\n",
       "      <td>0</td>\n",
       "      <td>0</td>\n",
       "      <td>0</td>\n",
       "      <td>0</td>\n",
       "      <td>1</td>\n",
       "    </tr>\n",
       "  </tbody>\n",
       "</table>\n",
       "<p>5 rows × 32 columns</p>\n",
       "</div>"
      ],
      "text/plain": [
       "     NGT_IFG_  NGT__PRE  DM_STATU  MS  AGE  GNDR  ETHNICIT  BMI  HOMA  SBP  \\\n",
       "268         0         0         1   1    2     1         0    2     0    1   \n",
       "444         0         0         1   1    1     1         2    3     1    1   \n",
       "118         3         1         0   0    2     0         3    1     2    0   \n",
       "449         0         0         1   1    2     1         3    3     1    1   \n",
       "207         0         0         1   1    1     0         3    3     2    0   \n",
       "\n",
       "       ...     AST_M0  ALT_M0  BILIRRUB  PLATELET  ALBUMIN  TSH  MEAN_FPG  \\\n",
       "268    ...          0       0         1         1        1    0         1   \n",
       "444    ...          0       0         1         1        1    0         2   \n",
       "118    ...          0       0         0         0        1    1         0   \n",
       "449    ...          1       1         0         1        1    0         2   \n",
       "207    ...          1       1         0         1        0    0         0   \n",
       "\n",
       "     NASH_OU2  FIBROSI2  NAFLD_OU  \n",
       "268         1         0         1  \n",
       "444         1         0         1  \n",
       "118         0         0         0  \n",
       "449         0         0         1  \n",
       "207         0         0         1  \n",
       "\n",
       "[5 rows x 32 columns]"
      ]
     },
     "execution_count": 8,
     "metadata": {},
     "output_type": "execute_result"
    }
   ],
   "source": [
    "train_df.head()"
   ]
  },
  {
   "cell_type": "code",
   "execution_count": 9,
   "metadata": {
    "ExecuteTime": {
     "end_time": "2019-01-30T22:56:59.980571Z",
     "start_time": "2019-01-30T22:56:59.976107Z"
    }
   },
   "outputs": [
    {
     "data": {
      "text/plain": [
       "array([1, 1, 0, 1, 1])"
      ]
     },
     "execution_count": 9,
     "metadata": {},
     "output_type": "execute_result"
    }
   ],
   "source": [
    "#get training y label\n",
    "train_y_nash, train_y_fib, train_y_nafld = np.array(train_df['NASH_OU2']), np.array(train_df['FIBROSI2']), np.array(train_df['NAFLD_OU'])\n",
    "train_y_nafld[:5]"
   ]
  },
  {
   "cell_type": "code",
   "execution_count": 10,
   "metadata": {
    "ExecuteTime": {
     "end_time": "2019-01-30T22:56:59.988395Z",
     "start_time": "2019-01-30T22:56:59.982689Z"
    }
   },
   "outputs": [
    {
     "data": {
      "text/plain": [
       "((390, 29), (390,))"
      ]
     },
     "execution_count": 10,
     "metadata": {},
     "output_type": "execute_result"
    }
   ],
   "source": [
    "train_X = train_df.drop(columns=['NASH_OU2', 'FIBROSI2', 'NAFLD_OU'])\n",
    "train_X.shape, train_y_nafld.shape"
   ]
  },
  {
   "cell_type": "code",
   "execution_count": 11,
   "metadata": {
    "ExecuteTime": {
     "end_time": "2019-01-30T22:57:00.000959Z",
     "start_time": "2019-01-30T22:56:59.995601Z"
    }
   },
   "outputs": [
    {
     "data": {
      "text/plain": [
       "((98, 29), (98,))"
      ]
     },
     "execution_count": 11,
     "metadata": {},
     "output_type": "execute_result"
    }
   ],
   "source": [
    "test_y_nash, test_y_fib, test_y_nafld = np.array(test_df['NASH_OU2']), np.array(test_df['FIBROSI2']), np.array(test_df['NAFLD_OU'])\n",
    "test_X = test_df.drop(columns=['NASH_OU2', 'FIBROSI2', 'NAFLD_OU'])\n",
    "test_X.shape, test_y_nafld.shape"
   ]
  },
  {
   "cell_type": "markdown",
   "metadata": {},
   "source": [
    "# data encoding"
   ]
  },
  {
   "cell_type": "markdown",
   "metadata": {},
   "source": [
    "## one-hot encoding"
   ]
  },
  {
   "cell_type": "code",
   "execution_count": 23,
   "metadata": {
    "ExecuteTime": {
     "end_time": "2019-01-30T23:01:16.120951Z",
     "start_time": "2019-01-30T23:01:16.118476Z"
    }
   },
   "outputs": [],
   "source": [
    "from sklearn.preprocessing import OneHotEncoder\n",
    "ohe = OneHotEncoder(sparse=False, categories='auto')"
   ]
  },
  {
   "cell_type": "code",
   "execution_count": 24,
   "metadata": {
    "ExecuteTime": {
     "end_time": "2019-01-30T23:01:16.912699Z",
     "start_time": "2019-01-30T23:01:16.906568Z"
    }
   },
   "outputs": [
    {
     "data": {
      "text/plain": [
       "OneHotEncoder(categorical_features=None, categories='auto',\n",
       "       dtype=<class 'numpy.float64'>, handle_unknown='error',\n",
       "       n_values=None, sparse=False)"
      ]
     },
     "execution_count": 24,
     "metadata": {},
     "output_type": "execute_result"
    }
   ],
   "source": [
    "ohe.fit(df.drop(columns=['NASH_OU2', 'FIBROSI2', 'NAFLD_OU']))"
   ]
  },
  {
   "cell_type": "code",
   "execution_count": 25,
   "metadata": {
    "ExecuteTime": {
     "end_time": "2019-01-30T23:01:17.425924Z",
     "start_time": "2019-01-30T23:01:17.411983Z"
    }
   },
   "outputs": [
    {
     "data": {
      "text/plain": [
       "((390, 73), (98, 73))"
      ]
     },
     "execution_count": 25,
     "metadata": {},
     "output_type": "execute_result"
    }
   ],
   "source": [
    "train_X_ohe = ohe.transform(train_X)\n",
    "test_X_ohe = ohe.transform(test_X)\n",
    "train_X_ohe.shape, test_X_ohe.shape"
   ]
  },
  {
   "cell_type": "code",
   "execution_count": 27,
   "metadata": {
    "ExecuteTime": {
     "end_time": "2019-01-30T23:02:00.771668Z",
     "start_time": "2019-01-30T23:02:00.766426Z"
    }
   },
   "outputs": [
    {
     "data": {
      "text/plain": [
       "(array([1., 0., 0., 0., 1., 0., 0., 0., 1., 0., 1., 0., 0., 1., 0., 0., 1.,\n",
       "        1., 0., 0., 0., 0., 0., 0., 1., 0., 1., 0., 0., 0., 1., 0., 1., 0.,\n",
       "        1., 0., 1., 1., 0., 0., 1., 0., 0., 0., 1., 0., 1., 0., 1., 1., 0.,\n",
       "        1., 0., 0., 1., 0., 0., 1., 1., 0., 1., 0., 0., 1., 0., 1., 0., 1.,\n",
       "        1., 0., 0., 1., 0.]), 1, 1, 0)"
      ]
     },
     "execution_count": 27,
     "metadata": {},
     "output_type": "execute_result"
    }
   ],
   "source": [
    "train_X_ohe[0], train_y_nafld[0], train_y_nash[0], train_y_fib[0]"
   ]
  },
  {
   "cell_type": "markdown",
   "metadata": {},
   "source": [
    "## feature hashing"
   ]
  },
  {
   "cell_type": "code",
   "execution_count": null,
   "metadata": {},
   "outputs": [],
   "source": [
    "from sklearn.feature_extraction import FeatureHasher\n",
    "#convert data to uni-feature space then feature hashing (libsvm format first -> convert to dict)"
   ]
  },
  {
   "cell_type": "code",
   "execution_count": null,
   "metadata": {},
   "outputs": [],
   "source": []
  },
  {
   "cell_type": "code",
   "execution_count": null,
   "metadata": {},
   "outputs": [],
   "source": []
  },
  {
   "cell_type": "markdown",
   "metadata": {},
   "source": [
    "# machine learning "
   ]
  },
  {
   "cell_type": "code",
   "execution_count": 28,
   "metadata": {
    "ExecuteTime": {
     "end_time": "2019-01-30T23:02:21.906703Z",
     "start_time": "2019-01-30T23:02:18.021225Z"
    }
   },
   "outputs": [],
   "source": [
    "from sklearn.linear_model import LogisticRegression\n",
    "from sklearn.svm import SVC\n",
    "from sklearn.ensemble import RandomForestClassifier\n",
    "from sklearn.model_selection import GridSearchCV, cross_val_score\n",
    "from sklearn.metrics import roc_auc_score, roc_curve, f1_score, precision_recall_fscore_support, confusion_matrix\n",
    "import matplotlib.pyplot as plt\n",
    "import seaborn as sns"
   ]
  },
  {
   "cell_type": "code",
   "execution_count": 29,
   "metadata": {
    "ExecuteTime": {
     "end_time": "2019-01-30T23:02:21.912368Z",
     "start_time": "2019-01-30T23:02:21.908712Z"
    }
   },
   "outputs": [],
   "source": [
    "def get_binary_cls_precision_recall_f1(true_labels, pred_probs, pos_idx, threshold=0.5):\n",
    "    pred_lables = []\n",
    "    for pred_prob in pred_probs:\n",
    "        pos_prob = pred_prob[pos_idx]\n",
    "        if pos_prob >= threshold:\n",
    "            pred_lables.append(1)\n",
    "        else:\n",
    "            pred_lables.append(0)\n",
    "    return precision_recall_fscore_support(true_labels, pred_lables, average='binary'), pred_lables"
   ]
  },
  {
   "cell_type": "code",
   "execution_count": 30,
   "metadata": {
    "ExecuteTime": {
     "end_time": "2019-01-30T23:02:23.210701Z",
     "start_time": "2019-01-30T23:02:23.206561Z"
    }
   },
   "outputs": [],
   "source": [
    "def get_full_cv_scores(model, train_X, train_y, test_X, test_y):\n",
    "    l1=list(train_X)+list(test_X)\n",
    "    l2=list(train_y)+list(test_y)\n",
    "\n",
    "    l = list(zip(l1, l2))\n",
    "    np.random.seed(seed)\n",
    "    np.random.shuffle(l, )\n",
    "\n",
    "    X = list(map(lambda x: x[0], l))\n",
    "    y = list(map(lambda x: x[1], l))\n",
    "\n",
    "    cv_res = cross_val_score(model, X, y, cv=5, n_jobs=1, scoring=\"roc_auc\")\n",
    "    return cv_res, np.average(cv_res)"
   ]
  },
  {
   "cell_type": "code",
   "execution_count": 31,
   "metadata": {
    "ExecuteTime": {
     "end_time": "2019-01-30T23:02:25.017170Z",
     "start_time": "2019-01-30T23:02:25.013994Z"
    }
   },
   "outputs": [],
   "source": [
    "def make_confusion_matrix(tl, pl):\n",
    "    mat = confusion_matrix(tl, pl)\n",
    "    sns.heatmap(mat.T, square=True, annot=True, fmt='d', cbar=False)\n",
    "    plt.xlabel('true label')\n",
    "    plt.ylabel('predicted label')\n",
    "    plt.show()"
   ]
  },
  {
   "cell_type": "code",
   "execution_count": 32,
   "metadata": {
    "ExecuteTime": {
     "end_time": "2019-01-30T23:02:26.843197Z",
     "start_time": "2019-01-30T23:02:26.836940Z"
    }
   },
   "outputs": [],
   "source": [
    "def auc_roc_expr(classifer, tuned_parameters, train_X, train_y, test_X, test_y):\n",
    "    gs = GridSearchCV(classifer, tuned_parameters, scoring='roc_auc', n_jobs=-1, cv=5, verbose=1) #scoring='roc_auc'\n",
    "    gs.fit(train_X, train_y)\n",
    "    print(gs.best_params_)\n",
    "    print(gs.best_estimator_)\n",
    "    clf = gs.best_estimator_\n",
    "    clf.fit(train_X, train_y)\n",
    "    pred_result = clf.predict_proba(test_X)\n",
    "    idx = list(filter(lambda x: x==1, clf.classes_))[0]\n",
    "    pred_result_1 = list(map(lambda x: x[idx], pred_result))\n",
    "    fpr, tpr, thresholds = roc_curve(test_y, pred_result_1)\n",
    "    plt.plot(fpr, tpr, lw=1, alpha=0.5)\n",
    "    plt.plot([0, 1], [0, 1], linestyle='--', lw=2, color='r',label='Chance', alpha=.8)\n",
    "    plt.xlim([-0.05, 1.05])\n",
    "    plt.ylim([-0.05, 1.05])\n",
    "    plt.xlabel('False Positive Rate')\n",
    "    plt.ylabel('True Positive Rate')\n",
    "    plt.title('Receiver operating characteristic example')\n",
    "    plt.legend(loc=\"lower right\")\n",
    "    plt.show()\n",
    "    cut_off = get_cutoff(fpr, tpr, thresholds)\n",
    "    print(\"AUC_ROC_score: \", roc_auc_score(test_y, pred_result_1), \" cutoff: \", cut_off)\n",
    "    return clf, fpr, tpr, thresholds, pred_result, cut_off"
   ]
  },
  {
   "cell_type": "code",
   "execution_count": 33,
   "metadata": {
    "ExecuteTime": {
     "end_time": "2019-01-30T23:02:29.249301Z",
     "start_time": "2019-01-30T23:02:29.246099Z"
    }
   },
   "outputs": [],
   "source": [
    "def get_cutoff(fpr, tpr, thresholds):\n",
    "    opt_idx = np.argmin(np.sqrt(np.square(1-tpr) + np.square(fpr)))\n",
    "    return thresholds[opt_idx]"
   ]
  },
  {
   "cell_type": "markdown",
   "metadata": {},
   "source": [
    "## Logistic Regression"
   ]
  },
  {
   "cell_type": "markdown",
   "metadata": {},
   "source": [
    "###  OHE as features"
   ]
  },
  {
   "cell_type": "markdown",
   "metadata": {},
   "source": [
    "#### NAFLD"
   ]
  },
  {
   "cell_type": "code",
   "execution_count": 95,
   "metadata": {
    "ExecuteTime": {
     "end_time": "2019-01-31T15:19:33.274058Z",
     "start_time": "2019-01-31T15:19:21.041155Z"
    }
   },
   "outputs": [
    {
     "name": "stdout",
     "output_type": "stream",
     "text": [
      "Fitting 5 folds for each of 432 candidates, totalling 2160 fits\n"
     ]
    },
    {
     "name": "stderr",
     "output_type": "stream",
     "text": [
      "[Parallel(n_jobs=-1)]: Using backend LokyBackend with 8 concurrent workers.\n",
      "[Parallel(n_jobs=-1)]: Done  34 tasks      | elapsed:    1.4s\n"
     ]
    },
    {
     "name": "stdout",
     "output_type": "stream",
     "text": [
      "{'C': 0.1, 'class_weight': None, 'max_iter': 50, 'random_state': 13, 'solver': 'liblinear', 'tol': 1e-05}\n",
      "LogisticRegression(C=0.1, class_weight=None, dual=False, fit_intercept=True,\n",
      "          intercept_scaling=1, max_iter=50, multi_class='warn',\n",
      "          n_jobs=None, penalty='l2', random_state=13, solver='liblinear',\n",
      "          tol=1e-05, verbose=0, warm_start=False)\n"
     ]
    },
    {
     "name": "stderr",
     "output_type": "stream",
     "text": [
      "[Parallel(n_jobs=-1)]: Done 2160 out of 2160 | elapsed:   12.0s finished\n",
      "/Users/alexgre/.pyenv/versions/miniconda3-latest/lib/python3.6/site-packages/sklearn/model_selection/_search.py:841: DeprecationWarning: The default of the `iid` parameter will change from True to False in version 0.22 and will be removed in 0.24. This will change numeric results when test-set sizes are unequal.\n",
      "  DeprecationWarning)\n"
     ]
    },
    {
     "data": {
      "image/png": "[encoded data removed]",
      "text/plain": [
       "<Figure size 432x288 with 1 Axes>"
      ]
     },
     "metadata": {},
     "output_type": "display_data"
    },
    {
     "name": "stdout",
     "output_type": "stream",
     "text": [
      "AUC_ROC_score:  0.8818933823529412  cutoff:  0.732519044922886\n"
     ]
    }
   ],
   "source": [
    "# AUC_ROC\n",
    "tuned_parameters = {'max_iter':[50, 100, 500], 'tol':[0.00001, 0.0001, 0.001, 0.01],'random_state':[seed], 'C': [0.01, 0.1, 1.0, 10.0, 100.0, 1000.0], \n",
    "                    'solver':['lbfgs', 'liblinear', 'newton-cg'], 'class_weight': [None, 'balanced']}\n",
    "clf, fpr, tpr, thresholds, pred_result, cut_off = auc_roc_expr(LogisticRegression(), tuned_parameters, \n",
    "                                                               train_X_ohe, train_y_nafld, test_X_ohe, test_y_nafld)"
   ]
  },
  {
   "cell_type": "code",
   "execution_count": 96,
   "metadata": {
    "ExecuteTime": {
     "end_time": "2019-01-31T15:19:38.233844Z",
     "start_time": "2019-01-31T15:19:38.229488Z"
    },
    "collapsed": true
   },
   "outputs": [
    {
     "data": {
      "text/plain": [
       "'\\nrandom_state in train_test_split\\nrandom_state=43, AUC_ROC_score:  0.9181372549019607  cutoff:  0.589327937535999\\nrandom_state=13, AUC_ROC_score:  0.8818933823529411  cutoff:  0.7325190449228863\\nrandom_state=23, AUC_ROC_score:  0.8180821917808219  cutoff:  0.6482708195516653\\nrandom_state=37, AUC_ROC_score:  0.7571014492753624  cutoff:  0.6753595392344012\\n'"
      ]
     },
     "execution_count": 96,
     "metadata": {},
     "output_type": "execute_result"
    }
   ],
   "source": [
    "'''\n",
    "random_state in train_test_split\n",
    "random_state=43, AUC_ROC_score:  0.9181372549019607  cutoff:  0.589327937535999\n",
    "random_state=13, AUC_ROC_score:  0.8818933823529411  cutoff:  0.7325190449228863\n",
    "random_state=23, AUC_ROC_score:  0.8180821917808219  cutoff:  0.6482708195516653\n",
    "random_state=37, AUC_ROC_score:  0.7571014492753624  cutoff:  0.6753595392344012\n",
    "'''"
   ]
  },
  {
   "cell_type": "code",
   "execution_count": 97,
   "metadata": {
    "ExecuteTime": {
     "end_time": "2019-01-31T15:19:42.409736Z",
     "start_time": "2019-01-31T15:19:42.382856Z"
    }
   },
   "outputs": [
    {
     "data": {
      "text/plain": [
       "(array([0.86183575, 0.88105947, 0.8351927 , 0.85141988, 0.84381339]),\n",
       " 0.8546642365091964)"
      ]
     },
     "execution_count": 97,
     "metadata": {},
     "output_type": "execute_result"
    }
   ],
   "source": [
    "# CV on train + test\n",
    "get_full_cv_scores(clf, train_X_ohe, train_y_nafld, test_X_ohe, test_y_nafld)"
   ]
  },
  {
   "cell_type": "code",
   "execution_count": 98,
   "metadata": {
    "ExecuteTime": {
     "end_time": "2019-01-31T15:19:43.292723Z",
     "start_time": "2019-01-31T15:19:43.286203Z"
    }
   },
   "outputs": [
    {
     "data": {
      "text/plain": [
       "(0.9423076923076923, 0.765625, 0.8448275862068965)"
      ]
     },
     "execution_count": 98,
     "metadata": {},
     "output_type": "execute_result"
    }
   ],
   "source": [
    "#precision, recall, f1-score based on cut-off decided from ROC_AUC\n",
    "get_binary_cls_precision_recall_f1(test_y_nafld, pred_result, list(filter(lambda x: x==1, clf.classes_))[0], cut_off)[0][:-1]"
   ]
  },
  {
   "cell_type": "code",
   "execution_count": 99,
   "metadata": {
    "ExecuteTime": {
     "end_time": "2019-01-31T15:19:43.921613Z",
     "start_time": "2019-01-31T15:19:43.812853Z"
    }
   },
   "outputs": [
    {
     "data": {
      "image/png": "[encoded data removed]",
      "text/plain": [
       "<Figure size 432x288 with 1 Axes>"
      ]
     },
     "metadata": {},
     "output_type": "display_data"
    }
   ],
   "source": [
    "preds = get_binary_cls_precision_recall_f1(test_y_nafld, pred_result, list(filter(lambda x: x==1, clf.classes_))[0], cut_off)[1]\n",
    "make_confusion_matrix(test_y_nafld, preds)"
   ]
  },
  {
   "cell_type": "markdown",
   "metadata": {},
   "source": [
    "#### nash"
   ]
  },
  {
   "cell_type": "code",
   "execution_count": 100,
   "metadata": {
    "ExecuteTime": {
     "end_time": "2019-01-31T15:20:16.504567Z",
     "start_time": "2019-01-31T15:20:06.007351Z"
    }
   },
   "outputs": [
    {
     "name": "stdout",
     "output_type": "stream",
     "text": [
      "Fitting 5 folds for each of 432 candidates, totalling 2160 fits\n"
     ]
    },
    {
     "name": "stderr",
     "output_type": "stream",
     "text": [
      "[Parallel(n_jobs=-1)]: Using backend LokyBackend with 8 concurrent workers.\n",
      "[Parallel(n_jobs=-1)]: Done 412 tasks      | elapsed:    1.1s\n"
     ]
    },
    {
     "name": "stdout",
     "output_type": "stream",
     "text": [
      "{'C': 0.01, 'class_weight': None, 'max_iter': 50, 'random_state': 13, 'solver': 'liblinear', 'tol': 0.01}\n",
      "LogisticRegression(C=0.01, class_weight=None, dual=False, fit_intercept=True,\n",
      "          intercept_scaling=1, max_iter=50, multi_class='warn',\n",
      "          n_jobs=None, penalty='l2', random_state=13, solver='liblinear',\n",
      "          tol=0.01, verbose=0, warm_start=False)\n"
     ]
    },
    {
     "name": "stderr",
     "output_type": "stream",
     "text": [
      "[Parallel(n_jobs=-1)]: Done 2160 out of 2160 | elapsed:   10.3s finished\n",
      "/Users/alexgre/.pyenv/versions/miniconda3-latest/lib/python3.6/site-packages/sklearn/model_selection/_search.py:841: DeprecationWarning: The default of the `iid` parameter will change from True to False in version 0.22 and will be removed in 0.24. This will change numeric results when test-set sizes are unequal.\n",
      "  DeprecationWarning)\n"
     ]
    },
    {
     "data": {
      "image/png": "[encoded data removed]",
      "text/plain": [
       "<Figure size 432x288 with 1 Axes>"
      ]
     },
     "metadata": {},
     "output_type": "display_data"
    },
    {
     "name": "stdout",
     "output_type": "stream",
     "text": [
      "AUC_ROC_score:  0.7269841269841271  cutoff:  0.4184381836616085\n"
     ]
    }
   ],
   "source": [
    "tuned_parameters = {'max_iter':[50, 100, 500], 'tol':[0.00001, 0.0001, 0.001, 0.01],'random_state':[seed], 'C': [0.01, 0.1, 1.0, 10.0, 100.0, 1000.0], \n",
    "                    'solver':['lbfgs', 'liblinear', 'newton-cg'], 'class_weight': [None, 'balanced']}\n",
    "clf, fpr, tpr, thresholds, pred_result, cut_off = auc_roc_expr(LogisticRegression(), tuned_parameters, \n",
    "                                                               train_X_ohe, train_y_nash, test_X_ohe, test_y_nash)"
   ]
  },
  {
   "cell_type": "code",
   "execution_count": 101,
   "metadata": {
    "ExecuteTime": {
     "end_time": "2019-01-31T15:20:31.453850Z",
     "start_time": "2019-01-31T15:20:31.429913Z"
    }
   },
   "outputs": [
    {
     "data": {
      "text/plain": [
       "(array([0.77112069, 0.81508621, 0.80775862, 0.84217507, 0.73386384]),\n",
       " 0.794000884173298)"
      ]
     },
     "execution_count": 101,
     "metadata": {},
     "output_type": "execute_result"
    }
   ],
   "source": [
    "get_full_cv_scores(clf, train_X_ohe, train_y_nash, test_X_ohe, test_y_nash)"
   ]
  },
  {
   "cell_type": "code",
   "execution_count": 85,
   "metadata": {
    "ExecuteTime": {
     "end_time": "2019-01-31T15:07:47.893677Z",
     "start_time": "2019-01-31T15:07:47.887531Z"
    }
   },
   "outputs": [
    {
     "data": {
      "text/plain": [
       "'pre:0.5333333333333333, rec:0.45714285714285713, f1:0.4923076923076923'"
      ]
     },
     "execution_count": 85,
     "metadata": {},
     "output_type": "execute_result"
    }
   ],
   "source": [
    "p,r,f=get_binary_cls_precision_recall_f1(test_y_nash, pred_result, list(filter(lambda x: x==1, clf.classes_))[0], cut_off)[0][:-1]\n",
    "\"pre:{}, rec:{}, f1:{}\".format(p, r, f)"
   ]
  },
  {
   "cell_type": "code",
   "execution_count": 41,
   "metadata": {
    "ExecuteTime": {
     "end_time": "2019-01-30T23:03:02.029424Z",
     "start_time": "2019-01-30T23:03:01.923296Z"
    }
   },
   "outputs": [
    {
     "data": {
      "image/png": "[encoded data removed]",
      "text/plain": [
       "<Figure size 432x288 with 1 Axes>"
      ]
     },
     "metadata": {},
     "output_type": "display_data"
    }
   ],
   "source": [
    "preds = get_binary_cls_precision_recall_f1(test_y_nash, pred_result, list(filter(lambda x: x==1, clf.classes_))[0], cut_off)[1]\n",
    "make_confusion_matrix(test_y_nash, preds)"
   ]
  },
  {
   "cell_type": "markdown",
   "metadata": {},
   "source": [
    "#### fabrosis"
   ]
  },
  {
   "cell_type": "code",
   "execution_count": 107,
   "metadata": {
    "ExecuteTime": {
     "end_time": "2019-01-31T15:21:40.712472Z",
     "start_time": "2019-01-31T15:21:28.766713Z"
    }
   },
   "outputs": [
    {
     "name": "stdout",
     "output_type": "stream",
     "text": [
      "Fitting 5 folds for each of 432 candidates, totalling 2160 fits\n"
     ]
    },
    {
     "name": "stderr",
     "output_type": "stream",
     "text": [
      "[Parallel(n_jobs=-1)]: Using backend LokyBackend with 8 concurrent workers.\n",
      "[Parallel(n_jobs=-1)]: Done 376 tasks      | elapsed:    0.9s\n"
     ]
    },
    {
     "name": "stdout",
     "output_type": "stream",
     "text": [
      "{'C': 0.01, 'class_weight': None, 'max_iter': 50, 'random_state': 13, 'solver': 'lbfgs', 'tol': 1e-05}\n",
      "LogisticRegression(C=0.01, class_weight=None, dual=False, fit_intercept=True,\n",
      "          intercept_scaling=1, max_iter=50, multi_class='warn',\n",
      "          n_jobs=None, penalty='l2', random_state=13, solver='lbfgs',\n",
      "          tol=1e-05, verbose=0, warm_start=False)\n"
     ]
    },
    {
     "name": "stderr",
     "output_type": "stream",
     "text": [
      "[Parallel(n_jobs=-1)]: Done 2160 out of 2160 | elapsed:   11.8s finished\n",
      "/Users/alexgre/.pyenv/versions/miniconda3-latest/lib/python3.6/site-packages/sklearn/model_selection/_search.py:841: DeprecationWarning: The default of the `iid` parameter will change from True to False in version 0.22 and will be removed in 0.24. This will change numeric results when test-set sizes are unequal.\n",
      "  DeprecationWarning)\n"
     ]
    },
    {
     "data": {
      "image/png": "[encoded data removed]",
      "text/plain": [
       "<Figure size 432x288 with 1 Axes>"
      ]
     },
     "metadata": {},
     "output_type": "display_data"
    },
    {
     "name": "stdout",
     "output_type": "stream",
     "text": [
      "AUC_ROC_score:  0.760710553814002  cutoff:  0.13436848242339858\n"
     ]
    }
   ],
   "source": [
    "tuned_parameters = {'max_iter':[50, 100, 500], 'tol':[0.00001, 0.0001, 0.001, 0.01],'random_state':[seed], 'C': [0.01, 0.1, 1.0, 10.0, 100.0, 1000.0], \n",
    "                    'solver':['lbfgs', 'liblinear', 'newton-cg'], 'class_weight': [None,'balanced']}\n",
    "clf, fpr, tpr, thresholds, pred_result, cut_off = auc_roc_expr(LogisticRegression(), tuned_parameters, \n",
    "                                                               train_X_ohe, train_y_fib, test_X_ohe, test_y_fib)"
   ]
  },
  {
   "cell_type": "code",
   "execution_count": 108,
   "metadata": {
    "ExecuteTime": {
     "end_time": "2019-01-31T15:21:40.747192Z",
     "start_time": "2019-01-31T15:21:40.714680Z"
    }
   },
   "outputs": [
    {
     "data": {
      "text/plain": [
       "(array([0.87693798, 0.8120155 , 0.86143411, 0.69411765, 0.71960784]),\n",
       " 0.7928226174190607)"
      ]
     },
     "execution_count": 108,
     "metadata": {},
     "output_type": "execute_result"
    }
   ],
   "source": [
    "(get_full_cv_scores(clf, train_X_ohe, train_y_fib, test_X_ohe, test_y_fib))"
   ]
  },
  {
   "cell_type": "code",
   "execution_count": 109,
   "metadata": {
    "ExecuteTime": {
     "end_time": "2019-01-31T15:21:40.754834Z",
     "start_time": "2019-01-31T15:21:40.749135Z"
    }
   },
   "outputs": [
    {
     "data": {
      "text/plain": [
       "(0.3181818181818182, 0.6363636363636364, 0.4242424242424242)"
      ]
     },
     "execution_count": 109,
     "metadata": {},
     "output_type": "execute_result"
    }
   ],
   "source": [
    "get_binary_cls_precision_recall_f1(test_y_fib, pred_result, list(filter(lambda x: x==1, clf.classes_))[0], cut_off)[0][:-1]"
   ]
  },
  {
   "cell_type": "code",
   "execution_count": 110,
   "metadata": {
    "ExecuteTime": {
     "end_time": "2019-01-31T15:21:40.852674Z",
     "start_time": "2019-01-31T15:21:40.757007Z"
    }
   },
   "outputs": [
    {
     "data": {
      "image/png": "[encoded data removed]",
      "text/plain": [
       "<Figure size 432x288 with 1 Axes>"
      ]
     },
     "metadata": {},
     "output_type": "display_data"
    }
   ],
   "source": [
    "preds = get_binary_cls_precision_recall_f1(test_y_fib, pred_result, list(filter(lambda x: x==1, clf.classes_))[0], cut_off)[1]\n",
    "make_confusion_matrix(test_y_fib, preds)"
   ]
  },
  {
   "cell_type": "markdown",
   "metadata": {
    "heading_collapsed": true
   },
   "source": [
    "### feature hashing as features"
   ]
  },
  {
   "cell_type": "code",
   "execution_count": null,
   "metadata": {
    "hidden": true
   },
   "outputs": [],
   "source": []
  },
  {
   "cell_type": "markdown",
   "metadata": {},
   "source": [
    "## Random Forest"
   ]
  },
  {
   "cell_type": "code",
   "execution_count": 31,
   "metadata": {
    "ExecuteTime": {
     "end_time": "2019-01-29T16:06:47.307381Z",
     "start_time": "2019-01-29T16:06:47.304977Z"
    }
   },
   "outputs": [],
   "source": [
    "# TODO visulization trees\n",
    "from sklearn.tree import export_graphviz\n",
    "from subprocess import call\n",
    "from IPython.display import Image"
   ]
  },
  {
   "cell_type": "markdown",
   "metadata": {},
   "source": [
    "### OHE"
   ]
  },
  {
   "cell_type": "markdown",
   "metadata": {},
   "source": [
    "#### nafld"
   ]
  },
  {
   "cell_type": "code",
   "execution_count": 111,
   "metadata": {
    "ExecuteTime": {
     "end_time": "2019-01-31T15:51:46.690602Z",
     "start_time": "2019-01-31T15:30:29.192380Z"
    }
   },
   "outputs": [
    {
     "name": "stdout",
     "output_type": "stream",
     "text": [
      "Fitting 5 folds for each of 2700 candidates, totalling 13500 fits\n"
     ]
    },
    {
     "name": "stderr",
     "output_type": "stream",
     "text": [
      "[Parallel(n_jobs=-1)]: Using backend LokyBackend with 8 concurrent workers.\n",
      "[Parallel(n_jobs=-1)]: Done  34 tasks      | elapsed:    2.7s\n",
      "[Parallel(n_jobs=-1)]: Done 184 tasks      | elapsed:   12.2s\n",
      "[Parallel(n_jobs=-1)]: Done 434 tasks      | elapsed:   33.3s\n",
      "[Parallel(n_jobs=-1)]: Done 784 tasks      | elapsed:  1.0min\n",
      "[Parallel(n_jobs=-1)]: Done 1234 tasks      | elapsed:  1.7min\n",
      "[Parallel(n_jobs=-1)]: Done 1784 tasks      | elapsed:  2.5min\n",
      "[Parallel(n_jobs=-1)]: Done 2434 tasks      | elapsed:  3.4min\n",
      "[Parallel(n_jobs=-1)]: Done 3184 tasks      | elapsed:  4.6min\n",
      "[Parallel(n_jobs=-1)]: Done 4034 tasks      | elapsed:  5.9min\n",
      "[Parallel(n_jobs=-1)]: Done 4984 tasks      | elapsed:  7.3min\n",
      "[Parallel(n_jobs=-1)]: Done 6034 tasks      | elapsed:  8.8min\n",
      "[Parallel(n_jobs=-1)]: Done 7184 tasks      | elapsed: 10.4min\n",
      "[Parallel(n_jobs=-1)]: Done 8434 tasks      | elapsed: 12.3min\n",
      "[Parallel(n_jobs=-1)]: Done 9784 tasks      | elapsed: 14.6min\n",
      "[Parallel(n_jobs=-1)]: Done 11234 tasks      | elapsed: 17.3min\n",
      "[Parallel(n_jobs=-1)]: Done 12784 tasks      | elapsed: 20.0min\n",
      "[Parallel(n_jobs=-1)]: Done 13500 out of 13500 | elapsed: 21.3min finished\n",
      "/Users/alexgre/.pyenv/versions/miniconda3-latest/lib/python3.6/site-packages/sklearn/model_selection/_search.py:841: DeprecationWarning: The default of the `iid` parameter will change from True to False in version 0.22 and will be removed in 0.24. This will change numeric results when test-set sizes are unequal.\n",
      "  DeprecationWarning)\n"
     ]
    },
    {
     "name": "stdout",
     "output_type": "stream",
     "text": [
      "{'class_weight': 'balanced_subsample', 'criterion': 'entropy', 'max_depth': 5, 'max_features': 'log2', 'min_samples_leaf': 1, 'min_samples_split': 4, 'n_estimators': 50, 'random_state': 13}\n",
      "RandomForestClassifier(bootstrap=True, class_weight='balanced_subsample',\n",
      "            criterion='entropy', max_depth=5, max_features='log2',\n",
      "            max_leaf_nodes=None, min_impurity_decrease=0.0,\n",
      "            min_impurity_split=None, min_samples_leaf=1,\n",
      "            min_samples_split=4, min_weight_fraction_leaf=0.0,\n",
      "            n_estimators=50, n_jobs=None, oob_score=False, random_state=13,\n",
      "            verbose=0, warm_start=False)\n"
     ]
    },
    {
     "data": {
      "image/png": "[encoded data removed]",
      "text/plain": [
       "<Figure size 432x288 with 1 Axes>"
      ]
     },
     "metadata": {},
     "output_type": "display_data"
    },
    {
     "name": "stdout",
     "output_type": "stream",
     "text": [
      "AUC_ROC_score:  0.8975183823529412  cutoff:  0.5375219365999689\n"
     ]
    }
   ],
   "source": [
    "# AUC_ROC\n",
    "tuned_parameters = {'n_estimators':[10, 50, 100, 500, 1000], 'criterion':['gini', 'entropy'], 'random_state':[seed], \n",
    "                    'max_features':['log2', 'auto', None], 'min_samples_split':[2, 4], 'max_depth': [5, 10, 25, 50, None], \n",
    "                    'min_samples_leaf':[1,2,4], 'class_weight': [None, 'balanced', 'balanced_subsample']}\n",
    "clf, fpr, tpr, thresholds, pred_result, cut_off = auc_roc_expr(RandomForestClassifier(), tuned_parameters,\n",
    "                                                              train_X_ohe, train_y_nafld, test_X_ohe, test_y_nafld)"
   ]
  },
  {
   "cell_type": "code",
   "execution_count": 112,
   "metadata": {
    "ExecuteTime": {
     "end_time": "2019-01-31T15:51:46.970653Z",
     "start_time": "2019-01-31T15:51:46.692787Z"
    }
   },
   "outputs": [
    {
     "data": {
      "text/plain": [
       "(array([0.85797101, 0.88855572, 0.85395538, 0.86663286, 0.84482759]),\n",
       " 0.8623885116265397)"
      ]
     },
     "execution_count": 112,
     "metadata": {},
     "output_type": "execute_result"
    }
   ],
   "source": [
    "# CV on train + test\n",
    "get_full_cv_scores(clf, train_X_ohe, train_y_nafld, test_X_ohe, test_y_nafld)"
   ]
  },
  {
   "cell_type": "code",
   "execution_count": 113,
   "metadata": {
    "ExecuteTime": {
     "end_time": "2019-01-31T15:51:46.978459Z",
     "start_time": "2019-01-31T15:51:46.972319Z"
    }
   },
   "outputs": [
    {
     "data": {
      "text/plain": [
       "(0.9433962264150944, 0.78125, 0.8547008547008547)"
      ]
     },
     "execution_count": 113,
     "metadata": {},
     "output_type": "execute_result"
    }
   ],
   "source": [
    "#precision, recall, f1-score based on cut-off decided from ROC_AUC\n",
    "get_binary_cls_precision_recall_f1(test_y_nafld, pred_result, list(filter(lambda x: x==1, clf.classes_))[0], cut_off)[0][:-1]"
   ]
  },
  {
   "cell_type": "code",
   "execution_count": 114,
   "metadata": {
    "ExecuteTime": {
     "end_time": "2019-01-31T15:51:47.080310Z",
     "start_time": "2019-01-31T15:51:46.980119Z"
    }
   },
   "outputs": [
    {
     "data": {
      "image/png": "[encoded data removed]",
      "text/plain": [
       "<Figure size 432x288 with 1 Axes>"
      ]
     },
     "metadata": {},
     "output_type": "display_data"
    }
   ],
   "source": [
    "preds = get_binary_cls_precision_recall_f1(test_y_nafld, pred_result, list(filter(lambda x: x==1, clf.classes_))[0], cut_off)[1]\n",
    "make_confusion_matrix(test_y_nafld, preds)"
   ]
  },
  {
   "cell_type": "markdown",
   "metadata": {},
   "source": [
    "#### fibrosis"
   ]
  },
  {
   "cell_type": "code",
   "execution_count": 115,
   "metadata": {
    "ExecuteTime": {
     "end_time": "2019-01-31T16:10:48.998460Z",
     "start_time": "2019-01-31T15:51:47.082122Z"
    }
   },
   "outputs": [
    {
     "name": "stdout",
     "output_type": "stream",
     "text": [
      "Fitting 5 folds for each of 2700 candidates, totalling 13500 fits\n"
     ]
    },
    {
     "name": "stderr",
     "output_type": "stream",
     "text": [
      "[Parallel(n_jobs=-1)]: Using backend LokyBackend with 8 concurrent workers.\n",
      "[Parallel(n_jobs=-1)]: Done 295 tasks      | elapsed:   22.2s\n",
      "[Parallel(n_jobs=-1)]: Done 567 tasks      | elapsed:   39.7s\n",
      "[Parallel(n_jobs=-1)]: Done 817 tasks      | elapsed:   58.4s\n",
      "[Parallel(n_jobs=-1)]: Done 1167 tasks      | elapsed:  1.4min\n",
      "[Parallel(n_jobs=-1)]: Done 1617 tasks      | elapsed:  2.0min\n",
      "[Parallel(n_jobs=-1)]: Done 2167 tasks      | elapsed:  2.7min\n",
      "[Parallel(n_jobs=-1)]: Done 2817 tasks      | elapsed:  3.5min\n",
      "[Parallel(n_jobs=-1)]: Done 3567 tasks      | elapsed:  4.5min\n",
      "[Parallel(n_jobs=-1)]: Done 4417 tasks      | elapsed:  5.5min\n",
      "[Parallel(n_jobs=-1)]: Done 5367 tasks      | elapsed:  6.7min\n",
      "[Parallel(n_jobs=-1)]: Done 6417 tasks      | elapsed:  8.0min\n",
      "[Parallel(n_jobs=-1)]: Done 7567 tasks      | elapsed:  9.5min\n",
      "[Parallel(n_jobs=-1)]: Done 8817 tasks      | elapsed: 11.1min\n",
      "[Parallel(n_jobs=-1)]: Done 10167 tasks      | elapsed: 13.2min\n",
      "[Parallel(n_jobs=-1)]: Done 11617 tasks      | elapsed: 15.6min\n",
      "[Parallel(n_jobs=-1)]: Done 13167 tasks      | elapsed: 18.4min\n",
      "[Parallel(n_jobs=-1)]: Done 13500 out of 13500 | elapsed: 19.0min finished\n",
      "/Users/alexgre/.pyenv/versions/miniconda3-latest/lib/python3.6/site-packages/sklearn/model_selection/_search.py:841: DeprecationWarning: The default of the `iid` parameter will change from True to False in version 0.22 and will be removed in 0.24. This will change numeric results when test-set sizes are unequal.\n",
      "  DeprecationWarning)\n"
     ]
    },
    {
     "name": "stdout",
     "output_type": "stream",
     "text": [
      "{'class_weight': 'balanced', 'criterion': 'entropy', 'max_depth': 25, 'max_features': 'log2', 'min_samples_leaf': 1, 'min_samples_split': 4, 'n_estimators': 50, 'random_state': 13}\n",
      "RandomForestClassifier(bootstrap=True, class_weight='balanced',\n",
      "            criterion='entropy', max_depth=25, max_features='log2',\n",
      "            max_leaf_nodes=None, min_impurity_decrease=0.0,\n",
      "            min_impurity_split=None, min_samples_leaf=1,\n",
      "            min_samples_split=4, min_weight_fraction_leaf=0.0,\n",
      "            n_estimators=50, n_jobs=None, oob_score=False, random_state=13,\n",
      "            verbose=0, warm_start=False)\n"
     ]
    },
    {
     "data": {
      "image/png": "[encoded data removed]",
      "text/plain": [
       "<Figure size 432x288 with 1 Axes>"
      ]
     },
     "metadata": {},
     "output_type": "display_data"
    },
    {
     "name": "stdout",
     "output_type": "stream",
     "text": [
      "AUC_ROC_score:  0.8463949843260188  cutoff:  0.14782840794151167\n",
      "5-fold CV: [0.875      0.89341085 0.88856589 0.63137255 0.79411765]; averaged: 0.8164933880528956\n",
      "precision: 0.32; recall: 0.7272727272727273; f1-score: 0.4444444444444444\n"
     ]
    },
    {
     "data": {
      "image/png": "[encoded data removed]",
      "text/plain": [
       "<Figure size 432x288 with 1 Axes>"
      ]
     },
     "metadata": {},
     "output_type": "display_data"
    }
   ],
   "source": [
    "tuned_parameters = {'n_estimators':[10, 50, 100, 500, 1000], 'criterion':['gini', 'entropy'], 'random_state':[seed], \n",
    "                    'max_features':['log2', 'auto', None], 'min_samples_split':[2, 4], 'max_depth': [5, 10, 25, 50, None], \n",
    "                    'min_samples_leaf':[1,2,4], 'class_weight': [None, 'balanced', 'balanced_subsample']}\n",
    "clf, fpr, tpr, thresholds, pred_result, cut_off = auc_roc_expr(RandomForestClassifier(), tuned_parameters,\n",
    "                                                              train_X_ohe, train_y_fib, test_X_ohe, test_y_fib)\n",
    "a, b = get_full_cv_scores(clf, train_X_ohe, train_y_fib, test_X_ohe, test_y_fib)\n",
    "print(\"5-fold CV: {}; averaged: {}\".format(a, b))\n",
    "p,r,f = get_binary_cls_precision_recall_f1(test_y_fib, pred_result, list(filter(lambda x: x==1, clf.classes_))[0], cut_off)[0][:-1]\n",
    "print(\"precision: {}; recall: {}; f1-score: {}\".format(p,r,f))\n",
    "preds = get_binary_cls_precision_recall_f1(test_y_fib, pred_result, list(filter(lambda x: x==1, clf.classes_))[0], cut_off)[1]\n",
    "make_confusion_matrix(test_y_fib, preds)"
   ]
  },
  {
   "cell_type": "markdown",
   "metadata": {},
   "source": [
    "#### nash"
   ]
  },
  {
   "cell_type": "code",
   "execution_count": 116,
   "metadata": {
    "ExecuteTime": {
     "end_time": "2019-01-31T16:33:18.257787Z",
     "start_time": "2019-01-31T16:10:49.001025Z"
    }
   },
   "outputs": [
    {
     "name": "stdout",
     "output_type": "stream",
     "text": [
      "Fitting 5 folds for each of 2700 candidates, totalling 13500 fits\n"
     ]
    },
    {
     "name": "stderr",
     "output_type": "stream",
     "text": [
      "[Parallel(n_jobs=-1)]: Using backend LokyBackend with 8 concurrent workers.\n",
      "[Parallel(n_jobs=-1)]: Done 264 tasks      | elapsed:   20.7s\n",
      "[Parallel(n_jobs=-1)]: Done 543 tasks      | elapsed:   43.7s\n",
      "[Parallel(n_jobs=-1)]: Done 793 tasks      | elapsed:  1.1min\n",
      "[Parallel(n_jobs=-1)]: Done 1143 tasks      | elapsed:  1.6min\n",
      "[Parallel(n_jobs=-1)]: Done 1593 tasks      | elapsed:  2.3min\n",
      "[Parallel(n_jobs=-1)]: Done 2143 tasks      | elapsed:  3.2min\n",
      "[Parallel(n_jobs=-1)]: Done 2793 tasks      | elapsed:  4.2min\n",
      "[Parallel(n_jobs=-1)]: Done 3543 tasks      | elapsed:  5.4min\n",
      "[Parallel(n_jobs=-1)]: Done 4393 tasks      | elapsed:  6.8min\n",
      "[Parallel(n_jobs=-1)]: Done 5343 tasks      | elapsed:  8.3min\n",
      "[Parallel(n_jobs=-1)]: Done 6393 tasks      | elapsed:  9.9min\n",
      "[Parallel(n_jobs=-1)]: Done 7543 tasks      | elapsed: 11.6min\n",
      "[Parallel(n_jobs=-1)]: Done 8793 tasks      | elapsed: 13.5min\n",
      "[Parallel(n_jobs=-1)]: Done 10143 tasks      | elapsed: 15.9min\n",
      "[Parallel(n_jobs=-1)]: Done 11593 tasks      | elapsed: 18.6min\n",
      "[Parallel(n_jobs=-1)]: Done 13143 tasks      | elapsed: 21.7min\n",
      "[Parallel(n_jobs=-1)]: Done 13500 out of 13500 | elapsed: 22.4min finished\n",
      "/Users/alexgre/.pyenv/versions/miniconda3-latest/lib/python3.6/site-packages/sklearn/model_selection/_search.py:841: DeprecationWarning: The default of the `iid` parameter will change from True to False in version 0.22 and will be removed in 0.24. This will change numeric results when test-set sizes are unequal.\n",
      "  DeprecationWarning)\n"
     ]
    },
    {
     "name": "stdout",
     "output_type": "stream",
     "text": [
      "{'class_weight': None, 'criterion': 'gini', 'max_depth': 5, 'max_features': 'auto', 'min_samples_leaf': 1, 'min_samples_split': 2, 'n_estimators': 1000, 'random_state': 13}\n",
      "RandomForestClassifier(bootstrap=True, class_weight=None, criterion='gini',\n",
      "            max_depth=5, max_features='auto', max_leaf_nodes=None,\n",
      "            min_impurity_decrease=0.0, min_impurity_split=None,\n",
      "            min_samples_leaf=1, min_samples_split=2,\n",
      "            min_weight_fraction_leaf=0.0, n_estimators=1000, n_jobs=None,\n",
      "            oob_score=False, random_state=13, verbose=0, warm_start=False)\n"
     ]
    },
    {
     "data": {
      "image/png": "[encoded data removed]",
      "text/plain": [
       "<Figure size 432x288 with 1 Axes>"
      ]
     },
     "metadata": {},
     "output_type": "display_data"
    },
    {
     "name": "stdout",
     "output_type": "stream",
     "text": [
      "AUC_ROC_score:  0.7287981859410431  cutoff:  0.3167912579215618\n",
      "5-fold CV: [0.78232759 0.82112069 0.78706897 0.8178603  0.74270557]; averaged: 0.7902166224580018\n",
      "precision: 0.5102040816326531; recall: 0.7142857142857143; f1-score: 0.5952380952380952\n"
     ]
    },
    {
     "data": {
      "image/png": "[encoded data removed]",
      "text/plain": [
       "<Figure size 432x288 with 1 Axes>"
      ]
     },
     "metadata": {},
     "output_type": "display_data"
    }
   ],
   "source": [
    "tuned_parameters = {'n_estimators':[10, 50, 100, 500, 1000], 'criterion':['gini', 'entropy'], 'random_state':[seed], \n",
    "                    'max_features':['log2', 'auto', None], 'min_samples_split':[2, 4], 'max_depth': [5, 10, 25, 50, None], \n",
    "                    'min_samples_leaf':[1,2,4], 'class_weight': [None, 'balanced', 'balanced_subsample']}\n",
    "clf, fpr, tpr, thresholds, pred_result, cut_off = auc_roc_expr(RandomForestClassifier(), tuned_parameters,\n",
    "                                                              train_X_ohe, train_y_nash, test_X_ohe, test_y_nash)\n",
    "a, b = get_full_cv_scores(clf, train_X_ohe, train_y_nash, test_X_ohe, test_y_nash)\n",
    "print(\"5-fold CV: {}; averaged: {}\".format(a, b))\n",
    "p,r,f = get_binary_cls_precision_recall_f1(test_y_nash, pred_result, list(filter(lambda x: x==1, clf.classes_))[0], cut_off)[0][:-1]\n",
    "print(\"precision: {}; recall: {}; f1-score: {}\".format(p,r,f))\n",
    "preds = get_binary_cls_precision_recall_f1(test_y_nash, pred_result, list(filter(lambda x: x==1, clf.classes_))[0], cut_off)[1]\n",
    "make_confusion_matrix(test_y_nash, preds)"
   ]
  },
  {
   "cell_type": "markdown",
   "metadata": {},
   "source": [
    "### no data transformation "
   ]
  },
  {
   "cell_type": "code",
   "execution_count": 117,
   "metadata": {
    "ExecuteTime": {
     "end_time": "2019-01-31T16:33:18.262910Z",
     "start_time": "2019-01-31T16:33:18.260080Z"
    }
   },
   "outputs": [],
   "source": [
    "def fc(s):\n",
    "    return {each:i for i, each in enumerate(s)}\n",
    "\n",
    "def xys(l):\n",
    "    return list(zip(*l))"
   ]
  },
  {
   "cell_type": "code",
   "execution_count": 118,
   "metadata": {
    "ExecuteTime": {
     "end_time": "2019-01-31T16:33:18.291702Z",
     "start_time": "2019-01-31T16:33:18.265023Z"
    }
   },
   "outputs": [],
   "source": [
    "df_svm = pd.read_csv(\"imputed_nafld.csv\")\n",
    "d = {0: fc(set(df_svm['NGT_IFG_'])), 1: fc(set(df_svm['NGT__PRE'])), 6: fc(set(df_svm['ETHNICIT']))}\n",
    "nd = {0: len(set(df_svm['NGT_IFG_'])), 1: len(set(df_svm['NGT__PRE'])), 6: len(set(df_svm['ETHNICIT']))}\n",
    "\n",
    "\n",
    "n_data = []\n",
    "for each in df_svm.values:\n",
    "    n_point = []\n",
    "    for idx, v in enumerate(each):\n",
    "        if idx in d:\n",
    "            cat = list(np.zeros(shape=nd[idx]))\n",
    "            cat[d[idx][v]] = 1\n",
    "            n_point.extend(cat)\n",
    "        \n",
    "        else:\n",
    "            n_point.append(v)\n",
    "    n_data.append(n_point)\n",
    "\n",
    "n_data_X = list(map(lambda x: x[:-3], n_data))"
   ]
  },
  {
   "cell_type": "code",
   "execution_count": 147,
   "metadata": {
    "ExecuteTime": {
     "end_time": "2019-01-31T20:27:16.477521Z",
     "start_time": "2019-01-31T20:27:16.418394Z"
    }
   },
   "outputs": [],
   "source": [
    "n_data_y_fib = list(map(lambda x: x[-2], n_data))\n",
    "n_data_y_nash = list(map(lambda x: x[-3], n_data))\n",
    "n_data_y_nalfd = list(map(lambda x: x[-1], n_data))"
   ]
  },
  {
   "cell_type": "code",
   "execution_count": 148,
   "metadata": {
    "ExecuteTime": {
     "end_time": "2019-01-31T20:27:21.069407Z",
     "start_time": "2019-01-31T20:27:21.036780Z"
    }
   },
   "outputs": [],
   "source": [
    "n_data_X = np.array(n_data_X)\n",
    "data_nafld = list(zip(n_data_X, n_data_y_nalfd))\n",
    "data_nash = list(zip(n_data_X, n_data_y_nash))\n",
    "data_fib = list(zip(n_data_X, n_data_y_fib))"
   ]
  },
  {
   "cell_type": "code",
   "execution_count": 149,
   "metadata": {
    "ExecuteTime": {
     "end_time": "2019-01-31T20:27:23.142235Z",
     "start_time": "2019-01-31T20:27:23.111524Z"
    }
   },
   "outputs": [],
   "source": [
    "trs_nalfd, tss_nalfd = train_test_split(data_nafld, test_size=0.2, random_state=seed)\n",
    "trs_nash, tss_nash = train_test_split(data_nash, test_size=0.2, random_state=seed)\n",
    "trs_fib, tss_fib = train_test_split(data_fib, test_size=0.2, random_state=seed)"
   ]
  },
  {
   "cell_type": "code",
   "execution_count": 158,
   "metadata": {
    "ExecuteTime": {
     "end_time": "2019-01-31T20:30:39.085376Z",
     "start_time": "2019-01-31T20:30:39.079370Z"
    }
   },
   "outputs": [
    {
     "name": "stdout",
     "output_type": "stream",
     "text": [
      "Counter({0: 341, 1: 49}) Counter({0: 227, 1: 163}) Counter({1: 278, 0: 112})\n",
      "Counter({0: 87, 1: 11}) Counter({0: 63, 1: 35}) Counter({1: 64, 0: 34})\n"
     ]
    }
   ],
   "source": [
    "from collections import Counter\n",
    "print(Counter(map(lambda x: x[1], trs_fib)), Counter(map(lambda x: x[1], trs_nash)), Counter(map(lambda x: x[1], trs_nalfd)))\n",
    "print(Counter(map(lambda x: x[1], tss_fib)), Counter(map(lambda x: x[1], tss_nash)), Counter(map(lambda x: x[1], tss_nalfd)))"
   ]
  },
  {
   "cell_type": "markdown",
   "metadata": {},
   "source": [
    "#### nafld"
   ]
  },
  {
   "cell_type": "code",
   "execution_count": 122,
   "metadata": {
    "ExecuteTime": {
     "end_time": "2019-01-31T16:33:18.317567Z",
     "start_time": "2019-01-31T16:33:18.314513Z"
    }
   },
   "outputs": [],
   "source": [
    "train_X, train_y = xys(trs_nalfd)\n",
    "test_X, test_y = xys(tss_nalfd)"
   ]
  },
  {
   "cell_type": "code",
   "execution_count": 123,
   "metadata": {
    "ExecuteTime": {
     "end_time": "2019-01-31T16:57:44.108159Z",
     "start_time": "2019-01-31T16:33:18.320199Z"
    }
   },
   "outputs": [
    {
     "name": "stdout",
     "output_type": "stream",
     "text": [
      "Fitting 5 folds for each of 2700 candidates, totalling 13500 fits\n"
     ]
    },
    {
     "name": "stderr",
     "output_type": "stream",
     "text": [
      "[Parallel(n_jobs=-1)]: Using backend LokyBackend with 8 concurrent workers.\n",
      "[Parallel(n_jobs=-1)]: Done 148 tasks      | elapsed:   11.4s\n",
      "[Parallel(n_jobs=-1)]: Done 362 tasks      | elapsed:   32.6s\n",
      "[Parallel(n_jobs=-1)]: Done 612 tasks      | elapsed:   58.0s\n",
      "[Parallel(n_jobs=-1)]: Done 962 tasks      | elapsed:  1.7min\n",
      "[Parallel(n_jobs=-1)]: Done 1412 tasks      | elapsed:  2.5min\n",
      "[Parallel(n_jobs=-1)]: Done 1962 tasks      | elapsed:  3.4min\n",
      "[Parallel(n_jobs=-1)]: Done 2612 tasks      | elapsed:  4.6min\n",
      "[Parallel(n_jobs=-1)]: Done 3362 tasks      | elapsed:  5.9min\n",
      "[Parallel(n_jobs=-1)]: Done 4212 tasks      | elapsed:  7.4min\n",
      "[Parallel(n_jobs=-1)]: Done 5162 tasks      | elapsed:  8.9min\n",
      "[Parallel(n_jobs=-1)]: Done 6212 tasks      | elapsed: 10.6min\n",
      "[Parallel(n_jobs=-1)]: Done 7362 tasks      | elapsed: 12.5min\n",
      "[Parallel(n_jobs=-1)]: Done 8612 tasks      | elapsed: 14.8min\n",
      "[Parallel(n_jobs=-1)]: Done 9962 tasks      | elapsed: 17.3min\n",
      "[Parallel(n_jobs=-1)]: Done 11412 tasks      | elapsed: 20.1min\n",
      "[Parallel(n_jobs=-1)]: Done 12962 tasks      | elapsed: 23.2min\n",
      "[Parallel(n_jobs=-1)]: Done 13500 out of 13500 | elapsed: 24.4min finished\n",
      "/Users/alexgre/.pyenv/versions/miniconda3-latest/lib/python3.6/site-packages/sklearn/model_selection/_search.py:841: DeprecationWarning: The default of the `iid` parameter will change from True to False in version 0.22 and will be removed in 0.24. This will change numeric results when test-set sizes are unequal.\n",
      "  DeprecationWarning)\n"
     ]
    },
    {
     "name": "stdout",
     "output_type": "stream",
     "text": [
      "{'class_weight': 'balanced', 'criterion': 'entropy', 'max_depth': 5, 'max_features': 'log2', 'min_samples_leaf': 2, 'min_samples_split': 2, 'n_estimators': 100, 'random_state': 13}\n",
      "RandomForestClassifier(bootstrap=True, class_weight='balanced',\n",
      "            criterion='entropy', max_depth=5, max_features='log2',\n",
      "            max_leaf_nodes=None, min_impurity_decrease=0.0,\n",
      "            min_impurity_split=None, min_samples_leaf=2,\n",
      "            min_samples_split=2, min_weight_fraction_leaf=0.0,\n",
      "            n_estimators=100, n_jobs=None, oob_score=False,\n",
      "            random_state=13, verbose=0, warm_start=False)\n"
     ]
    },
    {
     "data": {
      "image/png": "[encoded data removed]",
      "text/plain": [
       "<Figure size 432x288 with 1 Axes>"
      ]
     },
     "metadata": {},
     "output_type": "display_data"
    },
    {
     "name": "stdout",
     "output_type": "stream",
     "text": [
      "AUC_ROC_score:  0.9434742647058824  cutoff:  0.5371825426132374\n"
     ]
    }
   ],
   "source": [
    "tuned_parameters = {'n_estimators':[10, 50, 100, 500, 1000], 'criterion':['gini', 'entropy'], 'random_state':[seed], \n",
    "                    'max_features':['log2', 'auto', None], 'min_samples_split':[2, 4], 'max_depth': [5, 10, 25, 50, None], \n",
    "                    'min_samples_leaf':[1,2,4], 'class_weight': [None, 'balanced', 'balanced_subsample']}\n",
    "\n",
    "clf, fpr, tpr, thresholds, pred_result, cut_off = auc_roc_expr(RandomForestClassifier(), tuned_parameters,\n",
    "                                                              train_X, train_y, test_X, test_y)"
   ]
  },
  {
   "cell_type": "code",
   "execution_count": 124,
   "metadata": {
    "ExecuteTime": {
     "end_time": "2019-01-31T16:57:44.568283Z",
     "start_time": "2019-01-31T16:57:44.110015Z"
    }
   },
   "outputs": [
    {
     "data": {
      "text/plain": [
       "(array([0.89275362, 0.90704648, 0.94472617, 0.913286  , 0.84381339]),\n",
       " 0.9003251315518712)"
      ]
     },
     "execution_count": 124,
     "metadata": {},
     "output_type": "execute_result"
    }
   ],
   "source": [
    "get_full_cv_scores(clf, train_X, train_y, test_X, test_y)"
   ]
  },
  {
   "cell_type": "code",
   "execution_count": 125,
   "metadata": {
    "ExecuteTime": {
     "end_time": "2019-01-31T16:57:44.575132Z",
     "start_time": "2019-01-31T16:57:44.569962Z"
    }
   },
   "outputs": [
    {
     "data": {
      "text/plain": [
       "(0.9473684210526315, 0.84375, 0.8925619834710744)"
      ]
     },
     "execution_count": 125,
     "metadata": {},
     "output_type": "execute_result"
    }
   ],
   "source": [
    "get_binary_cls_precision_recall_f1(test_y, pred_result, list(filter(lambda x: x==1, clf.classes_))[0], cut_off)[0][:-1]"
   ]
  },
  {
   "cell_type": "code",
   "execution_count": 126,
   "metadata": {
    "ExecuteTime": {
     "end_time": "2019-01-31T16:57:44.668271Z",
     "start_time": "2019-01-31T16:57:44.576839Z"
    }
   },
   "outputs": [
    {
     "data": {
      "image/png": "[encoded data removed]",
      "text/plain": [
       "<Figure size 432x288 with 1 Axes>"
      ]
     },
     "metadata": {},
     "output_type": "display_data"
    }
   ],
   "source": [
    "preds = get_binary_cls_precision_recall_f1(test_y, pred_result, list(filter(lambda x: x==1, clf.classes_))[0], cut_off)[1]\n",
    "make_confusion_matrix(test_y_nafld, preds)"
   ]
  },
  {
   "cell_type": "markdown",
   "metadata": {},
   "source": [
    "#### fibrosis"
   ]
  },
  {
   "cell_type": "code",
   "execution_count": 162,
   "metadata": {
    "ExecuteTime": {
     "end_time": "2019-01-31T20:34:18.194827Z",
     "start_time": "2019-01-31T20:34:18.192012Z"
    }
   },
   "outputs": [],
   "source": [
    "train_X, train_y = xys(trs_fib)\n",
    "test_X, test_y = xys(tss_fib)"
   ]
  },
  {
   "cell_type": "code",
   "execution_count": 166,
   "metadata": {
    "ExecuteTime": {
     "end_time": "2019-01-31T21:03:28.019486Z",
     "start_time": "2019-01-31T20:34:29.607135Z"
    }
   },
   "outputs": [
    {
     "name": "stdout",
     "output_type": "stream",
     "text": [
      "Fitting 5 folds for each of 3240 candidates, totalling 16200 fits\n"
     ]
    },
    {
     "name": "stderr",
     "output_type": "stream",
     "text": [
      "[Parallel(n_jobs=-1)]: Using backend LokyBackend with 8 concurrent workers.\n",
      "[Parallel(n_jobs=-1)]: Done  34 tasks      | elapsed:   15.2s\n",
      "[Parallel(n_jobs=-1)]: Done 184 tasks      | elapsed:   26.2s\n",
      "[Parallel(n_jobs=-1)]: Done 434 tasks      | elapsed:   48.8s\n",
      "[Parallel(n_jobs=-1)]: Done 784 tasks      | elapsed:  1.3min\n",
      "[Parallel(n_jobs=-1)]: Done 1234 tasks      | elapsed:  2.1min\n",
      "[Parallel(n_jobs=-1)]: Done 1784 tasks      | elapsed:  3.2min\n",
      "[Parallel(n_jobs=-1)]: Done 2434 tasks      | elapsed:  4.4min\n",
      "[Parallel(n_jobs=-1)]: Done 3184 tasks      | elapsed:  5.6min\n",
      "[Parallel(n_jobs=-1)]: Done 4034 tasks      | elapsed:  7.0min\n",
      "[Parallel(n_jobs=-1)]: Done 4984 tasks      | elapsed:  8.6min\n",
      "[Parallel(n_jobs=-1)]: Done 6034 tasks      | elapsed: 10.1min\n",
      "[Parallel(n_jobs=-1)]: Done 7184 tasks      | elapsed: 11.9min\n",
      "[Parallel(n_jobs=-1)]: Done 8434 tasks      | elapsed: 13.8min\n",
      "[Parallel(n_jobs=-1)]: Done 9784 tasks      | elapsed: 16.1min\n",
      "[Parallel(n_jobs=-1)]: Done 11234 tasks      | elapsed: 18.7min\n",
      "[Parallel(n_jobs=-1)]: Done 12784 tasks      | elapsed: 21.9min\n",
      "[Parallel(n_jobs=-1)]: Done 14434 tasks      | elapsed: 25.1min\n",
      "[Parallel(n_jobs=-1)]: Done 16184 tasks      | elapsed: 28.9min\n",
      "[Parallel(n_jobs=-1)]: Done 16200 out of 16200 | elapsed: 29.0min finished\n",
      "/Users/alexgre/.pyenv/versions/miniconda3-latest/lib/python3.6/site-packages/sklearn/model_selection/_search.py:841: DeprecationWarning: The default of the `iid` parameter will change from True to False in version 0.22 and will be removed in 0.24. This will change numeric results when test-set sizes are unequal.\n",
      "  DeprecationWarning)\n"
     ]
    },
    {
     "name": "stdout",
     "output_type": "stream",
     "text": [
      "{'class_weight': None, 'criterion': 'entropy', 'max_depth': 5, 'max_features': None, 'min_samples_leaf': 4, 'min_samples_split': 2, 'n_estimators': 100, 'random_state': 13}\n",
      "RandomForestClassifier(bootstrap=True, class_weight=None, criterion='entropy',\n",
      "            max_depth=5, max_features=None, max_leaf_nodes=None,\n",
      "            min_impurity_decrease=0.0, min_impurity_split=None,\n",
      "            min_samples_leaf=4, min_samples_split=2,\n",
      "            min_weight_fraction_leaf=0.0, n_estimators=100, n_jobs=None,\n",
      "            oob_score=False, random_state=13, verbose=0, warm_start=False)\n"
     ]
    },
    {
     "data": {
      "image/png": "[encoded data removed]",
      "text/plain": [
       "<Figure size 432x288 with 1 Axes>"
      ]
     },
     "metadata": {},
     "output_type": "display_data"
    },
    {
     "name": "stdout",
     "output_type": "stream",
     "text": [
      "AUC_ROC_score:  0.774294670846395  cutoff:  0.1300059319525978\n"
     ]
    }
   ],
   "source": [
    "tuned_parameters = {'n_estimators':[10, 50, 100, 500, 1000], 'criterion':['gini', 'entropy'], 'random_state':[seed], \n",
    "                    'max_features':['log2', 'auto', None], 'min_samples_split':[2, 4], 'max_depth': [2, 5, 10, 25, 50, None], \n",
    "                    'min_samples_leaf':[1,2,4], 'class_weight': [None, 'balanced', 'balanced_subsample']}\n",
    "\n",
    "clf, fpr, tpr, thresholds, pred_result, cut_off = auc_roc_expr(RandomForestClassifier(), tuned_parameters,\n",
    "                                                              train_X, train_y, test_X, test_y)"
   ]
  },
  {
   "cell_type": "code",
   "execution_count": 167,
   "metadata": {
    "ExecuteTime": {
     "end_time": "2019-01-31T21:03:29.022748Z",
     "start_time": "2019-01-31T21:03:28.021808Z"
    }
   },
   "outputs": [
    {
     "data": {
      "text/plain": [
       "(array([0.82267442, 0.9370155 , 0.95445736, 0.77941176, 0.80196078]),\n",
       " 0.8591039671682626)"
      ]
     },
     "execution_count": 167,
     "metadata": {},
     "output_type": "execute_result"
    }
   ],
   "source": [
    "get_full_cv_scores(clf, train_X, train_y, test_X, test_y)"
   ]
  },
  {
   "cell_type": "code",
   "execution_count": 168,
   "metadata": {
    "ExecuteTime": {
     "end_time": "2019-01-31T21:03:29.030267Z",
     "start_time": "2019-01-31T21:03:29.024526Z"
    }
   },
   "outputs": [
    {
     "data": {
      "text/plain": [
       "(0.4375, 0.6363636363636364, 0.5185185185185185)"
      ]
     },
     "execution_count": 168,
     "metadata": {},
     "output_type": "execute_result"
    }
   ],
   "source": [
    "get_binary_cls_precision_recall_f1(test_y, pred_result, list(filter(lambda x: x==1, clf.classes_))[0], cut_off)[0][:-1]"
   ]
  },
  {
   "cell_type": "code",
   "execution_count": 169,
   "metadata": {
    "ExecuteTime": {
     "end_time": "2019-01-31T21:03:29.138185Z",
     "start_time": "2019-01-31T21:03:29.032349Z"
    }
   },
   "outputs": [
    {
     "data": {
      "image/png": "[encoded data removed]",
      "text/plain": [
       "<Figure size 432x288 with 1 Axes>"
      ]
     },
     "metadata": {},
     "output_type": "display_data"
    }
   ],
   "source": [
    "preds = get_binary_cls_precision_recall_f1(test_y, pred_result, list(filter(lambda x: x==1, clf.classes_))[0], cut_off)[1]\n",
    "make_confusion_matrix(test_y, preds)"
   ]
  },
  {
   "cell_type": "markdown",
   "metadata": {},
   "source": [
    "#### nash"
   ]
  },
  {
   "cell_type": "code",
   "execution_count": 142,
   "metadata": {
    "ExecuteTime": {
     "end_time": "2019-01-31T18:03:03.476594Z",
     "start_time": "2019-01-31T18:03:03.474107Z"
    }
   },
   "outputs": [],
   "source": [
    "train_X, train_y = xys(trs_nash)\n",
    "test_X, test_y = xys(tss_nash)"
   ]
  },
  {
   "cell_type": "code",
   "execution_count": 143,
   "metadata": {
    "ExecuteTime": {
     "end_time": "2019-01-31T18:27:47.424943Z",
     "start_time": "2019-01-31T18:03:03.479446Z"
    }
   },
   "outputs": [
    {
     "name": "stdout",
     "output_type": "stream",
     "text": [
      "Fitting 5 folds for each of 2700 candidates, totalling 13500 fits\n"
     ]
    },
    {
     "name": "stderr",
     "output_type": "stream",
     "text": [
      "[Parallel(n_jobs=-1)]: Using backend LokyBackend with 8 concurrent workers.\n",
      "[Parallel(n_jobs=-1)]: Done 148 tasks      | elapsed:   13.1s\n",
      "[Parallel(n_jobs=-1)]: Done 362 tasks      | elapsed:   33.2s\n",
      "[Parallel(n_jobs=-1)]: Done 612 tasks      | elapsed:   58.9s\n",
      "[Parallel(n_jobs=-1)]: Done 962 tasks      | elapsed:  1.6min\n",
      "[Parallel(n_jobs=-1)]: Done 1412 tasks      | elapsed:  2.4min\n",
      "[Parallel(n_jobs=-1)]: Done 1962 tasks      | elapsed:  3.3min\n",
      "[Parallel(n_jobs=-1)]: Done 2612 tasks      | elapsed:  4.4min\n",
      "[Parallel(n_jobs=-1)]: Done 3362 tasks      | elapsed:  5.7min\n",
      "[Parallel(n_jobs=-1)]: Done 4212 tasks      | elapsed:  7.3min\n",
      "[Parallel(n_jobs=-1)]: Done 5162 tasks      | elapsed:  8.9min\n",
      "[Parallel(n_jobs=-1)]: Done 6212 tasks      | elapsed: 10.6min\n",
      "[Parallel(n_jobs=-1)]: Done 7362 tasks      | elapsed: 12.5min\n",
      "[Parallel(n_jobs=-1)]: Done 8612 tasks      | elapsed: 14.8min\n",
      "[Parallel(n_jobs=-1)]: Done 9962 tasks      | elapsed: 17.4min\n",
      "[Parallel(n_jobs=-1)]: Done 11412 tasks      | elapsed: 20.4min\n",
      "[Parallel(n_jobs=-1)]: Done 12962 tasks      | elapsed: 23.6min\n",
      "[Parallel(n_jobs=-1)]: Done 13500 out of 13500 | elapsed: 24.7min finished\n",
      "/Users/alexgre/.pyenv/versions/miniconda3-latest/lib/python3.6/site-packages/sklearn/model_selection/_search.py:841: DeprecationWarning: The default of the `iid` parameter will change from True to False in version 0.22 and will be removed in 0.24. This will change numeric results when test-set sizes are unequal.\n",
      "  DeprecationWarning)\n"
     ]
    },
    {
     "name": "stdout",
     "output_type": "stream",
     "text": [
      "{'class_weight': None, 'criterion': 'entropy', 'max_depth': 5, 'max_features': None, 'min_samples_leaf': 4, 'min_samples_split': 2, 'n_estimators': 100, 'random_state': 13}\n",
      "RandomForestClassifier(bootstrap=True, class_weight=None, criterion='entropy',\n",
      "            max_depth=5, max_features=None, max_leaf_nodes=None,\n",
      "            min_impurity_decrease=0.0, min_impurity_split=None,\n",
      "            min_samples_leaf=4, min_samples_split=2,\n",
      "            min_weight_fraction_leaf=0.0, n_estimators=100, n_jobs=None,\n",
      "            oob_score=False, random_state=13, verbose=0, warm_start=False)\n"
     ]
    },
    {
     "data": {
      "image/png": "[encoded data removed]",
      "text/plain": [
       "<Figure size 432x288 with 1 Axes>"
      ]
     },
     "metadata": {},
     "output_type": "display_data"
    },
    {
     "name": "stdout",
     "output_type": "stream",
     "text": [
      "AUC_ROC_score:  0.774294670846395  cutoff:  0.1300059319525978\n"
     ]
    }
   ],
   "source": [
    "tuned_parameters = {'n_estimators':[10, 50, 100, 500, 1000], 'criterion':['gini', 'entropy'], 'random_state':[seed], \n",
    "                    'max_features':['log2', 'auto', None], 'min_samples_split':[2, 4], 'max_depth': [5, 10, 25, 50, None], \n",
    "                    'min_samples_leaf':[1,2,4], 'class_weight': [None, 'balanced', 'balanced_subsample']}\n",
    "clf, fpr, tpr, thresholds, pred_result, cut_off = auc_roc_expr(RandomForestClassifier(), tuned_parameters,\n",
    "                                                              train_X, train_y, test_X, test_y)"
   ]
  },
  {
   "cell_type": "code",
   "execution_count": 144,
   "metadata": {
    "ExecuteTime": {
     "end_time": "2019-01-31T18:27:48.350103Z",
     "start_time": "2019-01-31T18:27:47.427248Z"
    }
   },
   "outputs": [
    {
     "data": {
      "text/plain": [
       "(array([0.82267442, 0.9370155 , 0.95445736, 0.77941176, 0.80196078]),\n",
       " 0.8591039671682626)"
      ]
     },
     "execution_count": 144,
     "metadata": {},
     "output_type": "execute_result"
    }
   ],
   "source": [
    "get_full_cv_scores(clf, train_X, train_y, test_X, test_y)"
   ]
  },
  {
   "cell_type": "code",
   "execution_count": 145,
   "metadata": {
    "ExecuteTime": {
     "end_time": "2019-01-31T18:27:48.356755Z",
     "start_time": "2019-01-31T18:27:48.351789Z"
    }
   },
   "outputs": [
    {
     "data": {
      "text/plain": [
       "(0.4375, 0.6363636363636364, 0.5185185185185185)"
      ]
     },
     "execution_count": 145,
     "metadata": {},
     "output_type": "execute_result"
    }
   ],
   "source": [
    "get_binary_cls_precision_recall_f1(test_y, pred_result, list(filter(lambda x: x==1, clf.classes_))[0], cut_off)[0][:-1]"
   ]
  },
  {
   "cell_type": "code",
   "execution_count": 146,
   "metadata": {
    "ExecuteTime": {
     "end_time": "2019-01-31T18:27:48.455366Z",
     "start_time": "2019-01-31T18:27:48.358453Z"
    }
   },
   "outputs": [
    {
     "data": {
      "image/png": "[encoded data removed]",
      "text/plain": [
       "<Figure size 432x288 with 1 Axes>"
      ]
     },
     "metadata": {},
     "output_type": "display_data"
    }
   ],
   "source": [
    "preds = get_binary_cls_precision_recall_f1(test_y, pred_result, list(filter(lambda x: x==1, clf.classes_))[0], cut_off)[1]\n",
    "make_confusion_matrix(test_y_nafld, preds)"
   ]
  },
  {
   "cell_type": "markdown",
   "metadata": {},
   "source": [
    "## SVM"
   ]
  },
  {
   "cell_type": "markdown",
   "metadata": {},
   "source": [
    "### OHE"
   ]
  },
  {
   "cell_type": "code",
   "execution_count": 175,
   "metadata": {
    "ExecuteTime": {
     "end_time": "2019-01-31T21:09:02.071104Z",
     "start_time": "2019-01-31T21:09:02.068112Z"
    }
   },
   "outputs": [],
   "source": [
    "tuned_parameters = {\"C\": [0.01, 0.1, 2, 64, 128, 512, 1024, 2048], 'probability':[True], 'tol': [0.1, 0.01, 0.001, 0.0001], \n",
    "                    'random_state':[seed], 'gamma': ['scale', 'auto']}"
   ]
  },
  {
   "cell_type": "markdown",
   "metadata": {},
   "source": [
    "#### nafld"
   ]
  },
  {
   "cell_type": "code",
   "execution_count": 176,
   "metadata": {
    "ExecuteTime": {
     "end_time": "2019-01-31T21:09:07.684113Z",
     "start_time": "2019-01-31T21:09:04.243148Z"
    }
   },
   "outputs": [
    {
     "name": "stdout",
     "output_type": "stream",
     "text": [
      "Fitting 5 folds for each of 64 candidates, totalling 320 fits\n"
     ]
    },
    {
     "name": "stderr",
     "output_type": "stream",
     "text": [
      "[Parallel(n_jobs=-1)]: Using backend LokyBackend with 8 concurrent workers.\n",
      "[Parallel(n_jobs=-1)]: Done 124 tasks      | elapsed:    1.1s\n",
      "[Parallel(n_jobs=-1)]: Done 320 out of 320 | elapsed:    2.9s finished\n",
      "/Users/alexgre/.pyenv/versions/miniconda3-latest/lib/python3.6/site-packages/sklearn/model_selection/_search.py:841: DeprecationWarning: The default of the `iid` parameter will change from True to False in version 0.22 and will be removed in 0.24. This will change numeric results when test-set sizes are unequal.\n",
      "  DeprecationWarning)\n"
     ]
    },
    {
     "name": "stdout",
     "output_type": "stream",
     "text": [
      "{'C': 2, 'gamma': 'auto', 'probability': True, 'random_state': 13, 'tol': 0.01}\n",
      "SVC(C=2, cache_size=200, class_weight=None, coef0=0.0,\n",
      "  decision_function_shape='ovr', degree=3, gamma='auto', kernel='rbf',\n",
      "  max_iter=-1, probability=True, random_state=13, shrinking=True, tol=0.01,\n",
      "  verbose=False)\n"
     ]
    },
    {
     "data": {
      "image/png": "[encoded data removed]",
      "text/plain": [
       "<Figure size 432x288 with 1 Axes>"
      ]
     },
     "metadata": {},
     "output_type": "display_data"
    },
    {
     "name": "stdout",
     "output_type": "stream",
     "text": [
      "AUC_ROC_score:  0.8460477941176471  cutoff:  0.655402103912723\n",
      "5-fold CV: [0.87342995 0.87206397 0.80172414 0.84432049 0.84533469]; averaged: 0.8473746460103282\n",
      "precision: 0.8333333333333334; recall: 0.859375; f1-score: 0.8461538461538461\n"
     ]
    },
    {
     "data": {
      "image/png": "[encoded data removed]",
      "text/plain": [
       "<Figure size 432x288 with 1 Axes>"
      ]
     },
     "metadata": {},
     "output_type": "display_data"
    }
   ],
   "source": [
    "clf, fpr, tpr, thresholds, pred_result, cut_off = auc_roc_expr(SVC(), tuned_parameters,\n",
    "                                                              train_X_ohe, train_y_nafld, test_X_ohe, test_y_nafld)\n",
    "a, b = get_full_cv_scores(clf, train_X_ohe, train_y_nafld, test_X_ohe, test_y_nafld)\n",
    "print(\"5-fold CV: {}; averaged: {}\".format(a, b))\n",
    "p,r,f = get_binary_cls_precision_recall_f1(test_y_nafld, pred_result, list(filter(lambda x: x==1, clf.classes_))[0], cut_off)[0][:-1]\n",
    "print(\"precision: {}; recall: {}; f1-score: {}\".format(p,r,f))\n",
    "preds = get_binary_cls_precision_recall_f1(test_y_nafld, pred_result, list(filter(lambda x: x==1, clf.classes_))[0], cut_off)[1]\n",
    "make_confusion_matrix(test_y_nafld, preds)"
   ]
  },
  {
   "cell_type": "markdown",
   "metadata": {},
   "source": [
    "#### nash"
   ]
  },
  {
   "cell_type": "code",
   "execution_count": 177,
   "metadata": {
    "ExecuteTime": {
     "end_time": "2019-01-31T21:09:12.306914Z",
     "start_time": "2019-01-31T21:09:07.685953Z"
    }
   },
   "outputs": [
    {
     "name": "stdout",
     "output_type": "stream",
     "text": [
      "Fitting 5 folds for each of 64 candidates, totalling 320 fits\n"
     ]
    },
    {
     "name": "stderr",
     "output_type": "stream",
     "text": [
      "[Parallel(n_jobs=-1)]: Using backend LokyBackend with 8 concurrent workers.\n",
      "[Parallel(n_jobs=-1)]: Done  88 tasks      | elapsed:    1.0s\n",
      "[Parallel(n_jobs=-1)]: Done 320 out of 320 | elapsed:    3.9s finished\n",
      "/Users/alexgre/.pyenv/versions/miniconda3-latest/lib/python3.6/site-packages/sklearn/model_selection/_search.py:841: DeprecationWarning: The default of the `iid` parameter will change from True to False in version 0.22 and will be removed in 0.24. This will change numeric results when test-set sizes are unequal.\n",
      "  DeprecationWarning)\n"
     ]
    },
    {
     "name": "stdout",
     "output_type": "stream",
     "text": [
      "{'C': 0.01, 'gamma': 'scale', 'probability': True, 'random_state': 13, 'tol': 0.01}\n",
      "SVC(C=0.01, cache_size=200, class_weight=None, coef0=0.0,\n",
      "  decision_function_shape='ovr', degree=3, gamma='scale', kernel='rbf',\n",
      "  max_iter=-1, probability=True, random_state=13, shrinking=True, tol=0.01,\n",
      "  verbose=False)\n"
     ]
    },
    {
     "data": {
      "image/png": "[encoded data removed]",
      "text/plain": [
       "<Figure size 432x288 with 1 Axes>"
      ]
     },
     "metadata": {},
     "output_type": "display_data"
    },
    {
     "name": "stdout",
     "output_type": "stream",
     "text": [
      "AUC_ROC_score:  0.7446712018140589  cutoff:  0.4199140514752229\n",
      "5-fold CV: [0.78491379 0.84008621 0.81594828 0.83465959 0.73563218]; averaged: 0.8022480106100796\n",
      "precision: 0.5609756097560976; recall: 0.6571428571428571; f1-score: 0.605263157894737\n"
     ]
    },
    {
     "data": {
      "image/png": "[encoded data removed]",
      "text/plain": [
       "<Figure size 432x288 with 1 Axes>"
      ]
     },
     "metadata": {},
     "output_type": "display_data"
    }
   ],
   "source": [
    "clf, fpr, tpr, thresholds, pred_result, cut_off = auc_roc_expr(SVC(), tuned_parameters,\n",
    "                                                              train_X_ohe, train_y_nash, test_X_ohe, test_y_nash)\n",
    "a, b = get_full_cv_scores(clf, train_X_ohe, train_y_nash, test_X_ohe, test_y_nash)\n",
    "print(\"5-fold CV: {}; averaged: {}\".format(a, b))\n",
    "p,r,f = get_binary_cls_precision_recall_f1(test_y_nash, pred_result, list(filter(lambda x: x==1, clf.classes_))[0], cut_off)[0][:-1]\n",
    "print(\"precision: {}; recall: {}; f1-score: {}\".format(p,r,f))\n",
    "preds = get_binary_cls_precision_recall_f1(test_y_nash, pred_result, list(filter(lambda x: x==1, clf.classes_))[0], cut_off)[1]\n",
    "make_confusion_matrix(test_y_nash, preds)"
   ]
  },
  {
   "cell_type": "markdown",
   "metadata": {},
   "source": [
    "#### fibrosis"
   ]
  },
  {
   "cell_type": "code",
   "execution_count": 178,
   "metadata": {
    "ExecuteTime": {
     "end_time": "2019-01-31T21:09:14.835650Z",
     "start_time": "2019-01-31T21:09:12.308575Z"
    }
   },
   "outputs": [
    {
     "name": "stdout",
     "output_type": "stream",
     "text": [
      "Fitting 5 folds for each of 64 candidates, totalling 320 fits\n"
     ]
    },
    {
     "name": "stderr",
     "output_type": "stream",
     "text": [
      "[Parallel(n_jobs=-1)]: Using backend LokyBackend with 8 concurrent workers.\n",
      "[Parallel(n_jobs=-1)]: Done 320 out of 320 | elapsed:    2.0s finished\n",
      "/Users/alexgre/.pyenv/versions/miniconda3-latest/lib/python3.6/site-packages/sklearn/model_selection/_search.py:841: DeprecationWarning: The default of the `iid` parameter will change from True to False in version 0.22 and will be removed in 0.24. This will change numeric results when test-set sizes are unequal.\n",
      "  DeprecationWarning)\n"
     ]
    },
    {
     "name": "stdout",
     "output_type": "stream",
     "text": [
      "{'C': 2, 'gamma': 'scale', 'probability': True, 'random_state': 13, 'tol': 0.01}\n",
      "SVC(C=2, cache_size=200, class_weight=None, coef0=0.0,\n",
      "  decision_function_shape='ovr', degree=3, gamma='scale', kernel='rbf',\n",
      "  max_iter=-1, probability=True, random_state=13, shrinking=True, tol=0.01,\n",
      "  verbose=False)\n"
     ]
    },
    {
     "data": {
      "image/png": "[encoded data removed]",
      "text/plain": [
       "<Figure size 432x288 with 1 Axes>"
      ]
     },
     "metadata": {},
     "output_type": "display_data"
    },
    {
     "name": "stdout",
     "output_type": "stream",
     "text": [
      "AUC_ROC_score:  0.7565308254963428  cutoff:  0.0947146516526663\n",
      "5-fold CV: [0.77810078 0.82364341 0.88275194 0.62254902 0.69803922]; averaged: 0.761016871865025\n",
      "precision: 0.22857142857142856; recall: 0.7272727272727273; f1-score: 0.34782608695652173\n"
     ]
    },
    {
     "data": {
      "image/png": "[encoded data removed]",
      "text/plain": [
       "<Figure size 432x288 with 1 Axes>"
      ]
     },
     "metadata": {},
     "output_type": "display_data"
    }
   ],
   "source": [
    "clf, fpr, tpr, thresholds, pred_result, cut_off = auc_roc_expr(SVC(), tuned_parameters,\n",
    "                                                              train_X_ohe, train_y_fib, test_X_ohe, test_y_fib)\n",
    "a, b = get_full_cv_scores(clf, train_X_ohe, train_y_fib, test_X_ohe, test_y_fib)\n",
    "print(\"5-fold CV: {}; averaged: {}\".format(a, b))\n",
    "p,r,f = get_binary_cls_precision_recall_f1(test_y_fib, pred_result, list(filter(lambda x: x==1, clf.classes_))[0], cut_off)[0][:-1]\n",
    "print(\"precision: {}; recall: {}; f1-score: {}\".format(p,r,f))\n",
    "preds = get_binary_cls_precision_recall_f1(test_y_fib, pred_result, list(filter(lambda x: x==1, clf.classes_))[0], cut_off)[1]\n",
    "make_confusion_matrix(test_y_fib, preds)"
   ]
  },
  {
   "cell_type": "markdown",
   "metadata": {
    "heading_collapsed": true
   },
   "source": [
    "## XGBoost"
   ]
  },
  {
   "cell_type": "markdown",
   "metadata": {
    "hidden": true
   },
   "source": [
    "### no data transformation"
   ]
  },
  {
   "cell_type": "markdown",
   "metadata": {
    "hidden": true
   },
   "source": [
    "#### nafld"
   ]
  },
  {
   "cell_type": "code",
   "execution_count": null,
   "metadata": {
    "hidden": true
   },
   "outputs": [],
   "source": []
  },
  {
   "cell_type": "markdown",
   "metadata": {
    "hidden": true
   },
   "source": [
    "#### nash"
   ]
  },
  {
   "cell_type": "code",
   "execution_count": null,
   "metadata": {
    "hidden": true
   },
   "outputs": [],
   "source": []
  },
  {
   "cell_type": "markdown",
   "metadata": {
    "hidden": true
   },
   "source": [
    "#### fibrosis"
   ]
  },
  {
   "cell_type": "code",
   "execution_count": null,
   "metadata": {
    "hidden": true
   },
   "outputs": [],
   "source": []
  },
  {
   "cell_type": "markdown",
   "metadata": {
    "heading_collapsed": true
   },
   "source": [
    "# feature elimination\n",
    "\n",
    "- model:\n",
    "- cv: 5-fold\n",
    "- method: backward"
   ]
  },
  {
   "cell_type": "code",
   "execution_count": null,
   "metadata": {
    "hidden": true
   },
   "outputs": [],
   "source": []
  }
 ],
 "metadata": {
  "kernelspec": {
   "display_name": "Python 3",
   "language": "python",
   "name": "python3"
  },
  "language_info": {
   "codemirror_mode": {
    "name": "ipython",
    "version": 3
   },
   "file_extension": ".py",
   "mimetype": "text/x-python",
   "name": "python",
   "nbconvert_exporter": "python",
   "pygments_lexer": "ipython3",
   "version": "3.6.5"
  },
  "toc": {
   "base_numbering": 1,
   "nav_menu": {},
   "number_sections": true,
   "sideBar": true,
   "skip_h1_title": false,
   "title_cell": "Table of Contents",
   "title_sidebar": "Contents",
   "toc_cell": false,
   "toc_position": {},
   "toc_section_display": true,
   "toc_window_display": false
  }
 },
 "nbformat": 4,
 "nbformat_minor": 2
}
