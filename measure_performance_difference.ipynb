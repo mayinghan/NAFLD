{
 "cells": [
  {
   "cell_type": "code",
   "execution_count": 30,
   "metadata": {
    "ExecuteTime": {
     "end_time": "2019-02-21T16:52:12.365236Z",
     "start_time": "2019-02-21T16:52:12.287159Z"
    }
   },
   "outputs": [],
   "source": [
    "import sklearn\n",
    "import pandas as pd\n",
    "import numpy as np\n",
    "import pickle\n",
    "import subprocess\n",
    "import shlex\n",
    "from collections import defaultdict\n",
    "import copy\n",
    "from sklearn.linear_model import LogisticRegression\n",
    "from sklearn.svm import SVC\n",
    "from sklearn.ensemble import RandomForestClassifier\n",
    "from sklearn.model_selection import GridSearchCV, cross_val_score, cross_val_predict\n",
    "from sklearn.metrics import roc_auc_score, roc_curve, f1_score, precision_recall_fscore_support, confusion_matrix\n",
    "from statsmodels.stats.weightstats import ztest\n",
    "# from statsmodels.stats.weightstats.CompareMeans import ztest_ind"
   ]
  },
  {
   "cell_type": "code",
   "execution_count": 31,
   "metadata": {
    "ExecuteTime": {
     "end_time": "2019-02-21T16:52:14.178659Z",
     "start_time": "2019-02-21T16:52:14.168294Z"
    }
   },
   "outputs": [],
   "source": [
    "def pkl_process(data=None, file=None, mode=\"dump\"):\n",
    "    f_mode = \"wb\" if mode == \"dump\" else \"rb\"\n",
    "    load_data = None\n",
    "    \n",
    "    with open(file, f_mode) as f:\n",
    "        if mode == \"dump\":\n",
    "            pickle.dump(data, f)\n",
    "        else:\n",
    "            load_data = pickle.load(f)\n",
    "    \n",
    "    return load_data\n",
    "\n",
    "def isPrime(n):\n",
    "    for i in range(2,int(n**0.5)+1):\n",
    "        if n%i==0:\n",
    "            return False\n",
    "    return True\n",
    "\n",
    "def best_full_cv_auc(model, tuned_parameters, train_X, train_y, score='roc_auc', seed=13):\n",
    "    gs = GridSearchCV(model, tuned_parameters, scoring=score, n_jobs=-1, cv=5, verbose=0, iid=True) #scoring='roc_auc'\n",
    "    l = list(zip(list(train_X), list(train_y)))\n",
    "    np.random.seed(seed)\n",
    "    np.random.shuffle(l)\n",
    "    X = np.array(list(map(lambda x: x[0], l)))\n",
    "    y = np.array(list(map(lambda x: x[1], l)))\n",
    "    gs.fit(X, y)\n",
    "    return gs.best_estimator_, gs.best_score_\n",
    "\n",
    "def predict_auc_roc(clf, test_X, test_y):\n",
    "    pred_result = clf.predict_proba(test_X)\n",
    "    idx = list(filter(lambda x: x==1, clf.classes_))[0]\n",
    "    pred_result_1 = list(map(lambda x: x[idx], pred_result))\n",
    "    return roc_auc_score(test_y, pred_result_1)\n",
    "\n",
    "#used for two models on same data\n",
    "def performance_diff_by_p_value(model1, model2, train_X, train_y, seeds):\n",
    "    l = list(zip(list(train_X), list(train_y)))\n",
    "    auc_m1 = []\n",
    "    auc_m2 = []\n",
    "    \n",
    "    for seed in seeds:\n",
    "        np.random.seed(seed)\n",
    "        np.random.shuffle(l)\n",
    "        nl = l[:100]\n",
    "        X = np.array(list(map(lambda x: x[0], nl)))\n",
    "        y = np.array(list(map(lambda x: x[1], nl)))\n",
    "        \n",
    "        auc_m1.append(predict_auc_roc(model1, X, y))\n",
    "        auc_m2.append(predict_auc_roc(model2, X, y))\n",
    "    \n",
    "    return (np.mean(auc_m1), np.std(auc_m1)), (np.mean(auc_m2), np.std(auc_m2)), ztest(auc_m1, auc_m2)\n",
    "\n",
    "#used for two models on different data\n",
    "def performance_diff_by_p_value_mix_ohe(model1, model2, train_X1, train_y1, train_X2, train_y2, seeds):\n",
    "    l1 = list(zip(list(train_X1), list(train_y1)))\n",
    "    l2 = list(zip(list(train_X2), list(train_y2)))\n",
    "    auc_m1 = []\n",
    "    auc_m2 = []\n",
    "    \n",
    "    for seed in seeds:\n",
    "        np.random.seed(seed)\n",
    "        \n",
    "        np.random.shuffle(l1)\n",
    "        nl1 = l1[:100]\n",
    "        X1 = np.array(list(map(lambda x: x[0], nl1)))\n",
    "        y1 = np.array(list(map(lambda x: x[1], nl1)))\n",
    "        \n",
    "        np.random.shuffle(l1)\n",
    "        nl2 = l2[:100]\n",
    "        X2 = np.array(list(map(lambda x: x[0], nl2)))\n",
    "        y2 = np.array(list(map(lambda x: x[1], nl2)))\n",
    "        \n",
    "        auc_m1.append(predict_auc_roc(model1, X1, y1))\n",
    "        auc_m2.append(predict_auc_roc(model2, X2, y2))\n",
    "    \n",
    "    return (np.mean(auc_m1), np.std(auc_m1)), (np.mean(auc_m2), np.std(auc_m2)), ztest(auc_m1, auc_m2)\n",
    "    "
   ]
  },
  {
   "cell_type": "code",
   "execution_count": 32,
   "metadata": {
    "ExecuteTime": {
     "end_time": "2019-02-21T16:52:18.211021Z",
     "start_time": "2019-02-21T16:52:18.030728Z"
    }
   },
   "outputs": [],
   "source": [
    "seeds = [p for p in range(100000) if isPrime(p)][100:200]\n",
    "seed = 13"
   ]
  },
  {
   "cell_type": "code",
   "execution_count": 22,
   "metadata": {
    "ExecuteTime": {
     "end_time": "2019-02-21T16:49:15.212296Z",
     "start_time": "2019-02-21T16:49:15.207445Z"
    }
   },
   "outputs": [
    {
     "data": {
      "text/plain": [
       "'\\nwh = with homa\\nwth = without homa\\nohe = one hot encoded\\nmix = one hot encoded + real value\\n'"
      ]
     },
     "execution_count": 22,
     "metadata": {},
     "output_type": "execute_result"
    }
   ],
   "source": [
    "'''\n",
    "wh = with homa\n",
    "wth = without homa\n",
    "ohe = one hot encoded\n",
    "mix = one hot encoded + real value\n",
    "'''"
   ]
  },
  {
   "cell_type": "code",
   "execution_count": 23,
   "metadata": {
    "ExecuteTime": {
     "end_time": "2019-02-21T16:49:17.371477Z",
     "start_time": "2019-02-21T16:49:17.311915Z"
    }
   },
   "outputs": [
    {
     "data": {
      "text/plain": [
       "(488, 73)"
      ]
     },
     "execution_count": 23,
     "metadata": {},
     "output_type": "execute_result"
    }
   ],
   "source": [
    "data_wh_ohe_X = np.array(list(pkl_process(file=\"data/train_ohe_x.pkl\",mode='load')) + list(pkl_process(file=\"data/test_ohe_x.pkl\",mode='load')))\n",
    "\n",
    "data_wh_ohe_X.shape"
   ]
  },
  {
   "cell_type": "code",
   "execution_count": 24,
   "metadata": {
    "ExecuteTime": {
     "end_time": "2019-02-21T16:49:18.141073Z",
     "start_time": "2019-02-21T16:49:18.080311Z"
    }
   },
   "outputs": [
    {
     "data": {
      "text/plain": [
       "((488,), (488,), (488,))"
      ]
     },
     "execution_count": 24,
     "metadata": {},
     "output_type": "execute_result"
    }
   ],
   "source": [
    "data_wh_ohe_y_nafld = np.array(list(pkl_process(file=\"data/train_ohe_y_nafld.pkl\",mode='load')) + list(pkl_process(file=\"data/test_ohe_y_nafld.pkl\",mode='load')))\n",
    "\n",
    "data_wh_ohe_y_nash = np.array(list(pkl_process(file=\"data/train_ohe_y_nash.pkl\",mode='load')) + list(pkl_process(file=\"data/test_ohe_y_nash.pkl\",mode='load')))\n",
    "\n",
    "data_wh_ohe_y_fib = np.array(list(pkl_process(file=\"data/train_ohe_y_fib.pkl\",mode='load')) + list(pkl_process(file=\"data/test_ohe_y_fib.pkl\",mode='load')))\n",
    "\n",
    "data_wh_ohe_y_nafld.shape, data_wh_ohe_y_nash.shape, data_wh_ohe_y_fib.shape"
   ]
  },
  {
   "cell_type": "code",
   "execution_count": 25,
   "metadata": {
    "ExecuteTime": {
     "end_time": "2019-02-21T16:49:18.769273Z",
     "start_time": "2019-02-21T16:49:18.680048Z"
    }
   },
   "outputs": [
    {
     "data": {
      "text/plain": [
       "((488, 39), (488, 39), (488, 39))"
      ]
     },
     "execution_count": 25,
     "metadata": {},
     "output_type": "execute_result"
    }
   ],
   "source": [
    "data_wh_mix_X_nafld = np.array(list(pkl_process(file=\"data/MIX_train_x_nalfd.pkl\",mode='load')) + list(pkl_process(file=\"data/MIX_test_x_nalfd.pkl\",mode='load')))\n",
    "\n",
    "data_wh_mix_X_nash = np.array(list(pkl_process(file=\"data/MIX_train_x_nash.pkl\",mode='load')) + list(pkl_process(file=\"data/MIX_test_x_nash.pkl\",mode='load')))\n",
    "\n",
    "data_wh_mix_X_fib = np.array(list(pkl_process(file=\"data/MIX_train_x_fib.pkl\",mode='load')) + list(pkl_process(file=\"data/MIX_test_x_fib.pkl\",mode='load')))\n",
    "\n",
    "data_wh_mix_X_nafld.shape, data_wh_mix_X_nash.shape, data_wh_mix_X_fib.shape"
   ]
  },
  {
   "cell_type": "code",
   "execution_count": 26,
   "metadata": {
    "ExecuteTime": {
     "end_time": "2019-02-21T16:49:20.214772Z",
     "start_time": "2019-02-21T16:49:20.159850Z"
    }
   },
   "outputs": [
    {
     "data": {
      "text/plain": [
       "((488,), (488,), (488,))"
      ]
     },
     "execution_count": 26,
     "metadata": {},
     "output_type": "execute_result"
    }
   ],
   "source": [
    "data_wh_mix_y_nafld = np.array(list(pkl_process(file=\"data/MIX_train_y_nalfd.pkl\",mode='load')) + list(pkl_process(file=\"data/MIX_test_y_nalfd.pkl\",mode='load')))\n",
    "\n",
    "data_wh_mix_y_nash = np.array(list(pkl_process(file=\"data/MIX_train_y_nash.pkl\",mode='load')) + list(pkl_process(file=\"data/MIX_test_y_nash.pkl\",mode='load')))\n",
    "\n",
    "data_wh_mix_y_fib = np.array(list(pkl_process(file=\"data/MIX_train_y_fib.pkl\",mode='load')) + list(pkl_process(file=\"data/MIX_test_y_fib.pkl\",mode='load')))\n",
    "\n",
    "data_wh_mix_y_nafld.shape, data_wh_mix_y_nash.shape, data_wh_mix_y_fib.shape"
   ]
  },
  {
   "cell_type": "code",
   "execution_count": 33,
   "metadata": {
    "ExecuteTime": {
     "end_time": "2019-02-21T16:53:45.959168Z",
     "start_time": "2019-02-21T16:52:25.112889Z"
    }
   },
   "outputs": [
    {
     "data": {
      "text/plain": [
       "('AUC_ROC nafld: ',\n",
       " 0.8751285549366107,\n",
       " ' nash: ',\n",
       " 0.7986681233784118,\n",
       " ' fib: ',\n",
       " 0.8027065906423568)"
      ]
     },
     "execution_count": 33,
     "metadata": {},
     "output_type": "execute_result"
    }
   ],
   "source": [
    "lr_tuned_parameters = {'max_iter':[100, 500, 1000], 'tol':[0.00001, 0.0001, 0.001, 0.01, 0.1],'random_state':[seed], 'C': [0.01, 0.1, 1.0, 10.0, 100.0, 1000.0], \n",
    "                    'solver':['lbfgs', 'liblinear', 'newton-cg'], 'class_weight': [None, 'balanced']}\n",
    "\n",
    "lr_nafld_clf, lr_nafld_auc = best_full_cv_auc(LogisticRegression(), lr_tuned_parameters, data_wh_ohe_X, data_wh_ohe_y_nafld)\n",
    "lr_nash_clf, lr_nash_auc = best_full_cv_auc(LogisticRegression(), lr_tuned_parameters, data_wh_ohe_X, data_wh_ohe_y_nash)\n",
    "lr_fib_clf, lr_fib_auc = best_full_cv_auc(LogisticRegression(), lr_tuned_parameters, data_wh_ohe_X, data_wh_ohe_y_fib)\n",
    "\n",
    "'AUC_ROC nafld: ', lr_nafld_auc, \" nash: \", lr_nash_auc, \" fib: \", lr_fib_auc"
   ]
  },
  {
   "cell_type": "code",
   "execution_count": 43,
   "metadata": {
    "ExecuteTime": {
     "end_time": "2019-02-21T18:45:08.008749Z",
     "start_time": "2019-02-21T18:44:55.315445Z"
    }
   },
   "outputs": [
    {
     "data": {
      "text/plain": [
       "('AUC_ROC nafld: ',\n",
       " 0.8778820028269375,\n",
       " ' nash: ',\n",
       " 0.8009633502920671,\n",
       " ' fib: ',\n",
       " 0.7618325914048425)"
      ]
     },
     "execution_count": 43,
     "metadata": {},
     "output_type": "execute_result"
    }
   ],
   "source": [
    "svm_tuned_parameters = {\"C\": [0.01, 0.1, 2, 64, 128, 512, 1024, 2048], 'probability':[True], 'tol': [0.1, 0.01, 0.001, 0.0001], \n",
    "                    'random_state':[seed], 'gamma':['auto', 'scale']}\n",
    "\n",
    "svm_nafld_clf, svm_nafld_auc = best_full_cv_auc(SVC(), svm_tuned_parameters, data_wh_ohe_X, data_wh_ohe_y_nafld)\n",
    "svm_nash_clf, svm_nash_auc = best_full_cv_auc(SVC(), svm_tuned_parameters, data_wh_ohe_X, data_wh_ohe_y_nash)\n",
    "svm_fib_clf, svm_fib_auc = best_full_cv_auc(SVC(), svm_tuned_parameters, data_wh_ohe_X, data_wh_ohe_y_fib)\n",
    "\n",
    "'AUC_ROC nafld: ', svm_nafld_auc, \" nash: \", svm_nash_auc, \" fib: \", svm_fib_auc"
   ]
  },
  {
   "cell_type": "code",
   "execution_count": 44,
   "metadata": {
    "ExecuteTime": {
     "end_time": "2019-02-21T18:45:08.399268Z",
     "start_time": "2019-02-21T18:45:08.010153Z"
    }
   },
   "outputs": [
    {
     "data": {
      "text/plain": [
       "((0.9096500970818727, 0.024858190544789997),\n",
       " (0.9247184088871439, 0.022517919071519933),\n",
       " (-4.4700108332897965, 7.821563540513267e-06))"
      ]
     },
     "execution_count": 44,
     "metadata": {},
     "output_type": "execute_result"
    }
   ],
   "source": [
    "#tstat, pvalue\n",
    "performance_diff_by_p_value(lr_nafld_clf, svm_nafld_clf, data_wh_ohe_X, data_wh_ohe_y_nafld, seeds)"
   ]
  },
  {
   "cell_type": "code",
   "execution_count": 45,
   "metadata": {
    "ExecuteTime": {
     "end_time": "2019-02-21T18:45:08.839355Z",
     "start_time": "2019-02-21T18:45:08.400950Z"
    }
   },
   "outputs": [
    {
     "data": {
      "text/plain": [
       "((0.8413878242786926, 0.03772028658905607),\n",
       " (0.9145507586153206, 0.026688783521812153),\n",
       " (-15.75427654662244, 6.418972070324991e-56))"
      ]
     },
     "execution_count": 45,
     "metadata": {},
     "output_type": "execute_result"
    }
   ],
   "source": [
    "performance_diff_by_p_value(lr_nash_clf, svm_nash_clf, data_wh_ohe_X, data_wh_ohe_y_nash, seeds)"
   ]
  },
  {
   "cell_type": "code",
   "execution_count": 46,
   "metadata": {
    "ExecuteTime": {
     "end_time": "2019-02-21T18:45:09.134233Z",
     "start_time": "2019-02-21T18:45:08.840843Z"
    }
   },
   "outputs": [
    {
     "data": {
      "text/plain": [
       "((0.8301812543673626, 0.057582875355909446),\n",
       " (0.946557078277265, 0.041084568257042105),\n",
       " (-16.369426471167095, 3.161794168747819e-60))"
      ]
     },
     "execution_count": 46,
     "metadata": {},
     "output_type": "execute_result"
    }
   ],
   "source": [
    "performance_diff_by_p_value(lr_fib_clf, svm_fib_clf, data_wh_ohe_X, data_wh_ohe_y_fib, seeds)"
   ]
  },
  {
   "cell_type": "code",
   "execution_count": 38,
   "metadata": {
    "ExecuteTime": {
     "end_time": "2019-02-21T16:53:54.286670Z",
     "start_time": "2019-02-21T16:53:54.283818Z"
    }
   },
   "outputs": [],
   "source": [
    "RF_tuned_parameters = {'n_estimators':[10, 50, 100, 500, 1000], 'criterion':['gini', 'entropy'], 'random_state':[seed], \n",
    "                    'max_features':['log2', 'auto', None], 'min_samples_split':[2, 4], 'max_depth': [2, 5, 10, 25, 50, None], \n",
    "                    'min_samples_leaf':[1,2,4], 'class_weight': [None, 'balanced', 'balanced_subsample']}\n",
    "\n",
    "# svm_ohe_nafld_clf, svm_nafld_auc = best_full_cv_auc(SVC(), RF_tuned_parameters, data_wh_ohe_X, data_wh_ohe_y_nafld)\n",
    "# svm_ohe_nash_clf, svm_nash_auc = best_full_cv_auc(SVC(), RF_tuned_parameters, data_wh_ohe_X, data_wh_ohe_y_nash)\n",
    "# svm_ohe_fib_clf, svm_fib_auc = best_full_cv_auc(SVC(), RF_tuned_parameters, data_wh_ohe_X, data_wh_ohe_y_fib)\n",
    "\n",
    "# 'AUC_ROC nafld: ', svm_nafld_auc, \" nash: \", svm_nash_auc, \" fib: \", svm_fib_auc"
   ]
  },
  {
   "cell_type": "code",
   "execution_count": 39,
   "metadata": {
    "ExecuteTime": {
     "end_time": "2019-02-21T18:44:51.590482Z",
     "start_time": "2019-02-21T16:53:54.288291Z"
    }
   },
   "outputs": [
    {
     "data": {
      "text/plain": [
       "('AUC_ROC nafld: ',\n",
       " 0.9131812047206869,\n",
       " ' nash: ',\n",
       " 0.8244170888231799,\n",
       " ' fib: ',\n",
       " 0.8781812052880626)"
      ]
     },
     "execution_count": 39,
     "metadata": {},
     "output_type": "execute_result"
    }
   ],
   "source": [
    "rf_mix_nafld_clf, rf_mix_nafld_auc = best_full_cv_auc(RandomForestClassifier(), RF_tuned_parameters, data_wh_mix_X_nafld, data_wh_mix_y_nafld)\n",
    "\n",
    "rf_mix_nash_clf, rf_mix_nash_auc = best_full_cv_auc(RandomForestClassifier(), RF_tuned_parameters, data_wh_mix_X_nash, data_wh_mix_y_nash)\n",
    "\n",
    "rf_mix_fib_clf, rf_mix_fib_auc = best_full_cv_auc(RandomForestClassifier(), RF_tuned_parameters, data_wh_mix_X_fib, data_wh_mix_y_fib)\n",
    "\n",
    "'AUC_ROC nafld: ', rf_mix_nafld_auc, \" nash: \", rf_mix_nash_auc, \" fib: \", rf_mix_fib_auc"
   ]
  },
  {
   "cell_type": "code",
   "execution_count": 40,
   "metadata": {
    "ExecuteTime": {
     "end_time": "2019-02-21T18:44:54.287792Z",
     "start_time": "2019-02-21T18:44:51.592426Z"
    }
   },
   "outputs": [
    {
     "data": {
      "text/plain": [
       "((0.9131376233322199, 0.031118388237403868),\n",
       " (1.0, 0.0),\n",
       " (-27.773602180906128, 9.04133808955634e-170))"
      ]
     },
     "execution_count": 40,
     "metadata": {},
     "output_type": "execute_result"
    }
   ],
   "source": [
    "performance_diff_by_p_value_mix_ohe(lr_nafld_clf, rf_mix_nafld_clf, data_wh_ohe_X, data_wh_ohe_y_nafld, data_wh_mix_X_nafld, data_wh_mix_y_nafld, seeds)"
   ]
  },
  {
   "cell_type": "code",
   "execution_count": 41,
   "metadata": {
    "ExecuteTime": {
     "end_time": "2019-02-21T18:44:54.696884Z",
     "start_time": "2019-02-21T18:44:54.289650Z"
    }
   },
   "outputs": [
    {
     "data": {
      "text/plain": [
       "((0.9131376233322199, 0.031118388237403868),\n",
       " (0.9963869931754316, 0.0),\n",
       " (-26.618369984045408, 4.1606231559634274e-156))"
      ]
     },
     "execution_count": 41,
     "metadata": {},
     "output_type": "execute_result"
    }
   ],
   "source": [
    "performance_diff_by_p_value_mix_ohe(lr_nafld_clf, rf_mix_nash_clf, data_wh_ohe_X, data_wh_ohe_y_nafld, data_wh_mix_X_nash, data_wh_mix_y_nash, seeds)"
   ]
  },
  {
   "cell_type": "code",
   "execution_count": 42,
   "metadata": {
    "ExecuteTime": {
     "end_time": "2019-02-21T18:44:55.313347Z",
     "start_time": "2019-02-21T18:44:54.698806Z"
    }
   },
   "outputs": [
    {
     "data": {
      "text/plain": [
       "((0.9131376233322199, 0.031118388237403868),\n",
       " (0.9952941176470591, 3.3306690738754696e-16),\n",
       " (-26.268931120838214, 4.344630908756933e-152))"
      ]
     },
     "execution_count": 42,
     "metadata": {},
     "output_type": "execute_result"
    }
   ],
   "source": [
    "performance_diff_by_p_value_mix_ohe(lr_nafld_clf, rf_mix_fib_clf, data_wh_ohe_X, data_wh_ohe_y_nafld, data_wh_mix_X_fib, data_wh_mix_y_fib, seeds)"
   ]
  },
  {
   "cell_type": "code",
   "execution_count": null,
   "metadata": {},
   "outputs": [],
   "source": []
  },
  {
   "cell_type": "code",
   "execution_count": null,
   "metadata": {},
   "outputs": [],
   "source": []
  },
  {
   "cell_type": "code",
   "execution_count": null,
   "metadata": {},
   "outputs": [],
   "source": []
  },
  {
   "cell_type": "code",
   "execution_count": null,
   "metadata": {},
   "outputs": [],
   "source": []
  },
  {
   "cell_type": "code",
   "execution_count": null,
   "metadata": {},
   "outputs": [],
   "source": []
  },
  {
   "cell_type": "code",
   "execution_count": null,
   "metadata": {},
   "outputs": [],
   "source": []
  },
  {
   "cell_type": "code",
   "execution_count": null,
   "metadata": {},
   "outputs": [],
   "source": []
  },
  {
   "cell_type": "code",
   "execution_count": null,
   "metadata": {},
   "outputs": [],
   "source": []
  }
 ],
 "metadata": {
  "kernelspec": {
   "display_name": "Python 3",
   "language": "python",
   "name": "python3"
  },
  "language_info": {
   "codemirror_mode": {
    "name": "ipython",
    "version": 3
   },
   "file_extension": ".py",
   "mimetype": "text/x-python",
   "name": "python",
   "nbconvert_exporter": "python",
   "pygments_lexer": "ipython3",
   "version": "3.6.8"
  },
  "toc": {
   "base_numbering": 1,
   "nav_menu": {},
   "number_sections": true,
   "sideBar": true,
   "skip_h1_title": false,
   "title_cell": "Table of Contents",
   "title_sidebar": "Contents",
   "toc_cell": false,
   "toc_position": {},
   "toc_section_display": true,
   "toc_window_display": false
  }
 },
 "nbformat": 4,
 "nbformat_minor": 2
}
